{
 "cells": [
  {
   "cell_type": "markdown",
   "metadata": {},
   "source": [
    "# EDA exploratory data analysis"
   ]
  },
  {
   "cell_type": "code",
   "execution_count": 17,
   "metadata": {},
   "outputs": [],
   "source": [
    "library(DBI)\n",
    "library(odbc)\n",
    "library(RSQLite)\n",
    "library(dplyr)\n",
    "library(ggplot2)"
   ]
  },
  {
   "cell_type": "code",
   "execution_count": null,
   "metadata": {},
   "outputs": [],
   "source": [
    "con <- dbConnect(odbc(),\n",
    "                Driver = \"SQL Server\",\n",
    "                Server = \"DESKTOP-9HVFU89\\RAFISQL\",\n",
    "                Database = \"BoxOffice\",\n",
    "                Trusted_connection = \"True\")"
   ]
  },
  {
   "cell_type": "code",
   "execution_count": null,
   "metadata": {},
   "outputs": [],
   "source": [
    "movies_ff <- dbReadTable(con, \"movies_ff_v\")\n",
    "head(movies_ff)"
   ]
  },
  {
   "cell_type": "code",
   "execution_count": 13,
   "metadata": {},
   "outputs": [
    {
     "ename": "ERROR",
     "evalue": "Error in save(movies_ff, file = \"../data/BoxOffice_ff.RData\"): object 'movies_ff' not found\n",
     "output_type": "error",
     "traceback": [
      "Error in save(movies_ff, file = \"../data/BoxOffice_ff.RData\"): object 'movies_ff' not found\nTraceback:\n",
      "1. save(movies_ff, file = \"../data/BoxOffice_ff.RData\")",
      "2. stop(sprintf(ngettext(n, \"object %s not found\", \"objects %s not found\"), \n .     paste(sQuote(list[!ok]), collapse = \", \")), domain = NA)"
     ]
    }
   ],
   "source": [
    "save(movies_ff, file = \"../data/BoxOffice_ff.RData\")"
   ]
  },
  {
   "cell_type": "code",
   "execution_count": null,
   "metadata": {
    "collapsed": true
   },
   "outputs": [],
   "source": [
    "load(\"../data/BoxOffice_ff.RData\")"
   ]
  }
 ],
 "metadata": {
  "kernelspec": {
   "display_name": "R",
   "language": "R",
   "name": "ir"
  },
  "language_info": {
   "codemirror_mode": "r",
   "file_extension": ".r",
   "mimetype": "text/x-r-source",
   "name": "R",
   "pygments_lexer": "r",
   "version": "3.6.1"
  }
 },
 "nbformat": 4,
 "nbformat_minor": 2
}
