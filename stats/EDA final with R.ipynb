{
 "cells": [
  {
   "cell_type": "markdown",
   "metadata": {},
   "source": [
    "# EDA exploratory data analysis"
   ]
  },
  {
   "cell_type": "code",
   "execution_count": 3,
   "metadata": {},
   "outputs": [
    {
     "ename": "ERROR",
     "evalue": "Error in library(pastecs): there is no package called ‘pastecs’\n",
     "output_type": "error",
     "traceback": [
      "Error in library(pastecs): there is no package called ‘pastecs’\nTraceback:\n",
      "1. library(pastecs)"
     ]
    }
   ],
   "source": [
    "library(DBI)\n",
    "library(odbc)\n",
    "library(dplyr)\n",
    "library(ggplot2)\n",
    "library(pastecs)\n",
    "options(scipen = 100)\n",
    "options(digits = 2)\n",
    "stat.desc(movies_ff[,5:84], basic = TRUE, desc = TRUE, norm = FALSE, p=0.95)"
   ]
  },
  {
   "cell_type": "code",
   "execution_count": 4,
   "metadata": {},
   "outputs": [
    {
     "ename": "ERROR",
     "evalue": "Error: nanodbc/nanodbc.cpp:950: 01000: [unixODBC][Driver Manager]Can't open lib 'SQL Server' : file not found \n",
     "output_type": "error",
     "traceback": [
      "Error: nanodbc/nanodbc.cpp:950: 01000: [unixODBC][Driver Manager]Can't open lib 'SQL Server' : file not found \nTraceback:\n",
      "1. dbConnect(odbc(), Driver = \"SQL Server\", Server = \"DESKTOP-9HVFU89\\\\RAFISQL\", \n .     Database = \"BoxOffice\", Trusted_connection = \"True\")",
      "2. dbConnect(odbc(), Driver = \"SQL Server\", Server = \"DESKTOP-9HVFU89\\\\RAFISQL\", \n .     Database = \"BoxOffice\", Trusted_connection = \"True\")",
      "3. .local(drv, ...)",
      "4. OdbcConnection(dsn = dsn, ..., timezone = timezone, encoding = encoding, \n .     bigint = bigint, timeout = timeout, driver = driver, server = server, \n .     database = database, uid = uid, pwd = pwd, dbms.name = dbms.name, \n .     .connection_string = .connection_string)",
      "5. odbc_connect(connection_string, timezone = timezone, encoding = encoding, \n .     bigint = bigint, timeout = timeout)"
     ]
    }
   ],
   "source": [
    "con <- dbConnect(odbc(),\n",
    "                Driver = \"SQL Server\",\n",
    "                Server = \"DESKTOP-9HVFU89\\\\RAFISQL\",\n",
    "                Database = \"BoxOffice\",\n",
    "                Trusted_connection = \"True\")"
   ]
  },
  {
   "cell_type": "code",
   "execution_count": 5,
   "metadata": {},
   "outputs": [
    {
     "ename": "ERROR",
     "evalue": "Error in dbReadTable(con, \"movies_ff_v\"): object 'con' not found\n",
     "output_type": "error",
     "traceback": [
      "Error in dbReadTable(con, \"movies_ff_v\"): object 'con' not found\nTraceback:\n",
      "1. dbReadTable(con, \"movies_ff_v\")"
     ]
    }
   ],
   "source": [
    "movies_ff <- dbReadTable(con, \"movies_ff_v\")"
   ]
  },
  {
   "cell_type": "code",
   "execution_count": 6,
   "metadata": {},
   "outputs": [
    {
     "ename": "ERROR",
     "evalue": "Error in save(movies_ff, file = \"../data/BoxOffice_ff.RData\"): object ‘movies_ff’ not found\n",
     "output_type": "error",
     "traceback": [
      "Error in save(movies_ff, file = \"../data/BoxOffice_ff.RData\"): object ‘movies_ff’ not found\nTraceback:\n",
      "1. save(movies_ff, file = \"../data/BoxOffice_ff.RData\")",
      "2. stop(sprintf(ngettext(n, \"object %s not found\", \"objects %s not found\"), \n .     paste(sQuote(list[!ok]), collapse = \", \")), domain = NA)"
     ]
    }
   ],
   "source": [
    "save(movies_ff, file =\"../data/BoxOffice_ff.RData\")"
   ]
  },
  {
   "cell_type": "code",
   "execution_count": 7,
   "metadata": {},
   "outputs": [],
   "source": [
    "load(\"../data/BoxOffice_ff.RData\")"
   ]
  },
  {
   "cell_type": "code",
   "execution_count": 8,
   "metadata": {},
   "outputs": [
    {
     "data": {
      "text/html": [
       "<table>\n",
       "<caption>A data.frame: 6 × 85</caption>\n",
       "<thead>\n",
       "\t<tr><th scope=col>movie_id</th><th scope=col>budget</th><th scope=col>original_language</th><th scope=col>popularity</th><th scope=col>release_date</th><th scope=col>runtime</th><th scope=col>runtime_cat</th><th scope=col>revenue</th><th scope=col>sw_lang_en</th><th scope=col>sw_web_presence</th><th scope=col>⋯</th><th scope=col>depart_Camera_female</th><th scope=col>depart_Crew_female</th><th scope=col>depart_Custom_Mkup_female</th><th scope=col>depart_Directing_female</th><th scope=col>depart_Editing_female</th><th scope=col>depart_Lighting_female</th><th scope=col>depart_Production_female</th><th scope=col>depart_Sound_female</th><th scope=col>depart_Visual_Effects_female</th><th scope=col>depart_Writing_female</th></tr>\n",
       "\t<tr><th scope=col>&lt;int&gt;</th><th scope=col>&lt;int&gt;</th><th scope=col>&lt;chr&gt;</th><th scope=col>&lt;dbl&gt;</th><th scope=col>&lt;chr&gt;</th><th scope=col>&lt;dbl&gt;</th><th scope=col>&lt;chr&gt;</th><th scope=col>&lt;int&gt;</th><th scope=col>&lt;int&gt;</th><th scope=col>&lt;int&gt;</th><th scope=col>⋯</th><th scope=col>&lt;int&gt;</th><th scope=col>&lt;int&gt;</th><th scope=col>&lt;int&gt;</th><th scope=col>&lt;int&gt;</th><th scope=col>&lt;int&gt;</th><th scope=col>&lt;int&gt;</th><th scope=col>&lt;int&gt;</th><th scope=col>&lt;int&gt;</th><th scope=col>&lt;int&gt;</th><th scope=col>&lt;int&gt;</th></tr>\n",
       "</thead>\n",
       "<tbody>\n",
       "\t<tr><td>1</td><td>14000000</td><td>en</td><td> 6.575393</td><td>2015-02-20</td><td> 93</td><td>Short </td><td>12314651</td><td>1</td><td>0</td><td>⋯</td><td>0</td><td>0</td><td>0</td><td>0</td><td>0</td><td>0</td><td>0</td><td>0</td><td>0</td><td>0</td></tr>\n",
       "\t<tr><td>2</td><td>40000000</td><td>en</td><td> 8.248895</td><td>2004-08-06</td><td>113</td><td>Medium</td><td>95149435</td><td>1</td><td>0</td><td>⋯</td><td>0</td><td>0</td><td>0</td><td>0</td><td>0</td><td>0</td><td>3</td><td>0</td><td>0</td><td>1</td></tr>\n",
       "\t<tr><td>3</td><td> 3300000</td><td>en</td><td>64.299990</td><td>2014-10-10</td><td>105</td><td>Medium</td><td>13092000</td><td>1</td><td>1</td><td>⋯</td><td>0</td><td>1</td><td>0</td><td>0</td><td>0</td><td>0</td><td>2</td><td>0</td><td>0</td><td>0</td></tr>\n",
       "\t<tr><td>4</td><td> 1200000</td><td>hi</td><td> 3.174936</td><td>2012-03-09</td><td>122</td><td>Large </td><td>16000000</td><td>0</td><td>1</td><td>⋯</td><td>0</td><td>0</td><td>0</td><td>0</td><td>0</td><td>0</td><td>0</td><td>0</td><td>0</td><td>0</td></tr>\n",
       "\t<tr><td>5</td><td>       0</td><td>ko</td><td> 1.148070</td><td>2009-02-05</td><td>118</td><td>Medium</td><td> 3923970</td><td>0</td><td>0</td><td>⋯</td><td>0</td><td>0</td><td>0</td><td>0</td><td>0</td><td>0</td><td>0</td><td>0</td><td>0</td><td>0</td></tr>\n",
       "\t<tr><td>6</td><td> 8000000</td><td>en</td><td> 0.743274</td><td>1987-08-06</td><td> 83</td><td>Short </td><td> 3261638</td><td>1</td><td>0</td><td>⋯</td><td>0</td><td>0</td><td>0</td><td>0</td><td>0</td><td>0</td><td>0</td><td>0</td><td>0</td><td>0</td></tr>\n",
       "</tbody>\n",
       "</table>\n"
      ],
      "text/latex": [
       "A data.frame: 6 × 85\n",
       "\\begin{tabular}{r|lllllllllllllllllllllllllllllllllllllllllllllllllllllllllllllllllllllllllllllllllllll}\n",
       " movie\\_id & budget & original\\_language & popularity & release\\_date & runtime & runtime\\_cat & revenue & sw\\_lang\\_en & sw\\_web\\_presence & sw\\_has\\_poster & sw\\_tagline & keyword\\_cnt & release\\_year & release\\_month & high\\_release\\_month & release\\_day & seasonality & sw\\_collection & producers\\_cnt & countries\\_cnt & lang\\_US & lang\\_FR & lang\\_RU & lang\\_ES & lang\\_JA & keywords\\_cnt & actor0\\_movies\\_cnt & actor0\\_movies\\_5y\\_cnt & actor1\\_movies\\_cnt & actor1\\_movies\\_5y\\_cnt & actor2\\_movies\\_cnt & actor2\\_movies\\_5y\\_cnt & sw\\_female\\_actor0 & sw\\_female\\_actor1 & sw\\_female\\_actor2 & sw\\_male\\_actor0 & sw\\_male\\_actor1 & sw\\_male\\_actor2 & actor0\\_prev\\_revenue & actor1\\_prev\\_revenue & actor2\\_prev\\_revenue & director\\_movies\\_cnt & director\\_movies\\_5y\\_cnt & genre\\_adventure & genre\\_fantasy & genre\\_animation & genre\\_drama & genre\\_horror & genre\\_action & genre\\_comedy & genre\\_history & genre\\_western & genre\\_thriller & genre\\_crime & genre\\_documentary & genre\\_science\\_fiction & genre\\_mystery & genre\\_music & genre\\_romance & genre\\_family & genre\\_war & genre\\_foreign & depart\\_Art & depart\\_Camera & depart\\_Crew & depart\\_Custom\\_Mkup & depart\\_Directing & depart\\_Editing & depart\\_Lighting & depart\\_Production & depart\\_Sound & depart\\_Visual\\_Effects & depart\\_Writing & depart\\_Art\\_female & depart\\_Camera\\_female & depart\\_Crew\\_female & depart\\_Custom\\_Mkup\\_female & depart\\_Directing\\_female & depart\\_Editing\\_female & depart\\_Lighting\\_female & depart\\_Production\\_female & depart\\_Sound\\_female & depart\\_Visual\\_Effects\\_female & depart\\_Writing\\_female\\\\\n",
       " <int> & <int> & <chr> & <dbl> & <chr> & <dbl> & <chr> & <int> & <int> & <int> & <int> & <int> & <int> & <int> & <int> & <int> & <int> & <int> & <int> & <int> & <int> & <int> & <int> & <int> & <int> & <int> & <int> & <int> & <int> & <int> & <int> & <int> & <int> & <int> & <int> & <int> & <int> & <int> & <int> & <int> & <int> & <int> & <int> & <int> & <int> & <int> & <int> & <int> & <int> & <int> & <int> & <int> & <int> & <int> & <int> & <int> & <int> & <int> & <int> & <int> & <int> & <int> & <int> & <int> & <int> & <int> & <int> & <int> & <int> & <int> & <int> & <int> & <int> & <int> & <int> & <int> & <int> & <int> & <int> & <int> & <int> & <int> & <int> & <int> & <int>\\\\\n",
       "\\hline\n",
       "\t 1 & 14000000 & en &  6.575393 & 2015-02-20 &  93 & Short  & 12314651 & 1 & 0 & 1 & 1 &  4 & 2015 &  2 & 0 & 20 & -15309317 & 0 &  3 & 1 & 1 & 0 & 0 & 0 & 0 &  4 & 18 & 11 & 13 &  4 &  8 & 6 & 0 & 0 & 0 & 1 & 1 & 1 & 116980662 & 219076518 & 121463226 & 3 & 2 & 0 & 0 & 0 & 0 & 0 & 0 & 1 & 0 & 0 & 0 & 0 & 0 & 0 & 0 & 0 & 0 & 0 & 0 & 0 & 12 & 8 & 4 & 13 & 4 & 2 & 4 &  9 & 10 & 4 & 2 & 0 & 0 & 0 & 0 & 0 & 0 & 0 & 0 & 0 & 0 & 0\\\\\n",
       "\t 2 & 40000000 & en &  8.248895 & 2004-08-06 & 113 & Medium & 95149435 & 1 & 0 & 1 & 1 &  4 & 2004 &  8 & 1 &  6 & -33273015 & 0 &  1 & 1 & 1 & 0 & 0 & 0 & 0 &  4 &  3 &  3 & 10 &  2 & 13 & 4 & 1 & 1 & 0 & 0 & 0 & 1 & 165335153 & 165335153 & 309457509 & 9 & 2 & 0 & 0 & 0 & 1 & 0 & 0 & 1 & 0 & 0 & 0 & 0 & 0 & 0 & 0 & 0 & 1 & 1 & 0 & 0 &  0 & 1 & 0 &  0 & 1 & 1 & 0 &  4 &  1 & 0 & 1 & 0 & 0 & 0 & 0 & 0 & 0 & 0 & 3 & 0 & 0 & 1\\\\\n",
       "\t 3 &  3300000 & en & 64.299990 & 2014-10-10 & 105 & Medium & 13092000 & 1 & 1 & 1 & 1 & 12 & 2014 & 10 & 1 & 10 & -28659422 & 0 &  3 & 1 & 1 & 0 & 0 & 0 & 0 & 12 &  7 &  7 & 34 & 11 &  0 & 0 & 0 & 0 & 1 & 1 & 1 & 0 &  48065672 & 231411584 &        NA & 0 & 0 & 0 & 0 & 0 & 1 & 0 & 0 & 0 & 0 & 0 & 0 & 0 & 0 & 0 & 0 & 0 & 0 & 0 & 0 & 0 &  5 & 4 & 9 &  5 & 3 & 6 & 1 & 18 &  9 & 3 & 1 & 1 & 0 & 1 & 0 & 0 & 0 & 0 & 2 & 0 & 0 & 0\\\\\n",
       "\t 4 &  1200000 & hi &  3.174936 & 2012-03-09 & 122 & Large  & 16000000 & 0 & 1 & 1 & 0 &  7 & 2012 &  3 & 0 &  9 &  -7149862 & 0 & NA & 1 & 1 & 0 & 0 & 0 & 0 &  7 &  2 &  1 &  2 &  2 &  0 & 0 & 1 & 0 & 0 & 0 & 1 & 0 &   4100000 &        NA &        NA & 0 & 0 & 0 & 0 & 0 & 1 & 0 & 0 & 0 & 0 & 0 & 1 & 0 & 0 & 0 & 0 & 0 & 0 & 0 & 0 & 0 &  0 & 0 & 0 &  0 & 1 & 0 & 0 &  1 &  0 & 0 & 1 & 0 & 0 & 0 & 0 & 0 & 0 & 0 & 0 & 0 & 0 & 0\\\\\n",
       "\t 5 &        0 & ko &  1.148070 & 2009-02-05 & 118 & Medium &  3923970 & 0 & 0 & 1 & 0 &  0 & 2009 &  2 & 0 &  5 & -15309317 & 0 & NA & 1 & 0 & 0 & 0 & 0 & 0 &  0 &  0 &  0 &  1 &  0 &  0 & 0 & 0 & 0 & 0 & 1 & 1 & 1 &        NA &        NA &        NA & 0 & 0 & 0 & 0 & 0 & 0 & 0 & 1 & 0 & 0 & 0 & 1 & 0 & 0 & 0 & 0 & 0 & 0 & 0 & 0 & 0 &  0 & 0 & 0 &  0 & 1 & 0 & 0 &  0 &  0 & 0 & 1 & 0 & 0 & 0 & 0 & 0 & 0 & 0 & 0 & 0 & 0 & 0\\\\\n",
       "\t 6 &  8000000 & en &  0.743274 & 1987-08-06 &  83 & Short  &  3261638 & 1 & 0 & 1 & 0 &  0 & 1987 &  8 & 1 &  6 & -33273015 & 0 & NA & 0 & 1 & 0 & 0 & 0 & 0 &  0 &  1 &  1 &  0 &  0 &  0 & 0 & 0 & 0 & 0 & 1 & 1 & 0 &        NA &        NA &        NA & 0 & 0 & 1 & 0 & 1 & 0 & 0 & 0 & 0 & 0 & 0 & 0 & 0 & 0 & 0 & 0 & 0 & 0 & 1 & 0 & 0 &  1 & 0 & 0 &  0 & 1 & 0 & 0 &  1 &  0 & 4 & 4 & 0 & 0 & 0 & 0 & 0 & 0 & 0 & 0 & 0 & 0 & 0\\\\\n",
       "\\end{tabular}\n"
      ],
      "text/markdown": [
       "\n",
       "A data.frame: 6 × 85\n",
       "\n",
       "| movie_id &lt;int&gt; | budget &lt;int&gt; | original_language &lt;chr&gt; | popularity &lt;dbl&gt; | release_date &lt;chr&gt; | runtime &lt;dbl&gt; | runtime_cat &lt;chr&gt; | revenue &lt;int&gt; | sw_lang_en &lt;int&gt; | sw_web_presence &lt;int&gt; | ⋯ ⋯ | depart_Camera_female &lt;int&gt; | depart_Crew_female &lt;int&gt; | depart_Custom_Mkup_female &lt;int&gt; | depart_Directing_female &lt;int&gt; | depart_Editing_female &lt;int&gt; | depart_Lighting_female &lt;int&gt; | depart_Production_female &lt;int&gt; | depart_Sound_female &lt;int&gt; | depart_Visual_Effects_female &lt;int&gt; | depart_Writing_female &lt;int&gt; |\n",
       "|---|---|---|---|---|---|---|---|---|---|---|---|---|---|---|---|---|---|---|---|---|\n",
       "| 1 | 14000000 | en |  6.575393 | 2015-02-20 |  93 | Short  | 12314651 | 1 | 0 | ⋯ | 0 | 0 | 0 | 0 | 0 | 0 | 0 | 0 | 0 | 0 |\n",
       "| 2 | 40000000 | en |  8.248895 | 2004-08-06 | 113 | Medium | 95149435 | 1 | 0 | ⋯ | 0 | 0 | 0 | 0 | 0 | 0 | 3 | 0 | 0 | 1 |\n",
       "| 3 |  3300000 | en | 64.299990 | 2014-10-10 | 105 | Medium | 13092000 | 1 | 1 | ⋯ | 0 | 1 | 0 | 0 | 0 | 0 | 2 | 0 | 0 | 0 |\n",
       "| 4 |  1200000 | hi |  3.174936 | 2012-03-09 | 122 | Large  | 16000000 | 0 | 1 | ⋯ | 0 | 0 | 0 | 0 | 0 | 0 | 0 | 0 | 0 | 0 |\n",
       "| 5 |        0 | ko |  1.148070 | 2009-02-05 | 118 | Medium |  3923970 | 0 | 0 | ⋯ | 0 | 0 | 0 | 0 | 0 | 0 | 0 | 0 | 0 | 0 |\n",
       "| 6 |  8000000 | en |  0.743274 | 1987-08-06 |  83 | Short  |  3261638 | 1 | 0 | ⋯ | 0 | 0 | 0 | 0 | 0 | 0 | 0 | 0 | 0 | 0 |\n",
       "\n"
      ],
      "text/plain": [
       "  movie_id budget   original_language popularity release_date runtime\n",
       "1 1        14000000 en                 6.575393  2015-02-20    93    \n",
       "2 2        40000000 en                 8.248895  2004-08-06   113    \n",
       "3 3         3300000 en                64.299990  2014-10-10   105    \n",
       "4 4         1200000 hi                 3.174936  2012-03-09   122    \n",
       "5 5               0 ko                 1.148070  2009-02-05   118    \n",
       "6 6         8000000 en                 0.743274  1987-08-06    83    \n",
       "  runtime_cat revenue  sw_lang_en sw_web_presence ⋯ depart_Camera_female\n",
       "1 Short       12314651 1          0               ⋯ 0                   \n",
       "2 Medium      95149435 1          0               ⋯ 0                   \n",
       "3 Medium      13092000 1          1               ⋯ 0                   \n",
       "4 Large       16000000 0          1               ⋯ 0                   \n",
       "5 Medium       3923970 0          0               ⋯ 0                   \n",
       "6 Short        3261638 1          0               ⋯ 0                   \n",
       "  depart_Crew_female depart_Custom_Mkup_female depart_Directing_female\n",
       "1 0                  0                         0                      \n",
       "2 0                  0                         0                      \n",
       "3 1                  0                         0                      \n",
       "4 0                  0                         0                      \n",
       "5 0                  0                         0                      \n",
       "6 0                  0                         0                      \n",
       "  depart_Editing_female depart_Lighting_female depart_Production_female\n",
       "1 0                     0                      0                       \n",
       "2 0                     0                      3                       \n",
       "3 0                     0                      2                       \n",
       "4 0                     0                      0                       \n",
       "5 0                     0                      0                       \n",
       "6 0                     0                      0                       \n",
       "  depart_Sound_female depart_Visual_Effects_female depart_Writing_female\n",
       "1 0                   0                            0                    \n",
       "2 0                   0                            1                    \n",
       "3 0                   0                            0                    \n",
       "4 0                   0                            0                    \n",
       "5 0                   0                            0                    \n",
       "6 0                   0                            0                    "
      ]
     },
     "metadata": {},
     "output_type": "display_data"
    }
   ],
   "source": [
    "head(movies_ff)"
   ]
  },
  {
   "cell_type": "markdown",
   "metadata": {},
   "source": [
    "# part 2 "
   ]
  },
  {
   "cell_type": "code",
   "execution_count": 29,
   "metadata": {},
   "outputs": [
    {
     "data": {
      "text/plain": [
       "    movie_id        budget          original_language    popularity     \n",
       " Min.   :   1   Min.   :        0   Length:7375        Min.   :  0.000  \n",
       " 1st Qu.:1848   1st Qu.:        0   Class :character   1st Qu.:  3.970  \n",
       " Median :3696   Median :  8000000   Mode  :character   Median :  7.456  \n",
       " Mean   :3698   Mean   : 22666657                      Mean   :  8.540  \n",
       " 3rd Qu.:5550   3rd Qu.: 29000000                      3rd Qu.: 10.932  \n",
       " Max.   :7398   Max.   :380000000                      Max.   :547.488  \n",
       "                                                                        \n",
       " release_date          runtime      runtime_cat           revenue         \n",
       " Length:7375        Min.   :  0.0   Length:7375        Min.   :1.000e+00  \n",
       " Class :character   1st Qu.: 94.0   Class :character   1st Qu.:2.405e+06  \n",
       " Mode  :character   Median :104.0   Mode  :character   Median :1.693e+07  \n",
       "                    Mean   :107.7                      Mean   :6.688e+07  \n",
       "                    3rd Qu.:118.0                      3rd Qu.:6.906e+07  \n",
       "                    Max.   :338.0                      Max.   :1.520e+09  \n",
       "                    NA's   :5                          NA's   :4382       \n",
       "   sw_lang_en     sw_web_presence  sw_has_poster      sw_tagline    \n",
       " Min.   :0.0000   Min.   :0.0000   Min.   :0.0000   Min.   :0.0000  \n",
       " 1st Qu.:1.0000   1st Qu.:0.0000   1st Qu.:1.0000   1st Qu.:1.0000  \n",
       " Median :1.0000   Median :0.0000   Median :1.0000   Median :1.0000  \n",
       " Mean   :0.8591   Mean   :0.3204   Mean   :0.9997   Mean   :0.8045  \n",
       " 3rd Qu.:1.0000   3rd Qu.:1.0000   3rd Qu.:1.0000   3rd Qu.:1.0000  \n",
       " Max.   :1.0000   Max.   :1.0000   Max.   :1.0000   Max.   :1.0000  \n",
       "                                                                    \n",
       "  keyword_cnt       release_year  release_month    high_release_month\n",
       " Min.   :  0.000   Min.   :1918   Min.   : 1.000   Min.   :0.0000    \n",
       " 1st Qu.:  3.000   1st Qu.:1992   1st Qu.: 4.000   1st Qu.:0.0000    \n",
       " Median :  6.000   Median :2004   Median : 7.000   Median :0.0000    \n",
       " Mean   :  7.265   Mean   :2000   Mean   : 6.844   Mean   :0.3997    \n",
       " 3rd Qu.: 10.000   3rd Qu.:2011   3rd Qu.:10.000   3rd Qu.:1.0000    \n",
       " Max.   :149.000   Max.   :2017   Max.   :12.000   Max.   :1.0000    \n",
       "                   NA's   :1      NA's   :1                          \n",
       "  release_day     seasonality        sw_collection     producers_cnt   \n",
       " Min.   : 1.00   Min.   :-50746591   Min.   :0.00000   Min.   : 1.000  \n",
       " 1st Qu.: 8.00   1st Qu.:-33273015   1st Qu.:0.00000   1st Qu.: 1.000  \n",
       " Median :15.00   Median :-15309317   Median :0.00000   Median : 2.000  \n",
       " Mean   :15.25   Mean   : -1337484   Mean   :0.02942   Mean   : 2.908  \n",
       " 3rd Qu.:22.00   3rd Qu.: 32322910   3rd Qu.:0.00000   3rd Qu.: 4.000  \n",
       " Max.   :31.00   Max.   : 74205073   Max.   :2.00000   Max.   :26.000  \n",
       " NA's   :1       NA's   :1                             NA's   :395     \n",
       " countries_cnt       lang_US          lang_FR           lang_RU       \n",
       " Min.   : 0.000   Min.   :0.0000   Min.   :0.00000   Min.   :0.00000  \n",
       " 1st Qu.: 1.000   1st Qu.:1.0000   1st Qu.:0.00000   1st Qu.:0.00000  \n",
       " Median : 1.000   Median :1.0000   Median :0.00000   Median :0.00000  \n",
       " Mean   : 1.335   Mean   :0.8735   Mean   :0.09641   Mean   :0.04854  \n",
       " 3rd Qu.: 1.000   3rd Qu.:1.0000   3rd Qu.:0.00000   3rd Qu.:0.00000  \n",
       " Max.   :12.000   Max.   :1.0000   Max.   :1.00000   Max.   :1.00000  \n",
       "                                                                      \n",
       "    lang_ES          lang_JA         keywords_cnt     actor0_movies_cnt\n",
       " Min.   :0.0000   Min.   :0.00000   Min.   :  0.000   Min.   : 0.00    \n",
       " 1st Qu.:0.0000   1st Qu.:0.00000   1st Qu.:  3.000   1st Qu.: 0.00    \n",
       " Median :0.0000   Median :0.00000   Median :  6.000   Median : 4.00    \n",
       " Mean   :0.0758   Mean   :0.02766   Mean   :  7.265   Mean   : 7.19    \n",
       " 3rd Qu.:0.0000   3rd Qu.:0.00000   3rd Qu.: 10.000   3rd Qu.:11.00    \n",
       " Max.   :1.0000   Max.   :1.00000   Max.   :149.000   Max.   :65.00    \n",
       "                                                                       \n",
       " actor0_movies_5y_cnt actor1_movies_cnt actor1_movies_5y_cnt actor2_movies_cnt\n",
       " Min.   : 0.000       Min.   : 0.000    Min.   : 0.000       Min.   : 0.000   \n",
       " 1st Qu.: 0.000       1st Qu.: 0.000    1st Qu.: 0.000       1st Qu.: 0.000   \n",
       " Median : 2.000       Median : 2.000    Median : 1.000       Median : 2.000   \n",
       " Mean   : 2.769       Mean   : 5.405    Mean   : 2.261       Mean   : 4.773   \n",
       " 3rd Qu.: 5.000       3rd Qu.: 8.000    3rd Qu.: 4.000       3rd Qu.: 7.000   \n",
       " Max.   :16.000       Max.   :67.000    Max.   :17.000       Max.   :68.000   \n",
       "                                                                              \n",
       " actor2_movies_5y_cnt sw_female_actor0 sw_female_actor1 sw_female_actor2\n",
       " Min.   : 0.000       Min.   :0.0000   Min.   :0.0000   Min.   :0.0000  \n",
       " 1st Qu.: 0.000       1st Qu.:0.0000   1st Qu.:0.0000   1st Qu.:0.0000  \n",
       " Median : 1.000       Median :0.0000   Median :0.0000   Median :0.0000  \n",
       " Mean   : 1.915       Mean   :0.2333   Mean   :0.3792   Mean   :0.3379  \n",
       " 3rd Qu.: 3.000       3rd Qu.:0.0000   3rd Qu.:1.0000   3rd Qu.:1.0000  \n",
       " Max.   :15.000       Max.   :1.0000   Max.   :1.0000   Max.   :1.0000  \n",
       "                      NA's   :934      NA's   :782      NA's   :788     \n",
       " sw_male_actor0   sw_male_actor1   sw_male_actor2   actor0_prev_revenue\n",
       " Min.   :0.0000   Min.   :0.0000   Min.   :0.0000   Min.   :1.000e+00  \n",
       " 1st Qu.:0.0000   1st Qu.:0.0000   1st Qu.:0.0000   1st Qu.:4.426e+07  \n",
       " Median :1.0000   Median :1.0000   Median :1.0000   Median :1.515e+08  \n",
       " Mean   :0.6941   Mean   :0.5171   Mean   :0.5436   Mean   :2.233e+08  \n",
       " 3rd Qu.:1.0000   3rd Qu.:1.0000   3rd Qu.:1.0000   3rd Qu.:3.113e+08  \n",
       " Max.   :1.0000   Max.   :1.0000   Max.   :1.0000   Max.   :1.520e+09  \n",
       " NA's   :934      NA's   :782      NA's   :788      NA's   :2752       \n",
       " actor1_prev_revenue actor2_prev_revenue director_movies_cnt\n",
       " Min.   :1.000e+00   Min.   :1.000e+00   Min.   : 0.000     \n",
       " 1st Qu.:3.511e+07   1st Qu.:3.086e+07   1st Qu.: 0.000     \n",
       " Median :1.256e+08   Median :1.109e+08   Median : 1.000     \n",
       " Mean   :2.052e+08   Mean   :1.957e+08   Mean   : 1.952     \n",
       " 3rd Qu.:2.684e+08   3rd Qu.:2.506e+08   3rd Qu.: 3.000     \n",
       " Max.   :1.520e+09   Max.   :1.520e+09   Max.   :29.000     \n",
       " NA's   :3201        NA's   :3423                           \n",
       " director_movies_5y_cnt genre_adventure  genre_fantasy     genre_animation \n",
       " Min.   :0.0000         Min.   :0.0000   Min.   :0.00000   Min.   :0.0000  \n",
       " 1st Qu.:0.0000         1st Qu.:0.0000   1st Qu.:0.00000   1st Qu.:0.0000  \n",
       " Median :0.0000         Median :0.0000   Median :0.00000   Median :0.0000  \n",
       " Mean   :0.6496         Mean   :0.1513   Mean   :0.08515   Mean   :0.0518  \n",
       " 3rd Qu.:1.0000         3rd Qu.:0.0000   3rd Qu.:0.00000   3rd Qu.:0.0000  \n",
       " Max.   :6.0000         Max.   :1.0000   Max.   :1.00000   Max.   :1.0000  \n",
       "                                                                           \n",
       "  genre_drama      genre_horror      genre_action     genre_comedy   \n",
       " Min.   :0.0000   Min.   :0.00000   Min.   :0.0000   Min.   :0.0000  \n",
       " 1st Qu.:0.0000   1st Qu.:0.00000   1st Qu.:0.0000   1st Qu.:0.0000  \n",
       " Median :0.0000   Median :0.00000   Median :0.0000   Median :0.0000  \n",
       " Mean   :0.4984   Mean   :0.09966   Mean   :0.2353   Mean   :0.3532  \n",
       " 3rd Qu.:1.0000   3rd Qu.:0.00000   3rd Qu.:0.0000   3rd Qu.:1.0000  \n",
       " Max.   :1.0000   Max.   :1.00000   Max.   :1.0000   Max.   :1.0000  \n",
       "                                                                     \n",
       " genre_history  genre_western     genre_thriller    genre_crime   \n",
       " Min.   :0.00   Min.   :0.00000   Min.   :0.0000   Min.   :0.000  \n",
       " 1st Qu.:0.00   1st Qu.:0.00000   1st Qu.:0.0000   1st Qu.:0.000  \n",
       " Median :0.00   Median :0.00000   Median :0.0000   Median :0.000  \n",
       " Mean   :0.04   Mean   :0.01586   Mean   :0.2534   Mean   :0.147  \n",
       " 3rd Qu.:0.00   3rd Qu.:0.00000   3rd Qu.:1.0000   3rd Qu.:0.000  \n",
       " Max.   :1.00   Max.   :1.00000   Max.   :1.0000   Max.   :1.000  \n",
       "                                                                  \n",
       " genre_documentary genre_science_fiction genre_mystery      genre_music    \n",
       " Min.   :0.00000   Min.   :0.0000        Min.   :0.00000   Min.   :0.0000  \n",
       " 1st Qu.:0.00000   1st Qu.:0.0000        1st Qu.:0.00000   1st Qu.:0.0000  \n",
       " Median :0.00000   Median :0.0000        Median :0.00000   Median :0.0000  \n",
       " Mean   :0.02997   Mean   :0.1009        Mean   :0.07458   Mean   :0.0362  \n",
       " 3rd Qu.:0.00000   3rd Qu.:0.0000        3rd Qu.:0.00000   3rd Qu.:0.0000  \n",
       " Max.   :1.00000   Max.   :1.0000        Max.   :1.00000   Max.   :1.0000  \n",
       "                                                                           \n",
       " genre_romance     genre_family       genre_war       genre_foreign    \n",
       " Min.   :0.0000   Min.   :0.00000   Min.   :0.00000   Min.   :0.00000  \n",
       " 1st Qu.:0.0000   1st Qu.:0.00000   1st Qu.:0.00000   1st Qu.:0.00000  \n",
       " Median :0.0000   Median :0.00000   Median :0.00000   Median :0.00000  \n",
       " Mean   :0.1946   Mean   :0.09153   Mean   :0.03295   Mean   :0.01139  \n",
       " 3rd Qu.:0.0000   3rd Qu.:0.00000   3rd Qu.:0.00000   3rd Qu.:0.00000  \n",
       " Max.   :1.0000   Max.   :1.00000   Max.   :1.00000   Max.   :1.00000  \n",
       "                                                                       \n",
       "   depart_Art     depart_Camera     depart_Crew      depart_Custom_Mkup\n",
       " Min.   : 0.000   Min.   : 0.000   Min.   :  0.000   Min.   : 0.000    \n",
       " 1st Qu.: 0.000   1st Qu.: 0.000   1st Qu.:  0.000   1st Qu.: 0.000    \n",
       " Median : 1.000   Median : 1.000   Median :  0.000   Median : 1.000    \n",
       " Mean   : 2.707   Mean   : 1.802   Mean   :  2.388   Mean   : 2.074    \n",
       " 3rd Qu.: 3.000   3rd Qu.: 2.000   3rd Qu.:  2.000   3rd Qu.: 2.000    \n",
       " Max.   :36.000   Max.   :24.000   Max.   :119.000   Max.   :33.000    \n",
       " NA's   :34       NA's   :34       NA's   :34        NA's   :34        \n",
       " depart_Directing depart_Editing   depart_Lighting   depart_Production\n",
       " Min.   : 0.000   Min.   : 0.000   Min.   : 0.0000   Min.   : 0.000   \n",
       " 1st Qu.: 1.000   1st Qu.: 0.000   1st Qu.: 0.0000   1st Qu.: 1.000   \n",
       " Median : 1.000   Median : 1.000   Median : 0.0000   Median : 4.000   \n",
       " Mean   : 1.665   Mean   : 1.516   Mean   : 0.4262   Mean   : 5.301   \n",
       " 3rd Qu.: 2.000   3rd Qu.: 2.000   3rd Qu.: 0.0000   3rd Qu.: 8.000   \n",
       " Max.   :30.000   Max.   :21.000   Max.   :18.0000   Max.   :38.000   \n",
       " NA's   :34       NA's   :34       NA's   :34        NA's   :34       \n",
       "  depart_Sound    depart_Visual_Effects depart_Writing   depart_Art_female\n",
       " Min.   : 0.000   Min.   : 0.00         Min.   : 0.000   Min.   :0.0000   \n",
       " 1st Qu.: 1.000   1st Qu.: 0.00         1st Qu.: 1.000   1st Qu.:0.0000   \n",
       " Median : 1.000   Median : 0.00         Median : 2.000   Median :0.0000   \n",
       " Mean   : 3.064   Mean   : 1.29         Mean   : 2.222   Mean   :0.2351   \n",
       " 3rd Qu.: 3.000   3rd Qu.: 0.00         3rd Qu.: 3.000   3rd Qu.:0.0000   \n",
       " Max.   :40.000   Max.   :89.00         Max.   :23.000   Max.   :7.0000   \n",
       " NA's   :34       NA's   :34            NA's   :34       NA's   :34       \n",
       " depart_Camera_female depart_Crew_female depart_Custom_Mkup_female\n",
       " Min.   :0.00000      Min.   : 0.00000   Min.   :0.0000           \n",
       " 1st Qu.:0.00000      1st Qu.: 0.00000   1st Qu.:0.0000           \n",
       " Median :0.00000      Median : 0.00000   Median :0.0000           \n",
       " Mean   :0.02043      Mean   : 0.06443   Mean   :0.3535           \n",
       " 3rd Qu.:0.00000      3rd Qu.: 0.00000   3rd Qu.:1.0000           \n",
       " Max.   :3.00000      Max.   :10.00000   Max.   :6.0000           \n",
       " NA's   :34           NA's   :34         NA's   :34               \n",
       " depart_Directing_female depart_Editing_female depart_Lighting_female\n",
       " Min.   :0.0000          Min.   :0.0000        Min.   :0.00000       \n",
       " 1st Qu.:0.0000          1st Qu.:0.0000        1st Qu.:0.00000       \n",
       " Median :0.0000          Median :0.0000        Median :0.00000       \n",
       " Mean   :0.1535          Mean   :0.1216        Mean   :0.00068       \n",
       " 3rd Qu.:0.0000          3rd Qu.:0.0000        3rd Qu.:0.00000       \n",
       " Max.   :4.0000          Max.   :5.0000        Max.   :1.00000       \n",
       " NA's   :34              NA's   :34            NA's   :34            \n",
       " depart_Production_female depart_Sound_female depart_Visual_Effects_female\n",
       " Min.   : 0.0000          Min.   :0.00000     Min.   :0.00000             \n",
       " 1st Qu.: 0.0000          1st Qu.:0.00000     1st Qu.:0.00000             \n",
       " Median : 0.0000          Median :0.00000     Median :0.00000             \n",
       " Mean   : 0.9396          Mean   :0.07914     Mean   :0.00845             \n",
       " 3rd Qu.: 2.0000          3rd Qu.:0.00000     3rd Qu.:0.00000             \n",
       " Max.   :12.0000          Max.   :6.00000     Max.   :2.00000             \n",
       " NA's   :34               NA's   :34          NA's   :34                  \n",
       " depart_Writing_female\n",
       " Min.   :0.0000       \n",
       " 1st Qu.:0.0000       \n",
       " Median :0.0000       \n",
       " Mean   :0.1242       \n",
       " 3rd Qu.:0.0000       \n",
       " Max.   :5.0000       \n",
       " NA's   :34           "
      ]
     },
     "metadata": {},
     "output_type": "display_data"
    }
   ],
   "source": [
    "summary(movies_ff)"
   ]
  },
  {
   "cell_type": "code",
<<<<<<< HEAD
   "execution_count": 1,
=======
   "execution_count": 30,
>>>>>>> 0285d4afba518c1eb4d05c184112d65b2758ab6c
   "metadata": {},
   "outputs": [
    {
     "ename": "ERROR",
<<<<<<< HEAD
     "evalue": "Error in loadNamespace(name): there is no package called ‘pastecs’\n",
     "output_type": "error",
     "traceback": [
      "Error in loadNamespace(name): there is no package called ‘pastecs’\nTraceback:\n",
      "1. pastecs::stat.desc",
      "2. getExportedValue(pkg, name)",
      "3. asNamespace(ns)",
      "4. getNamespace(ns)",
      "5. loadNamespace(name)",
      "6. withRestarts(stop(cond), retry_loadNamespace = function() NULL)",
      "7. withOneRestart(expr, restarts[[1L]])",
      "8. doWithOneRestart(return(expr), restart)"
=======
     "evalue": "Error in desccribe(revenue): could not find function \"desccribe\"\n",
     "output_type": "error",
     "traceback": [
      "Error in desccribe(revenue): could not find function \"desccribe\"\nTraceback:\n"
>>>>>>> 0285d4afba518c1eb4d05c184112d65b2758ab6c
     ]
    }
   ],
   "source": [
<<<<<<< HEAD
    " pastecs::stat.desc(movies_ff)"
=======
    " desccribe(revenue)"
>>>>>>> 0285d4afba518c1eb4d05c184112d65b2758ab6c
   ]
  },
  {
   "cell_type": "code",
   "execution_count": null,
   "metadata": {},
   "outputs": [],
   "source": []
  }
 ],
 "metadata": {
  "kernelspec": {
   "display_name": "R",
   "language": "R",
   "name": "ir"
  },
  "language_info": {
   "codemirror_mode": "r",
   "file_extension": ".r",
   "mimetype": "text/x-r-source",
   "name": "R",
   "pygments_lexer": "r",
   "version": "3.6.1"
  }
 },
 "nbformat": 4,
 "nbformat_minor": 2
}
