{
 "cells": [
  {
   "cell_type": "markdown",
   "metadata": {},
   "source": [
    "# EDA exploratory data analysis"
   ]
  },
  {
   "cell_type": "code",
   "execution_count": 94,
   "metadata": {},
   "outputs": [
    {
     "ename": "ERROR",
     "evalue": "Error in library(mechkar): there is no package called 'mechkar'\n",
     "output_type": "error",
     "traceback": [
      "Error in library(mechkar): there is no package called 'mechkar'\nTraceback:\n",
      "1. library(mechkar)"
     ]
    }
   ],
   "source": [
    "library(DBI)\n",
    "library(odbc)\n",
    "library(dplyr)\n",
    "library(ggplot2)\n",
    "library(devtools)\n",
    "library(mechkar)\n",
    "install.packages(\"gridExtra\")\n",
    "install.packages(\"RColorBrewer\")\n",
    "install.packages(\"ggplot2\")\n",
    "install.packages(\"gridExtra\")\n",
    "install.packages(\"RColorBrewer\")\n",
    "library(corrplot)\n",
    "install.packages(\"RColorBrewer\")"
   ]
  },
  {
   "cell_type": "code",
   "execution_count": 3,
   "metadata": {},
   "outputs": [],
   "source": [
    "con <- dbConnect(odbc(),\n",
    "                Driver = \"SQL Server\",\n",
    "                Server = \"DESKTOP-9HVFU89\\\\RAFISQL\",\n",
    "                Database = \"BoxOffice\",\n",
    "                Trusted_connection = \"True\")"
   ]
  },
  {
   "cell_type": "code",
   "execution_count": 34,
   "metadata": {},
   "outputs": [],
   "source": [
    "ff <- dbReadTable(con, \"movies_ff_v\")"
   ]
  },
  {
   "cell_type": "code",
   "execution_count": 35,
   "metadata": {},
   "outputs": [],
   "source": [
    "save(ff, file =\"../data/BoxOffice_ff.RData\")"
   ]
  },
  {
   "cell_type": "code",
   "execution_count": 36,
   "metadata": {},
   "outputs": [],
   "source": [
    "load(\"../data/BoxOffice_ff.RData\")"
   ]
  },
  {
   "cell_type": "code",
   "execution_count": 37,
   "metadata": {},
   "outputs": [
    {
     "data": {
      "text/html": [
       "<table>\n",
       "<caption>A data.frame: 6 × 85</caption>\n",
       "<thead>\n",
       "\t<tr><th scope=col>movie_id</th><th scope=col>budget</th><th scope=col>original_language</th><th scope=col>popularity</th><th scope=col>release_date</th><th scope=col>runtime</th><th scope=col>runtime_cat</th><th scope=col>revenue</th><th scope=col>sw_lang_en</th><th scope=col>sw_web_presence</th><th scope=col>...</th><th scope=col>depart_Camera_female</th><th scope=col>depart_Crew_female</th><th scope=col>depart_Custom_Mkup_female</th><th scope=col>depart_Directing_female</th><th scope=col>depart_Editing_female</th><th scope=col>depart_Lighting_female</th><th scope=col>depart_Production_female</th><th scope=col>depart_Sound_female</th><th scope=col>depart_Visual_Effects_female</th><th scope=col>depart_Writing_female</th></tr>\n",
       "\t<tr><th scope=col>&lt;int&gt;</th><th scope=col>&lt;int&gt;</th><th scope=col>&lt;chr&gt;</th><th scope=col>&lt;dbl&gt;</th><th scope=col>&lt;chr&gt;</th><th scope=col>&lt;dbl&gt;</th><th scope=col>&lt;chr&gt;</th><th scope=col>&lt;int&gt;</th><th scope=col>&lt;int&gt;</th><th scope=col>&lt;int&gt;</th><th scope=col>...</th><th scope=col>&lt;int&gt;</th><th scope=col>&lt;int&gt;</th><th scope=col>&lt;int&gt;</th><th scope=col>&lt;int&gt;</th><th scope=col>&lt;int&gt;</th><th scope=col>&lt;int&gt;</th><th scope=col>&lt;int&gt;</th><th scope=col>&lt;int&gt;</th><th scope=col>&lt;int&gt;</th><th scope=col>&lt;int&gt;</th></tr>\n",
       "</thead>\n",
       "<tbody>\n",
       "\t<tr><td>1</td><td>14000000</td><td>en</td><td> 6.575393</td><td>2015-02-20</td><td> 93</td><td>Short </td><td>12314651</td><td>1</td><td>0</td><td>...</td><td>0</td><td>0</td><td>0</td><td>0</td><td>0</td><td>0</td><td>0</td><td>0</td><td>0</td><td>0</td></tr>\n",
       "\t<tr><td>2</td><td>40000000</td><td>en</td><td> 8.248895</td><td>2004-08-06</td><td>113</td><td>Medium</td><td>95149435</td><td>1</td><td>0</td><td>...</td><td>0</td><td>0</td><td>0</td><td>0</td><td>0</td><td>0</td><td>3</td><td>0</td><td>0</td><td>1</td></tr>\n",
       "\t<tr><td>3</td><td> 3300000</td><td>en</td><td>64.299990</td><td>2014-10-10</td><td>105</td><td>Medium</td><td>13092000</td><td>1</td><td>1</td><td>...</td><td>0</td><td>1</td><td>0</td><td>0</td><td>0</td><td>0</td><td>2</td><td>0</td><td>0</td><td>0</td></tr>\n",
       "\t<tr><td>4</td><td> 1200000</td><td>hi</td><td> 3.174936</td><td>2012-03-09</td><td>122</td><td>Large </td><td>16000000</td><td>0</td><td>1</td><td>...</td><td>0</td><td>0</td><td>0</td><td>0</td><td>0</td><td>0</td><td>0</td><td>0</td><td>0</td><td>0</td></tr>\n",
       "\t<tr><td>5</td><td>       0</td><td>ko</td><td> 1.148070</td><td>2009-02-05</td><td>118</td><td>Medium</td><td> 3923970</td><td>0</td><td>0</td><td>...</td><td>0</td><td>0</td><td>0</td><td>0</td><td>0</td><td>0</td><td>0</td><td>0</td><td>0</td><td>0</td></tr>\n",
       "\t<tr><td>6</td><td> 8000000</td><td>en</td><td> 0.743274</td><td>1987-08-06</td><td> 83</td><td>Short </td><td> 3261638</td><td>1</td><td>0</td><td>...</td><td>0</td><td>0</td><td>0</td><td>0</td><td>0</td><td>0</td><td>0</td><td>0</td><td>0</td><td>0</td></tr>\n",
       "</tbody>\n",
       "</table>\n"
      ],
      "text/latex": [
       "A data.frame: 6 × 85\n",
       "\\begin{tabular}{r|lllllllllllllllllllllllllllllllllllllllllllllllllllllllllllllllllllllllllllllllllllll}\n",
       " movie\\_id & budget & original\\_language & popularity & release\\_date & runtime & runtime\\_cat & revenue & sw\\_lang\\_en & sw\\_web\\_presence & sw\\_has\\_poster & sw\\_tagline & keyword\\_cnt & release\\_year & release\\_month & high\\_release\\_month & release\\_day & seasonality & sw\\_collection & producers\\_cnt & countries\\_cnt & lang\\_US & lang\\_FR & lang\\_RU & lang\\_ES & lang\\_JA & keywords\\_cnt & actor0\\_movies\\_cnt & actor0\\_movies\\_5y\\_cnt & actor1\\_movies\\_cnt & actor1\\_movies\\_5y\\_cnt & actor2\\_movies\\_cnt & actor2\\_movies\\_5y\\_cnt & sw\\_female\\_actor0 & sw\\_female\\_actor1 & sw\\_female\\_actor2 & sw\\_male\\_actor0 & sw\\_male\\_actor1 & sw\\_male\\_actor2 & actor0\\_prev\\_revenue & actor1\\_prev\\_revenue & actor2\\_prev\\_revenue & director\\_movies\\_cnt & director\\_movies\\_5y\\_cnt & genre\\_adventure & genre\\_fantasy & genre\\_animation & genre\\_drama & genre\\_horror & genre\\_action & genre\\_comedy & genre\\_history & genre\\_western & genre\\_thriller & genre\\_crime & genre\\_documentary & genre\\_science\\_fiction & genre\\_mystery & genre\\_music & genre\\_romance & genre\\_family & genre\\_war & genre\\_foreign & depart\\_Art & depart\\_Camera & depart\\_Crew & depart\\_Custom\\_Mkup & depart\\_Directing & depart\\_Editing & depart\\_Lighting & depart\\_Production & depart\\_Sound & depart\\_Visual\\_Effects & depart\\_Writing & depart\\_Art\\_female & depart\\_Camera\\_female & depart\\_Crew\\_female & depart\\_Custom\\_Mkup\\_female & depart\\_Directing\\_female & depart\\_Editing\\_female & depart\\_Lighting\\_female & depart\\_Production\\_female & depart\\_Sound\\_female & depart\\_Visual\\_Effects\\_female & depart\\_Writing\\_female\\\\\n",
       " <int> & <int> & <chr> & <dbl> & <chr> & <dbl> & <chr> & <int> & <int> & <int> & <int> & <int> & <int> & <int> & <int> & <int> & <int> & <int> & <int> & <int> & <int> & <int> & <int> & <int> & <int> & <int> & <int> & <int> & <int> & <int> & <int> & <int> & <int> & <int> & <int> & <int> & <int> & <int> & <int> & <int> & <int> & <int> & <int> & <int> & <int> & <int> & <int> & <int> & <int> & <int> & <int> & <int> & <int> & <int> & <int> & <int> & <int> & <int> & <int> & <int> & <int> & <int> & <int> & <int> & <int> & <int> & <int> & <int> & <int> & <int> & <int> & <int> & <int> & <int> & <int> & <int> & <int> & <int> & <int> & <int> & <int> & <int> & <int> & <int> & <int>\\\\\n",
       "\\hline\n",
       "\t 1 & 14000000 & en &  6.575393 & 2015-02-20 &  93 & Short  & 12314651 & 1 & 0 & 1 & 1 &  4 & 2015 &  2 & 0 & 20 & -15309317 & 0 &  3 & 1 & 1 & 0 & 0 & 0 & 0 &  4 & 18 & 11 & 13 &  4 &  8 & 6 & 0 & 0 & 0 & 1 & 1 & 1 & 116980662 & 219076518 & 121463226 & 3 & 2 & 0 & 0 & 0 & 0 & 0 & 0 & 1 & 0 & 0 & 0 & 0 & 0 & 0 & 0 & 0 & 0 & 0 & 0 & 0 & 12 & 8 & 4 & 13 & 4 & 2 & 4 &  9 & 10 & 4 & 2 & 0 & 0 & 0 & 0 & 0 & 0 & 0 & 0 & 0 & 0 & 0\\\\\n",
       "\t 2 & 40000000 & en &  8.248895 & 2004-08-06 & 113 & Medium & 95149435 & 1 & 0 & 1 & 1 &  4 & 2004 &  8 & 1 &  6 & -33273015 & 0 &  1 & 1 & 1 & 0 & 0 & 0 & 0 &  4 &  3 &  3 & 10 &  2 & 13 & 4 & 1 & 1 & 0 & 0 & 0 & 1 & 165335153 & 165335153 & 309457509 & 9 & 2 & 0 & 0 & 0 & 1 & 0 & 0 & 1 & 0 & 0 & 0 & 0 & 0 & 0 & 0 & 0 & 1 & 1 & 0 & 0 &  0 & 1 & 0 &  0 & 1 & 1 & 0 &  4 &  1 & 0 & 1 & 0 & 0 & 0 & 0 & 0 & 0 & 0 & 3 & 0 & 0 & 1\\\\\n",
       "\t 3 &  3300000 & en & 64.299990 & 2014-10-10 & 105 & Medium & 13092000 & 1 & 1 & 1 & 1 & 12 & 2014 & 10 & 1 & 10 & -28659422 & 0 &  3 & 1 & 1 & 0 & 0 & 0 & 0 & 12 &  7 &  7 & 34 & 11 &  0 & 0 & 0 & 0 & 1 & 1 & 1 & 0 &  48065672 & 231411584 &        NA & 0 & 0 & 0 & 0 & 0 & 1 & 0 & 0 & 0 & 0 & 0 & 0 & 0 & 0 & 0 & 0 & 0 & 0 & 0 & 0 & 0 &  5 & 4 & 9 &  5 & 3 & 6 & 1 & 18 &  9 & 3 & 1 & 1 & 0 & 1 & 0 & 0 & 0 & 0 & 2 & 0 & 0 & 0\\\\\n",
       "\t 4 &  1200000 & hi &  3.174936 & 2012-03-09 & 122 & Large  & 16000000 & 0 & 1 & 1 & 0 &  7 & 2012 &  3 & 0 &  9 &  -7149862 & 0 & NA & 1 & 1 & 0 & 0 & 0 & 0 &  7 &  2 &  1 &  2 &  2 &  0 & 0 & 1 & 0 & 0 & 0 & 1 & 0 &   4100000 &        NA &        NA & 0 & 0 & 0 & 0 & 0 & 1 & 0 & 0 & 0 & 0 & 0 & 1 & 0 & 0 & 0 & 0 & 0 & 0 & 0 & 0 & 0 &  0 & 0 & 0 &  0 & 1 & 0 & 0 &  1 &  0 & 0 & 1 & 0 & 0 & 0 & 0 & 0 & 0 & 0 & 0 & 0 & 0 & 0\\\\\n",
       "\t 5 &        0 & ko &  1.148070 & 2009-02-05 & 118 & Medium &  3923970 & 0 & 0 & 1 & 0 &  0 & 2009 &  2 & 0 &  5 & -15309317 & 0 & NA & 1 & 0 & 0 & 0 & 0 & 0 &  0 &  0 &  0 &  1 &  0 &  0 & 0 & 0 & 0 & 0 & 1 & 1 & 1 &        NA &        NA &        NA & 0 & 0 & 0 & 0 & 0 & 0 & 0 & 1 & 0 & 0 & 0 & 1 & 0 & 0 & 0 & 0 & 0 & 0 & 0 & 0 & 0 &  0 & 0 & 0 &  0 & 1 & 0 & 0 &  0 &  0 & 0 & 1 & 0 & 0 & 0 & 0 & 0 & 0 & 0 & 0 & 0 & 0 & 0\\\\\n",
       "\t 6 &  8000000 & en &  0.743274 & 1987-08-06 &  83 & Short  &  3261638 & 1 & 0 & 1 & 0 &  0 & 1987 &  8 & 1 &  6 & -33273015 & 0 & NA & 0 & 1 & 0 & 0 & 0 & 0 &  0 &  1 &  1 &  0 &  0 &  0 & 0 & 0 & 0 & 0 & 1 & 1 & 0 &        NA &        NA &        NA & 0 & 0 & 1 & 0 & 1 & 0 & 0 & 0 & 0 & 0 & 0 & 0 & 0 & 0 & 0 & 0 & 0 & 0 & 1 & 0 & 0 &  1 & 0 & 0 &  0 & 1 & 0 & 0 &  1 &  0 & 4 & 4 & 0 & 0 & 0 & 0 & 0 & 0 & 0 & 0 & 0 & 0 & 0\\\\\n",
       "\\end{tabular}\n"
      ],
      "text/markdown": [
       "\n",
       "A data.frame: 6 × 85\n",
       "\n",
       "| movie_id &lt;int&gt; | budget &lt;int&gt; | original_language &lt;chr&gt; | popularity &lt;dbl&gt; | release_date &lt;chr&gt; | runtime &lt;dbl&gt; | runtime_cat &lt;chr&gt; | revenue &lt;int&gt; | sw_lang_en &lt;int&gt; | sw_web_presence &lt;int&gt; | ... ... | depart_Camera_female &lt;int&gt; | depart_Crew_female &lt;int&gt; | depart_Custom_Mkup_female &lt;int&gt; | depart_Directing_female &lt;int&gt; | depart_Editing_female &lt;int&gt; | depart_Lighting_female &lt;int&gt; | depart_Production_female &lt;int&gt; | depart_Sound_female &lt;int&gt; | depart_Visual_Effects_female &lt;int&gt; | depart_Writing_female &lt;int&gt; |\n",
       "|---|---|---|---|---|---|---|---|---|---|---|---|---|---|---|---|---|---|---|---|---|\n",
       "| 1 | 14000000 | en |  6.575393 | 2015-02-20 |  93 | Short  | 12314651 | 1 | 0 | ... | 0 | 0 | 0 | 0 | 0 | 0 | 0 | 0 | 0 | 0 |\n",
       "| 2 | 40000000 | en |  8.248895 | 2004-08-06 | 113 | Medium | 95149435 | 1 | 0 | ... | 0 | 0 | 0 | 0 | 0 | 0 | 3 | 0 | 0 | 1 |\n",
       "| 3 |  3300000 | en | 64.299990 | 2014-10-10 | 105 | Medium | 13092000 | 1 | 1 | ... | 0 | 1 | 0 | 0 | 0 | 0 | 2 | 0 | 0 | 0 |\n",
       "| 4 |  1200000 | hi |  3.174936 | 2012-03-09 | 122 | Large  | 16000000 | 0 | 1 | ... | 0 | 0 | 0 | 0 | 0 | 0 | 0 | 0 | 0 | 0 |\n",
       "| 5 |        0 | ko |  1.148070 | 2009-02-05 | 118 | Medium |  3923970 | 0 | 0 | ... | 0 | 0 | 0 | 0 | 0 | 0 | 0 | 0 | 0 | 0 |\n",
       "| 6 |  8000000 | en |  0.743274 | 1987-08-06 |  83 | Short  |  3261638 | 1 | 0 | ... | 0 | 0 | 0 | 0 | 0 | 0 | 0 | 0 | 0 | 0 |\n",
       "\n"
      ],
      "text/plain": [
       "  movie_id budget   original_language popularity release_date runtime\n",
       "1 1        14000000 en                 6.575393  2015-02-20    93    \n",
       "2 2        40000000 en                 8.248895  2004-08-06   113    \n",
       "3 3         3300000 en                64.299990  2014-10-10   105    \n",
       "4 4         1200000 hi                 3.174936  2012-03-09   122    \n",
       "5 5               0 ko                 1.148070  2009-02-05   118    \n",
       "6 6         8000000 en                 0.743274  1987-08-06    83    \n",
       "  runtime_cat revenue  sw_lang_en sw_web_presence ... depart_Camera_female\n",
       "1 Short       12314651 1          0               ... 0                   \n",
       "2 Medium      95149435 1          0               ... 0                   \n",
       "3 Medium      13092000 1          1               ... 0                   \n",
       "4 Large       16000000 0          1               ... 0                   \n",
       "5 Medium       3923970 0          0               ... 0                   \n",
       "6 Short        3261638 1          0               ... 0                   \n",
       "  depart_Crew_female depart_Custom_Mkup_female depart_Directing_female\n",
       "1 0                  0                         0                      \n",
       "2 0                  0                         0                      \n",
       "3 1                  0                         0                      \n",
       "4 0                  0                         0                      \n",
       "5 0                  0                         0                      \n",
       "6 0                  0                         0                      \n",
       "  depart_Editing_female depart_Lighting_female depart_Production_female\n",
       "1 0                     0                      0                       \n",
       "2 0                     0                      3                       \n",
       "3 0                     0                      2                       \n",
       "4 0                     0                      0                       \n",
       "5 0                     0                      0                       \n",
       "6 0                     0                      0                       \n",
       "  depart_Sound_female depart_Visual_Effects_female depart_Writing_female\n",
       "1 0                   0                            0                    \n",
       "2 0                   0                            1                    \n",
       "3 0                   0                            0                    \n",
       "4 0                   0                            0                    \n",
       "5 0                   0                            0                    \n",
       "6 0                   0                            0                    "
      ]
     },
     "metadata": {},
     "output_type": "display_data"
    }
   ],
   "source": [
    "head(ff)"
   ]
  },
  {
   "cell_type": "code",
   "execution_count": 75,
   "metadata": {},
   "outputs": [],
   "source": [
    "keeps <- c('movie_id', 'budget', 'original_language', 'popularity', 'release_date', 'runtime', 'runtime_cat', 'revenue', 'sw_lang_en', 'sw_web_presence', 'sw_tagline', 'keyword_cnt', 'release_year', 'release_month', 'high_release_month', 'release_day', 'seasonality', 'sw_collection', 'producers_cnt', 'countries_cnt', 'lang_US', 'lang_FR', 'lang_RU', 'lang_ES', 'lang_JA', 'keywords_cnt', 'actor0_movies_cnt', 'actor0_movies_5y_cnt', 'actor1_movies_cnt', 'actor1_movies_5y_cnt', 'actor2_movies_cnt', 'actor2_movies_5y_cnt', 'sw_female_actor0', 'sw_female_actor1', 'sw_female_actor2', 'sw_male_actor0', 'sw_male_actor1', 'sw_male_actor2', 'actor0_prev_revenue', 'actor1_prev_revenue', 'actor2_prev_revenue', 'director_movies_cnt', 'director_movies_5y_cnt', 'genre_adventure', 'genre_fantasy', 'genre_animation', 'genre_drama', 'genre_horror', 'genre_action', 'genre_comedy', 'genre_history', 'genre_western', 'genre_thriller', 'genre_crime', 'genre_documentary', 'genre_science_fiction', 'genre_mystery', 'genre_music', 'genre_romance', 'genre_family', 'genre_war', 'genre_foreign', 'depart_Art', 'depart_Camera', 'depart_Crew', 'depart_Custom_Mkup', 'depart_Directing', 'depart_Editing', 'depart_Lighting', 'depart_Production', 'depart_Sound', 'depart_Visual_Effects', 'depart_Writing' )\n",
    "fixdata <- ff[keeps]"
   ]
  },
  {
   "cell_type": "markdown",
   "metadata": {},
   "source": [
    "# part 2 "
   ]
  },
  {
   "cell_type": "code",
   "execution_count": 74,
   "metadata": {},
   "outputs": [
    {
     "data": {
      "text/plain": [
       "    movie_id        budget          original_language    popularity     \n",
       " Min.   :   1   Min.   :        0   Length:7375        Min.   :  0.000  \n",
       " 1st Qu.:1848   1st Qu.:        0   Class :character   1st Qu.:  3.970  \n",
       " Median :3696   Median :  8000000   Mode  :character   Median :  7.456  \n",
       " Mean   :3698   Mean   : 22666657                      Mean   :  8.540  \n",
       " 3rd Qu.:5550   3rd Qu.: 29000000                      3rd Qu.: 10.932  \n",
       " Max.   :7398   Max.   :380000000                      Max.   :547.488  \n",
       "                                                                        \n",
       " release_date          runtime      runtime_cat           revenue         \n",
       " Length:7375        Min.   :  0.0   Length:7375        Min.   :1.000e+00  \n",
       " Class :character   1st Qu.: 94.0   Class :character   1st Qu.:2.405e+06  \n",
       " Mode  :character   Median :104.0   Mode  :character   Median :1.693e+07  \n",
       "                    Mean   :107.7                      Mean   :6.688e+07  \n",
       "                    3rd Qu.:118.0                      3rd Qu.:6.906e+07  \n",
       "                    Max.   :338.0                      Max.   :1.520e+09  \n",
       "                    NA's   :5                          NA's   :4382       \n",
       "   sw_lang_en     sw_web_presence  sw_has_poster      sw_tagline    \n",
       " Min.   :0.0000   Min.   :0.0000   Min.   :0.0000   Min.   :0.0000  \n",
       " 1st Qu.:1.0000   1st Qu.:0.0000   1st Qu.:1.0000   1st Qu.:1.0000  \n",
       " Median :1.0000   Median :0.0000   Median :1.0000   Median :1.0000  \n",
       " Mean   :0.8591   Mean   :0.3204   Mean   :0.9997   Mean   :0.8045  \n",
       " 3rd Qu.:1.0000   3rd Qu.:1.0000   3rd Qu.:1.0000   3rd Qu.:1.0000  \n",
       " Max.   :1.0000   Max.   :1.0000   Max.   :1.0000   Max.   :1.0000  \n",
       "                                                                    \n",
       "  keyword_cnt       release_year  release_month    high_release_month\n",
       " Min.   :  0.000   Min.   :1918   Min.   : 1.000   Min.   :0.0000    \n",
       " 1st Qu.:  3.000   1st Qu.:1992   1st Qu.: 4.000   1st Qu.:0.0000    \n",
       " Median :  6.000   Median :2004   Median : 7.000   Median :0.0000    \n",
       " Mean   :  7.265   Mean   :2000   Mean   : 6.844   Mean   :0.3997    \n",
       " 3rd Qu.: 10.000   3rd Qu.:2011   3rd Qu.:10.000   3rd Qu.:1.0000    \n",
       " Max.   :149.000   Max.   :2017   Max.   :12.000   Max.   :1.0000    \n",
       "                   NA's   :1      NA's   :1                          \n",
       "  release_day     seasonality        sw_collection     producers_cnt   \n",
       " Min.   : 1.00   Min.   :-50746591   Min.   :0.00000   Min.   : 1.000  \n",
       " 1st Qu.: 8.00   1st Qu.:-33273015   1st Qu.:0.00000   1st Qu.: 1.000  \n",
       " Median :15.00   Median :-15309317   Median :0.00000   Median : 2.000  \n",
       " Mean   :15.25   Mean   : -1337484   Mean   :0.02942   Mean   : 2.908  \n",
       " 3rd Qu.:22.00   3rd Qu.: 32322910   3rd Qu.:0.00000   3rd Qu.: 4.000  \n",
       " Max.   :31.00   Max.   : 74205073   Max.   :2.00000   Max.   :26.000  \n",
       " NA's   :1       NA's   :1                             NA's   :395     \n",
       " countries_cnt       lang_US          lang_FR           lang_RU       \n",
       " Min.   : 0.000   Min.   :0.0000   Min.   :0.00000   Min.   :0.00000  \n",
       " 1st Qu.: 1.000   1st Qu.:1.0000   1st Qu.:0.00000   1st Qu.:0.00000  \n",
       " Median : 1.000   Median :1.0000   Median :0.00000   Median :0.00000  \n",
       " Mean   : 1.335   Mean   :0.8735   Mean   :0.09641   Mean   :0.04854  \n",
       " 3rd Qu.: 1.000   3rd Qu.:1.0000   3rd Qu.:0.00000   3rd Qu.:0.00000  \n",
       " Max.   :12.000   Max.   :1.0000   Max.   :1.00000   Max.   :1.00000  \n",
       "                                                                      \n",
       "    lang_ES          lang_JA         keywords_cnt     actor0_movies_cnt\n",
       " Min.   :0.0000   Min.   :0.00000   Min.   :  0.000   Min.   : 0.00    \n",
       " 1st Qu.:0.0000   1st Qu.:0.00000   1st Qu.:  3.000   1st Qu.: 0.00    \n",
       " Median :0.0000   Median :0.00000   Median :  6.000   Median : 4.00    \n",
       " Mean   :0.0758   Mean   :0.02766   Mean   :  7.265   Mean   : 7.19    \n",
       " 3rd Qu.:0.0000   3rd Qu.:0.00000   3rd Qu.: 10.000   3rd Qu.:11.00    \n",
       " Max.   :1.0000   Max.   :1.00000   Max.   :149.000   Max.   :65.00    \n",
       "                                                                       \n",
       " actor0_movies_5y_cnt actor1_movies_cnt actor1_movies_5y_cnt actor2_movies_cnt\n",
       " Min.   : 0.000       Min.   : 0.000    Min.   : 0.000       Min.   : 0.000   \n",
       " 1st Qu.: 0.000       1st Qu.: 0.000    1st Qu.: 0.000       1st Qu.: 0.000   \n",
       " Median : 2.000       Median : 2.000    Median : 1.000       Median : 2.000   \n",
       " Mean   : 2.769       Mean   : 5.405    Mean   : 2.261       Mean   : 4.773   \n",
       " 3rd Qu.: 5.000       3rd Qu.: 8.000    3rd Qu.: 4.000       3rd Qu.: 7.000   \n",
       " Max.   :16.000       Max.   :67.000    Max.   :17.000       Max.   :68.000   \n",
       "                                                                              \n",
       " actor2_movies_5y_cnt sw_female_actor0 sw_female_actor1 sw_female_actor2\n",
       " Min.   : 0.000       Min.   :0.0000   Min.   :0.0000   Min.   :0.0000  \n",
       " 1st Qu.: 0.000       1st Qu.:0.0000   1st Qu.:0.0000   1st Qu.:0.0000  \n",
       " Median : 1.000       Median :0.0000   Median :0.0000   Median :0.0000  \n",
       " Mean   : 1.915       Mean   :0.2333   Mean   :0.3792   Mean   :0.3379  \n",
       " 3rd Qu.: 3.000       3rd Qu.:0.0000   3rd Qu.:1.0000   3rd Qu.:1.0000  \n",
       " Max.   :15.000       Max.   :1.0000   Max.   :1.0000   Max.   :1.0000  \n",
       "                      NA's   :934      NA's   :782      NA's   :788     \n",
       " sw_male_actor0   sw_male_actor1   sw_male_actor2   actor0_prev_revenue\n",
       " Min.   :0.0000   Min.   :0.0000   Min.   :0.0000   Min.   :1.000e+00  \n",
       " 1st Qu.:0.0000   1st Qu.:0.0000   1st Qu.:0.0000   1st Qu.:4.426e+07  \n",
       " Median :1.0000   Median :1.0000   Median :1.0000   Median :1.515e+08  \n",
       " Mean   :0.6941   Mean   :0.5171   Mean   :0.5436   Mean   :2.233e+08  \n",
       " 3rd Qu.:1.0000   3rd Qu.:1.0000   3rd Qu.:1.0000   3rd Qu.:3.113e+08  \n",
       " Max.   :1.0000   Max.   :1.0000   Max.   :1.0000   Max.   :1.520e+09  \n",
       " NA's   :934      NA's   :782      NA's   :788      NA's   :2752       \n",
       " actor1_prev_revenue actor2_prev_revenue director_movies_cnt\n",
       " Min.   :1.000e+00   Min.   :1.000e+00   Min.   : 0.000     \n",
       " 1st Qu.:3.511e+07   1st Qu.:3.086e+07   1st Qu.: 0.000     \n",
       " Median :1.256e+08   Median :1.109e+08   Median : 1.000     \n",
       " Mean   :2.052e+08   Mean   :1.957e+08   Mean   : 1.952     \n",
       " 3rd Qu.:2.684e+08   3rd Qu.:2.506e+08   3rd Qu.: 3.000     \n",
       " Max.   :1.520e+09   Max.   :1.520e+09   Max.   :29.000     \n",
       " NA's   :3201        NA's   :3423                           \n",
       " director_movies_5y_cnt genre_adventure  genre_fantasy     genre_animation \n",
       " Min.   :0.0000         Min.   :0.0000   Min.   :0.00000   Min.   :0.0000  \n",
       " 1st Qu.:0.0000         1st Qu.:0.0000   1st Qu.:0.00000   1st Qu.:0.0000  \n",
       " Median :0.0000         Median :0.0000   Median :0.00000   Median :0.0000  \n",
       " Mean   :0.6496         Mean   :0.1513   Mean   :0.08515   Mean   :0.0518  \n",
       " 3rd Qu.:1.0000         3rd Qu.:0.0000   3rd Qu.:0.00000   3rd Qu.:0.0000  \n",
       " Max.   :6.0000         Max.   :1.0000   Max.   :1.00000   Max.   :1.0000  \n",
       "                                                                           \n",
       "  genre_drama      genre_horror      genre_action     genre_comedy   \n",
       " Min.   :0.0000   Min.   :0.00000   Min.   :0.0000   Min.   :0.0000  \n",
       " 1st Qu.:0.0000   1st Qu.:0.00000   1st Qu.:0.0000   1st Qu.:0.0000  \n",
       " Median :0.0000   Median :0.00000   Median :0.0000   Median :0.0000  \n",
       " Mean   :0.4984   Mean   :0.09966   Mean   :0.2353   Mean   :0.3532  \n",
       " 3rd Qu.:1.0000   3rd Qu.:0.00000   3rd Qu.:0.0000   3rd Qu.:1.0000  \n",
       " Max.   :1.0000   Max.   :1.00000   Max.   :1.0000   Max.   :1.0000  \n",
       "                                                                     \n",
       " genre_history  genre_western     genre_thriller    genre_crime   \n",
       " Min.   :0.00   Min.   :0.00000   Min.   :0.0000   Min.   :0.000  \n",
       " 1st Qu.:0.00   1st Qu.:0.00000   1st Qu.:0.0000   1st Qu.:0.000  \n",
       " Median :0.00   Median :0.00000   Median :0.0000   Median :0.000  \n",
       " Mean   :0.04   Mean   :0.01586   Mean   :0.2534   Mean   :0.147  \n",
       " 3rd Qu.:0.00   3rd Qu.:0.00000   3rd Qu.:1.0000   3rd Qu.:0.000  \n",
       " Max.   :1.00   Max.   :1.00000   Max.   :1.0000   Max.   :1.000  \n",
       "                                                                  \n",
       " genre_documentary genre_science_fiction genre_mystery      genre_music    \n",
       " Min.   :0.00000   Min.   :0.0000        Min.   :0.00000   Min.   :0.0000  \n",
       " 1st Qu.:0.00000   1st Qu.:0.0000        1st Qu.:0.00000   1st Qu.:0.0000  \n",
       " Median :0.00000   Median :0.0000        Median :0.00000   Median :0.0000  \n",
       " Mean   :0.02997   Mean   :0.1009        Mean   :0.07458   Mean   :0.0362  \n",
       " 3rd Qu.:0.00000   3rd Qu.:0.0000        3rd Qu.:0.00000   3rd Qu.:0.0000  \n",
       " Max.   :1.00000   Max.   :1.0000        Max.   :1.00000   Max.   :1.0000  \n",
       "                                                                           \n",
       " genre_romance     genre_family       genre_war       genre_foreign    \n",
       " Min.   :0.0000   Min.   :0.00000   Min.   :0.00000   Min.   :0.00000  \n",
       " 1st Qu.:0.0000   1st Qu.:0.00000   1st Qu.:0.00000   1st Qu.:0.00000  \n",
       " Median :0.0000   Median :0.00000   Median :0.00000   Median :0.00000  \n",
       " Mean   :0.1946   Mean   :0.09153   Mean   :0.03295   Mean   :0.01139  \n",
       " 3rd Qu.:0.0000   3rd Qu.:0.00000   3rd Qu.:0.00000   3rd Qu.:0.00000  \n",
       " Max.   :1.0000   Max.   :1.00000   Max.   :1.00000   Max.   :1.00000  \n",
       "                                                                       \n",
       "   depart_Art     depart_Camera     depart_Crew      depart_Custom_Mkup\n",
       " Min.   : 0.000   Min.   : 0.000   Min.   :  0.000   Min.   : 0.000    \n",
       " 1st Qu.: 0.000   1st Qu.: 0.000   1st Qu.:  0.000   1st Qu.: 0.000    \n",
       " Median : 1.000   Median : 1.000   Median :  0.000   Median : 1.000    \n",
       " Mean   : 2.707   Mean   : 1.802   Mean   :  2.388   Mean   : 2.074    \n",
       " 3rd Qu.: 3.000   3rd Qu.: 2.000   3rd Qu.:  2.000   3rd Qu.: 2.000    \n",
       " Max.   :36.000   Max.   :24.000   Max.   :119.000   Max.   :33.000    \n",
       " NA's   :34       NA's   :34       NA's   :34        NA's   :34        \n",
       " depart_Directing depart_Editing   depart_Lighting   depart_Production\n",
       " Min.   : 0.000   Min.   : 0.000   Min.   : 0.0000   Min.   : 0.000   \n",
       " 1st Qu.: 1.000   1st Qu.: 0.000   1st Qu.: 0.0000   1st Qu.: 1.000   \n",
       " Median : 1.000   Median : 1.000   Median : 0.0000   Median : 4.000   \n",
       " Mean   : 1.665   Mean   : 1.516   Mean   : 0.4262   Mean   : 5.301   \n",
       " 3rd Qu.: 2.000   3rd Qu.: 2.000   3rd Qu.: 0.0000   3rd Qu.: 8.000   \n",
       " Max.   :30.000   Max.   :21.000   Max.   :18.0000   Max.   :38.000   \n",
       " NA's   :34       NA's   :34       NA's   :34        NA's   :34       \n",
       "  depart_Sound    depart_Visual_Effects depart_Writing   depart_Art_female\n",
       " Min.   : 0.000   Min.   : 0.00         Min.   : 0.000   Min.   :0.0000   \n",
       " 1st Qu.: 1.000   1st Qu.: 0.00         1st Qu.: 1.000   1st Qu.:0.0000   \n",
       " Median : 1.000   Median : 0.00         Median : 2.000   Median :0.0000   \n",
       " Mean   : 3.064   Mean   : 1.29         Mean   : 2.222   Mean   :0.2351   \n",
       " 3rd Qu.: 3.000   3rd Qu.: 0.00         3rd Qu.: 3.000   3rd Qu.:0.0000   \n",
       " Max.   :40.000   Max.   :89.00         Max.   :23.000   Max.   :7.0000   \n",
       " NA's   :34       NA's   :34            NA's   :34       NA's   :34       \n",
       " depart_Camera_female depart_Crew_female depart_Custom_Mkup_female\n",
       " Min.   :0.00000      Min.   : 0.00000   Min.   :0.0000           \n",
       " 1st Qu.:0.00000      1st Qu.: 0.00000   1st Qu.:0.0000           \n",
       " Median :0.00000      Median : 0.00000   Median :0.0000           \n",
       " Mean   :0.02043      Mean   : 0.06443   Mean   :0.3535           \n",
       " 3rd Qu.:0.00000      3rd Qu.: 0.00000   3rd Qu.:1.0000           \n",
       " Max.   :3.00000      Max.   :10.00000   Max.   :6.0000           \n",
       " NA's   :34           NA's   :34         NA's   :34               \n",
       " depart_Directing_female depart_Editing_female depart_Lighting_female\n",
       " Min.   :0.0000          Min.   :0.0000        Min.   :0.00000       \n",
       " 1st Qu.:0.0000          1st Qu.:0.0000        1st Qu.:0.00000       \n",
       " Median :0.0000          Median :0.0000        Median :0.00000       \n",
       " Mean   :0.1535          Mean   :0.1216        Mean   :0.00068       \n",
       " 3rd Qu.:0.0000          3rd Qu.:0.0000        3rd Qu.:0.00000       \n",
       " Max.   :4.0000          Max.   :5.0000        Max.   :1.00000       \n",
       " NA's   :34              NA's   :34            NA's   :34            \n",
       " depart_Production_female depart_Sound_female depart_Visual_Effects_female\n",
       " Min.   : 0.0000          Min.   :0.00000     Min.   :0.00000             \n",
       " 1st Qu.: 0.0000          1st Qu.:0.00000     1st Qu.:0.00000             \n",
       " Median : 0.0000          Median :0.00000     Median :0.00000             \n",
       " Mean   : 0.9396          Mean   :0.07914     Mean   :0.00845             \n",
       " 3rd Qu.: 2.0000          3rd Qu.:0.00000     3rd Qu.:0.00000             \n",
       " Max.   :12.0000          Max.   :6.00000     Max.   :2.00000             \n",
       " NA's   :34               NA's   :34          NA's   :34                  \n",
       " depart_Writing_female\n",
       " Min.   :0.0000       \n",
       " 1st Qu.:0.0000       \n",
       " Median :0.0000       \n",
       " Mean   :0.1242       \n",
       " 3rd Qu.:0.0000       \n",
       " Max.   :5.0000       \n",
       " NA's   :34           "
      ]
     },
     "metadata": {},
     "output_type": "display_data"
    }
   ],
   "source": [
    "summary(ff)"
   ]
  },
  {
   "cell_type": "code",
   "execution_count": 76,
   "metadata": {},
   "outputs": [
    {
     "data": {
      "text/plain": [
       "    movie_id        budget          original_language    popularity     \n",
       " Min.   :   1   Min.   :        0   Length:7375        Min.   :  0.000  \n",
       " 1st Qu.:1848   1st Qu.:        0   Class :character   1st Qu.:  3.970  \n",
       " Median :3696   Median :  8000000   Mode  :character   Median :  7.456  \n",
       " Mean   :3698   Mean   : 22666657                      Mean   :  8.540  \n",
       " 3rd Qu.:5550   3rd Qu.: 29000000                      3rd Qu.: 10.932  \n",
       " Max.   :7398   Max.   :380000000                      Max.   :547.488  \n",
       "                                                                        \n",
       " release_date          runtime      runtime_cat           revenue         \n",
       " Length:7375        Min.   :  0.0   Length:7375        Min.   :1.000e+00  \n",
       " Class :character   1st Qu.: 94.0   Class :character   1st Qu.:2.405e+06  \n",
       " Mode  :character   Median :104.0   Mode  :character   Median :1.693e+07  \n",
       "                    Mean   :107.7                      Mean   :6.688e+07  \n",
       "                    3rd Qu.:118.0                      3rd Qu.:6.906e+07  \n",
       "                    Max.   :338.0                      Max.   :1.520e+09  \n",
       "                    NA's   :5                          NA's   :4382       \n",
       "   sw_lang_en     sw_web_presence    sw_tagline      keyword_cnt     \n",
       " Min.   :0.0000   Min.   :0.0000   Min.   :0.0000   Min.   :  0.000  \n",
       " 1st Qu.:1.0000   1st Qu.:0.0000   1st Qu.:1.0000   1st Qu.:  3.000  \n",
       " Median :1.0000   Median :0.0000   Median :1.0000   Median :  6.000  \n",
       " Mean   :0.8591   Mean   :0.3204   Mean   :0.8045   Mean   :  7.265  \n",
       " 3rd Qu.:1.0000   3rd Qu.:1.0000   3rd Qu.:1.0000   3rd Qu.: 10.000  \n",
       " Max.   :1.0000   Max.   :1.0000   Max.   :1.0000   Max.   :149.000  \n",
       "                                                                     \n",
       "  release_year  release_month    high_release_month  release_day   \n",
       " Min.   :1918   Min.   : 1.000   Min.   :0.0000     Min.   : 1.00  \n",
       " 1st Qu.:1992   1st Qu.: 4.000   1st Qu.:0.0000     1st Qu.: 8.00  \n",
       " Median :2004   Median : 7.000   Median :0.0000     Median :15.00  \n",
       " Mean   :2000   Mean   : 6.844   Mean   :0.3997     Mean   :15.25  \n",
       " 3rd Qu.:2011   3rd Qu.:10.000   3rd Qu.:1.0000     3rd Qu.:22.00  \n",
       " Max.   :2017   Max.   :12.000   Max.   :1.0000     Max.   :31.00  \n",
       " NA's   :1      NA's   :1                           NA's   :1      \n",
       "  seasonality        sw_collection     producers_cnt    countries_cnt   \n",
       " Min.   :-50746591   Min.   :0.00000   Min.   : 1.000   Min.   : 0.000  \n",
       " 1st Qu.:-33273015   1st Qu.:0.00000   1st Qu.: 1.000   1st Qu.: 1.000  \n",
       " Median :-15309317   Median :0.00000   Median : 2.000   Median : 1.000  \n",
       " Mean   : -1337484   Mean   :0.02942   Mean   : 2.908   Mean   : 1.335  \n",
       " 3rd Qu.: 32322910   3rd Qu.:0.00000   3rd Qu.: 4.000   3rd Qu.: 1.000  \n",
       " Max.   : 74205073   Max.   :2.00000   Max.   :26.000   Max.   :12.000  \n",
       " NA's   :1                             NA's   :395                      \n",
       "    lang_US          lang_FR           lang_RU           lang_ES      \n",
       " Min.   :0.0000   Min.   :0.00000   Min.   :0.00000   Min.   :0.0000  \n",
       " 1st Qu.:1.0000   1st Qu.:0.00000   1st Qu.:0.00000   1st Qu.:0.0000  \n",
       " Median :1.0000   Median :0.00000   Median :0.00000   Median :0.0000  \n",
       " Mean   :0.8735   Mean   :0.09641   Mean   :0.04854   Mean   :0.0758  \n",
       " 3rd Qu.:1.0000   3rd Qu.:0.00000   3rd Qu.:0.00000   3rd Qu.:0.0000  \n",
       " Max.   :1.0000   Max.   :1.00000   Max.   :1.00000   Max.   :1.0000  \n",
       "                                                                      \n",
       "    lang_JA         keywords_cnt     actor0_movies_cnt actor0_movies_5y_cnt\n",
       " Min.   :0.00000   Min.   :  0.000   Min.   : 0.00     Min.   : 0.000      \n",
       " 1st Qu.:0.00000   1st Qu.:  3.000   1st Qu.: 0.00     1st Qu.: 0.000      \n",
       " Median :0.00000   Median :  6.000   Median : 4.00     Median : 2.000      \n",
       " Mean   :0.02766   Mean   :  7.265   Mean   : 7.19     Mean   : 2.769      \n",
       " 3rd Qu.:0.00000   3rd Qu.: 10.000   3rd Qu.:11.00     3rd Qu.: 5.000      \n",
       " Max.   :1.00000   Max.   :149.000   Max.   :65.00     Max.   :16.000      \n",
       "                                                                           \n",
       " actor1_movies_cnt actor1_movies_5y_cnt actor2_movies_cnt actor2_movies_5y_cnt\n",
       " Min.   : 0.000    Min.   : 0.000       Min.   : 0.000    Min.   : 0.000      \n",
       " 1st Qu.: 0.000    1st Qu.: 0.000       1st Qu.: 0.000    1st Qu.: 0.000      \n",
       " Median : 2.000    Median : 1.000       Median : 2.000    Median : 1.000      \n",
       " Mean   : 5.405    Mean   : 2.261       Mean   : 4.773    Mean   : 1.915      \n",
       " 3rd Qu.: 8.000    3rd Qu.: 4.000       3rd Qu.: 7.000    3rd Qu.: 3.000      \n",
       " Max.   :67.000    Max.   :17.000       Max.   :68.000    Max.   :15.000      \n",
       "                                                                              \n",
       " sw_female_actor0 sw_female_actor1 sw_female_actor2 sw_male_actor0  \n",
       " Min.   :0.0000   Min.   :0.0000   Min.   :0.0000   Min.   :0.0000  \n",
       " 1st Qu.:0.0000   1st Qu.:0.0000   1st Qu.:0.0000   1st Qu.:0.0000  \n",
       " Median :0.0000   Median :0.0000   Median :0.0000   Median :1.0000  \n",
       " Mean   :0.2333   Mean   :0.3792   Mean   :0.3379   Mean   :0.6941  \n",
       " 3rd Qu.:0.0000   3rd Qu.:1.0000   3rd Qu.:1.0000   3rd Qu.:1.0000  \n",
       " Max.   :1.0000   Max.   :1.0000   Max.   :1.0000   Max.   :1.0000  \n",
       " NA's   :934      NA's   :782      NA's   :788      NA's   :934     \n",
       " sw_male_actor1   sw_male_actor2   actor0_prev_revenue actor1_prev_revenue\n",
       " Min.   :0.0000   Min.   :0.0000   Min.   :1.000e+00   Min.   :1.000e+00  \n",
       " 1st Qu.:0.0000   1st Qu.:0.0000   1st Qu.:4.426e+07   1st Qu.:3.511e+07  \n",
       " Median :1.0000   Median :1.0000   Median :1.515e+08   Median :1.256e+08  \n",
       " Mean   :0.5171   Mean   :0.5436   Mean   :2.233e+08   Mean   :2.052e+08  \n",
       " 3rd Qu.:1.0000   3rd Qu.:1.0000   3rd Qu.:3.113e+08   3rd Qu.:2.684e+08  \n",
       " Max.   :1.0000   Max.   :1.0000   Max.   :1.520e+09   Max.   :1.520e+09  \n",
       " NA's   :782      NA's   :788      NA's   :2752        NA's   :3201       \n",
       " actor2_prev_revenue director_movies_cnt director_movies_5y_cnt\n",
       " Min.   :1.000e+00   Min.   : 0.000      Min.   :0.0000        \n",
       " 1st Qu.:3.086e+07   1st Qu.: 0.000      1st Qu.:0.0000        \n",
       " Median :1.109e+08   Median : 1.000      Median :0.0000        \n",
       " Mean   :1.957e+08   Mean   : 1.952      Mean   :0.6496        \n",
       " 3rd Qu.:2.506e+08   3rd Qu.: 3.000      3rd Qu.:1.0000        \n",
       " Max.   :1.520e+09   Max.   :29.000      Max.   :6.0000        \n",
       " NA's   :3423                                                  \n",
       " genre_adventure  genre_fantasy     genre_animation   genre_drama    \n",
       " Min.   :0.0000   Min.   :0.00000   Min.   :0.0000   Min.   :0.0000  \n",
       " 1st Qu.:0.0000   1st Qu.:0.00000   1st Qu.:0.0000   1st Qu.:0.0000  \n",
       " Median :0.0000   Median :0.00000   Median :0.0000   Median :0.0000  \n",
       " Mean   :0.1513   Mean   :0.08515   Mean   :0.0518   Mean   :0.4984  \n",
       " 3rd Qu.:0.0000   3rd Qu.:0.00000   3rd Qu.:0.0000   3rd Qu.:1.0000  \n",
       " Max.   :1.0000   Max.   :1.00000   Max.   :1.0000   Max.   :1.0000  \n",
       "                                                                     \n",
       "  genre_horror      genre_action     genre_comedy    genre_history \n",
       " Min.   :0.00000   Min.   :0.0000   Min.   :0.0000   Min.   :0.00  \n",
       " 1st Qu.:0.00000   1st Qu.:0.0000   1st Qu.:0.0000   1st Qu.:0.00  \n",
       " Median :0.00000   Median :0.0000   Median :0.0000   Median :0.00  \n",
       " Mean   :0.09966   Mean   :0.2353   Mean   :0.3532   Mean   :0.04  \n",
       " 3rd Qu.:0.00000   3rd Qu.:0.0000   3rd Qu.:1.0000   3rd Qu.:0.00  \n",
       " Max.   :1.00000   Max.   :1.0000   Max.   :1.0000   Max.   :1.00  \n",
       "                                                                   \n",
       " genre_western     genre_thriller    genre_crime    genre_documentary\n",
       " Min.   :0.00000   Min.   :0.0000   Min.   :0.000   Min.   :0.00000  \n",
       " 1st Qu.:0.00000   1st Qu.:0.0000   1st Qu.:0.000   1st Qu.:0.00000  \n",
       " Median :0.00000   Median :0.0000   Median :0.000   Median :0.00000  \n",
       " Mean   :0.01586   Mean   :0.2534   Mean   :0.147   Mean   :0.02997  \n",
       " 3rd Qu.:0.00000   3rd Qu.:1.0000   3rd Qu.:0.000   3rd Qu.:0.00000  \n",
       " Max.   :1.00000   Max.   :1.0000   Max.   :1.000   Max.   :1.00000  \n",
       "                                                                     \n",
       " genre_science_fiction genre_mystery      genre_music     genre_romance   \n",
       " Min.   :0.0000        Min.   :0.00000   Min.   :0.0000   Min.   :0.0000  \n",
       " 1st Qu.:0.0000        1st Qu.:0.00000   1st Qu.:0.0000   1st Qu.:0.0000  \n",
       " Median :0.0000        Median :0.00000   Median :0.0000   Median :0.0000  \n",
       " Mean   :0.1009        Mean   :0.07458   Mean   :0.0362   Mean   :0.1946  \n",
       " 3rd Qu.:0.0000        3rd Qu.:0.00000   3rd Qu.:0.0000   3rd Qu.:0.0000  \n",
       " Max.   :1.0000        Max.   :1.00000   Max.   :1.0000   Max.   :1.0000  \n",
       "                                                                          \n",
       "  genre_family       genre_war       genre_foreign       depart_Art    \n",
       " Min.   :0.00000   Min.   :0.00000   Min.   :0.00000   Min.   : 0.000  \n",
       " 1st Qu.:0.00000   1st Qu.:0.00000   1st Qu.:0.00000   1st Qu.: 0.000  \n",
       " Median :0.00000   Median :0.00000   Median :0.00000   Median : 1.000  \n",
       " Mean   :0.09153   Mean   :0.03295   Mean   :0.01139   Mean   : 2.707  \n",
       " 3rd Qu.:0.00000   3rd Qu.:0.00000   3rd Qu.:0.00000   3rd Qu.: 3.000  \n",
       " Max.   :1.00000   Max.   :1.00000   Max.   :1.00000   Max.   :36.000  \n",
       "                                                       NA's   :34      \n",
       " depart_Camera     depart_Crew      depart_Custom_Mkup depart_Directing\n",
       " Min.   : 0.000   Min.   :  0.000   Min.   : 0.000     Min.   : 0.000  \n",
       " 1st Qu.: 0.000   1st Qu.:  0.000   1st Qu.: 0.000     1st Qu.: 1.000  \n",
       " Median : 1.000   Median :  0.000   Median : 1.000     Median : 1.000  \n",
       " Mean   : 1.802   Mean   :  2.388   Mean   : 2.074     Mean   : 1.665  \n",
       " 3rd Qu.: 2.000   3rd Qu.:  2.000   3rd Qu.: 2.000     3rd Qu.: 2.000  \n",
       " Max.   :24.000   Max.   :119.000   Max.   :33.000     Max.   :30.000  \n",
       " NA's   :34       NA's   :34        NA's   :34         NA's   :34      \n",
       " depart_Editing   depart_Lighting   depart_Production  depart_Sound   \n",
       " Min.   : 0.000   Min.   : 0.0000   Min.   : 0.000    Min.   : 0.000  \n",
       " 1st Qu.: 0.000   1st Qu.: 0.0000   1st Qu.: 1.000    1st Qu.: 1.000  \n",
       " Median : 1.000   Median : 0.0000   Median : 4.000    Median : 1.000  \n",
       " Mean   : 1.516   Mean   : 0.4262   Mean   : 5.301    Mean   : 3.064  \n",
       " 3rd Qu.: 2.000   3rd Qu.: 0.0000   3rd Qu.: 8.000    3rd Qu.: 3.000  \n",
       " Max.   :21.000   Max.   :18.0000   Max.   :38.000    Max.   :40.000  \n",
       " NA's   :34       NA's   :34        NA's   :34        NA's   :34      \n",
       " depart_Visual_Effects depart_Writing  \n",
       " Min.   : 0.00         Min.   : 0.000  \n",
       " 1st Qu.: 0.00         1st Qu.: 1.000  \n",
       " Median : 0.00         Median : 2.000  \n",
       " Mean   : 1.29         Mean   : 2.222  \n",
       " 3rd Qu.: 0.00         3rd Qu.: 3.000  \n",
       " Max.   :89.00         Max.   :23.000  \n",
       " NA's   :34            NA's   :34      "
      ]
     },
     "metadata": {},
     "output_type": "display_data"
    }
   ],
   "source": [
    "summary(fixdata)"
   ]
  },
  {
   "cell_type": "code",
   "execution_count": 40,
   "metadata": {},
   "outputs": [
    {
     "name": "stdout",
     "output_type": "stream",
     "text": [
      "  |                                                                      |   0%"
     ]
    },
    {
     "name": "stderr",
     "output_type": "stream",
     "text": [
      "Warning message:\n",
      "\"Removed 4382 rows containing non-finite values (stat_smooth).\""
     ]
    },
    {
     "name": "stdout",
     "output_type": "stream",
     "text": [
      "\r",
      "  |                                                                            \r",
      "  |                                                                      |   0%"
     ]
    },
    {
     "name": "stderr",
     "output_type": "stream",
     "text": [
      "Warning message:\n",
      "\"Removed 4382 rows containing non-finite values (stat_smooth).\""
     ]
    },
    {
     "name": "stdout",
     "output_type": "stream",
     "text": [
      "  |                                                                      |   0%"
     ]
    },
    {
     "name": "stderr",
     "output_type": "stream",
     "text": [
      "Warning message:\n",
      "\"Removed 4382 rows containing non-finite values (stat_smooth).\""
     ]
    },
    {
     "name": "stdout",
     "output_type": "stream",
     "text": [
      "  |                                                                      |   0%"
     ]
    },
    {
     "name": "stderr",
     "output_type": "stream",
     "text": [
      "Warning message:\n",
      "\"Removed 4382 rows containing non-finite values (stat_smooth).\""
     ]
    },
    {
     "name": "stdout",
     "output_type": "stream",
     "text": [
      "  |                                                                      |   0%"
     ]
    },
    {
     "name": "stderr",
     "output_type": "stream",
     "text": [
      "Warning message:\n",
      "\"Removed 4382 rows containing non-finite values (stat_smooth).\""
     ]
    },
    {
     "name": "stdout",
     "output_type": "stream",
     "text": [
      "  |                                                                      |   0%"
     ]
    },
    {
     "name": "stderr",
     "output_type": "stream",
     "text": [
      "Warning message:\n",
      "\"Removed 4384 rows containing non-finite values (stat_smooth).\""
     ]
    },
    {
     "name": "stdout",
     "output_type": "stream",
     "text": [
      "  |                                                                      |   0%"
     ]
    },
    {
     "name": "stderr",
     "output_type": "stream",
     "text": [
      "Warning message:\n",
      "\"Removed 4382 rows containing non-finite values (stat_smooth).\""
     ]
    },
    {
     "name": "stdout",
     "output_type": "stream",
     "text": [
      "  |                                                                      |   0%"
     ]
    },
    {
     "name": "stderr",
     "output_type": "stream",
     "text": [
      "Warning message in x[floor(d)] + x[ceiling(d)]:\n",
      "\"NAs produced by integer overflow\"Warning message in x[floor(d)] + x[ceiling(d)]:\n",
      "\"NAs produced by integer overflow\"Warning message:\n",
      "\"Removed 4382 rows containing non-finite values (stat_smooth).\""
     ]
    },
    {
     "name": "stdout",
     "output_type": "stream",
     "text": [
      "  |                                                                      |   0%"
     ]
    },
    {
     "name": "stderr",
     "output_type": "stream",
     "text": [
      "Warning message:\n",
      "\"Removed 4382 rows containing non-finite values (stat_smooth).\""
     ]
    },
    {
     "name": "stdout",
     "output_type": "stream",
     "text": [
      "  |                                                                      |   0%"
     ]
    },
    {
     "name": "stderr",
     "output_type": "stream",
     "text": [
      "Warning message:\n",
      "\"Removed 4382 rows containing non-finite values (stat_smooth).\""
     ]
    },
    {
     "name": "stdout",
     "output_type": "stream",
     "text": [
      "  |                                                                      |   0%"
     ]
    },
    {
     "name": "stderr",
     "output_type": "stream",
     "text": [
      "Warning message:\n",
      "\"Removed 4382 rows containing non-finite values (stat_smooth).\""
     ]
    },
    {
     "name": "stdout",
     "output_type": "stream",
     "text": [
      "  |                                                                      |   0%"
     ]
    },
    {
     "name": "stderr",
     "output_type": "stream",
     "text": [
      "Warning message:\n",
      "\"Removed 4382 rows containing non-finite values (stat_smooth).\""
     ]
    },
    {
     "name": "stdout",
     "output_type": "stream",
     "text": [
      "  |                                                                      |   0%"
     ]
    },
    {
     "name": "stderr",
     "output_type": "stream",
     "text": [
      "Warning message:\n",
      "\"Removed 4382 rows containing non-finite values (stat_smooth).\""
     ]
    },
    {
     "name": "stdout",
     "output_type": "stream",
     "text": [
      "  |                                                                      |   0%"
     ]
    },
    {
     "name": "stderr",
     "output_type": "stream",
     "text": [
      "Warning message:\n",
      "\"Removed 4382 rows containing non-finite values (stat_smooth).\""
     ]
    },
    {
     "name": "stdout",
     "output_type": "stream",
     "text": [
      "  |                                                                      |   0%"
     ]
    },
    {
     "name": "stderr",
     "output_type": "stream",
     "text": [
      "Warning message:\n",
      "\"Removed 4382 rows containing non-finite values (stat_smooth).\""
     ]
    },
    {
     "name": "stdout",
     "output_type": "stream",
     "text": [
      "  |                                                                      |   0%"
     ]
    },
    {
     "name": "stderr",
     "output_type": "stream",
     "text": [
      "Warning message:\n",
      "\"Removed 4382 rows containing non-finite values (stat_smooth).\""
     ]
    },
    {
     "name": "stdout",
     "output_type": "stream",
     "text": [
      "  |                                                                      |   0%"
     ]
    },
    {
     "name": "stderr",
     "output_type": "stream",
     "text": [
      "Warning message:\n",
      "\"Removed 4382 rows containing non-finite values (stat_smooth).\""
     ]
    },
    {
     "name": "stdout",
     "output_type": "stream",
     "text": [
      "  |                                                                      |   0%"
     ]
    },
    {
     "name": "stderr",
     "output_type": "stream",
     "text": [
      "Warning message:\n",
      "\"Removed 4382 rows containing non-finite values (stat_smooth).\""
     ]
    },
    {
     "name": "stdout",
     "output_type": "stream",
     "text": [
      "  |                                                                      |   0%"
     ]
    },
    {
     "name": "stderr",
     "output_type": "stream",
     "text": [
      "Warning message:\n",
      "\"Removed 4382 rows containing non-finite values (stat_smooth).\""
     ]
    },
    {
     "name": "stdout",
     "output_type": "stream",
     "text": [
      "  |                                                                      |   0%"
     ]
    },
    {
     "name": "stderr",
     "output_type": "stream",
     "text": [
      "Warning message:\n",
      "\"Removed 4531 rows containing non-finite values (stat_smooth).\""
     ]
    },
    {
     "name": "stdout",
     "output_type": "stream",
     "text": [
      "  |                                                                      |   0%"
     ]
    },
    {
     "name": "stderr",
     "output_type": "stream",
     "text": [
      "Warning message:\n",
      "\"Removed 4382 rows containing non-finite values (stat_smooth).\"Warning message in simpleLoess(y, x, w, span, degree = degree, parametric = parametric, :\n",
      "\"pseudoinverse used at -0.04\"Warning message in simpleLoess(y, x, w, span, degree = degree, parametric = parametric, :\n",
      "\"neighborhood radius 1.04\"Warning message in simpleLoess(y, x, w, span, degree = degree, parametric = parametric, :\n",
      "\"reciprocal condition number  0\"Warning message in simpleLoess(y, x, w, span, degree = degree, parametric = parametric, :\n",
      "\"There are other near singularities as well. 1\"Warning message in predLoess(object$y, object$x, newx = if (is.null(newdata)) object$x else if (is.data.frame(newdata)) as.matrix(model.frame(delete.response(terms(object)), :\n",
      "\"pseudoinverse used at -0.04\"Warning message in predLoess(object$y, object$x, newx = if (is.null(newdata)) object$x else if (is.data.frame(newdata)) as.matrix(model.frame(delete.response(terms(object)), :\n",
      "\"neighborhood radius 1.04\"Warning message in predLoess(object$y, object$x, newx = if (is.null(newdata)) object$x else if (is.data.frame(newdata)) as.matrix(model.frame(delete.response(terms(object)), :\n",
      "\"reciprocal condition number  0\"Warning message in predLoess(object$y, object$x, newx = if (is.null(newdata)) object$x else if (is.data.frame(newdata)) as.matrix(model.frame(delete.response(terms(object)), :\n",
      "\"There are other near singularities as well. 1\""
     ]
    },
    {
     "name": "stdout",
     "output_type": "stream",
     "text": [
      "  |                                                                      |   0%"
     ]
    },
    {
     "name": "stderr",
     "output_type": "stream",
     "text": [
      "Warning message:\n",
      "\"Removed 4382 rows containing non-finite values (stat_smooth).\""
     ]
    },
    {
     "name": "stdout",
     "output_type": "stream",
     "text": [
      "  |                                                                      |   0%"
     ]
    },
    {
     "name": "stderr",
     "output_type": "stream",
     "text": [
      "Warning message:\n",
      "\"Removed 4382 rows containing non-finite values (stat_smooth).\""
     ]
    },
    {
     "name": "stdout",
     "output_type": "stream",
     "text": [
      "  |                                                                      |   0%"
     ]
    },
    {
     "name": "stderr",
     "output_type": "stream",
     "text": [
      "Warning message:\n",
      "\"Removed 4382 rows containing non-finite values (stat_smooth).\""
     ]
    },
    {
     "name": "stdout",
     "output_type": "stream",
     "text": [
      "  |                                                                      |   0%"
     ]
    },
    {
     "name": "stderr",
     "output_type": "stream",
     "text": [
      "Warning message:\n",
      "\"Removed 4382 rows containing non-finite values (stat_smooth).\""
     ]
    },
    {
     "name": "stdout",
     "output_type": "stream",
     "text": [
      "  |                                                                      |   0%"
     ]
    },
    {
     "name": "stderr",
     "output_type": "stream",
     "text": [
      "Warning message:\n",
      "\"Removed 4382 rows containing non-finite values (stat_smooth).\""
     ]
    },
    {
     "name": "stdout",
     "output_type": "stream",
     "text": [
      "  |                                                                      |   0%"
     ]
    },
    {
     "name": "stderr",
     "output_type": "stream",
     "text": [
      "Warning message:\n",
      "\"Removed 4382 rows containing non-finite values (stat_smooth).\""
     ]
    },
    {
     "name": "stdout",
     "output_type": "stream",
     "text": [
      "  |                                                                      |   0%"
     ]
    },
    {
     "name": "stderr",
     "output_type": "stream",
     "text": [
      "Warning message:\n",
      "\"Removed 4382 rows containing non-finite values (stat_smooth).\""
     ]
    },
    {
     "name": "stdout",
     "output_type": "stream",
     "text": [
      "  |                                                                      |   0%"
     ]
    },
    {
     "name": "stderr",
     "output_type": "stream",
     "text": [
      "Warning message:\n",
      "\"Removed 4382 rows containing non-finite values (stat_smooth).\""
     ]
    },
    {
     "name": "stdout",
     "output_type": "stream",
     "text": [
      "  |                                                                      |   0%"
     ]
    },
    {
     "name": "stderr",
     "output_type": "stream",
     "text": [
      "Warning message:\n",
      "\"Removed 4382 rows containing non-finite values (stat_smooth).\""
     ]
    },
    {
     "name": "stdout",
     "output_type": "stream",
     "text": [
      "  |                                                                      |   0%"
     ]
    },
    {
     "name": "stderr",
     "output_type": "stream",
     "text": [
      "Warning message:\n",
      "\"Removed 4382 rows containing non-finite values (stat_smooth).\""
     ]
    },
    {
     "name": "stdout",
     "output_type": "stream",
     "text": [
      "  |                                                                      |   0%"
     ]
    },
    {
     "name": "stderr",
     "output_type": "stream",
     "text": [
      "Warning message:\n",
      "\"Removed 4382 rows containing non-finite values (stat_smooth).\""
     ]
    },
    {
     "name": "stdout",
     "output_type": "stream",
     "text": [
      "  |                                                                      |   0%"
     ]
    },
    {
     "name": "stderr",
     "output_type": "stream",
     "text": [
      "Warning message:\n",
      "\"Removed 4382 rows containing non-finite values (stat_smooth).\""
     ]
    },
    {
     "name": "stdout",
     "output_type": "stream",
     "text": [
      "  |                                                                      |   0%"
     ]
    },
    {
     "name": "stderr",
     "output_type": "stream",
     "text": [
      "Warning message:\n",
      "\"Removed 4382 rows containing non-finite values (stat_smooth).\""
     ]
    },
    {
     "name": "stdout",
     "output_type": "stream",
     "text": [
      "  |                                                                      |   0%"
     ]
    },
    {
     "name": "stderr",
     "output_type": "stream",
     "text": [
      "Warning message:\n",
      "\"Removed 4382 rows containing non-finite values (stat_smooth).\""
     ]
    },
    {
     "name": "stdout",
     "output_type": "stream",
     "text": [
      "  |                                                                      |   0%"
     ]
    },
    {
     "name": "stderr",
     "output_type": "stream",
     "text": [
      "Warning message:\n",
      "\"Removed 4382 rows containing non-finite values (stat_smooth).\""
     ]
    },
    {
     "name": "stdout",
     "output_type": "stream",
     "text": [
      "  |                                                                      |   0%"
     ]
    },
    {
     "name": "stderr",
     "output_type": "stream",
     "text": [
      "Warning message:\n",
      "\"Removed 4382 rows containing non-finite values (stat_smooth).\""
     ]
    },
    {
     "name": "stdout",
     "output_type": "stream",
     "text": [
      "  |                                                                      |   0%"
     ]
    },
    {
     "name": "stderr",
     "output_type": "stream",
     "text": [
      "Warning message:\n",
      "\"Removed 4382 rows containing non-finite values (stat_smooth).\""
     ]
    },
    {
     "name": "stdout",
     "output_type": "stream",
     "text": [
      "  |                                                                      |   0%"
     ]
    },
    {
     "name": "stderr",
     "output_type": "stream",
     "text": [
      "Warning message:\n",
      "\"Removed 4382 rows containing non-finite values (stat_smooth).\""
     ]
    },
    {
     "name": "stdout",
     "output_type": "stream",
     "text": [
      "  |                                                                      |   0%"
     ]
    },
    {
     "name": "stderr",
     "output_type": "stream",
     "text": [
      "Warning message in x[floor(d)] + x[ceiling(d)]:\n",
      "\"NAs produced by integer overflow\"Warning message in x[floor(d)] + x[ceiling(d)]:\n",
      "\"NAs produced by integer overflow\"Warning message:\n",
      "\"Removed 5310 rows containing non-finite values (stat_smooth).\""
     ]
    },
    {
     "name": "stdout",
     "output_type": "stream",
     "text": [
      "  |                                                                      |   0%"
     ]
    },
    {
     "name": "stderr",
     "output_type": "stream",
     "text": [
      "Warning message in x[floor(d)] + x[ceiling(d)]:\n",
      "\"NAs produced by integer overflow\"Warning message in x[floor(d)] + x[ceiling(d)]:\n",
      "\"NAs produced by integer overflow\"Warning message:\n",
      "\"Removed 5534 rows containing non-finite values (stat_smooth).\""
     ]
    },
    {
     "name": "stdout",
     "output_type": "stream",
     "text": [
      "  |                                                                      |   0%"
     ]
    },
    {
     "name": "stderr",
     "output_type": "stream",
     "text": [
      "Warning message in x[floor(d)] + x[ceiling(d)]:\n",
      "\"NAs produced by integer overflow\"Warning message in x[floor(d)] + x[ceiling(d)]:\n",
      "\"NAs produced by integer overflow\"Warning message:\n",
      "\"Removed 5621 rows containing non-finite values (stat_smooth).\""
     ]
    },
    {
     "name": "stdout",
     "output_type": "stream",
     "text": [
      "  |                                                                      |   0%"
     ]
    },
    {
     "name": "stderr",
     "output_type": "stream",
     "text": [
      "Warning message:\n",
      "\"Removed 4382 rows containing non-finite values (stat_smooth).\""
     ]
    },
    {
     "name": "stdout",
     "output_type": "stream",
     "text": [
      "  |                                                                      |   0%"
     ]
    },
    {
     "name": "stderr",
     "output_type": "stream",
     "text": [
      "Warning message:\n",
      "\"Removed 4382 rows containing non-finite values (stat_smooth).\""
     ]
    },
    {
     "name": "stdout",
     "output_type": "stream",
     "text": [
      "  |                                                                      |   0%"
     ]
    },
    {
     "name": "stderr",
     "output_type": "stream",
     "text": [
      "Warning message:\n",
      "\"Removed 4382 rows containing non-finite values (stat_smooth).\""
     ]
    },
    {
     "name": "stdout",
     "output_type": "stream",
     "text": [
      "  |                                                                      |   0%"
     ]
    },
    {
     "name": "stderr",
     "output_type": "stream",
     "text": [
      "Warning message:\n",
      "\"Removed 4382 rows containing non-finite values (stat_smooth).\""
     ]
    },
    {
     "name": "stdout",
     "output_type": "stream",
     "text": [
      "  |                                                                      |   0%"
     ]
    },
    {
     "name": "stderr",
     "output_type": "stream",
     "text": [
      "Warning message:\n",
      "\"Removed 4382 rows containing non-finite values (stat_smooth).\""
     ]
    },
    {
     "name": "stdout",
     "output_type": "stream",
     "text": [
      "  |                                                                      |   0%"
     ]
    },
    {
     "name": "stderr",
     "output_type": "stream",
     "text": [
      "Warning message:\n",
      "\"Removed 4382 rows containing non-finite values (stat_smooth).\""
     ]
    },
    {
     "name": "stdout",
     "output_type": "stream",
     "text": [
      "  |                                                                      |   0%"
     ]
    },
    {
     "name": "stderr",
     "output_type": "stream",
     "text": [
      "Warning message:\n",
      "\"Removed 4382 rows containing non-finite values (stat_smooth).\""
     ]
    },
    {
     "name": "stdout",
     "output_type": "stream",
     "text": [
      "  |                                                                      |   0%"
     ]
    },
    {
     "name": "stderr",
     "output_type": "stream",
     "text": [
      "Warning message:\n",
      "\"Removed 4382 rows containing non-finite values (stat_smooth).\""
     ]
    },
    {
     "name": "stdout",
     "output_type": "stream",
     "text": [
      "  |                                                                      |   0%"
     ]
    },
    {
     "name": "stderr",
     "output_type": "stream",
     "text": [
      "Warning message:\n",
      "\"Removed 4382 rows containing non-finite values (stat_smooth).\""
     ]
    },
    {
     "name": "stdout",
     "output_type": "stream",
     "text": [
      "  |                                                                      |   0%"
     ]
    },
    {
     "name": "stderr",
     "output_type": "stream",
     "text": [
      "Warning message:\n",
      "\"Removed 4382 rows containing non-finite values (stat_smooth).\""
     ]
    },
    {
     "name": "stdout",
     "output_type": "stream",
     "text": [
      "  |                                                                      |   0%"
     ]
    },
    {
     "name": "stderr",
     "output_type": "stream",
     "text": [
      "Warning message:\n",
      "\"Removed 4382 rows containing non-finite values (stat_smooth).\""
     ]
    },
    {
     "name": "stdout",
     "output_type": "stream",
     "text": [
      "  |                                                                      |   0%"
     ]
    },
    {
     "name": "stderr",
     "output_type": "stream",
     "text": [
      "Warning message:\n",
      "\"Removed 4382 rows containing non-finite values (stat_smooth).\""
     ]
    },
    {
     "name": "stdout",
     "output_type": "stream",
     "text": [
      "  |                                                                      |   0%"
     ]
    },
    {
     "name": "stderr",
     "output_type": "stream",
     "text": [
      "Warning message:\n",
      "\"Removed 4382 rows containing non-finite values (stat_smooth).\""
     ]
    },
    {
     "name": "stdout",
     "output_type": "stream",
     "text": [
      "  |                                                                      |   0%"
     ]
    },
    {
     "name": "stderr",
     "output_type": "stream",
     "text": [
      "Warning message:\n",
      "\"Removed 4382 rows containing non-finite values (stat_smooth).\""
     ]
    },
    {
     "name": "stdout",
     "output_type": "stream",
     "text": [
      "  |                                                                      |   0%"
     ]
    },
    {
     "name": "stderr",
     "output_type": "stream",
     "text": [
      "Warning message:\n",
      "\"Removed 4382 rows containing non-finite values (stat_smooth).\""
     ]
    },
    {
     "name": "stdout",
     "output_type": "stream",
     "text": [
      "  |                                                                      |   0%"
     ]
    },
    {
     "name": "stderr",
     "output_type": "stream",
     "text": [
      "Warning message:\n",
      "\"Removed 4382 rows containing non-finite values (stat_smooth).\""
     ]
    },
    {
     "name": "stdout",
     "output_type": "stream",
     "text": [
      "  |                                                                      |   0%"
     ]
    },
    {
     "name": "stderr",
     "output_type": "stream",
     "text": [
      "Warning message:\n",
      "\"Removed 4382 rows containing non-finite values (stat_smooth).\""
     ]
    },
    {
     "name": "stdout",
     "output_type": "stream",
     "text": [
      "  |                                                                      |   0%"
     ]
    },
    {
     "name": "stderr",
     "output_type": "stream",
     "text": [
      "Warning message:\n",
      "\"Removed 4382 rows containing non-finite values (stat_smooth).\""
     ]
    },
    {
     "name": "stdout",
     "output_type": "stream",
     "text": [
      "  |                                                                      |   0%"
     ]
    },
    {
     "name": "stderr",
     "output_type": "stream",
     "text": [
      "Warning message:\n",
      "\"Removed 4382 rows containing non-finite values (stat_smooth).\""
     ]
    },
    {
     "name": "stdout",
     "output_type": "stream",
     "text": [
      "  |                                                                      |   0%"
     ]
    },
    {
     "name": "stderr",
     "output_type": "stream",
     "text": [
      "Warning message:\n",
      "\"Removed 4382 rows containing non-finite values (stat_smooth).\""
     ]
    },
    {
     "name": "stdout",
     "output_type": "stream",
     "text": [
      "  |                                                                      |   0%"
     ]
    },
    {
     "name": "stderr",
     "output_type": "stream",
     "text": [
      "Warning message:\n",
      "\"Removed 4382 rows containing non-finite values (stat_smooth).\""
     ]
    },
    {
     "name": "stdout",
     "output_type": "stream",
     "text": [
      "  |                                                                      |   0%"
     ]
    },
    {
     "name": "stderr",
     "output_type": "stream",
     "text": [
      "Warning message:\n",
      "\"Removed 4397 rows containing non-finite values (stat_smooth).\""
     ]
    },
    {
     "name": "stdout",
     "output_type": "stream",
     "text": [
      "  |                                                                      |   0%"
     ]
    },
    {
     "name": "stderr",
     "output_type": "stream",
     "text": [
      "Warning message:\n",
      "\"Removed 4397 rows containing non-finite values (stat_smooth).\"Warning message in simpleLoess(y, x, w, span, degree = degree, parametric = parametric, :\n",
      "\"pseudoinverse used at -0.115\"Warning message in simpleLoess(y, x, w, span, degree = degree, parametric = parametric, :\n",
      "\"neighborhood radius 2.115\"Warning message in simpleLoess(y, x, w, span, degree = degree, parametric = parametric, :\n",
      "\"reciprocal condition number  1.9377e-015\"Warning message in simpleLoess(y, x, w, span, degree = degree, parametric = parametric, :\n",
      "\"There are other near singularities as well. 1\"Warning message in predLoess(object$y, object$x, newx = if (is.null(newdata)) object$x else if (is.data.frame(newdata)) as.matrix(model.frame(delete.response(terms(object)), :\n",
      "\"pseudoinverse used at -0.115\"Warning message in predLoess(object$y, object$x, newx = if (is.null(newdata)) object$x else if (is.data.frame(newdata)) as.matrix(model.frame(delete.response(terms(object)), :\n",
      "\"neighborhood radius 2.115\"Warning message in predLoess(object$y, object$x, newx = if (is.null(newdata)) object$x else if (is.data.frame(newdata)) as.matrix(model.frame(delete.response(terms(object)), :\n",
      "\"reciprocal condition number  1.9377e-015\"Warning message in predLoess(object$y, object$x, newx = if (is.null(newdata)) object$x else if (is.data.frame(newdata)) as.matrix(model.frame(delete.response(terms(object)), :\n",
      "\"There are other near singularities as well. 1\""
     ]
    },
    {
     "name": "stdout",
     "output_type": "stream",
     "text": [
      "  |                                                                      |   0%"
     ]
    },
    {
     "name": "stderr",
     "output_type": "stream",
     "text": [
      "Warning message:\n",
      "\"Removed 4397 rows containing non-finite values (stat_smooth).\"Warning message in simpleLoess(y, x, w, span, degree = degree, parametric = parametric, :\n",
      "\"pseudoinverse used at -0.595\"Warning message in simpleLoess(y, x, w, span, degree = degree, parametric = parametric, :\n",
      "\"neighborhood radius 2.595\"Warning message in simpleLoess(y, x, w, span, degree = degree, parametric = parametric, :\n",
      "\"reciprocal condition number  1.4934e-015\"Warning message in simpleLoess(y, x, w, span, degree = degree, parametric = parametric, :\n",
      "\"There are other near singularities as well. 4\"Warning message in predLoess(object$y, object$x, newx = if (is.null(newdata)) object$x else if (is.data.frame(newdata)) as.matrix(model.frame(delete.response(terms(object)), :\n",
      "\"pseudoinverse used at -0.595\"Warning message in predLoess(object$y, object$x, newx = if (is.null(newdata)) object$x else if (is.data.frame(newdata)) as.matrix(model.frame(delete.response(terms(object)), :\n",
      "\"neighborhood radius 2.595\"Warning message in predLoess(object$y, object$x, newx = if (is.null(newdata)) object$x else if (is.data.frame(newdata)) as.matrix(model.frame(delete.response(terms(object)), :\n",
      "\"reciprocal condition number  1.4934e-015\"Warning message in predLoess(object$y, object$x, newx = if (is.null(newdata)) object$x else if (is.data.frame(newdata)) as.matrix(model.frame(delete.response(terms(object)), :\n",
      "\"There are other near singularities as well. 4\""
     ]
    },
    {
     "name": "stdout",
     "output_type": "stream",
     "text": [
      "  |                                                                      |   0%"
     ]
    },
    {
     "name": "stderr",
     "output_type": "stream",
     "text": [
      "Warning message:\n",
      "\"Removed 4397 rows containing non-finite values (stat_smooth).\"Warning message in simpleLoess(y, x, w, span, degree = degree, parametric = parametric, :\n",
      "\"pseudoinverse used at -0.165\"Warning message in simpleLoess(y, x, w, span, degree = degree, parametric = parametric, :\n",
      "\"neighborhood radius 2.165\"Warning message in simpleLoess(y, x, w, span, degree = degree, parametric = parametric, :\n",
      "\"reciprocal condition number  1.2378e-015\"Warning message in simpleLoess(y, x, w, span, degree = degree, parametric = parametric, :\n",
      "\"There are other near singularities as well. 4\"Warning message in predLoess(object$y, object$x, newx = if (is.null(newdata)) object$x else if (is.data.frame(newdata)) as.matrix(model.frame(delete.response(terms(object)), :\n",
      "\"pseudoinverse used at -0.165\"Warning message in predLoess(object$y, object$x, newx = if (is.null(newdata)) object$x else if (is.data.frame(newdata)) as.matrix(model.frame(delete.response(terms(object)), :\n",
      "\"neighborhood radius 2.165\"Warning message in predLoess(object$y, object$x, newx = if (is.null(newdata)) object$x else if (is.data.frame(newdata)) as.matrix(model.frame(delete.response(terms(object)), :\n",
      "\"reciprocal condition number  1.2378e-015\"Warning message in predLoess(object$y, object$x, newx = if (is.null(newdata)) object$x else if (is.data.frame(newdata)) as.matrix(model.frame(delete.response(terms(object)), :\n",
      "\"There are other near singularities as well. 4\""
     ]
    },
    {
     "name": "stdout",
     "output_type": "stream",
     "text": [
      "  |                                                                      |   0%"
     ]
    },
    {
     "name": "stderr",
     "output_type": "stream",
     "text": [
      "Warning message:\n",
      "\"Removed 4397 rows containing non-finite values (stat_smooth).\"Warning message in simpleLoess(y, x, w, span, degree = degree, parametric = parametric, :\n",
      "\"pseudoinverse used at 0.855\"Warning message in simpleLoess(y, x, w, span, degree = degree, parametric = parametric, :\n",
      "\"neighborhood radius 1.145\"Warning message in simpleLoess(y, x, w, span, degree = degree, parametric = parametric, :\n",
      "\"reciprocal condition number  5.3293e-030\"Warning message in simpleLoess(y, x, w, span, degree = degree, parametric = parametric, :\n",
      "\"There are other near singularities as well. 1\"Warning message in predLoess(object$y, object$x, newx = if (is.null(newdata)) object$x else if (is.data.frame(newdata)) as.matrix(model.frame(delete.response(terms(object)), :\n",
      "\"pseudoinverse used at 0.855\"Warning message in predLoess(object$y, object$x, newx = if (is.null(newdata)) object$x else if (is.data.frame(newdata)) as.matrix(model.frame(delete.response(terms(object)), :\n",
      "\"neighborhood radius 1.145\"Warning message in predLoess(object$y, object$x, newx = if (is.null(newdata)) object$x else if (is.data.frame(newdata)) as.matrix(model.frame(delete.response(terms(object)), :\n",
      "\"reciprocal condition number  5.3293e-030\"Warning message in predLoess(object$y, object$x, newx = if (is.null(newdata)) object$x else if (is.data.frame(newdata)) as.matrix(model.frame(delete.response(terms(object)), :\n",
      "\"There are other near singularities as well. 1\""
     ]
    },
    {
     "name": "stdout",
     "output_type": "stream",
     "text": [
      "  |                                                                      |   0%"
     ]
    },
    {
     "name": "stderr",
     "output_type": "stream",
     "text": [
      "Warning message:\n",
      "\"Removed 4397 rows containing non-finite values (stat_smooth).\"Warning message in simpleLoess(y, x, w, span, degree = degree, parametric = parametric, :\n",
      "\"pseudoinverse used at -0.07\"Warning message in simpleLoess(y, x, w, span, degree = degree, parametric = parametric, :\n",
      "\"neighborhood radius 2.07\"Warning message in simpleLoess(y, x, w, span, degree = degree, parametric = parametric, :\n",
      "\"reciprocal condition number  1.8888e-015\"Warning message in simpleLoess(y, x, w, span, degree = degree, parametric = parametric, :\n",
      "\"There are other near singularities as well. 1\"Warning message in predLoess(object$y, object$x, newx = if (is.null(newdata)) object$x else if (is.data.frame(newdata)) as.matrix(model.frame(delete.response(terms(object)), :\n",
      "\"pseudoinverse used at -0.07\"Warning message in predLoess(object$y, object$x, newx = if (is.null(newdata)) object$x else if (is.data.frame(newdata)) as.matrix(model.frame(delete.response(terms(object)), :\n",
      "\"neighborhood radius 2.07\"Warning message in predLoess(object$y, object$x, newx = if (is.null(newdata)) object$x else if (is.data.frame(newdata)) as.matrix(model.frame(delete.response(terms(object)), :\n",
      "\"reciprocal condition number  1.8888e-015\"Warning message in predLoess(object$y, object$x, newx = if (is.null(newdata)) object$x else if (is.data.frame(newdata)) as.matrix(model.frame(delete.response(terms(object)), :\n",
      "\"There are other near singularities as well. 1\""
     ]
    },
    {
     "name": "stdout",
     "output_type": "stream",
     "text": [
      "  |                                                                      |   0%"
     ]
    },
    {
     "name": "stderr",
     "output_type": "stream",
     "text": [
      "Warning message:\n",
      "\"Removed 4397 rows containing non-finite values (stat_smooth).\"Warning message in simpleLoess(y, x, w, span, degree = degree, parametric = parametric, :\n",
      "\"at  -0.06\"Warning message in simpleLoess(y, x, w, span, degree = degree, parametric = parametric, :\n",
      "\"radius  0.0036\"Warning message in simpleLoess(y, x, w, span, degree = degree, parametric = parametric, :\n",
      "\"all data on boundary of neighborhood. make span bigger\"Warning message in simpleLoess(y, x, w, span, degree = degree, parametric = parametric, :\n",
      "\"pseudoinverse used at -0.06\"Warning message in simpleLoess(y, x, w, span, degree = degree, parametric = parametric, :\n",
      "\"neighborhood radius 0.06\"Warning message in simpleLoess(y, x, w, span, degree = degree, parametric = parametric, :\n",
      "\"reciprocal condition number  1\"Warning message in simpleLoess(y, x, w, span, degree = degree, parametric = parametric, :\n",
      "\"zero-width neighborhood. make span bigger\"Warning message:\n",
      "\"Computation failed in `stat_smooth()`:\n",
      "NA/NaN/Inf in foreign function call (arg 5)\""
     ]
    },
    {
     "name": "stdout",
     "output_type": "stream",
     "text": [
      "  |                                                                      |   0%"
     ]
    },
    {
     "name": "stderr",
     "output_type": "stream",
     "text": [
      "Warning message:\n",
      "\"Removed 4397 rows containing non-finite values (stat_smooth).\""
     ]
    },
    {
     "name": "stdout",
     "output_type": "stream",
     "text": [
      "  |                                                                      |   0%"
     ]
    },
    {
     "name": "stderr",
     "output_type": "stream",
     "text": [
      "Warning message:\n",
      "\"Removed 4397 rows containing non-finite values (stat_smooth).\""
     ]
    },
    {
     "name": "stdout",
     "output_type": "stream",
     "text": [
      "  |                                                                      |   0%"
     ]
    },
    {
     "name": "stderr",
     "output_type": "stream",
     "text": [
      "Warning message:\n",
      "\"Removed 4397 rows containing non-finite values (stat_smooth).\"Warning message in simpleLoess(y, x, w, span, degree = degree, parametric = parametric, :\n",
      "\"at  -0.26\"Warning message in simpleLoess(y, x, w, span, degree = degree, parametric = parametric, :\n",
      "\"radius  0.0676\"Warning message in simpleLoess(y, x, w, span, degree = degree, parametric = parametric, :\n",
      "\"all data on boundary of neighborhood. make span bigger\"Warning message in simpleLoess(y, x, w, span, degree = degree, parametric = parametric, :\n",
      "\"pseudoinverse used at -0.26\"Warning message in simpleLoess(y, x, w, span, degree = degree, parametric = parametric, :\n",
      "\"neighborhood radius 0.26\"Warning message in simpleLoess(y, x, w, span, degree = degree, parametric = parametric, :\n",
      "\"reciprocal condition number  1\"Warning message in simpleLoess(y, x, w, span, degree = degree, parametric = parametric, :\n",
      "\"zero-width neighborhood. make span bigger\"Warning message:\n",
      "\"Computation failed in `stat_smooth()`:\n",
      "NA/NaN/Inf in foreign function call (arg 5)\""
     ]
    },
    {
     "name": "stdout",
     "output_type": "stream",
     "text": [
      "  |                                                                      |   0%"
     ]
    },
    {
     "name": "stderr",
     "output_type": "stream",
     "text": [
      "Warning message:\n",
      "\"Removed 4397 rows containing non-finite values (stat_smooth).\"Warning message in simpleLoess(y, x, w, span, degree = degree, parametric = parametric, :\n",
      "\"pseudoinverse used at 2\"Warning message in simpleLoess(y, x, w, span, degree = degree, parametric = parametric, :\n",
      "\"neighborhood radius 1\"Warning message in simpleLoess(y, x, w, span, degree = degree, parametric = parametric, :\n",
      "\"reciprocal condition number  0\"Warning message in predLoess(object$y, object$x, newx = if (is.null(newdata)) object$x else if (is.data.frame(newdata)) as.matrix(model.frame(delete.response(terms(object)), :\n",
      "\"pseudoinverse used at 2\"Warning message in predLoess(object$y, object$x, newx = if (is.null(newdata)) object$x else if (is.data.frame(newdata)) as.matrix(model.frame(delete.response(terms(object)), :\n",
      "\"neighborhood radius 1\"Warning message in predLoess(object$y, object$x, newx = if (is.null(newdata)) object$x else if (is.data.frame(newdata)) as.matrix(model.frame(delete.response(terms(object)), :\n",
      "\"reciprocal condition number  0\""
     ]
    },
    {
     "name": "stdout",
     "output_type": "stream",
     "text": [
      "  |                                                                      |   0%"
     ]
    },
    {
     "name": "stderr",
     "output_type": "stream",
     "text": [
      "Warning message:\n",
      "\"Removed 4382 rows containing non-finite values (stat_smooth).\""
     ]
    },
    {
     "name": "stdout",
     "output_type": "stream",
     "text": [
      "  |                                                                      |   0%"
     ]
    },
    {
     "name": "stderr",
     "output_type": "stream",
     "text": [
      "Warning message:\n",
      "\"Removed 4382 rows containing non-finite values (stat_smooth).\""
     ]
    },
    {
     "name": "stdout",
     "output_type": "stream",
     "text": [
      "  |                                                                      |   0%"
     ]
    },
    {
     "name": "stderr",
     "output_type": "stream",
     "text": [
      "Warning message:\n",
      "\"Removed 4382 rows containing non-finite values (stat_smooth).\""
     ]
    },
    {
     "name": "stdout",
     "output_type": "stream",
     "text": [
      "  |                                                                      |   0%"
     ]
    },
    {
     "name": "stderr",
     "output_type": "stream",
     "text": [
      "Warning message:\n",
      "\"Removed 4382 rows containing non-finite values (stat_smooth).\""
     ]
    },
    {
     "name": "stdout",
     "output_type": "stream",
     "text": [
      "  |                                                                      |   0%"
     ]
    },
    {
     "name": "stderr",
     "output_type": "stream",
     "text": [
      "Warning message:\n",
      "\"Removed 4382 rows containing non-finite values (stat_smooth).\""
     ]
    },
    {
     "name": "stdout",
     "output_type": "stream",
     "text": [
      "  |                                                                      |   0%"
     ]
    },
    {
     "name": "stderr",
     "output_type": "stream",
     "text": [
      "Warning message:\n",
      "\"Removed 4382 rows containing non-finite values (stat_smooth).\""
     ]
    },
    {
     "name": "stdout",
     "output_type": "stream",
     "text": [
      "  |                                                                      |   0%"
     ]
    },
    {
     "name": "stderr",
     "output_type": "stream",
     "text": [
      "Warning message:\n",
      "\"Removed 4382 rows containing non-finite values (stat_smooth).\""
     ]
    },
    {
     "name": "stdout",
     "output_type": "stream",
     "text": [
      "  |                                                                      |   0%"
     ]
    },
    {
     "name": "stderr",
     "output_type": "stream",
     "text": [
      "Warning message:\n",
      "\"Removed 4397 rows containing non-finite values (stat_smooth).\"Warning message in simpleLoess(y, x, w, span, degree = degree, parametric = parametric, :\n",
      "\"pseudoinverse used at -0.06\"Warning message in simpleLoess(y, x, w, span, degree = degree, parametric = parametric, :\n",
      "\"neighborhood radius 2.06\"Warning message in simpleLoess(y, x, w, span, degree = degree, parametric = parametric, :\n",
      "\"reciprocal condition number  1.1175e-015\"Warning message in simpleLoess(y, x, w, span, degree = degree, parametric = parametric, :\n",
      "\"There are other near singularities as well. 4\"Warning message in predLoess(object$y, object$x, newx = if (is.null(newdata)) object$x else if (is.data.frame(newdata)) as.matrix(model.frame(delete.response(terms(object)), :\n",
      "\"pseudoinverse used at -0.06\"Warning message in predLoess(object$y, object$x, newx = if (is.null(newdata)) object$x else if (is.data.frame(newdata)) as.matrix(model.frame(delete.response(terms(object)), :\n",
      "\"neighborhood radius 2.06\"Warning message in predLoess(object$y, object$x, newx = if (is.null(newdata)) object$x else if (is.data.frame(newdata)) as.matrix(model.frame(delete.response(terms(object)), :\n",
      "\"reciprocal condition number  1.1175e-015\"Warning message in predLoess(object$y, object$x, newx = if (is.null(newdata)) object$x else if (is.data.frame(newdata)) as.matrix(model.frame(delete.response(terms(object)), :\n",
      "\"There are other near singularities as well. 4\""
     ]
    },
    {
     "name": "stdout",
     "output_type": "stream",
     "text": [
      "  |                                                                      |   0%"
     ]
    },
    {
     "name": "stderr",
     "output_type": "stream",
     "text": [
      "Warning message:\n",
      "\"Removed 4382 rows containing non-finite values (stat_smooth).\""
     ]
    },
    {
     "name": "stdout",
     "output_type": "stream",
     "text": [
      "  |                                                                      |   0%"
     ]
    },
    {
     "name": "stderr",
     "output_type": "stream",
     "text": [
      "Warning message:\n",
      "\"Removed 4382 rows containing non-finite values (stat_smooth).\""
     ]
    },
    {
     "name": "stdout",
     "output_type": "stream",
     "text": [
      "  |                                                                      |   0%"
     ]
    },
    {
     "name": "stderr",
     "output_type": "stream",
     "text": [
      "Warning message:\n",
      "\"Removed 4382 rows containing non-finite values (stat_smooth).\""
     ]
    },
    {
     "name": "stdout",
     "output_type": "stream",
     "text": [
      "\r",
      "  |                                                                            \r",
      "  |===================================================================== |  99%"
     ]
    },
    {
     "name": "stderr",
     "output_type": "stream",
     "text": [
      "Warning message in system(cmd, intern = intern, wait = wait | intern, show.output.on.console = wait, :\n",
      "\"running command 'C:\\WINDOWS\\system32\\cmd.exe /c explorer  report\\report.html' had status 1\""
     ]
    },
    {
     "data": {
      "text/html": [],
      "text/latex": [],
      "text/markdown": [],
      "text/plain": [
       "character(0)\n",
       "attr(,\"status\")\n",
       "[1] 1"
      ]
     },
     "metadata": {},
     "output_type": "display_data"
    }
   ],
   "source": [
    "exploreData(data= ff , y= \"revenue\")"
   ]
  },
  {
   "cell_type": "code",
   "execution_count": 85,
   "metadata": {},
   "outputs": [],
   "source": [
    "num_ff<- Filter(is.numeric, ff)\n"
   ]
  },
  {
   "cell_type": "code",
   "execution_count": 87,
   "metadata": {},
   "outputs": [
    {
     "name": "stderr",
     "output_type": "stream",
     "text": [
      "Warning message in cor(num_ff, use = \"pairwise.complete.obs\"):\n",
      "\"the standard deviation is zero\""
     ]
    },
    {
     "data": {
      "text/html": [
       "<table>\n",
       "<caption>A matrix: 82 × 82 of type dbl</caption>\n",
       "<thead>\n",
       "\t<tr><th></th><th scope=col>movie_id</th><th scope=col>budget</th><th scope=col>popularity</th><th scope=col>runtime</th><th scope=col>revenue</th><th scope=col>sw_lang_en</th><th scope=col>sw_web_presence</th><th scope=col>sw_has_poster</th><th scope=col>sw_tagline</th><th scope=col>keyword_cnt</th><th scope=col>...</th><th scope=col>depart_Camera_female</th><th scope=col>depart_Crew_female</th><th scope=col>depart_Custom_Mkup_female</th><th scope=col>depart_Directing_female</th><th scope=col>depart_Editing_female</th><th scope=col>depart_Lighting_female</th><th scope=col>depart_Production_female</th><th scope=col>depart_Sound_female</th><th scope=col>depart_Visual_Effects_female</th><th scope=col>depart_Writing_female</th></tr>\n",
       "</thead>\n",
       "<tbody>\n",
       "\t<tr><th scope=row>movie_id</th><td> 1.000000e+00</td><td> 0.0041642967</td><td> 0.005173858</td><td> 0.0009434593</td><td> 0.001214268</td><td> 0.001174848</td><td> 0.0044600272</td><td>0.004872709</td><td>-0.008195807</td><td> 0.006778693</td><td>...</td><td>-0.007189554</td><td>-0.003941264</td><td> 0.001253388</td><td>-4.049993e-03</td><td>-0.012235944</td><td>-0.014247136</td><td>-0.0034277694</td><td>-0.014787023</td><td> 0.013926136</td><td>-0.011770039</td></tr>\n",
       "\t<tr><th scope=row>budget</th><td> 4.164297e-03</td><td> 1.0000000000</td><td> 0.339388730</td><td> 0.2164879358</td><td> 0.752813373</td><td> 0.190399464</td><td> 0.2520384217</td><td>0.010093843</td><td> 0.210015551</td><td> 0.197089448</td><td>...</td><td> 0.040635270</td><td> 0.167460180</td><td> 0.289641502</td><td> 1.303634e-01</td><td> 0.048701873</td><td> 0.012807638</td><td> 0.3059896680</td><td> 0.111601108</td><td> 0.091701832</td><td> 0.056957463</td></tr>\n",
       "\t<tr><th scope=row>popularity</th><td> 5.173858e-03</td><td> 0.3393887304</td><td> 1.000000000</td><td> 0.1122494375</td><td> 0.461078462</td><td> 0.119449944</td><td> 0.1641094990</td><td>0.011544189</td><td> 0.155693159</td><td> 0.180578323</td><td>...</td><td> 0.064341187</td><td> 0.177099560</td><td> 0.174299071</td><td> 5.070417e-02</td><td> 0.059520360</td><td> 0.006528033</td><td> 0.1787165897</td><td> 0.077781853</td><td> 0.035534199</td><td> 0.035886995</td></tr>\n",
       "\t<tr><th scope=row>runtime</th><td> 9.434593e-04</td><td> 0.2164879358</td><td> 0.112249437</td><td> 1.0000000000</td><td> 0.216799905</td><td>-0.125600811</td><td> 0.0317906518</td><td>0.009655723</td><td> 0.003131133</td><td> 0.137429144</td><td>...</td><td>-0.007659585</td><td> 0.051709976</td><td> 0.131967473</td><td> 4.925078e-02</td><td> 0.056225454</td><td>-0.009393959</td><td> 0.0848086370</td><td> 0.066062518</td><td> 0.003993970</td><td> 0.018338430</td></tr>\n",
       "\t<tr><th scope=row>revenue</th><td> 1.214268e-03</td><td> 0.7528133727</td><td> 0.461078462</td><td> 0.2167999049</td><td> 1.000000000</td><td> 0.141707249</td><td> 0.2630542517</td><td>0.008874882</td><td> 0.179302534</td><td> 0.186847451</td><td>...</td><td> 0.030762556</td><td> 0.129546911</td><td> 0.255828534</td><td> 9.557185e-02</td><td> 0.005453434</td><td> 0.038038950</td><td> 0.2283043549</td><td> 0.093542540</td><td> 0.042701922</td><td> 0.119148278</td></tr>\n",
       "\t<tr><th scope=row>sw_lang_en</th><td> 1.174848e-03</td><td> 0.1903994638</td><td> 0.119449944</td><td>-0.1256008106</td><td> 0.141707249</td><td> 1.000000000</td><td> 0.0358338386</td><td>0.017001119</td><td> 0.399816033</td><td> 0.131497340</td><td>...</td><td> 0.046203818</td><td> 0.061462864</td><td> 0.185577128</td><td> 1.070781e-01</td><td> 0.078637346</td><td> 0.010576660</td><td> 0.2419091140</td><td> 0.071642335</td><td> 0.027940415</td><td> 0.052122042</td></tr>\n",
       "\t<tr><th scope=row>sw_web_presence</th><td> 4.460027e-03</td><td> 0.2520384217</td><td> 0.164109499</td><td> 0.0317906518</td><td> 0.263054252</td><td> 0.035833839</td><td> 1.0000000000</td><td>0.011308870</td><td> 0.058632588</td><td> 0.120796409</td><td>...</td><td> 0.044412124</td><td> 0.066090713</td><td> 0.110793543</td><td> 4.962399e-02</td><td> 0.008767938</td><td> 0.004510805</td><td> 0.1642876224</td><td> 0.086242512</td><td> 0.050098899</td><td> 0.039709632</td></tr>\n",
       "\t<tr><th scope=row>sw_has_poster</th><td> 4.872709e-03</td><td> 0.0100938427</td><td> 0.011544189</td><td> 0.0096557233</td><td> 0.008874882</td><td> 0.017001119</td><td> 0.0113088700</td><td>1.000000000</td><td> 0.012644048</td><td> 0.013870263</td><td>...</td><td>          NA</td><td>          NA</td><td>          NA</td><td>           NA</td><td>          NA</td><td>          NA</td><td>           NA</td><td>          NA</td><td>          NA</td><td>          NA</td></tr>\n",
       "\t<tr><th scope=row>sw_tagline</th><td>-8.195807e-03</td><td> 0.2100155506</td><td> 0.155693159</td><td> 0.0031311327</td><td> 0.179302534</td><td> 0.399816033</td><td> 0.0586325882</td><td>0.012644048</td><td> 1.000000000</td><td> 0.220826022</td><td>...</td><td> 0.019762259</td><td> 0.056877805</td><td> 0.171782285</td><td> 8.061299e-02</td><td> 0.061203878</td><td>-0.013439134</td><td> 0.1955807958</td><td> 0.062637455</td><td> 0.036848645</td><td> 0.041318312</td></tr>\n",
       "\t<tr><th scope=row>keyword_cnt</th><td> 6.778693e-03</td><td> 0.1970894481</td><td> 0.180578323</td><td> 0.1374291436</td><td> 0.186847451</td><td> 0.131497340</td><td> 0.1207964088</td><td>0.013870263</td><td> 0.220826022</td><td> 1.000000000</td><td>...</td><td> 0.040477946</td><td> 0.114306199</td><td> 0.187882111</td><td> 9.741971e-02</td><td> 0.085538841</td><td> 0.019930871</td><td> 0.2143332055</td><td> 0.085455798</td><td> 0.032810396</td><td> 0.043342645</td></tr>\n",
       "\t<tr><th scope=row>release_year</th><td>-1.200468e-03</td><td> 0.2201735230</td><td> 0.102231236</td><td>-0.0359047054</td><td> 0.138195138</td><td>-0.139315132</td><td> 0.3724414621</td><td>0.002786254</td><td>-0.095846766</td><td>-0.091863315</td><td>...</td><td> 0.064284009</td><td> 0.068595035</td><td> 0.088600836</td><td> 1.084442e-01</td><td> 0.012820447</td><td> 0.000592790</td><td> 0.2119991097</td><td> 0.079427391</td><td> 0.046247863</td><td> 0.035478866</td></tr>\n",
       "\t<tr><th scope=row>release_month</th><td> 1.691977e-02</td><td> 0.0373998743</td><td> 0.019352595</td><td> 0.1290560782</td><td> 0.020811243</td><td> 0.014318009</td><td>-0.0086201785</td><td>0.013222105</td><td> 0.014308057</td><td> 0.031550158</td><td>...</td><td> 0.006414069</td><td> 0.004682066</td><td> 0.032151823</td><td> 1.662898e-02</td><td> 0.025836625</td><td>-0.001892292</td><td> 0.0419764340</td><td> 0.022081836</td><td> 0.007484671</td><td> 0.010171779</td></tr>\n",
       "\t<tr><th scope=row>high_release_month</th><td> 1.168862e-03</td><td>-0.0750057432</td><td>-0.023066555</td><td> 0.0579669014</td><td>-0.085988198</td><td> 0.002640193</td><td>-0.0163482972</td><td>0.013440080</td><td>-0.021350995</td><td>-0.005449187</td><td>...</td><td> 0.013334217</td><td>-0.003565582</td><td> 0.008294154</td><td> 1.547636e-02</td><td> 0.023775270</td><td> 0.010645518</td><td> 0.0253698500</td><td> 0.022382833</td><td>-0.008282931</td><td> 0.016195067</td></tr>\n",
       "\t<tr><th scope=row>release_day</th><td> 2.953500e-02</td><td> 0.0332320567</td><td> 0.036665008</td><td> 0.0266801635</td><td> 0.045131991</td><td> 0.001988782</td><td>-0.0036326782</td><td>0.001691497</td><td> 0.021558767</td><td> 0.012657228</td><td>...</td><td> 0.002680289</td><td> 0.006429491</td><td> 0.003131574</td><td> 1.282991e-02</td><td> 0.002838848</td><td> 0.004122337</td><td>-0.0004817254</td><td> 0.007157014</td><td> 0.006199588</td><td> 0.018362431</td></tr>\n",
       "\t<tr><th scope=row>seasonality</th><td> 2.531736e-02</td><td> 0.1744904780</td><td> 0.074854386</td><td> 0.1076548187</td><td> 0.201610546</td><td> 0.011147423</td><td>-0.0009158983</td><td>0.001815836</td><td> 0.048319386</td><td> 0.071171202</td><td>...</td><td>-0.013748341</td><td> 0.025181478</td><td> 0.036830717</td><td>-7.696101e-05</td><td> 0.010876337</td><td>-0.019103797</td><td> 0.0171765242</td><td>-0.004600654</td><td> 0.019239528</td><td>-0.003500293</td></tr>\n",
       "\t<tr><th scope=row>sw_collection</th><td> 7.626117e-03</td><td> 0.1228671116</td><td> 0.083577549</td><td> 0.0354513357</td><td> 0.132115334</td><td>-0.025081027</td><td> 0.0776711549</td><td>0.002728681</td><td> 0.039326905</td><td> 0.032424413</td><td>...</td><td> 0.019077803</td><td> 0.039267510</td><td> 0.086101786</td><td> 3.310637e-02</td><td> 0.016845482</td><td> 0.025140351</td><td> 0.0693511764</td><td> 0.014531509</td><td> 0.042180358</td><td> 0.008347546</td></tr>\n",
       "\t<tr><th scope=row>producers_cnt</th><td> 1.864794e-02</td><td> 0.1874306696</td><td> 0.104617180</td><td> 0.0725876116</td><td> 0.129237116</td><td>-0.058093941</td><td> 0.1677607364</td><td>0.010654589</td><td> 0.038644331</td><td> 0.117025270</td><td>...</td><td> 0.030338562</td><td> 0.067684679</td><td> 0.158626963</td><td> 7.532884e-02</td><td> 0.053920820</td><td> 0.016217170</td><td> 0.2258531510</td><td> 0.055824666</td><td> 0.040759303</td><td> 0.019760954</td></tr>\n",
       "\t<tr><th scope=row>countries_cnt</th><td> 2.284896e-03</td><td> 0.0986858515</td><td> 0.071896406</td><td> 0.1008797064</td><td> 0.052137673</td><td>-0.060141672</td><td> 0.0633775083</td><td>0.017412314</td><td> 0.035122357</td><td> 0.106302706</td><td>...</td><td> 0.005621682</td><td> 0.023903655</td><td> 0.045121512</td><td> 2.507776e-02</td><td> 0.020605604</td><td> 0.002145500</td><td> 0.1186674451</td><td> 0.023063032</td><td> 0.022327171</td><td> 0.026379234</td></tr>\n",
       "\t<tr><th scope=row>lang_US</th><td>-1.024099e-02</td><td> 0.1866443465</td><td> 0.134444514</td><td>-0.0878030072</td><td> 0.133601018</td><td> 0.774472926</td><td> 0.0462757530</td><td>0.043277525</td><td> 0.417120927</td><td> 0.162537895</td><td>...</td><td> 0.047931437</td><td> 0.060931341</td><td> 0.180888596</td><td> 1.036012e-01</td><td> 0.095122537</td><td> 0.009943377</td><td> 0.2353365817</td><td> 0.068084262</td><td> 0.025387617</td><td> 0.058635875</td></tr>\n",
       "\t<tr><th scope=row>lang_FR</th><td>-1.084888e-03</td><td> 0.0004019011</td><td>-0.001816200</td><td> 0.0652460411</td><td> 0.006093645</td><td>-0.156921602</td><td> 0.0021568554</td><td>0.005379726</td><td>-0.046312495</td><td> 0.024075055</td><td>...</td><td>-0.020436620</td><td> 0.011718856</td><td>-0.011040226</td><td> 3.062121e-03</td><td> 0.035007959</td><td>-0.008516031</td><td> 0.0016003256</td><td> 0.001641185</td><td>-0.009601984</td><td> 0.033102211</td></tr>\n",
       "\t<tr><th scope=row>lang_RU</th><td>-1.816392e-02</td><td> 0.0115147120</td><td>-0.018476687</td><td> 0.0354470334</td><td>-0.007004130</td><td>-0.146107663</td><td>-0.0050103619</td><td>0.003720135</td><td>-0.093862248</td><td>-0.038234001</td><td>...</td><td>-0.009927178</td><td> 0.022796096</td><td>-0.006661865</td><td>-9.090005e-03</td><td>-0.016488244</td><td>-0.005893824</td><td>-0.0159891112</td><td>-0.008368051</td><td> 0.006669888</td><td>-0.029271445</td></tr>\n",
       "\t<tr><th scope=row>lang_ES</th><td>-1.176224e-02</td><td> 0.0231029182</td><td> 0.008422825</td><td> 0.0440678917</td><td> 0.023694771</td><td>-0.063684712</td><td>-0.0132924325</td><td>0.004716654</td><td> 0.014594878</td><td> 0.045061482</td><td>...</td><td>-0.001278843</td><td> 0.009475596</td><td> 0.020909040</td><td> 1.911351e-02</td><td> 0.003402204</td><td> 0.012261203</td><td> 0.0315859526</td><td> 0.008128451</td><td>-0.009244901</td><td>-0.011830877</td></tr>\n",
       "\t<tr><th scope=row>lang_JA</th><td>-9.936818e-03</td><td> 0.0065325324</td><td> 0.015145198</td><td> 0.0587755246</td><td>-0.003361731</td><td>-0.202622694</td><td> 0.0471960089</td><td>0.002777910</td><td>-0.029420556</td><td> 0.012028104</td><td>...</td><td>-0.006564238</td><td> 0.002278158</td><td>-0.036672707</td><td>-2.140976e-02</td><td>-0.001610945</td><td>-0.004402659</td><td>-0.0267157323</td><td> 0.007701981</td><td> 0.002511511</td><td>-0.029914282</td></tr>\n",
       "\t<tr><th scope=row>keywords_cnt</th><td> 6.778693e-03</td><td> 0.1970894481</td><td> 0.180578323</td><td> 0.1374291436</td><td> 0.186847451</td><td> 0.131497340</td><td> 0.1207964088</td><td>0.013870263</td><td> 0.220826022</td><td> 1.000000000</td><td>...</td><td> 0.040477946</td><td> 0.114306199</td><td> 0.187882111</td><td> 9.741971e-02</td><td> 0.085538841</td><td> 0.019930871</td><td> 0.2143332055</td><td> 0.085455798</td><td> 0.032810396</td><td> 0.043342645</td></tr>\n",
       "\t<tr><th scope=row>actor0_movies_cnt</th><td> 2.199844e-02</td><td> 0.3198839873</td><td> 0.166876649</td><td> 0.0614065421</td><td> 0.216346892</td><td> 0.233567267</td><td> 0.1715349086</td><td>0.013209329</td><td> 0.156929215</td><td> 0.078637713</td><td>...</td><td> 0.047083888</td><td> 0.086398424</td><td> 0.191705170</td><td> 1.040699e-01</td><td> 0.061031940</td><td> 0.029612163</td><td> 0.2585876050</td><td> 0.086624031</td><td> 0.051148670</td><td> 0.007055463</td></tr>\n",
       "\t<tr><th scope=row>actor0_movies_5y_cnt</th><td> 1.243901e-02</td><td> 0.2968488618</td><td> 0.153435701</td><td> 0.0507253956</td><td> 0.199516664</td><td> 0.247134442</td><td> 0.1590276341</td><td>0.015091868</td><td> 0.179459862</td><td> 0.086394439</td><td>...</td><td> 0.064722450</td><td> 0.086082449</td><td> 0.199839509</td><td> 1.052812e-01</td><td> 0.057986528</td><td> 0.020878662</td><td> 0.2753303320</td><td> 0.099334223</td><td> 0.041272568</td><td> 0.032948387</td></tr>\n",
       "\t<tr><th scope=row>actor1_movies_cnt</th><td> 1.686023e-02</td><td> 0.2872353016</td><td> 0.141839033</td><td> 0.0435718495</td><td> 0.194883514</td><td> 0.213727808</td><td> 0.1829226436</td><td>0.011724187</td><td> 0.129353003</td><td> 0.054095895</td><td>...</td><td> 0.031768918</td><td> 0.072888368</td><td> 0.177229851</td><td> 1.109420e-01</td><td> 0.065003792</td><td> 0.010201539</td><td> 0.2297422895</td><td> 0.077042347</td><td> 0.039157408</td><td> 0.037851787</td></tr>\n",
       "\t<tr><th scope=row>actor1_movies_5y_cnt</th><td> 2.426009e-02</td><td> 0.2913125346</td><td> 0.153697974</td><td> 0.0555915124</td><td> 0.213215310</td><td> 0.233855262</td><td> 0.1726348475</td><td>0.013252009</td><td> 0.154152781</td><td> 0.080954394</td><td>...</td><td> 0.049133093</td><td> 0.087317926</td><td> 0.207290683</td><td> 1.446315e-01</td><td> 0.077414815</td><td> 0.010481665</td><td> 0.2628375161</td><td> 0.096685319</td><td> 0.041649585</td><td> 0.040948896</td></tr>\n",
       "\t<tr><th scope=row>actor2_movies_cnt</th><td> 9.568621e-05</td><td> 0.2809264082</td><td> 0.152012010</td><td> 0.0336873255</td><td> 0.177357681</td><td> 0.218024817</td><td> 0.1744072873</td><td>0.011070589</td><td> 0.129179485</td><td> 0.045520558</td><td>...</td><td> 0.031475836</td><td> 0.092365118</td><td> 0.179494392</td><td> 1.173303e-01</td><td> 0.070639272</td><td>-0.005123267</td><td> 0.2522205959</td><td> 0.092684632</td><td> 0.040100440</td><td> 0.028701102</td></tr>\n",
       "\t<tr><th scope=row>actor2_movies_5y_cnt</th><td>-4.077075e-03</td><td> 0.3038197877</td><td> 0.143836659</td><td> 0.0469708392</td><td> 0.215997573</td><td> 0.229505146</td><td> 0.1653938103</td><td>0.012327019</td><td> 0.159317681</td><td> 0.069739017</td><td>...</td><td> 0.029818848</td><td> 0.081809831</td><td> 0.195294856</td><td> 1.120652e-01</td><td> 0.075068973</td><td>-0.001261169</td><td> 0.2650974706</td><td> 0.098391929</td><td> 0.035330059</td><td> 0.033213170</td></tr>\n",
       "\t<tr><th scope=row>...</th><td>...</td><td>...</td><td>...</td><td>...</td><td>...</td><td>...</td><td>...</td><td>...</td><td>...</td><td>...</td><td></td><td>...</td><td>...</td><td>...</td><td>...</td><td>...</td><td>...</td><td>...</td><td>...</td><td>...</td><td>...</td></tr>\n",
       "\t<tr><th scope=row>genre_documentary</th><td>-0.0009454194</td><td>-0.102240489</td><td>-0.080669674</td><td>-0.081304424</td><td>-0.078246795</td><td> 0.03231209</td><td> 0.092357888</td><td>0.002894773</td><td>-0.101845129</td><td>-0.075125345</td><td>...</td><td> 0.041271884</td><td>-0.026608645</td><td>-0.09537268</td><td>-0.007646233</td><td>-0.035185052</td><td>-0.004588769</td><td>-0.106214322</td><td>-0.028813838</td><td>-0.015718556</td><td>-0.041135616</td></tr>\n",
       "\t<tr><th scope=row>genre_science_fiction</th><td> 0.0068597880</td><td> 0.198761109</td><td> 0.098665686</td><td>-0.021265124</td><td> 0.132053541</td><td> 0.05152587</td><td> 0.045942426</td><td>0.005516833</td><td> 0.092484475</td><td> 0.093322362</td><td>...</td><td> 0.003197931</td><td> 0.049792854</td><td> 0.07594468</td><td> 0.007452290</td><td>-0.023062424</td><td>-0.008695055</td><td> 0.073226841</td><td> 0.015776961</td><td> 0.013515899</td><td>-0.036893834</td></tr>\n",
       "\t<tr><th scope=row>genre_mystery</th><td>-0.0058711260</td><td> 0.008471006</td><td> 0.023180768</td><td> 0.029637918</td><td>-0.015008715</td><td> 0.03187456</td><td>-0.023475435</td><td>0.004675444</td><td> 0.057962865</td><td> 0.053768925</td><td>...</td><td>-0.004341103</td><td> 0.025660516</td><td> 0.05002485</td><td>-0.001684840</td><td> 0.027804780</td><td>-0.007422371</td><td> 0.049915490</td><td> 0.018902220</td><td> 0.007475537</td><td>-0.019939503</td></tr>\n",
       "\t<tr><th scope=row>genre_music</th><td> 0.0046223379</td><td>-0.043700682</td><td>-0.027498586</td><td> 0.029725594</td><td>-0.032431372</td><td> 0.04927325</td><td>-0.017964909</td><td>0.003192088</td><td> 0.013187553</td><td>-0.001711621</td><td>...</td><td> 0.002941677</td><td>-0.015397071</td><td>-0.02878129</td><td> 0.000586659</td><td> 0.024002896</td><td>-0.005052245</td><td>-0.029669718</td><td>-0.006862003</td><td>-0.001841216</td><td> 0.027884346</td></tr>\n",
       "\t<tr><th scope=row>genre_romance</th><td> 0.0074431866</td><td>-0.100608018</td><td>-0.063047300</td><td> 0.070620530</td><td>-0.050004467</td><td>-0.00672949</td><td>-0.056360477</td><td>0.008095163</td><td>-0.030590324</td><td>-0.057099248</td><td>...</td><td> 0.006482975</td><td>-0.023838119</td><td>-0.02385309</td><td> 0.046332304</td><td> 0.053599604</td><td>-0.012851974</td><td>-0.008426604</td><td>-0.001450345</td><td>-0.011263266</td><td> 0.109776441</td></tr>\n",
       "\t<tr><th scope=row>genre_family</th><td> 0.0083288000</td><td> 0.196235230</td><td> 0.068731732</td><td>-0.154062377</td><td> 0.161393817</td><td> 0.07446786</td><td> 0.056155038</td><td>0.005227660</td><td> 0.055700977</td><td>-0.032782051</td><td>...</td><td>-0.005566009</td><td>-0.015826027</td><td>-0.06689319</td><td>-0.032373793</td><td>-0.003465734</td><td> 0.009837811</td><td>-0.037161595</td><td>-0.028541320</td><td> 0.036701885</td><td> 0.066602159</td></tr>\n",
       "\t<tr><th scope=row>genre_war</th><td>-0.0055805028</td><td> 0.019815315</td><td> 0.013445752</td><td> 0.168733130</td><td>-0.022914789</td><td>-0.04970744</td><td>-0.012793067</td><td>0.003040117</td><td>-0.008594501</td><td> 0.014776936</td><td>...</td><td>-0.010213587</td><td> 0.007747371</td><td> 0.00755880</td><td>-0.013834994</td><td> 0.018250960</td><td>-0.004820193</td><td>-0.009984343</td><td> 0.011686858</td><td>-0.008432817</td><td>-0.034902242</td></tr>\n",
       "\t<tr><th scope=row>genre_foreign</th><td> 0.0072884026</td><td>-0.061642135</td><td>-0.067070386</td><td> 0.046639674</td><td>-0.048318329</td><td>-0.12181650</td><td>-0.018933524</td><td>0.001767824</td><td>-0.143617976</td><td>-0.091211218</td><td>...</td><td>-0.015132125</td><td>-0.020659369</td><td>-0.05444533</td><td>-0.035382510</td><td>-0.029409525</td><td>-0.002808772</td><td>-0.075086414</td><td>-0.018814382</td><td>-0.009621281</td><td>-0.024117477</td></tr>\n",
       "\t<tr><th scope=row>depart_Art</th><td>-0.0061790614</td><td> 0.480601001</td><td> 0.285623249</td><td> 0.181598355</td><td> 0.368064990</td><td> 0.17846947</td><td> 0.151037542</td><td>         NA</td><td> 0.195229082</td><td> 0.245971285</td><td>...</td><td> 0.091539438</td><td> 0.303140130</td><td> 0.48438922</td><td> 0.265510703</td><td> 0.127267859</td><td> 0.053848493</td><td> 0.482692840</td><td> 0.248134322</td><td> 0.146834113</td><td> 0.042765547</td></tr>\n",
       "\t<tr><th scope=row>depart_Camera</th><td>-0.0062160832</td><td> 0.350326858</td><td> 0.261362264</td><td> 0.163412305</td><td> 0.304723381</td><td> 0.14133815</td><td> 0.131719926</td><td>         NA</td><td> 0.174399513</td><td> 0.231999204</td><td>...</td><td> 0.115095704</td><td> 0.278338086</td><td> 0.41297141</td><td> 0.264373457</td><td> 0.139692944</td><td> 0.074613000</td><td> 0.409758022</td><td> 0.270114184</td><td> 0.156736497</td><td> 0.025037581</td></tr>\n",
       "\t<tr><th scope=row>depart_Crew</th><td>-0.0116860264</td><td> 0.356345024</td><td> 0.261030264</td><td> 0.132355633</td><td> 0.276243086</td><td> 0.11227154</td><td> 0.105334662</td><td>         NA</td><td> 0.144099691</td><td> 0.209395739</td><td>...</td><td> 0.064138416</td><td> 0.454384755</td><td> 0.36911952</td><td> 0.198301823</td><td> 0.094836914</td><td> 0.128922112</td><td> 0.356356779</td><td> 0.208384570</td><td> 0.141897425</td><td> 0.019585373</td></tr>\n",
       "\t<tr><th scope=row>depart_Custom_Mkup</th><td>-0.0011404177</td><td> 0.384105942</td><td> 0.277343633</td><td> 0.184889485</td><td> 0.314090665</td><td> 0.15823255</td><td> 0.181575784</td><td>         NA</td><td> 0.174500907</td><td> 0.215444970</td><td>...</td><td> 0.091561819</td><td> 0.271273195</td><td> 0.55812527</td><td> 0.271105410</td><td> 0.131351776</td><td> 0.046484782</td><td> 0.440170815</td><td> 0.267555630</td><td> 0.134142408</td><td> 0.031728555</td></tr>\n",
       "\t<tr><th scope=row>depart_Directing</th><td>-0.0040124796</td><td> 0.217174074</td><td> 0.156929142</td><td> 0.066224226</td><td> 0.198346886</td><td> 0.07125769</td><td> 0.089496250</td><td>         NA</td><td> 0.114640736</td><td> 0.167040697</td><td>...</td><td> 0.079733782</td><td> 0.166762096</td><td> 0.24289645</td><td> 0.299808599</td><td> 0.121386545</td><td> 0.036964618</td><td> 0.239835382</td><td> 0.165852127</td><td> 0.152800769</td><td> 0.060119868</td></tr>\n",
       "\t<tr><th scope=row>depart_Editing</th><td>-0.0023947659</td><td> 0.363595921</td><td> 0.239014882</td><td> 0.166501488</td><td> 0.319266481</td><td> 0.15890455</td><td> 0.155089453</td><td>         NA</td><td> 0.186904602</td><td> 0.258154719</td><td>...</td><td> 0.118488791</td><td> 0.258375585</td><td> 0.41160867</td><td> 0.239759400</td><td> 0.220142077</td><td> 0.112448304</td><td> 0.418672002</td><td> 0.260171908</td><td> 0.146099882</td><td> 0.034180153</td></tr>\n",
       "\t<tr><th scope=row>depart_Lighting</th><td>-0.0108179240</td><td> 0.330377900</td><td> 0.220805040</td><td> 0.108919687</td><td> 0.259418397</td><td> 0.10841255</td><td> 0.111738206</td><td>         NA</td><td> 0.125198496</td><td> 0.179719787</td><td>...</td><td> 0.074432774</td><td> 0.315607322</td><td> 0.34882754</td><td> 0.190287205</td><td> 0.099319251</td><td> 0.117789993</td><td> 0.330045282</td><td> 0.215485126</td><td> 0.161794716</td><td> 0.018226868</td></tr>\n",
       "\t<tr><th scope=row>depart_Production</th><td>-0.0023995834</td><td> 0.348010694</td><td> 0.238987925</td><td> 0.121516626</td><td> 0.297280025</td><td> 0.18998313</td><td> 0.205089739</td><td>         NA</td><td> 0.213476879</td><td> 0.276752435</td><td>...</td><td> 0.084511265</td><td> 0.261719513</td><td> 0.42250507</td><td> 0.236964922</td><td> 0.144934489</td><td> 0.052022645</td><td> 0.653117227</td><td> 0.217031293</td><td> 0.116167895</td><td> 0.049214891</td></tr>\n",
       "\t<tr><th scope=row>depart_Sound</th><td>-0.0107695943</td><td> 0.365429311</td><td> 0.237759584</td><td> 0.155061628</td><td> 0.305644278</td><td> 0.13588439</td><td> 0.151351096</td><td>         NA</td><td> 0.175359041</td><td> 0.242387815</td><td>...</td><td> 0.105562916</td><td> 0.285236238</td><td> 0.42667511</td><td> 0.250766375</td><td> 0.139715464</td><td> 0.078258660</td><td> 0.419214181</td><td> 0.324880846</td><td> 0.151094962</td><td> 0.030204216</td></tr>\n",
       "\t<tr><th scope=row>depart_Visual_Effects</th><td> 0.0005636036</td><td> 0.406098716</td><td> 0.256860713</td><td> 0.037777155</td><td> 0.350648731</td><td> 0.08287162</td><td> 0.191853844</td><td>         NA</td><td> 0.109816487</td><td> 0.127841182</td><td>...</td><td> 0.054815887</td><td> 0.157628812</td><td> 0.19909314</td><td> 0.110282406</td><td> 0.029374746</td><td> 0.092977699</td><td> 0.219983802</td><td> 0.156901979</td><td> 0.259122157</td><td> 0.041615029</td></tr>\n",
       "\t<tr><th scope=row>depart_Writing</th><td> 0.0012589926</td><td> 0.288956946</td><td> 0.159101074</td><td> 0.055795952</td><td> 0.258885445</td><td> 0.03530461</td><td> 0.066107925</td><td>         NA</td><td> 0.126144738</td><td> 0.130901626</td><td>...</td><td> 0.017105350</td><td> 0.081799807</td><td> 0.10993536</td><td> 0.053843519</td><td> 0.012560522</td><td> 0.034931892</td><td> 0.120770941</td><td> 0.065324757</td><td> 0.069324981</td><td> 0.166895165</td></tr>\n",
       "\t<tr><th scope=row>depart_Art_female</th><td>-0.0125033162</td><td> 0.240198068</td><td> 0.137686896</td><td> 0.083856153</td><td> 0.179350737</td><td> 0.15034602</td><td> 0.088292150</td><td>         NA</td><td> 0.122342427</td><td> 0.127408078</td><td>...</td><td> 0.113806049</td><td> 0.182442300</td><td> 0.33004942</td><td> 0.228384765</td><td> 0.126882132</td><td> 0.054495308</td><td> 0.405293363</td><td> 0.147648671</td><td> 0.045031581</td><td> 0.067732993</td></tr>\n",
       "\t<tr><th scope=row>depart_Camera_female</th><td>-0.0071895538</td><td> 0.040635270</td><td> 0.064341187</td><td>-0.007659585</td><td> 0.030762556</td><td> 0.04620382</td><td> 0.044412124</td><td>         NA</td><td> 0.019762259</td><td> 0.040477946</td><td>...</td><td> 1.000000000</td><td> 0.059620059</td><td> 0.09351920</td><td> 0.097404885</td><td> 0.046510557</td><td>-0.003671928</td><td> 0.099493843</td><td> 0.053719761</td><td> 0.066849895</td><td> 0.017488340</td></tr>\n",
       "\t<tr><th scope=row>depart_Crew_female</th><td>-0.0039412638</td><td> 0.167460180</td><td> 0.177099560</td><td> 0.051709976</td><td> 0.129546911</td><td> 0.06146286</td><td> 0.066090713</td><td>         NA</td><td> 0.056877805</td><td> 0.114306199</td><td>...</td><td> 0.059620059</td><td> 1.000000000</td><td> 0.24228083</td><td> 0.122882643</td><td> 0.108280907</td><td> 0.306205323</td><td> 0.231046021</td><td> 0.130306552</td><td> 0.043008560</td><td> 0.026974175</td></tr>\n",
       "\t<tr><th scope=row>depart_Custom_Mkup_female</th><td> 0.0012533881</td><td> 0.289641502</td><td> 0.174299071</td><td> 0.131967473</td><td> 0.255828534</td><td> 0.18557713</td><td> 0.110793543</td><td>         NA</td><td> 0.171782285</td><td> 0.187882111</td><td>...</td><td> 0.093519205</td><td> 0.242280830</td><td> 1.00000000</td><td> 0.246311357</td><td> 0.156762711</td><td> 0.073995794</td><td> 0.424161874</td><td> 0.180809991</td><td> 0.059963055</td><td> 0.050099158</td></tr>\n",
       "\t<tr><th scope=row>depart_Directing_female</th><td>-0.0040499927</td><td> 0.130363358</td><td> 0.050704171</td><td> 0.049250783</td><td> 0.095571848</td><td> 0.10707806</td><td> 0.049623990</td><td>         NA</td><td> 0.080612992</td><td> 0.097419713</td><td>...</td><td> 0.097404885</td><td> 0.122882643</td><td> 0.24631136</td><td> 1.000000000</td><td> 0.118602038</td><td> 0.029553175</td><td> 0.285797975</td><td> 0.152595498</td><td> 0.049302864</td><td> 0.204653640</td></tr>\n",
       "\t<tr><th scope=row>depart_Editing_female</th><td>-0.0122359439</td><td> 0.048701873</td><td> 0.059520360</td><td> 0.056225454</td><td> 0.005453434</td><td> 0.07863735</td><td> 0.008767938</td><td>         NA</td><td> 0.061203878</td><td> 0.085538841</td><td>...</td><td> 0.046510557</td><td> 0.108280907</td><td> 0.15676271</td><td> 0.118602038</td><td> 1.000000000</td><td> 0.078658377</td><td> 0.191512269</td><td> 0.086992906</td><td> 0.021995803</td><td> 0.086802700</td></tr>\n",
       "\t<tr><th scope=row>depart_Lighting_female</th><td>-0.0142471361</td><td> 0.012807638</td><td> 0.006528033</td><td>-0.009393959</td><td> 0.038038950</td><td> 0.01057666</td><td> 0.004510805</td><td>         NA</td><td>-0.013439134</td><td> 0.019930871</td><td>...</td><td>-0.003671928</td><td> 0.306205323</td><td> 0.07399579</td><td> 0.029553175</td><td> 0.078658377</td><td> 1.000000000</td><td> 0.056175066</td><td> 0.108978180</td><td>-0.002334679</td><td> 0.005009139</td></tr>\n",
       "\t<tr><th scope=row>depart_Production_female</th><td>-0.0034277694</td><td> 0.305989668</td><td> 0.178716590</td><td> 0.084808637</td><td> 0.228304355</td><td> 0.24190911</td><td> 0.164287622</td><td>         NA</td><td> 0.195580796</td><td> 0.214333205</td><td>...</td><td> 0.099493843</td><td> 0.231046021</td><td> 0.42416187</td><td> 0.285797975</td><td> 0.191512269</td><td> 0.056175066</td><td> 1.000000000</td><td> 0.193681824</td><td> 0.087608519</td><td> 0.125090843</td></tr>\n",
       "\t<tr><th scope=row>depart_Sound_female</th><td>-0.0147870232</td><td> 0.111601108</td><td> 0.077781853</td><td> 0.066062518</td><td> 0.093542540</td><td> 0.07164234</td><td> 0.086242512</td><td>         NA</td><td> 0.062637455</td><td> 0.085455798</td><td>...</td><td> 0.053719761</td><td> 0.130306552</td><td> 0.18080999</td><td> 0.152595498</td><td> 0.086992906</td><td> 0.108978180</td><td> 0.193681824</td><td> 1.000000000</td><td> 0.073357933</td><td> 0.037960926</td></tr>\n",
       "\t<tr><th scope=row>depart_Visual_Effects_female</th><td> 0.0139261364</td><td> 0.091701832</td><td> 0.035534199</td><td> 0.003993970</td><td> 0.042701922</td><td> 0.02794041</td><td> 0.050098899</td><td>         NA</td><td> 0.036848645</td><td> 0.032810396</td><td>...</td><td> 0.066849895</td><td> 0.043008560</td><td> 0.05996306</td><td> 0.049302864</td><td> 0.021995803</td><td>-0.002334679</td><td> 0.087608519</td><td> 0.073357933</td><td> 1.000000000</td><td> 0.019350120</td></tr>\n",
       "\t<tr><th scope=row>depart_Writing_female</th><td>-0.0117700389</td><td> 0.056957463</td><td> 0.035886995</td><td> 0.018338430</td><td> 0.119148278</td><td> 0.05212204</td><td> 0.039709632</td><td>         NA</td><td> 0.041318312</td><td> 0.043342645</td><td>...</td><td> 0.017488340</td><td> 0.026974175</td><td> 0.05009916</td><td> 0.204653640</td><td> 0.086802700</td><td> 0.005009139</td><td> 0.125090843</td><td> 0.037960926</td><td> 0.019350120</td><td> 1.000000000</td></tr>\n",
       "</tbody>\n",
       "</table>\n"
      ],
      "text/latex": [
       "A matrix: 82 × 82 of type dbl\n",
       "\\begin{tabular}{r|llllllllllllllllllllllllllllllllllllllllllllllllllllllllllllllllllllllllllllllllll}\n",
       "  & movie\\_id & budget & popularity & runtime & revenue & sw\\_lang\\_en & sw\\_web\\_presence & sw\\_has\\_poster & sw\\_tagline & keyword\\_cnt & release\\_year & release\\_month & high\\_release\\_month & release\\_day & seasonality & sw\\_collection & producers\\_cnt & countries\\_cnt & lang\\_US & lang\\_FR & lang\\_RU & lang\\_ES & lang\\_JA & keywords\\_cnt & actor0\\_movies\\_cnt & actor0\\_movies\\_5y\\_cnt & actor1\\_movies\\_cnt & actor1\\_movies\\_5y\\_cnt & actor2\\_movies\\_cnt & actor2\\_movies\\_5y\\_cnt & sw\\_female\\_actor0 & sw\\_female\\_actor1 & sw\\_female\\_actor2 & sw\\_male\\_actor0 & sw\\_male\\_actor1 & sw\\_male\\_actor2 & actor0\\_prev\\_revenue & actor1\\_prev\\_revenue & actor2\\_prev\\_revenue & director\\_movies\\_cnt & director\\_movies\\_5y\\_cnt & genre\\_adventure & genre\\_fantasy & genre\\_animation & genre\\_drama & genre\\_horror & genre\\_action & genre\\_comedy & genre\\_history & genre\\_western & genre\\_thriller & genre\\_crime & genre\\_documentary & genre\\_science\\_fiction & genre\\_mystery & genre\\_music & genre\\_romance & genre\\_family & genre\\_war & genre\\_foreign & depart\\_Art & depart\\_Camera & depart\\_Crew & depart\\_Custom\\_Mkup & depart\\_Directing & depart\\_Editing & depart\\_Lighting & depart\\_Production & depart\\_Sound & depart\\_Visual\\_Effects & depart\\_Writing & depart\\_Art\\_female & depart\\_Camera\\_female & depart\\_Crew\\_female & depart\\_Custom\\_Mkup\\_female & depart\\_Directing\\_female & depart\\_Editing\\_female & depart\\_Lighting\\_female & depart\\_Production\\_female & depart\\_Sound\\_female & depart\\_Visual\\_Effects\\_female & depart\\_Writing\\_female\\\\\n",
       "\\hline\n",
       "\tmovie\\_id &  1.000000e+00 &  0.0041642967 &  0.005173858 &  0.0009434593 &  0.001214268 &  0.001174848 &  0.0044600272 & 0.004872709 & -0.008195807 &  0.006778693 & -0.001200468 &  0.0169197671 &  0.001168862 &  0.029535004 &  0.0253173558 &  0.007626117 &  0.0186479433 &  0.002284896 & -0.010240990 & -0.0010848885 & -0.018163917 & -0.011762240 & -0.009936818 &  0.006778693 &  0.021998437 &  0.012439013 &  0.016860228 &  0.024260089 &  9.568621e-05 & -0.004077075 & -0.0091482668 &  0.0250089479 &  8.590557e-03 & -0.0016317359 & -0.0264410672 & -6.320875e-05 &  0.010910399 &  0.0176413217 &  0.0004070562 &  0.006739570 &  0.008978784 &  0.008039874 &  0.0207621382 &  0.0102489889 & -1.790817e-02 &  0.001935237 & -0.016252882 &  0.021959373 & -0.018831759 & -0.001638600 & -0.020403560 & -0.0096018823 & -0.0009454194 &  0.006859788 & -0.0058711260 &  0.0046223379 &  0.007443187 &  0.008328800 & -0.005580503 &  0.007288403 & -0.006179061 & -0.006216083 & -0.0116860264 & -0.001140418 & -0.004012480 & -0.002394766 & -0.010817924 & -0.002399583 & -1.076959e-02 &  0.0005636036 &  0.001258993 & -0.012503316 & -0.007189554 & -0.003941264 &  0.001253388 & -4.049993e-03 & -0.012235944 & -0.014247136 & -0.0034277694 & -0.014787023 &  0.013926136 & -0.011770039\\\\\n",
       "\tbudget &  4.164297e-03 &  1.0000000000 &  0.339388730 &  0.2164879358 &  0.752813373 &  0.190399464 &  0.2520384217 & 0.010093843 &  0.210015551 &  0.197089448 &  0.220173523 &  0.0373998743 & -0.075005743 &  0.033232057 &  0.1744904780 &  0.122867112 &  0.1874306696 &  0.098685852 &  0.186644347 &  0.0004019011 &  0.011514712 &  0.023102918 &  0.006532532 &  0.197089448 &  0.319883987 &  0.296848862 &  0.287235302 &  0.291312535 &  2.809264e-01 &  0.303819788 & -0.0658713094 & -0.0015287647 &  2.360805e-02 &  0.1400409108 &  0.0905482503 &  7.698651e-02 &  0.298177731 &  0.2395804887 &  0.2912946307 &  0.324727960 &  0.273014787 &  0.366488638 &  0.2282996392 &  0.1642724828 & -1.871675e-01 & -0.086455982 &  0.267875504 & -0.051771230 &  0.007018456 & -0.000560028 &  0.052644703 & -0.0049559070 & -0.1022404893 &  0.198761109 &  0.0084710057 & -0.0437006820 & -0.100608018 &  0.196235230 &  0.019815315 & -0.061642135 &  0.480601001 &  0.350326858 &  0.3563450242 &  0.384105942 &  0.217174074 &  0.363595921 &  0.330377900 &  0.348010694 &  3.654293e-01 &  0.4060987163 &  0.288956946 &  0.240198068 &  0.040635270 &  0.167460180 &  0.289641502 &  1.303634e-01 &  0.048701873 &  0.012807638 &  0.3059896680 &  0.111601108 &  0.091701832 &  0.056957463\\\\\n",
       "\tpopularity &  5.173858e-03 &  0.3393887304 &  1.000000000 &  0.1122494375 &  0.461078462 &  0.119449944 &  0.1641094990 & 0.011544189 &  0.155693159 &  0.180578323 &  0.102231236 &  0.0193525955 & -0.023066555 &  0.036665008 &  0.0748543862 &  0.083577549 &  0.1046171803 &  0.071896406 &  0.134444514 & -0.0018161996 & -0.018476687 &  0.008422825 &  0.015145198 &  0.180578323 &  0.166876649 &  0.153435701 &  0.141839033 &  0.153697974 &  1.520120e-01 &  0.143836659 & -0.0001995834 &  0.0101389832 & -1.709458e-03 &  0.0563479754 &  0.0549887627 &  6.770660e-02 &  0.180024379 &  0.1315686628 &  0.1701949521 &  0.121315408 &  0.132459947 &  0.146726074 &  0.0981777845 &  0.0794704717 & -7.334537e-02 &  0.012252571 &  0.104249563 & -0.044129890 & -0.005602980 &  0.003160654 &  0.056661851 &  0.0202232939 & -0.0806696739 &  0.098665686 &  0.0231807679 & -0.0274985859 & -0.063047300 &  0.068731732 &  0.013445752 & -0.067070386 &  0.285623249 &  0.261362264 &  0.2610302642 &  0.277343633 &  0.156929142 &  0.239014882 &  0.220805040 &  0.238987925 &  2.377596e-01 &  0.2568607131 &  0.159101074 &  0.137686896 &  0.064341187 &  0.177099560 &  0.174299071 &  5.070417e-02 &  0.059520360 &  0.006528033 &  0.1787165897 &  0.077781853 &  0.035534199 &  0.035886995\\\\\n",
       "\truntime &  9.434593e-04 &  0.2164879358 &  0.112249437 &  1.0000000000 &  0.216799905 & -0.125600811 &  0.0317906518 & 0.009655723 &  0.003131133 &  0.137429144 & -0.035904705 &  0.1290560782 &  0.057966901 &  0.026680164 &  0.1076548187 &  0.035451336 &  0.0725876116 &  0.100879706 & -0.087803007 &  0.0652460411 &  0.035447033 &  0.044067892 &  0.058775525 &  0.137429144 &  0.061406542 &  0.050725396 &  0.043571849 &  0.055591512 &  3.368733e-02 &  0.046970839 & -0.0652685190 &  0.0073039677 &  1.907608e-02 &  0.0883470072 &  0.0509082879 &  1.634448e-02 &  0.029438495 &  0.0382038988 &  0.0617850915 &  0.188397648 &  0.149631465 &  0.067374970 & -0.0192989139 & -0.1951964887 &  2.588082e-01 & -0.149614036 &  0.088106769 & -0.222273779 &  0.237503065 &  0.053213360 &  0.018344835 &  0.0340128132 & -0.0813044241 & -0.021265124 &  0.0296379181 &  0.0297255944 &  0.070620530 & -0.154062377 &  0.168733130 &  0.046639674 &  0.181598355 &  0.163412305 &  0.1323556335 &  0.184889485 &  0.066224226 &  0.166501488 &  0.108919687 &  0.121516626 &  1.550616e-01 &  0.0377771546 &  0.055795952 &  0.083856153 & -0.007659585 &  0.051709976 &  0.131967473 &  4.925078e-02 &  0.056225454 & -0.009393959 &  0.0848086370 &  0.066062518 &  0.003993970 &  0.018338430\\\\\n",
       "\trevenue &  1.214268e-03 &  0.7528133727 &  0.461078462 &  0.2167999049 &  1.000000000 &  0.141707249 &  0.2630542517 & 0.008874882 &  0.179302534 &  0.186847451 &  0.138195138 &  0.0208112431 & -0.085988198 &  0.045131991 &  0.2016105463 &  0.132115334 &  0.1292371164 &  0.052137673 &  0.133601018 &  0.0060936445 & -0.007004130 &  0.023694771 & -0.003361731 &  0.186847451 &  0.216346892 &  0.199516664 &  0.194883514 &  0.213215310 &  1.773577e-01 &  0.215997573 & -0.0351911688 &  0.0119154079 &  3.177851e-03 &  0.0882604872 &  0.0564681707 &  6.413725e-02 &  0.259681776 &  0.2032530821 &  0.2537075492 &  0.229668683 &  0.226064253 &  0.328130143 &  0.1707796256 &  0.1306220703 & -1.596568e-01 & -0.034426987 &  0.184064783 & -0.031550107 & -0.044425442 & -0.013604232 &  0.006335292 & -0.0231391150 & -0.0782467950 &  0.132053541 & -0.0150087154 & -0.0324313717 & -0.050004467 &  0.161393817 & -0.022914789 & -0.048318329 &  0.368064990 &  0.304723381 &  0.2762430864 &  0.314090665 &  0.198346886 &  0.319266481 &  0.259418397 &  0.297280025 &  3.056443e-01 &  0.3506487315 &  0.258885445 &  0.179350737 &  0.030762556 &  0.129546911 &  0.255828534 &  9.557185e-02 &  0.005453434 &  0.038038950 &  0.2283043549 &  0.093542540 &  0.042701922 &  0.119148278\\\\\n",
       "\tsw\\_lang\\_en &  1.174848e-03 &  0.1903994638 &  0.119449944 & -0.1256008106 &  0.141707249 &  1.000000000 &  0.0358338386 & 0.017001119 &  0.399816033 &  0.131497340 & -0.139315132 &  0.0143180087 &  0.002640193 &  0.001988782 &  0.0111474235 & -0.025081027 & -0.0580939406 & -0.060141672 &  0.774472926 & -0.1569216023 & -0.146107663 & -0.063684712 & -0.202622694 &  0.131497340 &  0.233567267 &  0.247134442 &  0.213727808 &  0.233855262 &  2.180248e-01 &  0.229505146 &  0.0244807135 &  0.0680618048 &  6.058957e-02 &  0.1327708603 &  0.0976125236 &  1.295548e-01 &  0.147695949 &  0.1195901235 &  0.1359518624 &  0.159508714 &  0.145073216 &  0.055709869 &  0.0090396179 & -0.0530823643 & -9.753129e-02 &  0.067070117 & -0.012469939 &  0.035875349 & -0.058554036 &  0.020222238 &  0.079126197 &  0.0305065555 &  0.0323120941 &  0.051525873 &  0.0318745611 &  0.0492732489 & -0.006729490 &  0.074467864 & -0.049707436 & -0.121816503 &  0.178469474 &  0.141338148 &  0.1122715411 &  0.158232552 &  0.071257694 &  0.158904553 &  0.108412550 &  0.189983133 &  1.358844e-01 &  0.0828716222 &  0.035304611 &  0.150346019 &  0.046203818 &  0.061462864 &  0.185577128 &  1.070781e-01 &  0.078637346 &  0.010576660 &  0.2419091140 &  0.071642335 &  0.027940415 &  0.052122042\\\\\n",
       "\tsw\\_web\\_presence &  4.460027e-03 &  0.2520384217 &  0.164109499 &  0.0317906518 &  0.263054252 &  0.035833839 &  1.0000000000 & 0.011308870 &  0.058632588 &  0.120796409 &  0.372441462 & -0.0086201785 & -0.016348297 & -0.003632678 & -0.0009158983 &  0.077671155 &  0.1677607364 &  0.063377508 &  0.046275753 &  0.0021568554 & -0.005010362 & -0.013292433 &  0.047196009 &  0.120796409 &  0.171534909 &  0.159027634 &  0.182922644 &  0.172634848 &  1.744073e-01 &  0.165393810 &  0.0375951554 &  0.0027887302 &  5.538104e-03 & -0.0421944914 & -0.0006812278 &  8.309092e-03 &  0.245411253 &  0.2026078914 &  0.2230124031 &  0.083012577 &  0.051849912 &  0.078186967 &  0.0622412584 &  0.1174874673 & -4.522305e-02 & -0.018915111 &  0.035688231 & -0.048428390 &  0.003677466 & -0.038342505 & -0.003901529 & -0.0306268851 &  0.0923578882 &  0.045942426 & -0.0234754350 & -0.0179649087 & -0.056360477 &  0.056155038 & -0.012793067 & -0.018933524 &  0.151037542 &  0.131719926 &  0.1053346620 &  0.181575784 &  0.089496250 &  0.155089453 &  0.111738206 &  0.205089739 &  1.513511e-01 &  0.1918538438 &  0.066107925 &  0.088292150 &  0.044412124 &  0.066090713 &  0.110793543 &  4.962399e-02 &  0.008767938 &  0.004510805 &  0.1642876224 &  0.086242512 &  0.050098899 &  0.039709632\\\\\n",
       "\tsw\\_has\\_poster &  4.872709e-03 &  0.0100938427 &  0.011544189 &  0.0096557233 &  0.008874882 &  0.017001119 &  0.0113088700 & 1.000000000 &  0.012644048 &  0.013870263 &  0.002786254 &  0.0132221052 &  0.013440080 &  0.001691497 &  0.0018158358 &  0.002728681 &  0.0106545885 &  0.017412314 &  0.043277525 &  0.0053797264 &  0.003720135 &  0.004716654 &  0.002777910 &  0.013870263 &  0.013209329 &  0.015091868 &  0.011724187 &  0.013252009 &  1.107059e-02 &  0.012327019 &            NA &  0.0096258820 &  8.803567e-03 &            NA &  0.0127443700 & -1.128968e-02 &           NA &            NA &            NA &  0.010191488 &  0.011646114 &  0.006954606 &  0.0050247834 &  0.0038493978 & -5.136423e-05 &  0.005479646 &  0.009134885 & -0.005057754 &  0.003361919 &  0.002091112 &  0.009595761 &  0.0068367182 &  0.0028947732 &  0.005516833 &  0.0046754444 &  0.0031920876 &  0.008095163 &  0.005227660 &  0.003040117 &  0.001767824 &           NA &           NA &            NA &           NA &           NA &           NA &           NA &           NA &            NA &            NA &           NA &           NA &           NA &           NA &           NA &            NA &           NA &           NA &            NA &           NA &           NA &           NA\\\\\n",
       "\tsw\\_tagline & -8.195807e-03 &  0.2100155506 &  0.155693159 &  0.0031311327 &  0.179302534 &  0.399816033 &  0.0586325882 & 0.012644048 &  1.000000000 &  0.220826022 & -0.095846766 &  0.0143080571 & -0.021350995 &  0.021558767 &  0.0483193863 &  0.039326905 &  0.0386443314 &  0.035122357 &  0.417120927 & -0.0463124953 & -0.093862248 &  0.014594878 & -0.029420556 &  0.220826022 &  0.156929215 &  0.179459862 &  0.129353003 &  0.154152781 &  1.291795e-01 &  0.159317681 &  0.0095201976 &  0.0462781598 &  3.781315e-02 &  0.1102212825 &  0.0808911051 &  9.924228e-02 &  0.093113679 &  0.0810623880 &  0.0483744946 &  0.121660720 &  0.148394672 &  0.076518513 &  0.0658883018 &  0.0103216969 & -1.020522e-01 &  0.108097534 &  0.071927670 &  0.006683430 & -0.024983749 &  0.021551261 &  0.126102601 &  0.0636765660 & -0.1018451291 &  0.092484475 &  0.0579628651 &  0.0131875534 & -0.030590324 &  0.055700977 & -0.008594501 & -0.143617976 &  0.195229082 &  0.174399513 &  0.1440996906 &  0.174500907 &  0.114640736 &  0.186904602 &  0.125198496 &  0.213476879 &  1.753590e-01 &  0.1098164865 &  0.126144738 &  0.122342427 &  0.019762259 &  0.056877805 &  0.171782285 &  8.061299e-02 &  0.061203878 & -0.013439134 &  0.1955807958 &  0.062637455 &  0.036848645 &  0.041318312\\\\\n",
       "\tkeyword\\_cnt &  6.778693e-03 &  0.1970894481 &  0.180578323 &  0.1374291436 &  0.186847451 &  0.131497340 &  0.1207964088 & 0.013870263 &  0.220826022 &  1.000000000 & -0.091863315 &  0.0315501580 & -0.005449187 &  0.012657228 &  0.0711712021 &  0.032424413 &  0.1170252701 &  0.106302706 &  0.162537895 &  0.0240750547 & -0.038234001 &  0.045061482 &  0.012028104 &  1.000000000 &  0.078637713 &  0.086394439 &  0.054095895 &  0.080954394 &  4.552056e-02 &  0.069739017 & -0.0017398363 &  0.0399020717 &  1.195456e-02 &  0.0478139062 &  0.0359586837 &  5.816010e-02 &  0.064109667 &  0.0375218669 &  0.0235624009 &  0.107535294 &  0.118597944 &  0.090196908 &  0.0451955602 &  0.0046769852 & -5.073170e-03 &  0.077782214 &  0.053962210 & -0.109503138 &  0.016362963 &  0.007811203 &  0.129633278 &  0.0500306670 & -0.0751253450 &  0.093322362 &  0.0537689253 & -0.0017116215 & -0.057099248 & -0.032782051 &  0.014776936 & -0.091211218 &  0.245971285 &  0.231999204 &  0.2093957392 &  0.215444970 &  0.167040697 &  0.258154719 &  0.179719787 &  0.276752435 &  2.423878e-01 &  0.1278411819 &  0.130901626 &  0.127408078 &  0.040477946 &  0.114306199 &  0.187882111 &  9.741971e-02 &  0.085538841 &  0.019930871 &  0.2143332055 &  0.085455798 &  0.032810396 &  0.043342645\\\\\n",
       "\trelease\\_year & -1.200468e-03 &  0.2201735230 &  0.102231236 & -0.0359047054 &  0.138195138 & -0.139315132 &  0.3724414621 & 0.002786254 & -0.095846766 & -0.091863315 &  1.000000000 & -0.0496960838 & -0.007950905 & -0.003016458 & -0.0786313816 &  0.078617919 &  0.3045806497 &  0.132072794 & -0.109008288 & -0.0115959264 &  0.041097915 & -0.019628459 &  0.041237584 & -0.091863315 &  0.296973467 &  0.281048276 &  0.303968143 &  0.293486758 &  2.927842e-01 &  0.275585381 &  0.0679216736 & -0.0190469655 &  4.032651e-02 & -0.0736979005 & -0.0061654832 & -5.527822e-02 &  0.373299869 &  0.3478302411 &  0.3323707150 &  0.084994137 &  0.006443422 & -0.025169801 &  0.0080356932 &  0.0539732180 & -2.435361e-02 & -0.014996706 &  0.008751247 &  0.021943656 & -0.033354462 & -0.134363052 &  0.036380646 & -0.0212960617 &  0.0731134391 & -0.004287082 & -0.0240026265 & -0.0723910886 & -0.073683121 &  0.007170432 & -0.053553153 &  0.024526699 &  0.109626323 &  0.102815351 &  0.0820621607 &  0.157022800 &  0.013044356 &  0.095317778 &  0.117203974 &  0.253127651 &  1.103837e-01 &  0.1394367749 & -0.062227819 &  0.131360674 &  0.064284009 &  0.068595035 &  0.088600836 &  1.084442e-01 &  0.012820447 &  0.000592790 &  0.2119991097 &  0.079427391 &  0.046247863 &  0.035478866\\\\\n",
       "\trelease\\_month &  1.691977e-02 &  0.0373998743 &  0.019352595 &  0.1290560782 &  0.020811243 &  0.014318009 & -0.0086201785 & 0.013222105 &  0.014308057 &  0.031550158 & -0.049696084 &  1.0000000000 &  0.692843861 & -0.001148041 &  0.2353826270 & -0.028692208 & -0.0005989008 &  0.018484214 &  0.021095212 &  0.0084927461 &  0.009258333 &  0.017695033 &  0.023864260 &  0.031550158 &  0.053132934 &  0.028541285 &  0.034474874 &  0.032944940 &  1.686602e-02 &  0.020108533 & -0.0227918157 &  0.0204376457 &  1.359863e-03 &  0.0273255856 & -0.0122438603 &  6.438407e-03 &  0.018657099 &  0.0198226511 &  0.0224762428 &  0.081512236 &  0.056111023 &  0.006323787 & -0.0003324081 &  0.0042317478 &  8.327172e-02 & -0.024956021 & -0.041554220 & -0.043049272 &  0.063940730 &  0.005512116 & -0.016414063 & -0.0200618673 & -0.0316206698 & -0.029023226 & -0.0099768408 &  0.0277691620 &  0.013778822 &  0.007776281 &  0.030689434 &  0.003421338 &  0.041393085 &  0.016204149 &  0.0083472688 &  0.041375409 &  0.035896443 &  0.045421598 &  0.014790352 &  0.033293181 &  2.823983e-02 &  0.0252387080 &  0.011112515 &  0.020005983 &  0.006414069 &  0.004682066 &  0.032151823 &  1.662898e-02 &  0.025836625 & -0.001892292 &  0.0419764340 &  0.022081836 &  0.007484671 &  0.010171779\\\\\n",
       "\thigh\\_release\\_month &  1.168862e-03 & -0.0750057432 & -0.023066555 &  0.0579669014 & -0.085988198 &  0.002640193 & -0.0163482972 & 0.013440080 & -0.021350995 & -0.005449187 & -0.007950905 &  0.6928438613 &  1.000000000 & -0.021506452 & -0.3667142255 & -0.019858769 &  0.0152660021 &  0.036892426 &  0.012446461 &  0.0054328884 &  0.015323812 &  0.016264762 & -0.009358687 & -0.005449187 &  0.043073533 &  0.021609865 &  0.008341999 &  0.014554173 &  1.991614e-02 &  0.010931042 & -0.0016763185 & -0.0023698437 &  2.700011e-03 & -0.0009571778 & -0.0022707265 & -3.857852e-03 &  0.007213713 &  0.0238998817 &  0.0062256255 &  0.022054907 &  0.004489211 & -0.058779856 & -0.0446588311 & -0.0583261811 &  9.499987e-02 &  0.014969685 & -0.048638748 & -0.044763473 &  0.050966219 & -0.003917337 &  0.009486512 &  0.0114870384 & -0.0037992805 & -0.061027291 &  0.0096403260 &  0.0137406305 &  0.013557611 & -0.059341949 &  0.015299293 &  0.014145956 & -0.009340304 & -0.006796878 & -0.0284714602 &  0.016001490 & -0.012019230 &  0.005148541 & -0.021444455 &  0.003288505 & -9.661107e-03 & -0.0190413357 & -0.028756991 &  0.005591932 &  0.013334217 & -0.003565582 &  0.008294154 &  1.547636e-02 &  0.023775270 &  0.010645518 &  0.0253698500 &  0.022382833 & -0.008282931 &  0.016195067\\\\\n",
       "\trelease\\_day &  2.953500e-02 &  0.0332320567 &  0.036665008 &  0.0266801635 &  0.045131991 &  0.001988782 & -0.0036326782 & 0.001691497 &  0.021558767 &  0.012657228 & -0.003016458 & -0.0011480408 & -0.021506452 &  1.000000000 &  0.0412488783 &  0.019470916 &  0.0118807359 &  0.015815656 &  0.002293467 & -0.0134430879 &  0.008161393 & -0.005885934 &  0.017162304 &  0.012657228 &  0.009486852 &  0.017081106 &  0.003963343 &  0.014437468 &  1.623510e-02 &  0.008550845 & -0.0036146643 & -0.0022598058 &  5.957023e-03 &  0.0033536870 & -0.0059330734 & -9.908228e-03 & -0.008698059 & -0.0083789284 &  0.0092156623 &  0.015578366 &  0.011662978 &  0.017394607 &  0.0059446337 &  0.0101247708 & -1.925907e-03 &  0.014043584 &  0.003401266 & -0.007047928 & -0.002352088 &  0.010350771 & -0.008265029 & -0.0023625584 & -0.0104439217 &  0.019194963 &  0.0141456464 & -0.0061886390 & -0.014115340 &  0.011244622 &  0.002801758 & -0.026297372 &  0.020626984 &  0.031015191 &  0.0212340562 &  0.006961656 &  0.004843293 &  0.024907702 &  0.012765919 &  0.010702040 &  2.032437e-02 &  0.0222775869 &  0.011315572 & -0.005913565 &  0.002680289 &  0.006429491 &  0.003131574 &  1.282991e-02 &  0.002838848 &  0.004122337 & -0.0004817254 &  0.007157014 &  0.006199588 &  0.018362431\\\\\n",
       "\tseasonality &  2.531736e-02 &  0.1744904780 &  0.074854386 &  0.1076548187 &  0.201610546 &  0.011147423 & -0.0009158983 & 0.001815836 &  0.048319386 &  0.071171202 & -0.078631382 &  0.2353826270 & -0.366714225 &  0.041248878 &  1.0000000000 &  0.003301099 & -0.0199507846 & -0.020318571 &  0.014982555 &  0.0110142649 &  0.005676429 &  0.017221711 &  0.048943578 &  0.071171202 &  0.009799657 &  0.001182587 &  0.012838743 &  0.009266546 & -8.411868e-03 &  0.011627614 & -0.0487533390 &  0.0163628160 &  2.923026e-03 &  0.0523116854 & -0.0092743178 &  7.701813e-03 &  0.011652780 & -0.0190064681 &  0.0231376379 &  0.084999850 &  0.105958359 &  0.118928294 &  0.0650186202 &  0.0781286879 & -4.476261e-02 & -0.065583732 &  0.031493542 &  0.021527195 &  0.012151199 &  0.024276497 & -0.042341565 & -0.0358800264 & -0.0416483361 &  0.057512756 & -0.0324686753 &  0.0203385030 & -0.008254129 &  0.086028218 &  0.024208475 & -0.023445184 &  0.070102329 &  0.034646262 &  0.0636075747 &  0.031888703 &  0.049270093 &  0.060821712 &  0.050492342 &  0.037971661 &  5.072181e-02 &  0.0507189408 &  0.075842850 &  0.024336359 & -0.013748341 &  0.025181478 &  0.036830717 & -7.696101e-05 &  0.010876337 & -0.019103797 &  0.0171765242 & -0.004600654 &  0.019239528 & -0.003500293\\\\\n",
       "\tsw\\_collection &  7.626117e-03 &  0.1228671116 &  0.083577549 &  0.0354513357 &  0.132115334 & -0.025081027 &  0.0776711549 & 0.002728681 &  0.039326905 &  0.032424413 &  0.078617919 & -0.0286922083 & -0.019858769 &  0.019470916 &  0.0033010991 &  1.000000000 &  0.2066813520 &  0.099844860 &  0.003335638 &  0.0286608419 &  0.030077295 & -0.004176566 &  0.055853458 &  0.032424413 &  0.064961929 &  0.069483663 &  0.057636588 &  0.051753382 &  5.517047e-02 &  0.039235981 & -0.0073937915 & -0.0003761149 & -1.997250e-02 &  0.0003155674 & -0.0099698723 &  1.041221e-02 &  0.090343262 &  0.0913749698 &  0.0554395709 &  0.038118564 &  0.023294928 &  0.040826648 &  0.0260465657 &  0.0232891731 & -2.315144e-02 & -0.001596667 &  0.059309737 & -0.028191265 &  0.001246765 & -0.008814536 &  0.010543885 &  0.0066942848 & -0.0201631843 &  0.081397200 & -0.0005319872 & -0.0157610470 & -0.012001797 & -0.031404707 &  0.003635713 & -0.010588067 &  0.114403256 &  0.106162209 &  0.0800028259 &  0.094544629 &  0.041015892 &  0.068550027 &  0.103477746 &  0.120803775 &  8.511673e-02 &  0.0849453391 &  0.059132931 &  0.028158116 &  0.019077803 &  0.039267510 &  0.086101786 &  3.310637e-02 &  0.016845482 &  0.025140351 &  0.0693511764 &  0.014531509 &  0.042180358 &  0.008347546\\\\\n",
       "\tproducers\\_cnt &  1.864794e-02 &  0.1874306696 &  0.104617180 &  0.0725876116 &  0.129237116 & -0.058093941 &  0.1677607364 & 0.010654589 &  0.038644331 &  0.117025270 &  0.304580650 & -0.0005989008 &  0.015266002 &  0.011880736 & -0.0199507846 &  0.206681352 &  1.0000000000 &  0.437717107 & -0.004475154 &  0.1313554742 &  0.011866445 &  0.043975318 &  0.062987756 &  0.117025270 &  0.198714718 &  0.164389634 &  0.163535068 &  0.141232264 &  1.638529e-01 &  0.147250185 &  0.0306652563 & -0.0056729730 &  1.432206e-02 & -0.0033517731 &  0.0305246679 &  1.609083e-02 &  0.204448400 &  0.1676741068 &  0.1643312252 &  0.130186256 &  0.072312633 &  0.043930532 &  0.0436491614 & -0.0124459098 &  3.149912e-02 &  0.001555547 &  0.059580138 & -0.115183546 &  0.019692116 & -0.016482864 &  0.092417465 &  0.0390714953 & -0.0349725453 &  0.043113751 &  0.0195101578 & -0.0392176457 & -0.083508719 & -0.041659574 &  0.035598660 & -0.028048189 &  0.237533513 &  0.234868984 &  0.1802020468 &  0.244274373 &  0.106919871 &  0.194678848 &  0.196208924 &  0.346884834 &  1.997880e-01 &  0.1548652064 &  0.052836185 &  0.118095382 &  0.030338562 &  0.067684679 &  0.158626963 &  7.532884e-02 &  0.053920820 &  0.016217170 &  0.2258531510 &  0.055824666 &  0.040759303 &  0.019760954\\\\\n",
       "\tcountries\\_cnt &  2.284896e-03 &  0.0986858515 &  0.071896406 &  0.1008797064 &  0.052137673 & -0.060141672 &  0.0633775083 & 0.017412314 &  0.035122357 &  0.106302706 &  0.132072794 &  0.0184842136 &  0.036892426 &  0.015815656 & -0.0203185707 &  0.099844860 &  0.4377171074 &  1.000000000 &  0.030263225 &  0.1237590127 &  0.029596660 &  0.033537120 &  0.027895675 &  0.106302706 &  0.078752709 &  0.065033288 &  0.052497879 &  0.044422757 &  6.132460e-02 &  0.058538455 &  0.0401833794 &  0.0030902561 & -3.078172e-03 & -0.0167554227 &  0.0006146979 & -2.700767e-05 &  0.125983734 &  0.0979825480 &  0.0728892257 &  0.081764399 &  0.044429586 &  0.058481998 &  0.0409554700 & -0.0286526502 &  4.544173e-02 &  0.012457621 &  0.056130182 & -0.134615742 &  0.088620024 &  0.002471683 &  0.059511428 &  0.0008750338 & -0.0423357454 &  0.036321623 &  0.0324912853 & -0.0270727948 & -0.032435552 & -0.025694254 &  0.076535027 & -0.019646670 &  0.129470192 &  0.127273996 &  0.0953576196 &  0.104324018 &  0.068684992 &  0.094315789 &  0.100603970 &  0.201977226 &  9.527185e-02 &  0.0774292959 &  0.047985028 &  0.036664433 &  0.005621682 &  0.023903655 &  0.045121512 &  2.507776e-02 &  0.020605604 &  0.002145500 &  0.1186674451 &  0.023063032 &  0.022327171 &  0.026379234\\\\\n",
       "\tlang\\_US & -1.024099e-02 &  0.1866443465 &  0.134444514 & -0.0878030072 &  0.133601018 &  0.774472926 &  0.0462757530 & 0.043277525 &  0.417120927 &  0.162537895 & -0.109008288 &  0.0210952122 &  0.012446461 &  0.002293467 &  0.0149825551 &  0.003335638 & -0.0044751536 &  0.030263225 &  1.000000000 & -0.0885206228 & -0.147492627 & -0.040503694 & -0.154682903 &  0.162537895 &  0.233243018 &  0.244260327 &  0.209931017 &  0.225488907 &  2.049722e-01 &  0.215004595 &  0.0359693387 &  0.0643259482 &  5.035799e-02 &  0.1293584503 &  0.1063452784 &  1.350896e-01 &  0.156920304 &  0.1236362567 &  0.1254564017 &  0.158544592 &  0.156329684 &  0.057119823 &  0.0035765705 & -0.0325294273 & -7.012152e-02 &  0.062616288 &  0.001434992 &  0.020954641 & -0.034719963 &  0.025467544 &  0.079187864 &  0.0381703179 & -0.0000995902 &  0.050277051 &  0.0397166816 &  0.0497384866 & -0.008717249 &  0.065626021 & -0.018871225 & -0.189788416 &  0.176362837 &  0.144369411 &  0.1059159574 &  0.155440391 &  0.072794765 &  0.168800170 &  0.101575374 &  0.204946216 &  1.373871e-01 &  0.0833861676 &  0.062019118 &  0.147257463 &  0.047931437 &  0.060931341 &  0.180888596 &  1.036012e-01 &  0.095122537 &  0.009943377 &  0.2353365817 &  0.068084262 &  0.025387617 &  0.058635875\\\\\n",
       "\tlang\\_FR & -1.084888e-03 &  0.0004019011 & -0.001816200 &  0.0652460411 &  0.006093645 & -0.156921602 &  0.0021568554 & 0.005379726 & -0.046312495 &  0.024075055 & -0.011595926 &  0.0084927461 &  0.005432888 & -0.013443088 &  0.0110142649 &  0.028660842 &  0.1313554742 &  0.123759013 & -0.088520623 &  1.0000000000 &  0.067307756 &  0.064411546 &  0.031746827 &  0.024075055 & -0.015940838 & -0.027211430 & -0.029574718 & -0.028009321 & -3.085153e-02 & -0.044614821 &  0.0337047167 & -0.0126076951 & -1.443772e-02 & -0.0266629585 &  0.0114098745 & -6.256149e-03 & -0.001294947 & -0.0049465780 & -0.0177145730 &  0.011699063 & -0.006443208 &  0.005653496 & -0.0173543204 & -0.0162260664 &  4.741902e-02 & -0.059596870 & -0.008952686 & -0.017435156 &  0.043512102 & -0.015734785 & -0.007587867 & -0.0045474399 & -0.0035188316 & -0.025514823 &  0.0034559989 &  0.0006379451 &  0.042539153 & -0.031982826 &  0.068390221 & -0.017742567 &  0.005168107 &  0.010356906 & -0.0007557567 &  0.002076876 &  0.041999460 &  0.008112649 & -0.005955251 &  0.008738609 & -7.565019e-04 & -0.0099496511 &  0.045200636 & -0.015725224 & -0.020436620 &  0.011718856 & -0.011040226 &  3.062121e-03 &  0.035007959 & -0.008516031 &  0.0016003256 &  0.001641185 & -0.009601984 &  0.033102211\\\\\n",
       "\tlang\\_RU & -1.816392e-02 &  0.0115147120 & -0.018476687 &  0.0354470334 & -0.007004130 & -0.146107663 & -0.0050103619 & 0.003720135 & -0.093862248 & -0.038234001 &  0.041097915 &  0.0092583332 &  0.015323812 &  0.008161393 &  0.0056764290 &  0.030077295 &  0.0118664445 &  0.029596660 & -0.147492627 &  0.0673077562 &  1.000000000 &  0.011596856 &  0.015763169 & -0.038234001 & -0.019706705 & -0.022844845 & -0.029491856 & -0.025443089 & -2.077946e-02 & -0.012211077 & -0.0265008002 & -0.0260005033 & -4.857352e-02 & -0.0430050172 & -0.0383113978 & -1.447688e-02 &  0.012421256 & -0.0009003354 & -0.0207387736 & -0.008345282 & -0.001762583 &  0.024343281 & -0.0056165270 & -0.0186281884 & -1.822364e-02 & -0.028811118 &  0.068096003 & -0.024358240 &  0.056924523 & -0.018579207 &  0.043913313 &  0.0149319945 & -0.0248972510 &  0.010232615 &  0.0007245696 & -0.0133782662 & -0.018580655 & -0.041061003 &  0.057274810 & -0.006406971 &  0.012537411 &  0.007008254 &  0.0124165148 &  0.004420016 &  0.003760909 & -0.013064585 &  0.020666603 & -0.016257406 &  1.551507e-05 &  0.0028646305 &  0.008552902 & -0.016706614 & -0.009927178 &  0.022796096 & -0.006661865 & -9.090005e-03 & -0.016488244 & -0.005893824 & -0.0159891112 & -0.008368051 &  0.006669888 & -0.029271445\\\\\n",
       "\tlang\\_ES & -1.176224e-02 &  0.0231029182 &  0.008422825 &  0.0440678917 &  0.023694771 & -0.063684712 & -0.0132924325 & 0.004716654 &  0.014594878 &  0.045061482 & -0.019628459 &  0.0176950327 &  0.016264762 & -0.005885934 &  0.0172217106 & -0.004176566 &  0.0439753182 &  0.033537120 & -0.040503694 &  0.0644115462 &  0.011596856 &  1.000000000 &  0.001679028 &  0.045061482 &  0.011246961 & -0.003910638 & -0.005887402 & -0.010517824 & -1.070155e-02 & -0.017901792 &  0.0001744424 & -0.0088304363 &  5.423815e-05 &  0.0054196963 &  0.0115192636 &  1.247198e-02 &  0.010756030 & -0.0007172201 & -0.0296365885 &  0.040766169 &  0.037840529 & -0.006560341 & -0.0341409364 & -0.0253228578 &  9.602360e-03 & -0.016607551 &  0.035622077 & -0.036924926 &  0.025202332 &  0.086641575 &  0.054574327 &  0.0822325917 & -0.0142761270 & -0.021080481 &  0.0025582772 & -0.0225926770 & -0.028170424 & -0.046481999 & -0.006941324 &  0.003056469 &  0.039019057 &  0.047589570 &  0.0442136035 &  0.043765938 &  0.038441513 &  0.053323362 &  0.042515401 &  0.053135095 &  4.939963e-02 & -0.0006731089 &  0.005233385 &  0.001175830 & -0.001278843 &  0.009475596 &  0.020909040 &  1.911351e-02 &  0.003402204 &  0.012261203 &  0.0315859526 &  0.008128451 & -0.009244901 & -0.011830877\\\\\n",
       "\tlang\\_JA & -9.936818e-03 &  0.0065325324 &  0.015145198 &  0.0587755246 & -0.003361731 & -0.202622694 &  0.0471960089 & 0.002777910 & -0.029420556 &  0.012028104 &  0.041237584 &  0.0238642598 & -0.009358687 &  0.017162304 &  0.0489435781 &  0.055853458 &  0.0629877556 &  0.027895675 & -0.154682903 &  0.0317468269 &  0.015763169 &  0.001679028 &  1.000000000 &  0.012028104 & -0.050425166 & -0.059076781 & -0.062458949 & -0.060669728 & -5.457711e-02 & -0.063220661 & -0.0101573257 & -0.0184304401 & -3.518768e-04 & -0.0299242056 & -0.0178113898 & -4.629862e-02 &  0.003599202 & -0.0271765049 & -0.0127527558 & -0.011835969 & -0.005871222 &  0.039521881 &  0.0551834285 &  0.1769614743 & -4.434753e-03 & -0.003673311 &  0.054594889 & -0.071020005 &  0.062612831 & -0.014797669 & -0.001327590 & -0.0209786993 & -0.0150965399 &  0.058803705 &  0.0024750865 & -0.0282632482 & -0.049484389 & -0.010526263 &  0.052238984 & -0.010312315 &  0.005151945 & -0.010826794 &  0.0041469238 & -0.024774903 &  0.035821389 & -0.001819047 & -0.004388458 &  0.018122737 &  4.773764e-03 &  0.0265639458 &  0.015783418 & -0.029368975 & -0.006564238 &  0.002278158 & -0.036672707 & -2.140976e-02 & -0.001610945 & -0.004402659 & -0.0267157323 &  0.007701981 &  0.002511511 & -0.029914282\\\\\n",
       "\tkeywords\\_cnt &  6.778693e-03 &  0.1970894481 &  0.180578323 &  0.1374291436 &  0.186847451 &  0.131497340 &  0.1207964088 & 0.013870263 &  0.220826022 &  1.000000000 & -0.091863315 &  0.0315501580 & -0.005449187 &  0.012657228 &  0.0711712021 &  0.032424413 &  0.1170252701 &  0.106302706 &  0.162537895 &  0.0240750547 & -0.038234001 &  0.045061482 &  0.012028104 &  1.000000000 &  0.078637713 &  0.086394439 &  0.054095895 &  0.080954394 &  4.552056e-02 &  0.069739017 & -0.0017398363 &  0.0399020717 &  1.195456e-02 &  0.0478139062 &  0.0359586837 &  5.816010e-02 &  0.064109667 &  0.0375218669 &  0.0235624009 &  0.107535294 &  0.118597944 &  0.090196908 &  0.0451955602 &  0.0046769852 & -5.073170e-03 &  0.077782214 &  0.053962210 & -0.109503138 &  0.016362963 &  0.007811203 &  0.129633278 &  0.0500306670 & -0.0751253450 &  0.093322362 &  0.0537689253 & -0.0017116215 & -0.057099248 & -0.032782051 &  0.014776936 & -0.091211218 &  0.245971285 &  0.231999204 &  0.2093957392 &  0.215444970 &  0.167040697 &  0.258154719 &  0.179719787 &  0.276752435 &  2.423878e-01 &  0.1278411819 &  0.130901626 &  0.127408078 &  0.040477946 &  0.114306199 &  0.187882111 &  9.741971e-02 &  0.085538841 &  0.019930871 &  0.2143332055 &  0.085455798 &  0.032810396 &  0.043342645\\\\\n",
       "\tactor0\\_movies\\_cnt &  2.199844e-02 &  0.3198839873 &  0.166876649 &  0.0614065421 &  0.216346892 &  0.233567267 &  0.1715349086 & 0.013209329 &  0.156929215 &  0.078637713 &  0.296973467 &  0.0531329336 &  0.043073533 &  0.009486852 &  0.0097996569 &  0.064961929 &  0.1987147181 &  0.078752709 &  0.233243018 & -0.0159408379 & -0.019706705 &  0.011246961 & -0.050425166 &  0.078637713 &  1.000000000 &  0.772567533 &  0.496617330 &  0.476974687 &  4.313637e-01 &  0.423001075 & -0.0832857024 &  0.0567789864 &  7.123173e-02 &  0.2022993044 &  0.0594108591 &  5.731565e-02 &  0.479577634 &  0.2616125136 &  0.2378310165 &  0.276467050 &  0.205742666 &  0.023086711 & -0.0129136067 & -0.0205134620 &  2.043973e-02 & -0.083648385 &  0.082779610 &  0.021427691 & -0.015285735 &  0.020187748 &  0.125736423 &  0.0921835519 & -0.0925267817 & -0.001874989 &  0.0528254569 & -0.0586007049 & -0.063866715 & -0.014384082 & -0.021705337 & -0.066273633 &  0.226674882 &  0.208929301 &  0.1505919793 &  0.248106074 &  0.097786132 &  0.208043596 &  0.173273752 &  0.289005409 &  1.968774e-01 &  0.1624181880 &  0.072495619 &  0.175149866 &  0.047083888 &  0.086398424 &  0.191705170 &  1.040699e-01 &  0.061031940 &  0.029612163 &  0.2585876050 &  0.086624031 &  0.051148670 &  0.007055463\\\\\n",
       "\tactor0\\_movies\\_5y\\_cnt &  1.243901e-02 &  0.2968488618 &  0.153435701 &  0.0507253956 &  0.199516664 &  0.247134442 &  0.1590276341 & 0.015091868 &  0.179459862 &  0.086394439 &  0.281048276 &  0.0285412851 &  0.021609865 &  0.017081106 &  0.0011825869 &  0.069483663 &  0.1643896340 &  0.065033288 &  0.244260327 & -0.0272114301 & -0.022844845 & -0.003910638 & -0.059076781 &  0.086394439 &  0.772567533 &  1.000000000 &  0.457889864 &  0.498263492 &  4.124846e-01 &  0.442481062 & -0.0254244991 &  0.0688295078 &  7.278371e-02 &  0.1574015502 &  0.0605446315 &  7.321321e-02 &  0.419208125 &  0.2213340765 &  0.2142349203 &  0.222383037 &  0.215706031 &  0.028343982 & -0.0095089265 & -0.0384431593 &  1.120267e-02 & -0.082598230 &  0.079137235 &  0.062310858 & -0.018993826 & -0.006109319 &  0.101502386 &  0.0923709096 & -0.1276342568 &  0.007835639 &  0.0428410514 & -0.0623077653 & -0.011449442 & -0.017319556 & -0.019090192 & -0.070872749 &  0.220243607 &  0.202620753 &  0.1459239794 &  0.237220148 &  0.097631068 &  0.212637704 &  0.168313204 &  0.284908923 &  2.005351e-01 &  0.1435166778 &  0.066743039 &  0.178279737 &  0.064722450 &  0.086082449 &  0.199839509 &  1.052812e-01 &  0.057986528 &  0.020878662 &  0.2753303320 &  0.099334223 &  0.041272568 &  0.032948387\\\\\n",
       "\tactor1\\_movies\\_cnt &  1.686023e-02 &  0.2872353016 &  0.141839033 &  0.0435718495 &  0.194883514 &  0.213727808 &  0.1829226436 & 0.011724187 &  0.129353003 &  0.054095895 &  0.303968143 &  0.0344748742 &  0.008341999 &  0.003963343 &  0.0128387428 &  0.057636588 &  0.1635350675 &  0.052497879 &  0.209931017 & -0.0295747181 & -0.029491856 & -0.005887402 & -0.062458949 &  0.054095895 &  0.496617330 &  0.457889864 &  1.000000000 &  0.792162382 &  4.696440e-01 &  0.451720311 &  0.0310681332 & -0.0528652504 &  9.220321e-02 &  0.0672055652 &  0.1884248714 &  4.118052e-02 &  0.287054935 &  0.4730501269 &  0.2450343209 &  0.209175612 &  0.168359553 &  0.031560369 & -0.0101851833 &  0.0402428280 &  1.086373e-02 & -0.072705032 &  0.036662901 &  0.044150511 & -0.016440821 & -0.008197594 &  0.066863277 &  0.0661848442 & -0.1006046888 &  0.008412529 &  0.0315692766 & -0.0581348802 & -0.051780412 &  0.015780435 & -0.032250601 & -0.062943580 &  0.185217896 &  0.141191882 &  0.1112481979 &  0.207314252 &  0.078377573 &  0.166600489 &  0.125762444 &  0.248394382 &  1.504668e-01 &  0.1292364937 &  0.069708734 &  0.157780276 &  0.031768918 &  0.072888368 &  0.177229851 &  1.109420e-01 &  0.065003792 &  0.010201539 &  0.2297422895 &  0.077042347 &  0.039157408 &  0.037851787\\\\\n",
       "\tactor1\\_movies\\_5y\\_cnt &  2.426009e-02 &  0.2913125346 &  0.153697974 &  0.0555915124 &  0.213215310 &  0.233855262 &  0.1726348475 & 0.013252009 &  0.154152781 &  0.080954394 &  0.293486758 &  0.0329449403 &  0.014554173 &  0.014437468 &  0.0092665461 &  0.051753382 &  0.1412322644 &  0.044422757 &  0.225488907 & -0.0280093215 & -0.025443089 & -0.010517824 & -0.060669728 &  0.080954394 &  0.476974687 &  0.498263492 &  0.792162382 &  1.000000000 &  4.505939e-01 &  0.477137857 &  0.0430164971 & -0.0067727940 &  8.872874e-02 &  0.0637225964 &  0.1620710276 &  5.782152e-02 &  0.258307127 &  0.3951169058 &  0.2347095223 &  0.208812502 &  0.202323188 &  0.035574932 &  0.0066289386 & -0.0001204457 &  1.245125e-02 & -0.068723275 &  0.041967537 &  0.065844773 & -0.023613673 & -0.009845896 &  0.065564507 &  0.0717605699 & -0.1300971275 & -0.002066206 &  0.0304340464 & -0.0536321772 & -0.008408905 & -0.006847360 & -0.029018068 & -0.064078746 &  0.222075558 &  0.175462772 &  0.1414421074 &  0.236098470 &  0.089663423 &  0.204035433 &  0.151717708 &  0.263983393 &  1.892788e-01 &  0.1404986313 &  0.067416859 &  0.189954088 &  0.049133093 &  0.087317926 &  0.207290683 &  1.446315e-01 &  0.077414815 &  0.010481665 &  0.2628375161 &  0.096685319 &  0.041649585 &  0.040948896\\\\\n",
       "\tactor2\\_movies\\_cnt &  9.568621e-05 &  0.2809264082 &  0.152012010 &  0.0336873255 &  0.177357681 &  0.218024817 &  0.1744072873 & 0.011070589 &  0.129179485 &  0.045520558 &  0.292784170 &  0.0168660233 &  0.019916135 &  0.016235100 & -0.0084118676 &  0.055170471 &  0.1638529076 &  0.061324597 &  0.204972246 & -0.0308515339 & -0.020779460 & -0.010701551 & -0.054577109 &  0.045520558 &  0.431363685 &  0.412484647 &  0.469643998 &  0.450593893 &  1.000000e+00 &  0.782954732 &  0.0316030627 &  0.0704294834 & -6.217522e-02 &  0.0580618727 &  0.0354904250 &  2.028687e-01 &  0.272837677 &  0.2910485607 &  0.4616822564 &  0.189672292 &  0.133708482 &  0.032546503 &  0.0279990756 &  0.0361468398 &  2.722345e-02 & -0.065173223 &  0.032956022 &  0.023897575 &  0.002615187 &  0.007107018 &  0.058621856 &  0.0644707049 & -0.0950708558 &  0.004981313 &  0.0376204217 & -0.0473774974 & -0.027629911 &  0.027740184 & -0.021707555 & -0.064410751 &  0.205635855 &  0.177162501 &  0.1342384678 &  0.235517944 &  0.095407737 &  0.196940815 &  0.146208513 &  0.254738070 &  1.709635e-01 &  0.1629155137 &  0.078178609 &  0.183321772 &  0.031475836 &  0.092365118 &  0.179494392 &  1.173303e-01 &  0.070639272 & -0.005123267 &  0.2522205959 &  0.092684632 &  0.040100440 &  0.028701102\\\\\n",
       "\tactor2\\_movies\\_5y\\_cnt & -4.077075e-03 &  0.3038197877 &  0.143836659 &  0.0469708392 &  0.215997573 &  0.229505146 &  0.1653938103 & 0.012327019 &  0.159317681 &  0.069739017 &  0.275585381 &  0.0201085328 &  0.010931042 &  0.008550845 &  0.0116276138 &  0.039235981 &  0.1472501852 &  0.058538455 &  0.215004595 & -0.0446148205 & -0.012211077 & -0.017901792 & -0.063220661 &  0.069739017 &  0.423001075 &  0.442481062 &  0.451720311 &  0.477137857 &  7.829547e-01 &  1.000000000 &  0.0236533864 &  0.0702520495 & -9.127938e-03 &  0.0734286936 &  0.0479581059 &  1.648923e-01 &  0.240048924 &  0.2481063164 &  0.3952550598 &  0.192442763 &  0.164988564 &  0.037125514 &  0.0365487019 &  0.0003654837 &  7.528116e-03 & -0.061291088 &  0.041951198 &  0.038678737 & -0.011326873 & -0.006802317 &  0.070810322 &  0.0823683306 & -0.1135190948 &  0.020299520 &  0.0387011337 & -0.0491598652 & -0.014834589 &  0.005969398 & -0.041064760 & -0.067350326 &  0.214828140 &  0.178803951 &  0.1353796221 &  0.239385407 &  0.076951024 &  0.200125597 &  0.146379618 &  0.262793438 &  1.827144e-01 &  0.1494718211 &  0.061478238 &  0.173535590 &  0.029818848 &  0.081809831 &  0.195294856 &  1.120652e-01 &  0.075068973 & -0.001261169 &  0.2650974706 &  0.098391929 &  0.035330059 &  0.033213170\\\\\n",
       "\t... & ... & ... & ... & ... & ... & ... & ... & ... & ... & ... & ... & ... & ... & ... & ... & ... & ... & ... & ... & ... & ... & ... & ... & ... & ... & ... & ... & ... & ... & ... & ... & ... & ... & ... & ... & ... & ... & ... & ... & ... & ... & ... & ... & ... & ... & ... & ... & ... & ... & ... & ... & ... & ... & ... & ... & ... & ... & ... & ... & ... & ... & ... & ... & ... & ... & ... & ... & ... & ... & ... & ... & ... & ... & ... & ... & ... & ... & ... & ... & ... & ... & ...\\\\\n",
       "\tgenre\\_documentary & -0.0009454194 & -0.102240489 & -0.080669674 & -0.081304424 & -0.078246795 &  0.03231209 &  0.092357888 & 0.002894773 & -0.101845129 & -0.075125345 &  0.073113439 & -0.031620670 & -0.003799281 & -0.0104439217 & -4.164834e-02 & -0.0201631843 & -0.03497255 & -0.042335745 & -0.0000995902 & -0.0035188316 & -2.489725e-02 & -0.0142761270 & -0.015096540 & -0.075125345 & -0.092526782 & -0.127634257 & -0.100604689 & -0.130097128 & -0.095070856 & -0.113519095 & -0.0563689329 & -0.0892171186 & -0.0779720677 & -0.0775327421 & -0.067347668 & -0.082629972 & -0.016393602 & -0.023476865 & -0.014977217 & -0.079762338 & -0.086192886 & -0.063120375 & -0.053622386 & -0.041079163 & -0.15135435 & -5.316650e-02 & -0.08998365 & -0.106592535 &  0.008766324 & -0.0159505972 & -0.098745169 & -0.061728410 &  1.000000000 & -0.056232655 & -0.046867063 &  0.0808898416 & -0.084379230 & -0.033723004 & -0.019076786 &  0.0785665158 & -0.11126974 & -0.07202446 & -0.05864701 & -0.09943862 & -0.043503292 & -0.08165734 & -0.05611799 & -0.09161315 & -0.09008574 & -0.05046036 & -0.147667058 & -0.074053943 &  0.041271884 & -0.026608645 & -0.09537268 & -0.007646233 & -0.035185052 & -0.004588769 & -0.106214322 & -0.028813838 & -0.015718556 & -0.041135616\\\\\n",
       "\tgenre\\_science\\_fiction &  0.0068597880 &  0.198761109 &  0.098665686 & -0.021265124 &  0.132053541 &  0.05152587 &  0.045942426 & 0.005516833 &  0.092484475 &  0.093322362 & -0.004287082 & -0.029023226 & -0.061027291 &  0.0191949627 &  5.751276e-02 &  0.0813972001 &  0.04311375 &  0.036321623 &  0.0502770510 & -0.0255148232 &  1.023262e-02 & -0.0210804808 &  0.058803705 &  0.093322362 & -0.001874989 &  0.007835639 &  0.008412529 & -0.002066206 &  0.004981313 &  0.020299520 & -0.0323392567 &  0.0236508053 & -0.0007634565 &  0.0346142768 &  0.003372263 &  0.032546447 &  0.020795389 &  0.037484763 &  0.029566563 &  0.022969020 &  0.043457136 &  0.192740631 &  0.125248576 &  0.035477210 & -0.18984924 &  1.170117e-01 &  0.20695048 & -0.112840515 & -0.068374054 & -0.0317191240 &  0.086378154 & -0.102170748 & -0.056232655 &  1.000000000 &  0.012879442 & -0.0552791740 & -0.102087525 &  0.021710528 & -0.049218380 & -0.0274680494 &  0.18559903 &  0.12310976 &  0.12953775 &  0.11074567 &  0.032002306 &  0.09743128 &  0.09988435 &  0.08826608 &  0.10926658 &  0.13500643 &  0.085207430 &  0.064858604 &  0.003197931 &  0.049792854 &  0.07594468 &  0.007452290 & -0.023062424 & -0.008695055 &  0.073226841 &  0.015776961 &  0.013515899 & -0.036893834\\\\\n",
       "\tgenre\\_mystery & -0.0058711260 &  0.008471006 &  0.023180768 &  0.029637918 & -0.015008715 &  0.03187456 & -0.023475435 & 0.004675444 &  0.057962865 &  0.053768925 & -0.024002627 & -0.009976841 &  0.009640326 &  0.0141456464 & -3.246868e-02 & -0.0005319872 &  0.01951016 &  0.032491285 &  0.0397166816 &  0.0034559989 &  7.245696e-04 &  0.0025582772 &  0.002475086 &  0.053768925 &  0.052825457 &  0.042841051 &  0.031569277 &  0.030434046 &  0.037620422 &  0.038701134 &  0.0102715749 &  0.0195881695 &  0.0097757808 &  0.0154578061 &  0.005770792 &  0.018241961 &  0.023628980 &  0.030498816 &  0.001124168 &  0.082237733 &  0.056577368 & -0.053617209 & -0.021883763 & -0.059361378 &  0.01327273 &  1.416126e-01 & -0.04793185 & -0.152552697 & -0.036874807 & -0.0277809819 &  0.274838098 &  0.143082467 & -0.046867063 &  0.012879442 &  1.000000000 & -0.0467295393 & -0.079553752 & -0.081154357 & -0.037942130 & -0.0158781694 &  0.07671790 &  0.06399373 &  0.06092964 &  0.06056676 &  0.004803365 &  0.05202924 &  0.06162060 &  0.05434015 &  0.07107119 &  0.01688042 & -0.010149077 &  0.031477235 & -0.004341103 &  0.025660516 &  0.05002485 & -0.001684840 &  0.027804780 & -0.007422371 &  0.049915490 &  0.018902220 &  0.007475537 & -0.019939503\\\\\n",
       "\tgenre\\_music &  0.0046223379 & -0.043700682 & -0.027498586 &  0.029725594 & -0.032431372 &  0.04927325 & -0.017964909 & 0.003192088 &  0.013187553 & -0.001711621 & -0.072391089 &  0.027769162 &  0.013740630 & -0.0061886390 &  2.033850e-02 & -0.0157610470 & -0.03921765 & -0.027072795 &  0.0497384866 &  0.0006379451 & -1.337827e-02 & -0.0225926770 & -0.028263248 & -0.001711621 & -0.058600705 & -0.062307765 & -0.058134880 & -0.053632177 & -0.047377497 & -0.049159865 &  0.0164927384 &  0.0129082016 &  0.0052372444 & -0.0297387900 & -0.019752231 & -0.024030372 & -0.016393079 & -0.024302165 & -0.022606827 & -0.026492014 & -0.029590453 & -0.055506770 & -0.004514185 &  0.016935008 &  0.02310713 & -4.751944e-02 & -0.08182543 &  0.013197689 & -0.017336080 & -0.0013698368 & -0.104575267 & -0.059951772 &  0.080889842 & -0.055279174 & -0.046729539 &  1.0000000000 &  0.100938333 &  0.041694123 & -0.023575392 & -0.0002810477 & -0.04580532 & -0.04892811 & -0.04346775 & -0.04039392 & -0.010872287 & -0.04153179 & -0.03898697 & -0.04195500 & -0.03493901 & -0.02650818 & -0.009798686 & -0.003017913 &  0.002941677 & -0.015397071 & -0.02878129 &  0.000586659 &  0.024002896 & -0.005052245 & -0.029669718 & -0.006862003 & -0.001841216 &  0.027884346\\\\\n",
       "\tgenre\\_romance &  0.0074431866 & -0.100608018 & -0.063047300 &  0.070620530 & -0.050004467 & -0.00672949 & -0.056360477 & 0.008095163 & -0.030590324 & -0.057099248 & -0.073683121 &  0.013778822 &  0.013557611 & -0.0141153399 & -8.254129e-03 & -0.0120017972 & -0.08350872 & -0.032435552 & -0.0087172486 &  0.0425391533 & -1.858065e-02 & -0.0281704245 & -0.049484389 & -0.057099248 & -0.063866715 & -0.011449442 & -0.051780412 & -0.008408905 & -0.027629911 & -0.014834589 &  0.1440450089 &  0.1341755121 &  0.0341352526 & -0.1240054015 & -0.096599636 & -0.014763534 & -0.060351979 & -0.040199750 & -0.043924313 & -0.044168556 & -0.032143062 & -0.119613207 & -0.026008693 & -0.087057218 &  0.17998454 & -1.383723e-01 & -0.19266618 &  0.164194840 & -0.033909153 & -0.0295102282 & -0.196595861 & -0.128576298 & -0.084379230 & -0.102087525 & -0.079553752 &  0.1009383325 &  1.000000000 & -0.071672334 & -0.006297630 &  0.0311665421 & -0.08640950 & -0.08127062 & -0.08981714 & -0.06449084 & -0.055079248 & -0.08513999 & -0.07718553 & -0.08949820 & -0.08420760 & -0.09019791 & -0.063140012 &  0.001423781 &  0.006482975 & -0.023838119 & -0.02385309 &  0.046332304 &  0.053599604 & -0.012851974 & -0.008426604 & -0.001450345 & -0.011263266 &  0.109776441\\\\\n",
       "\tgenre\\_family &  0.0083288000 &  0.196235230 &  0.068731732 & -0.154062377 &  0.161393817 &  0.07446786 &  0.056155038 & 0.005227660 &  0.055700977 & -0.032782051 &  0.007170432 &  0.007776281 & -0.059341949 &  0.0112446215 &  8.602822e-02 & -0.0314047070 & -0.04165957 & -0.025694254 &  0.0656260212 & -0.0319828256 & -4.106100e-02 & -0.0464819994 & -0.010526263 & -0.032782051 & -0.014384082 & -0.017319556 &  0.015780435 & -0.006847360 &  0.027740184 &  0.005969398 & -0.0064509739 & -0.0050383916 &  0.0081061981 &  0.0168081750 &  0.005664305 & -0.001653030 &  0.040112270 &  0.009165466 &  0.051775126 & -0.003640218 &  0.012029122 &  0.245187877 &  0.265386527 &  0.509316801 & -0.16970459 & -1.040327e-01 & -0.09068151 &  0.129445590 & -0.062390497 & -0.0290094683 & -0.174116697 & -0.121131656 & -0.033723004 &  0.021710528 & -0.081154357 &  0.0416941230 & -0.071672334 &  1.000000000 & -0.058588443 & -0.0252063223 & -0.03101800 & -0.09329311 & -0.02446258 & -0.09970656 &  0.102227190 & -0.02813664 & -0.02142906 & -0.05255580 & -0.01770622 &  0.16139166 &  0.178307163 & -0.041304512 & -0.005566009 & -0.015826027 & -0.06689319 & -0.032373793 & -0.003465734 &  0.009837811 & -0.037161595 & -0.028541320 &  0.036701885 &  0.066602159\\\\\n",
       "\tgenre\\_war & -0.0055805028 &  0.019815315 &  0.013445752 &  0.168733130 & -0.022914789 & -0.04970744 & -0.012793067 & 0.003040117 & -0.008594501 &  0.014776936 & -0.053553153 &  0.030689434 &  0.015299293 &  0.0028017582 &  2.420848e-02 &  0.0036357126 &  0.03559866 &  0.076535027 & -0.0188712250 &  0.0683902209 &  5.727481e-02 & -0.0069413240 &  0.052238984 &  0.014776936 & -0.021705337 & -0.019090192 & -0.032250601 & -0.029018068 & -0.021707555 & -0.041064760 & -0.0424080611 & -0.0480587513 & -0.0551036481 &  0.0421103688 &  0.042458404 &  0.044487898 &  0.005028694 & -0.002610801 & -0.012231600 &  0.042321603 &  0.011691853 &  0.030160273 & -0.042706917 & -0.036286519 &  0.09856594 & -5.380496e-02 &  0.05163653 & -0.098266903 &  0.284060629 & -0.0051980895 & -0.037689595 & -0.070186023 & -0.019076786 & -0.049218380 & -0.037942130 & -0.0235753921 & -0.006297630 & -0.058588443 &  1.000000000 & -0.0198126954 &  0.05261579 &  0.05717624 &  0.04833625 &  0.05801352 &  0.031808129 &  0.05842830 &  0.03696311 &  0.03608633 &  0.06411112 &  0.02378273 &  0.025904197 & -0.028571361 & -0.010213587 &  0.007747371 &  0.00755880 & -0.013834994 &  0.018250960 & -0.004820193 & -0.009984343 &  0.011686858 & -0.008432817 & -0.034902242\\\\\n",
       "\tgenre\\_foreign &  0.0072884026 & -0.061642135 & -0.067070386 &  0.046639674 & -0.048318329 & -0.12181650 & -0.018933524 & 0.001767824 & -0.143617976 & -0.091211218 &  0.024526699 &  0.003421338 &  0.014145956 & -0.0262973720 & -2.344518e-02 & -0.0105880673 & -0.02804819 & -0.019646670 & -0.1897884162 & -0.0177425670 & -6.406971e-03 &  0.0030564689 & -0.010312315 & -0.091211218 & -0.066273633 & -0.070872749 & -0.062943580 & -0.064078746 & -0.064410751 & -0.067350326 & -0.0196862214 & -0.0024287050 & -0.0221631055 & -0.0227975609 & -0.039537102 & -0.011965040 & -0.048723809 & -0.019043630 & -0.030757604 & -0.052239296 & -0.056426314 & -0.034626651 & -0.023590551 & -0.025086843 &  0.02077983 & -1.438227e-02 & -0.01434400 &  0.003554278 &  0.004173315 & -0.0136279504 & -0.036097149 & -0.026511808 &  0.078566516 & -0.027468049 & -0.015878169 & -0.0002810477 &  0.031166542 & -0.025206322 & -0.019812695 &  1.0000000000 & -0.06387765 & -0.06349908 & -0.03805394 & -0.05738576 & -0.034587716 & -0.07251250 & -0.03608390 & -0.08806196 & -0.05684309 & -0.03329977 & -0.063461560 & -0.045328195 & -0.015132125 & -0.020659369 & -0.05444533 & -0.035382510 & -0.029409525 & -0.002808772 & -0.075086414 & -0.018814382 & -0.009621281 & -0.024117477\\\\\n",
       "\tdepart\\_Art & -0.0061790614 &  0.480601001 &  0.285623249 &  0.181598355 &  0.368064990 &  0.17846947 &  0.151037542 &          NA &  0.195229082 &  0.245971285 &  0.109626323 &  0.041393085 & -0.009340304 &  0.0206269836 &  7.010233e-02 &  0.1144032561 &  0.23753351 &  0.129470192 &  0.1763628375 &  0.0051681072 &  1.253741e-02 &  0.0390190574 &  0.005151945 &  0.245971285 &  0.226674882 &  0.220243607 &  0.185217896 &  0.222075558 &  0.205635855 &  0.214828140 & -0.0096204413 &  0.0174589433 &  0.0258000010 &  0.0817033678 &  0.065933694 &  0.066167570 &  0.194212921 &  0.146110288 &  0.154546635 &  0.253748704 &  0.231815643 &  0.166428588 &  0.083087337 & -0.045027424 & -0.07017956 &  4.722548e-02 &  0.18532603 & -0.147738295 &  0.025675913 &  0.0076985099 &  0.150042073 &  0.036666021 & -0.111269738 &  0.185599027 &  0.076717896 & -0.0458053186 & -0.086409498 & -0.031017997 &  0.052615788 & -0.0638776470 &  1.00000000 &  0.74069689 &  0.74323675 &  0.75978678 &  0.446152748 &  0.65430148 &  0.67594318 &  0.62968450 &  0.75051467 &  0.52345420 &  0.263031339 &  0.437143998 &  0.091539438 &  0.303140130 &  0.48438922 &  0.265510703 &  0.127267859 &  0.053848493 &  0.482692840 &  0.248134322 &  0.146834113 &  0.042765547\\\\\n",
       "\tdepart\\_Camera & -0.0062160832 &  0.350326858 &  0.261362264 &  0.163412305 &  0.304723381 &  0.14133815 &  0.131719926 &          NA &  0.174399513 &  0.231999204 &  0.102815351 &  0.016204149 & -0.006796878 &  0.0310151912 &  3.464626e-02 &  0.1061622088 &  0.23486898 &  0.127273996 &  0.1443694109 &  0.0103569062 &  7.008254e-03 &  0.0475895696 & -0.010826794 &  0.231999204 &  0.208929301 &  0.202620753 &  0.141191882 &  0.175462772 &  0.177162501 &  0.178803951 & -0.0131963257 & -0.0111930455 &  0.0116541580 &  0.0713061925 &  0.074758233 &  0.066544533 &  0.186786463 &  0.127465506 &  0.145480364 &  0.194521061 &  0.178803866 &  0.093895184 &  0.039751511 & -0.120096821 & -0.03078279 &  5.623489e-02 &  0.16800573 & -0.147095881 &  0.038740175 &  0.0143498775 &  0.159947075 &  0.066282553 & -0.072024462 &  0.123109762 &  0.063993727 & -0.0489281070 & -0.081270625 & -0.093293112 &  0.057176237 & -0.0634990844 &  0.74069689 &  1.00000000 &  0.70415759 &  0.76454683 &  0.448336882 &  0.69467341 &  0.74593346 &  0.59911963 &  0.78936281 &  0.46729446 &  0.189939871 &  0.309509501 &  0.115095704 &  0.278338086 &  0.41297141 &  0.264373457 &  0.139692944 &  0.074613000 &  0.409758022 &  0.270114184 &  0.156736497 &  0.025037581\\\\\n",
       "\tdepart\\_Crew & -0.0116860264 &  0.356345024 &  0.261030264 &  0.132355633 &  0.276243086 &  0.11227154 &  0.105334662 &          NA &  0.144099691 &  0.209395739 &  0.082062161 &  0.008347269 & -0.028471460 &  0.0212340562 &  6.360757e-02 &  0.0800028259 &  0.18020205 &  0.095357620 &  0.1059159574 & -0.0007557567 &  1.241651e-02 &  0.0442136035 &  0.004146924 &  0.209395739 &  0.150591979 &  0.145923979 &  0.111248198 &  0.141442107 &  0.134238468 &  0.135379622 & -0.0277719070 & -0.0029696348 &  0.0003173442 &  0.0718481142 &  0.054620726 &  0.062912549 &  0.118578145 &  0.073761287 &  0.098903592 &  0.163438701 &  0.146798630 &  0.113643911 &  0.067936106 & -0.014365865 & -0.08020609 &  5.776681e-02 &  0.17065381 & -0.118280137 &  0.017227757 &  0.0093045229 &  0.129307308 &  0.045106083 & -0.058647009 &  0.129537752 &  0.060929640 & -0.0434677507 & -0.089817145 & -0.024462580 &  0.048336253 & -0.0380539397 &  0.74323675 &  0.70415759 &  1.00000000 &  0.63813350 &  0.425994308 &  0.59407340 &  0.75325570 &  0.55438503 &  0.70858035 &  0.47277243 &  0.220766578 &  0.263669816 &  0.064138416 &  0.454384755 &  0.36911952 &  0.198301823 &  0.094836914 &  0.128922112 &  0.356356779 &  0.208384570 &  0.141897425 &  0.019585373\\\\\n",
       "\tdepart\\_Custom\\_Mkup & -0.0011404177 &  0.384105942 &  0.277343633 &  0.184889485 &  0.314090665 &  0.15823255 &  0.181575784 &          NA &  0.174500907 &  0.215444970 &  0.157022800 &  0.041375409 &  0.016001490 &  0.0069616562 &  3.188870e-02 &  0.0945446286 &  0.24427437 &  0.104324018 &  0.1554403910 &  0.0020768760 &  4.420016e-03 &  0.0437659381 & -0.024774903 &  0.215444970 &  0.248106074 &  0.237220148 &  0.207314252 &  0.236098470 &  0.235517944 &  0.239385407 &  0.0070469367 &  0.0032342576 &  0.0290202267 &  0.0616354479 &  0.070158538 &  0.060271566 &  0.226200644 &  0.168693606 &  0.179432418 &  0.226843057 &  0.205959769 &  0.080040202 &  0.039948211 & -0.123387155 & -0.01839911 &  4.066489e-02 &  0.12835103 & -0.131707206 &  0.045910234 &  0.0219668407 &  0.141920933 &  0.063719385 & -0.099438623 &  0.110745675 &  0.060566758 & -0.0403939164 & -0.064490838 & -0.099706565 &  0.058013522 & -0.0573857619 &  0.75978678 &  0.76454683 &  0.63813350 &  1.00000000 &  0.404635652 &  0.66282165 &  0.64669322 &  0.57880671 &  0.72495960 &  0.44925863 &  0.166666133 &  0.366307560 &  0.091561819 &  0.271273195 &  0.55812527 &  0.271105410 &  0.131351776 &  0.046484782 &  0.440170815 &  0.267555630 &  0.134142408 &  0.031728555\\\\\n",
       "\tdepart\\_Directing & -0.0040124796 &  0.217174074 &  0.156929142 &  0.066224226 &  0.198346886 &  0.07125769 &  0.089496250 &          NA &  0.114640736 &  0.167040697 &  0.013044356 &  0.035896443 & -0.012019230 &  0.0048432935 &  4.927009e-02 &  0.0410158923 &  0.10691987 &  0.068684992 &  0.0727947655 &  0.0419994599 &  3.760909e-03 &  0.0384415133 &  0.035821389 &  0.167040697 &  0.097786132 &  0.097631068 &  0.078377573 &  0.089663423 &  0.095407737 &  0.076951024 &  0.0186200770 & -0.0132466877 &  0.0068232090 &  0.0146375521 &  0.048163714 &  0.035238734 &  0.069444594 &  0.042150171 &  0.069020628 &  0.087265097 &  0.085186434 &  0.064805421 &  0.037625917 &  0.167913009 & -0.05473705 &  3.499529e-02 &  0.02632024 & -0.080880693 &  0.020385576 &  0.0174354959 &  0.042722102 &  0.001968015 & -0.043503292 &  0.032002306 &  0.004803365 & -0.0108722871 & -0.055079248 &  0.102227190 &  0.031808129 & -0.0345877156 &  0.44615275 &  0.44833688 &  0.42599431 &  0.40463565 &  1.000000000 &  0.43512442 &  0.39802169 &  0.40020072 &  0.49201832 &  0.38039959 &  0.351966462 &  0.186060228 &  0.079733782 &  0.166762096 &  0.24289645 &  0.299808599 &  0.121386545 &  0.036964618 &  0.239835382 &  0.165852127 &  0.152800769 &  0.060119868\\\\\n",
       "\tdepart\\_Editing & -0.0023947659 &  0.363595921 &  0.239014882 &  0.166501488 &  0.319266481 &  0.15890455 &  0.155089453 &          NA &  0.186904602 &  0.258154719 &  0.095317778 &  0.045421598 &  0.005148541 &  0.0249077022 &  6.082171e-02 &  0.0685500273 &  0.19467885 &  0.094315789 &  0.1688001698 &  0.0081126488 & -1.306458e-02 &  0.0533233619 & -0.001819047 &  0.258154719 &  0.208043596 &  0.212637704 &  0.166600489 &  0.204035433 &  0.196940815 &  0.200125597 & -0.0218654576 &  0.0124213914 &  0.0151765069 &  0.0892260479 &  0.061947150 &  0.070517202 &  0.176103278 &  0.119636267 &  0.136335564 &  0.215593794 &  0.206838262 &  0.096793881 &  0.047262640 & -0.005727784 & -0.03232157 &  3.885241e-02 &  0.12518510 & -0.120498763 &  0.051958309 &  0.0315043974 &  0.137658808 &  0.064196920 & -0.081657342 &  0.097431275 &  0.052029240 & -0.0415317889 & -0.085139993 & -0.028136637 &  0.058428295 & -0.0725125014 &  0.65430148 &  0.69467341 &  0.59407340 &  0.66282165 &  0.435124419 &  1.00000000 &  0.56956411 &  0.57771911 &  0.74801434 &  0.46325427 &  0.241912733 &  0.297825975 &  0.118488791 &  0.258375585 &  0.41160867 &  0.239759400 &  0.220142077 &  0.112448304 &  0.418672002 &  0.260171908 &  0.146099882 &  0.034180153\\\\\n",
       "\tdepart\\_Lighting & -0.0108179240 &  0.330377900 &  0.220805040 &  0.108919687 &  0.259418397 &  0.10841255 &  0.111738206 &          NA &  0.125198496 &  0.179719787 &  0.117203974 &  0.014790352 & -0.021444455 &  0.0127659193 &  5.049234e-02 &  0.1034777464 &  0.19620892 &  0.100603970 &  0.1015753740 & -0.0059552514 &  2.066660e-02 &  0.0425154012 & -0.004388458 &  0.179719787 &  0.173273752 &  0.168313204 &  0.125762444 &  0.151717708 &  0.146208513 &  0.146379618 & -0.0144169164 & -0.0159017442 &  0.0148136875 &  0.0587687868 &  0.060027520 &  0.044898676 &  0.163708150 &  0.106290819 &  0.107022863 &  0.160649788 &  0.150566794 &  0.095404689 &  0.060139617 & -0.023377346 & -0.05079023 &  3.735752e-02 &  0.12207538 & -0.096896259 &  0.027101810 &  0.0004921525 &  0.105136310 &  0.043314837 & -0.056117989 &  0.099884353 &  0.061620604 & -0.0389869745 & -0.077185526 & -0.021429064 &  0.036963106 & -0.0360839001 &  0.67594318 &  0.74593346 &  0.75325570 &  0.64669322 &  0.398021690 &  0.56956411 &  1.00000000 &  0.52091788 &  0.69506173 &  0.46457943 &  0.183396992 &  0.245077531 &  0.074432774 &  0.315607322 &  0.34882754 &  0.190287205 &  0.099319251 &  0.117789993 &  0.330045282 &  0.215485126 &  0.161794716 &  0.018226868\\\\\n",
       "\tdepart\\_Production & -0.0023995834 &  0.348010694 &  0.238987925 &  0.121516626 &  0.297280025 &  0.18998313 &  0.205089739 &          NA &  0.213476879 &  0.276752435 &  0.253127651 &  0.033293181 &  0.003288505 &  0.0107020396 &  3.797166e-02 &  0.1208037747 &  0.34688483 &  0.201977226 &  0.2049462160 &  0.0087386093 & -1.625741e-02 &  0.0531350949 &  0.018122737 &  0.276752435 &  0.289005409 &  0.284908923 &  0.248394382 &  0.263983393 &  0.254738070 &  0.262793438 &  0.0094233443 &  0.0078235600 &  0.0496437971 &  0.0727982897 &  0.072570390 &  0.044388338 &  0.226309527 &  0.176920660 &  0.167915271 &  0.211356459 &  0.176581539 &  0.083468284 &  0.052910764 & -0.047529301 & -0.02992556 &  5.765200e-02 &  0.12910525 & -0.102944617 &  0.012926288 & -0.0111722522 &  0.159892652 &  0.060198185 & -0.091613151 &  0.088266080 &  0.054340151 & -0.0419550019 & -0.089498201 & -0.052555802 &  0.036086333 & -0.0880619596 &  0.62968450 &  0.59911963 &  0.55438503 &  0.57880671 &  0.400200721 &  0.57771911 &  0.52091788 &  1.00000000 &  0.60847675 &  0.33531250 &  0.229605256 &  0.355794924 &  0.084511265 &  0.261719513 &  0.42250507 &  0.236964922 &  0.144934489 &  0.052022645 &  0.653117227 &  0.217031293 &  0.116167895 &  0.049214891\\\\\n",
       "\tdepart\\_Sound & -0.0107695943 &  0.365429311 &  0.237759584 &  0.155061628 &  0.305644278 &  0.13588439 &  0.151351096 &          NA &  0.175359041 &  0.242387815 &  0.110383703 &  0.028239834 & -0.009661107 &  0.0203243741 &  5.072181e-02 &  0.0851167272 &  0.19978805 &  0.095271853 &  0.1373870889 & -0.0007565019 &  1.551507e-05 &  0.0493996275 &  0.004773764 &  0.242387815 &  0.196877372 &  0.200535108 &  0.150466838 &  0.189278771 &  0.170963504 &  0.182714368 & -0.0090342690 &  0.0004549578 &  0.0159765293 &  0.0729546462 &  0.068388004 &  0.066344019 &  0.167781841 &  0.122985765 &  0.137031637 &  0.191998903 &  0.176852580 &  0.095711515 &  0.048532663 &  0.001030417 & -0.04685148 &  5.492866e-02 &  0.13755587 & -0.128850867 &  0.028997425 &  0.0083558562 &  0.140570949 &  0.058584146 & -0.090085742 &  0.109266580 &  0.071071193 & -0.0349390132 & -0.084207604 & -0.017706218 &  0.064111122 & -0.0568430916 &  0.75051467 &  0.78936281 &  0.70858035 &  0.72495960 &  0.492018316 &  0.74801434 &  0.69506173 &  0.60847675 &  1.00000000 &  0.48746829 &  0.234452719 &  0.314837143 &  0.105562916 &  0.285236238 &  0.42667511 &  0.250766375 &  0.139715464 &  0.078258660 &  0.419214181 &  0.324880846 &  0.151094962 &  0.030204216\\\\\n",
       "\tdepart\\_Visual\\_Effects &  0.0005636036 &  0.406098716 &  0.256860713 &  0.037777155 &  0.350648731 &  0.08287162 &  0.191853844 &          NA &  0.109816487 &  0.127841182 &  0.139436775 &  0.025238708 & -0.019041336 &  0.0222775869 &  5.071894e-02 &  0.0849453391 &  0.15486521 &  0.077429296 &  0.0833861676 & -0.0099496511 &  2.864630e-03 & -0.0006731089 &  0.026563946 &  0.127841182 &  0.162418188 &  0.143516678 &  0.129236494 &  0.140498631 &  0.162915514 &  0.149471821 & -0.0139475243 & -0.0062401085 & -0.0007392549 &  0.0479493027 &  0.043000654 &  0.046798588 &  0.196065531 &  0.142548589 &  0.191426270 &  0.132062512 &  0.104427340 &  0.181068654 &  0.151527721 &  0.268654703 & -0.12205131 &  1.652563e-02 &  0.11180524 & -0.064871098 &  0.001844163 & -0.0089054846 &  0.032846458 & -0.035414990 & -0.050460355 &  0.135006427 &  0.016880418 & -0.0265081767 & -0.090197908 &  0.161391655 &  0.023782731 & -0.0332997689 &  0.52345420 &  0.46729446 &  0.47277243 &  0.44925863 &  0.380399586 &  0.46325427 &  0.46457943 &  0.33531250 &  0.48746829 &  1.00000000 &  0.311686009 &  0.172214605 &  0.054815887 &  0.157628812 &  0.19909314 &  0.110282406 &  0.029374746 &  0.092977699 &  0.219983802 &  0.156901979 &  0.259122157 &  0.041615029\\\\\n",
       "\tdepart\\_Writing &  0.0012589926 &  0.288956946 &  0.159101074 &  0.055795952 &  0.258885445 &  0.03530461 &  0.066107925 &          NA &  0.126144738 &  0.130901626 & -0.062227819 &  0.011112515 & -0.028756991 &  0.0113155721 &  7.584285e-02 &  0.0591329311 &  0.05283619 &  0.047985028 &  0.0620191180 &  0.0452006356 &  8.552902e-03 &  0.0052333854 &  0.015783418 &  0.130901626 &  0.072495619 &  0.066743039 &  0.069708734 &  0.067416859 &  0.078178609 &  0.061478238 & -0.0420086173 & -0.0179944408 &  0.0150535581 &  0.0788971298 &  0.069492357 &  0.031974350 &  0.069496638 &  0.041641185 &  0.085636375 &  0.078212778 &  0.076175773 &  0.197301412 &  0.140909780 &  0.236321464 & -0.13747155 &  6.817969e-05 &  0.10921457 &  0.001891453 &  0.007670499 &  0.0095582727 & -0.009496597 & -0.013609275 & -0.147667058 &  0.085207430 & -0.010149077 & -0.0097986858 & -0.063140012 &  0.178307163 &  0.025904197 & -0.0634615601 &  0.26303134 &  0.18993987 &  0.22076658 &  0.16666613 &  0.351966462 &  0.24191273 &  0.18339699 &  0.22960526 &  0.23445272 &  0.31168601 &  1.000000000 &  0.081993349 &  0.017105350 &  0.081799807 &  0.10993536 &  0.053843519 &  0.012560522 &  0.034931892 &  0.120770941 &  0.065324757 &  0.069324981 &  0.166895165\\\\\n",
       "\tdepart\\_Art\\_female & -0.0125033162 &  0.240198068 &  0.137686896 &  0.083856153 &  0.179350737 &  0.15034602 &  0.088292150 &          NA &  0.122342427 &  0.127408078 &  0.131360674 &  0.020005983 &  0.005591932 & -0.0059135654 &  2.433636e-02 &  0.0281581164 &  0.11809538 &  0.036664433 &  0.1472574635 & -0.0157252242 & -1.670661e-02 &  0.0011758297 & -0.029368975 &  0.127408078 &  0.175149866 &  0.178279737 &  0.157780276 &  0.189954088 &  0.183321772 &  0.173535590 &  0.0359411450 &  0.0358469865 &  0.0347542860 &  0.0214842851 &  0.026177462 &  0.034455931 &  0.114399339 &  0.115665400 &  0.111432800 &  0.133828927 &  0.138681605 &  0.016698684 &  0.027836187 & -0.078606116 &  0.02136527 &  2.170564e-02 &  0.02021770 & -0.035298856 & -0.031036420 &  0.0072938251 &  0.069284110 &  0.028476540 & -0.074053943 &  0.064858604 &  0.031477235 & -0.0030179126 &  0.001423781 & -0.041304512 & -0.028571361 & -0.0453281946 &  0.43714400 &  0.30950950 &  0.26366982 &  0.36630756 &  0.186060228 &  0.29782598 &  0.24507753 &  0.35579492 &  0.31483714 &  0.17221461 &  0.081993349 &  1.000000000 &  0.113806049 &  0.182442300 &  0.33004942 &  0.228384765 &  0.126882132 &  0.054495308 &  0.405293363 &  0.147648671 &  0.045031581 &  0.067732993\\\\\n",
       "\tdepart\\_Camera\\_female & -0.0071895538 &  0.040635270 &  0.064341187 & -0.007659585 &  0.030762556 &  0.04620382 &  0.044412124 &          NA &  0.019762259 &  0.040477946 &  0.064284009 &  0.006414069 &  0.013334217 &  0.0026802886 & -1.374834e-02 &  0.0190778034 &  0.03033856 &  0.005621682 &  0.0479314365 & -0.0204366197 & -9.927178e-03 & -0.0012788430 & -0.006564238 &  0.040477946 &  0.047083888 &  0.064722450 &  0.031768918 &  0.049133093 &  0.031475836 &  0.029818848 &  0.0212940846 &  0.0296006926 &  0.0192428535 & -0.0160651950 & -0.018349804 & -0.005999449 &  0.053113585 &  0.028507248 &  0.019849774 &  0.035292389 &  0.035787874 & -0.022630621 & -0.012490035 & -0.015932912 &  0.01341473 &  9.453198e-03 & -0.04230934 &  0.005836963 & -0.019097384 & -0.0103027812 & -0.030077979 & -0.013366069 &  0.041271884 &  0.003197931 & -0.004341103 &  0.0029416772 &  0.006482975 & -0.005566009 & -0.010213587 & -0.0151321253 &  0.09153944 &  0.11509570 &  0.06413842 &  0.09156182 &  0.079733782 &  0.11848879 &  0.07443277 &  0.08451127 &  0.10556292 &  0.05481589 &  0.017105350 &  0.113806049 &  1.000000000 &  0.059620059 &  0.09351920 &  0.097404885 &  0.046510557 & -0.003671928 &  0.099493843 &  0.053719761 &  0.066849895 &  0.017488340\\\\\n",
       "\tdepart\\_Crew\\_female & -0.0039412638 &  0.167460180 &  0.177099560 &  0.051709976 &  0.129546911 &  0.06146286 &  0.066090713 &          NA &  0.056877805 &  0.114306199 &  0.068595035 &  0.004682066 & -0.003565582 &  0.0064294908 &  2.518148e-02 &  0.0392675096 &  0.06768468 &  0.023903655 &  0.0609313411 &  0.0117188562 &  2.279610e-02 &  0.0094755961 &  0.002278158 &  0.114306199 &  0.086398424 &  0.086082449 &  0.072888368 &  0.087317926 &  0.092365118 &  0.081809831 &  0.0007253303 &  0.0232691885 & -0.0003084770 &  0.0259559662 &  0.004050860 &  0.037985842 &  0.085885965 &  0.055827400 &  0.044043537 &  0.083101462 &  0.066341792 &  0.041515967 &  0.034875170 & -0.015546896 & -0.01381664 &  6.460426e-03 &  0.05974140 & -0.041783653 & -0.018413475 & -0.0047990407 &  0.033011668 &  0.008572763 & -0.026608645 &  0.049792854 &  0.025660516 & -0.0153970708 & -0.023838119 & -0.015826027 &  0.007747371 & -0.0206593686 &  0.30314013 &  0.27833809 &  0.45438476 &  0.27127320 &  0.166762096 &  0.25837559 &  0.31560732 &  0.26171951 &  0.28523624 &  0.15762881 &  0.081799807 &  0.182442300 &  0.059620059 &  1.000000000 &  0.24228083 &  0.122882643 &  0.108280907 &  0.306205323 &  0.231046021 &  0.130306552 &  0.043008560 &  0.026974175\\\\\n",
       "\tdepart\\_Custom\\_Mkup\\_female &  0.0012533881 &  0.289641502 &  0.174299071 &  0.131967473 &  0.255828534 &  0.18557713 &  0.110793543 &          NA &  0.171782285 &  0.187882111 &  0.088600836 &  0.032151823 &  0.008294154 &  0.0031315739 &  3.683072e-02 &  0.0861017856 &  0.15862696 &  0.045121512 &  0.1808885956 & -0.0110402264 & -6.661865e-03 &  0.0209090403 & -0.036672707 &  0.187882111 &  0.191705170 &  0.199839509 &  0.177229851 &  0.207290683 &  0.179494392 &  0.195294856 &  0.0172766267 &  0.0089167059 &  0.0422243291 &  0.0534616357 &  0.073145975 &  0.055878130 &  0.136987010 &  0.108688018 &  0.100454001 &  0.201828685 &  0.194693524 &  0.046919412 &  0.033132544 & -0.107900889 & -0.01499171 &  1.456895e-02 &  0.05516296 & -0.040378548 &  0.003659751 & -0.0100690544 &  0.091179343 &  0.062346913 & -0.095372677 &  0.075944682 &  0.050024851 & -0.0287812941 & -0.023853092 & -0.066893195 &  0.007558800 & -0.0544453339 &  0.48438922 &  0.41297141 &  0.36911952 &  0.55812527 &  0.242896453 &  0.41160867 &  0.34882754 &  0.42250507 &  0.42667511 &  0.19909314 &  0.109935358 &  0.330049421 &  0.093519205 &  0.242280830 &  1.00000000 &  0.246311357 &  0.156762711 &  0.073995794 &  0.424161874 &  0.180809991 &  0.059963055 &  0.050099158\\\\\n",
       "\tdepart\\_Directing\\_female & -0.0040499927 &  0.130363358 &  0.050704171 &  0.049250783 &  0.095571848 &  0.10707806 &  0.049623990 &          NA &  0.080612992 &  0.097419713 &  0.108444232 &  0.016628979 &  0.015476357 &  0.0128299110 & -7.696101e-05 &  0.0331063734 &  0.07532884 &  0.025077755 &  0.1036011797 &  0.0030621213 & -9.090005e-03 &  0.0191135131 & -0.021409761 &  0.097419713 &  0.104069860 &  0.105281166 &  0.110941994 &  0.144631499 &  0.117330304 &  0.112065245 &  0.0823498376 &  0.0341841406 &  0.0224187511 & -0.0453862786 &  0.004747120 &  0.029025474 &  0.054406933 &  0.044283001 &  0.077385735 &  0.043542848 &  0.052750849 & -0.003957174 & -0.015490736 & -0.053529938 &  0.01288355 &  1.206038e-02 & -0.01203188 & -0.030623628 & -0.021139828 &  0.0171473865 &  0.020586196 & -0.006485896 & -0.007646233 &  0.007452290 & -0.001684840 &  0.0005866590 &  0.046332304 & -0.032373793 & -0.013834994 & -0.0353825096 &  0.26551070 &  0.26437346 &  0.19830182 &  0.27110541 &  0.299808599 &  0.23975940 &  0.19028720 &  0.23696492 &  0.25076637 &  0.11028241 &  0.053843519 &  0.228384765 &  0.097404885 &  0.122882643 &  0.24631136 &  1.000000000 &  0.118602038 &  0.029553175 &  0.285797975 &  0.152595498 &  0.049302864 &  0.204653640\\\\\n",
       "\tdepart\\_Editing\\_female & -0.0122359439 &  0.048701873 &  0.059520360 &  0.056225454 &  0.005453434 &  0.07863735 &  0.008767938 &          NA &  0.061203878 &  0.085538841 &  0.012820447 &  0.025836625 &  0.023775270 &  0.0028388476 &  1.087634e-02 &  0.0168454816 &  0.05392082 &  0.020605604 &  0.0951225374 &  0.0350079593 & -1.648824e-02 &  0.0034022037 & -0.001610945 &  0.085538841 &  0.061031940 &  0.057986528 &  0.065003792 &  0.077414815 &  0.070639272 &  0.075068973 &  0.0845334693 &  0.0333469280 &  0.0355753259 & -0.0474379774 &  0.007052242 &  0.013478939 &  0.009438638 &  0.012485025 &  0.018462049 &  0.072182446 &  0.062979708 & -0.021033318 & -0.005007037 & -0.029591538 &  0.07186750 & -5.607006e-02 & -0.05302604 &  0.015389437 &  0.016250102 & -0.0155982623 & -0.004286435 &  0.006174606 & -0.035185052 & -0.023062424 &  0.027804780 &  0.0240028958 &  0.053599604 & -0.003465734 &  0.018250960 & -0.0294095247 &  0.12726786 &  0.13969294 &  0.09483691 &  0.13135178 &  0.121386545 &  0.22014208 &  0.09931925 &  0.14493449 &  0.13971546 &  0.02937475 &  0.012560522 &  0.126882132 &  0.046510557 &  0.108280907 &  0.15676271 &  0.118602038 &  1.000000000 &  0.078658377 &  0.191512269 &  0.086992906 &  0.021995803 &  0.086802700\\\\\n",
       "\tdepart\\_Lighting\\_female & -0.0142471361 &  0.012807638 &  0.006528033 & -0.009393959 &  0.038038950 &  0.01057666 &  0.004510805 &          NA & -0.013439134 &  0.019930871 &  0.000592790 & -0.001892292 &  0.010645518 &  0.0041223367 & -1.910380e-02 &  0.0251403506 &  0.01621717 &  0.002145500 &  0.0099433775 & -0.0085160309 & -5.893824e-03 &  0.0122612031 & -0.004402659 &  0.019930871 &  0.029612163 &  0.020878662 &  0.010201539 &  0.010481665 & -0.005123267 & -0.001261169 & -0.0153789122 & -0.0101779226 & -0.0080394829 &  0.0185052905 &  0.015597433 &  0.014183393 &  0.010794077 & -0.007572736 & -0.016361270 & -0.004634961 & -0.007170913 & -0.011007195 &  0.010806395 &  0.017467729 &  0.01571752 &  8.721152e-03 & -0.01443055 &  0.002539723 & -0.005322997 & -0.0033079993 & -0.003180731 &  0.003908957 & -0.004588769 & -0.008695055 & -0.007422371 & -0.0050522446 & -0.012851974 &  0.009837811 & -0.004820193 & -0.0028087716 &  0.05384849 &  0.07461300 &  0.12892211 &  0.04648478 &  0.036964618 &  0.11244830 &  0.11778999 &  0.05202264 &  0.07825866 &  0.09297770 &  0.034931892 &  0.054495308 & -0.003671928 &  0.306205323 &  0.07399579 &  0.029553175 &  0.078658377 &  1.000000000 &  0.056175066 &  0.108978180 & -0.002334679 &  0.005009139\\\\\n",
       "\tdepart\\_Production\\_female & -0.0034277694 &  0.305989668 &  0.178716590 &  0.084808637 &  0.228304355 &  0.24190911 &  0.164287622 &          NA &  0.195580796 &  0.214333205 &  0.211999110 &  0.041976434 &  0.025369850 & -0.0004817254 &  1.717652e-02 &  0.0693511764 &  0.22585315 &  0.118667445 &  0.2353365817 &  0.0016003256 & -1.598911e-02 &  0.0315859526 & -0.026715732 &  0.214333205 &  0.258587605 &  0.275330332 &  0.229742289 &  0.262837516 &  0.252220596 &  0.265097471 &  0.0761577182 &  0.0339195007 &  0.0560198101 &  0.0151420812 &  0.054454480 &  0.053214506 &  0.180979889 &  0.136631512 &  0.125976918 &  0.203794957 &  0.178497829 &  0.049769047 &  0.035154882 & -0.066173811 &  0.00267405 &  1.409400e-02 &  0.05752499 & -0.033740205 & -0.021106129 & -0.0221862208 &  0.103500244 &  0.040838566 & -0.106214322 &  0.073226841 &  0.049915490 & -0.0296697175 & -0.008426604 & -0.037161595 & -0.009984343 & -0.0750864141 &  0.48269284 &  0.40975802 &  0.35635678 &  0.44017082 &  0.239835382 &  0.41867200 &  0.33004528 &  0.65311723 &  0.41921418 &  0.21998380 &  0.120770941 &  0.405293363 &  0.099493843 &  0.231046021 &  0.42416187 &  0.285797975 &  0.191512269 &  0.056175066 &  1.000000000 &  0.193681824 &  0.087608519 &  0.125090843\\\\\n",
       "\tdepart\\_Sound\\_female & -0.0147870232 &  0.111601108 &  0.077781853 &  0.066062518 &  0.093542540 &  0.07164234 &  0.086242512 &          NA &  0.062637455 &  0.085455798 &  0.079427391 &  0.022081836 &  0.022382833 &  0.0071570144 & -4.600654e-03 &  0.0145315092 &  0.05582467 &  0.023063032 &  0.0680842617 &  0.0016411847 & -8.368051e-03 &  0.0081284512 &  0.007701981 &  0.085455798 &  0.086624031 &  0.099334223 &  0.077042347 &  0.096685319 &  0.092684632 &  0.098391929 &  0.0226617090 &  0.0168690087 & -0.0102214395 &  0.0061648384 &  0.013494767 &  0.041481013 &  0.070980973 &  0.047942246 &  0.071636745 &  0.056398140 &  0.058422064 &  0.025624199 &  0.005831292 & -0.017633730 &  0.01385662 &  4.289293e-03 &  0.02239968 & -0.031860669 & -0.015810719 & -0.0109802607 &  0.035679742 &  0.015322773 & -0.028813838 &  0.015776961 &  0.018902220 & -0.0068620027 & -0.001450345 & -0.028541320 &  0.011686858 & -0.0188143822 &  0.24813432 &  0.27011418 &  0.20838457 &  0.26755563 &  0.165852127 &  0.26017191 &  0.21548513 &  0.21703129 &  0.32488085 &  0.15690198 &  0.065324757 &  0.147648671 &  0.053719761 &  0.130306552 &  0.18080999 &  0.152595498 &  0.086992906 &  0.108978180 &  0.193681824 &  1.000000000 &  0.073357933 &  0.037960926\\\\\n",
       "\tdepart\\_Visual\\_Effects\\_female &  0.0139261364 &  0.091701832 &  0.035534199 &  0.003993970 &  0.042701922 &  0.02794041 &  0.050098899 &          NA &  0.036848645 &  0.032810396 &  0.046247863 &  0.007484671 & -0.008282931 &  0.0061995875 &  1.923953e-02 &  0.0421803578 &  0.04075930 &  0.022327171 &  0.0253876174 & -0.0096019843 &  6.669888e-03 & -0.0092449007 &  0.002511511 &  0.032810396 &  0.051148670 &  0.041272568 &  0.039157408 &  0.041649585 &  0.040100440 &  0.035330059 &  0.0083521374 & -0.0096946012 & -0.0008796107 & -0.0006320945 &  0.025166840 &  0.019106758 &  0.050829547 &  0.054706677 &  0.031875883 &  0.054539285 &  0.043183128 &  0.014674873 &  0.003867868 &  0.063740911 & -0.01424111 & -9.175318e-04 &  0.03573765 & -0.011817228 &  0.018607998 &  0.0002347569 &  0.014321643 & -0.012680520 & -0.015718556 &  0.013515899 &  0.007475537 & -0.0018412158 & -0.011263266 &  0.036701885 & -0.008432817 & -0.0096212805 &  0.14683411 &  0.15673650 &  0.14189743 &  0.13414241 &  0.152800769 &  0.14609988 &  0.16179472 &  0.11616790 &  0.15109496 &  0.25912216 &  0.069324981 &  0.045031581 &  0.066849895 &  0.043008560 &  0.05996306 &  0.049302864 &  0.021995803 & -0.002334679 &  0.087608519 &  0.073357933 &  1.000000000 &  0.019350120\\\\\n",
       "\tdepart\\_Writing\\_female & -0.0117700389 &  0.056957463 &  0.035886995 &  0.018338430 &  0.119148278 &  0.05212204 &  0.039709632 &          NA &  0.041318312 &  0.043342645 &  0.035478866 &  0.010171779 &  0.016195067 &  0.0183624310 & -3.500293e-03 &  0.0083475461 &  0.01976095 &  0.026379234 &  0.0586358749 &  0.0331022106 & -2.927144e-02 & -0.0118308766 & -0.029914282 &  0.043342645 &  0.007055463 &  0.032948387 &  0.037851787 &  0.040948896 &  0.028701102 &  0.033213170 &  0.2167361332 &  0.0454641777 &  0.0279432433 & -0.1772041311 & -0.023598118 & -0.011769918 &  0.029984798 &  0.023588536 &  0.036551854 &  0.010569797 &  0.008174838 & -0.003518241 &  0.054166432 &  0.010574240 &  0.03237982 & -3.804449e-02 & -0.07694190 &  0.049511766 & -0.034188335 & -0.0149682453 & -0.091022473 & -0.060449691 & -0.041135616 & -0.036893834 & -0.019939503 &  0.0278843460 &  0.109776441 &  0.066602159 & -0.034902242 & -0.0241174775 &  0.04276555 &  0.02503758 &  0.01958537 &  0.03172856 &  0.060119868 &  0.03418015 &  0.01822687 &  0.04921489 &  0.03020422 &  0.04161503 &  0.166895165 &  0.067732993 &  0.017488340 &  0.026974175 &  0.05009916 &  0.204653640 &  0.086802700 &  0.005009139 &  0.125090843 &  0.037960926 &  0.019350120 &  1.000000000\\\\\n",
       "\\end{tabular}\n"
      ],
      "text/markdown": [
       "\n",
       "A matrix: 82 × 82 of type dbl\n",
       "\n",
       "| <!--/--> | movie_id | budget | popularity | runtime | revenue | sw_lang_en | sw_web_presence | sw_has_poster | sw_tagline | keyword_cnt | ... | depart_Camera_female | depart_Crew_female | depart_Custom_Mkup_female | depart_Directing_female | depart_Editing_female | depart_Lighting_female | depart_Production_female | depart_Sound_female | depart_Visual_Effects_female | depart_Writing_female |\n",
       "|---|---|---|---|---|---|---|---|---|---|---|---|---|---|---|---|---|---|---|---|---|---|\n",
       "| movie_id |  1.000000e+00 |  0.0041642967 |  0.005173858 |  0.0009434593 |  0.001214268 |  0.001174848 |  0.0044600272 | 0.004872709 | -0.008195807 |  0.006778693 | ... | -0.007189554 | -0.003941264 |  0.001253388 | -4.049993e-03 | -0.012235944 | -0.014247136 | -0.0034277694 | -0.014787023 |  0.013926136 | -0.011770039 |\n",
       "| budget |  4.164297e-03 |  1.0000000000 |  0.339388730 |  0.2164879358 |  0.752813373 |  0.190399464 |  0.2520384217 | 0.010093843 |  0.210015551 |  0.197089448 | ... |  0.040635270 |  0.167460180 |  0.289641502 |  1.303634e-01 |  0.048701873 |  0.012807638 |  0.3059896680 |  0.111601108 |  0.091701832 |  0.056957463 |\n",
       "| popularity |  5.173858e-03 |  0.3393887304 |  1.000000000 |  0.1122494375 |  0.461078462 |  0.119449944 |  0.1641094990 | 0.011544189 |  0.155693159 |  0.180578323 | ... |  0.064341187 |  0.177099560 |  0.174299071 |  5.070417e-02 |  0.059520360 |  0.006528033 |  0.1787165897 |  0.077781853 |  0.035534199 |  0.035886995 |\n",
       "| runtime |  9.434593e-04 |  0.2164879358 |  0.112249437 |  1.0000000000 |  0.216799905 | -0.125600811 |  0.0317906518 | 0.009655723 |  0.003131133 |  0.137429144 | ... | -0.007659585 |  0.051709976 |  0.131967473 |  4.925078e-02 |  0.056225454 | -0.009393959 |  0.0848086370 |  0.066062518 |  0.003993970 |  0.018338430 |\n",
       "| revenue |  1.214268e-03 |  0.7528133727 |  0.461078462 |  0.2167999049 |  1.000000000 |  0.141707249 |  0.2630542517 | 0.008874882 |  0.179302534 |  0.186847451 | ... |  0.030762556 |  0.129546911 |  0.255828534 |  9.557185e-02 |  0.005453434 |  0.038038950 |  0.2283043549 |  0.093542540 |  0.042701922 |  0.119148278 |\n",
       "| sw_lang_en |  1.174848e-03 |  0.1903994638 |  0.119449944 | -0.1256008106 |  0.141707249 |  1.000000000 |  0.0358338386 | 0.017001119 |  0.399816033 |  0.131497340 | ... |  0.046203818 |  0.061462864 |  0.185577128 |  1.070781e-01 |  0.078637346 |  0.010576660 |  0.2419091140 |  0.071642335 |  0.027940415 |  0.052122042 |\n",
       "| sw_web_presence |  4.460027e-03 |  0.2520384217 |  0.164109499 |  0.0317906518 |  0.263054252 |  0.035833839 |  1.0000000000 | 0.011308870 |  0.058632588 |  0.120796409 | ... |  0.044412124 |  0.066090713 |  0.110793543 |  4.962399e-02 |  0.008767938 |  0.004510805 |  0.1642876224 |  0.086242512 |  0.050098899 |  0.039709632 |\n",
       "| sw_has_poster |  4.872709e-03 |  0.0100938427 |  0.011544189 |  0.0096557233 |  0.008874882 |  0.017001119 |  0.0113088700 | 1.000000000 |  0.012644048 |  0.013870263 | ... |           NA |           NA |           NA |            NA |           NA |           NA |            NA |           NA |           NA |           NA |\n",
       "| sw_tagline | -8.195807e-03 |  0.2100155506 |  0.155693159 |  0.0031311327 |  0.179302534 |  0.399816033 |  0.0586325882 | 0.012644048 |  1.000000000 |  0.220826022 | ... |  0.019762259 |  0.056877805 |  0.171782285 |  8.061299e-02 |  0.061203878 | -0.013439134 |  0.1955807958 |  0.062637455 |  0.036848645 |  0.041318312 |\n",
       "| keyword_cnt |  6.778693e-03 |  0.1970894481 |  0.180578323 |  0.1374291436 |  0.186847451 |  0.131497340 |  0.1207964088 | 0.013870263 |  0.220826022 |  1.000000000 | ... |  0.040477946 |  0.114306199 |  0.187882111 |  9.741971e-02 |  0.085538841 |  0.019930871 |  0.2143332055 |  0.085455798 |  0.032810396 |  0.043342645 |\n",
       "| release_year | -1.200468e-03 |  0.2201735230 |  0.102231236 | -0.0359047054 |  0.138195138 | -0.139315132 |  0.3724414621 | 0.002786254 | -0.095846766 | -0.091863315 | ... |  0.064284009 |  0.068595035 |  0.088600836 |  1.084442e-01 |  0.012820447 |  0.000592790 |  0.2119991097 |  0.079427391 |  0.046247863 |  0.035478866 |\n",
       "| release_month |  1.691977e-02 |  0.0373998743 |  0.019352595 |  0.1290560782 |  0.020811243 |  0.014318009 | -0.0086201785 | 0.013222105 |  0.014308057 |  0.031550158 | ... |  0.006414069 |  0.004682066 |  0.032151823 |  1.662898e-02 |  0.025836625 | -0.001892292 |  0.0419764340 |  0.022081836 |  0.007484671 |  0.010171779 |\n",
       "| high_release_month |  1.168862e-03 | -0.0750057432 | -0.023066555 |  0.0579669014 | -0.085988198 |  0.002640193 | -0.0163482972 | 0.013440080 | -0.021350995 | -0.005449187 | ... |  0.013334217 | -0.003565582 |  0.008294154 |  1.547636e-02 |  0.023775270 |  0.010645518 |  0.0253698500 |  0.022382833 | -0.008282931 |  0.016195067 |\n",
       "| release_day |  2.953500e-02 |  0.0332320567 |  0.036665008 |  0.0266801635 |  0.045131991 |  0.001988782 | -0.0036326782 | 0.001691497 |  0.021558767 |  0.012657228 | ... |  0.002680289 |  0.006429491 |  0.003131574 |  1.282991e-02 |  0.002838848 |  0.004122337 | -0.0004817254 |  0.007157014 |  0.006199588 |  0.018362431 |\n",
       "| seasonality |  2.531736e-02 |  0.1744904780 |  0.074854386 |  0.1076548187 |  0.201610546 |  0.011147423 | -0.0009158983 | 0.001815836 |  0.048319386 |  0.071171202 | ... | -0.013748341 |  0.025181478 |  0.036830717 | -7.696101e-05 |  0.010876337 | -0.019103797 |  0.0171765242 | -0.004600654 |  0.019239528 | -0.003500293 |\n",
       "| sw_collection |  7.626117e-03 |  0.1228671116 |  0.083577549 |  0.0354513357 |  0.132115334 | -0.025081027 |  0.0776711549 | 0.002728681 |  0.039326905 |  0.032424413 | ... |  0.019077803 |  0.039267510 |  0.086101786 |  3.310637e-02 |  0.016845482 |  0.025140351 |  0.0693511764 |  0.014531509 |  0.042180358 |  0.008347546 |\n",
       "| producers_cnt |  1.864794e-02 |  0.1874306696 |  0.104617180 |  0.0725876116 |  0.129237116 | -0.058093941 |  0.1677607364 | 0.010654589 |  0.038644331 |  0.117025270 | ... |  0.030338562 |  0.067684679 |  0.158626963 |  7.532884e-02 |  0.053920820 |  0.016217170 |  0.2258531510 |  0.055824666 |  0.040759303 |  0.019760954 |\n",
       "| countries_cnt |  2.284896e-03 |  0.0986858515 |  0.071896406 |  0.1008797064 |  0.052137673 | -0.060141672 |  0.0633775083 | 0.017412314 |  0.035122357 |  0.106302706 | ... |  0.005621682 |  0.023903655 |  0.045121512 |  2.507776e-02 |  0.020605604 |  0.002145500 |  0.1186674451 |  0.023063032 |  0.022327171 |  0.026379234 |\n",
       "| lang_US | -1.024099e-02 |  0.1866443465 |  0.134444514 | -0.0878030072 |  0.133601018 |  0.774472926 |  0.0462757530 | 0.043277525 |  0.417120927 |  0.162537895 | ... |  0.047931437 |  0.060931341 |  0.180888596 |  1.036012e-01 |  0.095122537 |  0.009943377 |  0.2353365817 |  0.068084262 |  0.025387617 |  0.058635875 |\n",
       "| lang_FR | -1.084888e-03 |  0.0004019011 | -0.001816200 |  0.0652460411 |  0.006093645 | -0.156921602 |  0.0021568554 | 0.005379726 | -0.046312495 |  0.024075055 | ... | -0.020436620 |  0.011718856 | -0.011040226 |  3.062121e-03 |  0.035007959 | -0.008516031 |  0.0016003256 |  0.001641185 | -0.009601984 |  0.033102211 |\n",
       "| lang_RU | -1.816392e-02 |  0.0115147120 | -0.018476687 |  0.0354470334 | -0.007004130 | -0.146107663 | -0.0050103619 | 0.003720135 | -0.093862248 | -0.038234001 | ... | -0.009927178 |  0.022796096 | -0.006661865 | -9.090005e-03 | -0.016488244 | -0.005893824 | -0.0159891112 | -0.008368051 |  0.006669888 | -0.029271445 |\n",
       "| lang_ES | -1.176224e-02 |  0.0231029182 |  0.008422825 |  0.0440678917 |  0.023694771 | -0.063684712 | -0.0132924325 | 0.004716654 |  0.014594878 |  0.045061482 | ... | -0.001278843 |  0.009475596 |  0.020909040 |  1.911351e-02 |  0.003402204 |  0.012261203 |  0.0315859526 |  0.008128451 | -0.009244901 | -0.011830877 |\n",
       "| lang_JA | -9.936818e-03 |  0.0065325324 |  0.015145198 |  0.0587755246 | -0.003361731 | -0.202622694 |  0.0471960089 | 0.002777910 | -0.029420556 |  0.012028104 | ... | -0.006564238 |  0.002278158 | -0.036672707 | -2.140976e-02 | -0.001610945 | -0.004402659 | -0.0267157323 |  0.007701981 |  0.002511511 | -0.029914282 |\n",
       "| keywords_cnt |  6.778693e-03 |  0.1970894481 |  0.180578323 |  0.1374291436 |  0.186847451 |  0.131497340 |  0.1207964088 | 0.013870263 |  0.220826022 |  1.000000000 | ... |  0.040477946 |  0.114306199 |  0.187882111 |  9.741971e-02 |  0.085538841 |  0.019930871 |  0.2143332055 |  0.085455798 |  0.032810396 |  0.043342645 |\n",
       "| actor0_movies_cnt |  2.199844e-02 |  0.3198839873 |  0.166876649 |  0.0614065421 |  0.216346892 |  0.233567267 |  0.1715349086 | 0.013209329 |  0.156929215 |  0.078637713 | ... |  0.047083888 |  0.086398424 |  0.191705170 |  1.040699e-01 |  0.061031940 |  0.029612163 |  0.2585876050 |  0.086624031 |  0.051148670 |  0.007055463 |\n",
       "| actor0_movies_5y_cnt |  1.243901e-02 |  0.2968488618 |  0.153435701 |  0.0507253956 |  0.199516664 |  0.247134442 |  0.1590276341 | 0.015091868 |  0.179459862 |  0.086394439 | ... |  0.064722450 |  0.086082449 |  0.199839509 |  1.052812e-01 |  0.057986528 |  0.020878662 |  0.2753303320 |  0.099334223 |  0.041272568 |  0.032948387 |\n",
       "| actor1_movies_cnt |  1.686023e-02 |  0.2872353016 |  0.141839033 |  0.0435718495 |  0.194883514 |  0.213727808 |  0.1829226436 | 0.011724187 |  0.129353003 |  0.054095895 | ... |  0.031768918 |  0.072888368 |  0.177229851 |  1.109420e-01 |  0.065003792 |  0.010201539 |  0.2297422895 |  0.077042347 |  0.039157408 |  0.037851787 |\n",
       "| actor1_movies_5y_cnt |  2.426009e-02 |  0.2913125346 |  0.153697974 |  0.0555915124 |  0.213215310 |  0.233855262 |  0.1726348475 | 0.013252009 |  0.154152781 |  0.080954394 | ... |  0.049133093 |  0.087317926 |  0.207290683 |  1.446315e-01 |  0.077414815 |  0.010481665 |  0.2628375161 |  0.096685319 |  0.041649585 |  0.040948896 |\n",
       "| actor2_movies_cnt |  9.568621e-05 |  0.2809264082 |  0.152012010 |  0.0336873255 |  0.177357681 |  0.218024817 |  0.1744072873 | 0.011070589 |  0.129179485 |  0.045520558 | ... |  0.031475836 |  0.092365118 |  0.179494392 |  1.173303e-01 |  0.070639272 | -0.005123267 |  0.2522205959 |  0.092684632 |  0.040100440 |  0.028701102 |\n",
       "| actor2_movies_5y_cnt | -4.077075e-03 |  0.3038197877 |  0.143836659 |  0.0469708392 |  0.215997573 |  0.229505146 |  0.1653938103 | 0.012327019 |  0.159317681 |  0.069739017 | ... |  0.029818848 |  0.081809831 |  0.195294856 |  1.120652e-01 |  0.075068973 | -0.001261169 |  0.2650974706 |  0.098391929 |  0.035330059 |  0.033213170 |\n",
       "| ... | ... | ... | ... | ... | ... | ... | ... | ... | ... | ... | <!----> | ... | ... | ... | ... | ... | ... | ... | ... | ... | ... |\n",
       "| genre_documentary | -0.0009454194 | -0.102240489 | -0.080669674 | -0.081304424 | -0.078246795 |  0.03231209 |  0.092357888 | 0.002894773 | -0.101845129 | -0.075125345 | ... |  0.041271884 | -0.026608645 | -0.09537268 | -0.007646233 | -0.035185052 | -0.004588769 | -0.106214322 | -0.028813838 | -0.015718556 | -0.041135616 |\n",
       "| genre_science_fiction |  0.0068597880 |  0.198761109 |  0.098665686 | -0.021265124 |  0.132053541 |  0.05152587 |  0.045942426 | 0.005516833 |  0.092484475 |  0.093322362 | ... |  0.003197931 |  0.049792854 |  0.07594468 |  0.007452290 | -0.023062424 | -0.008695055 |  0.073226841 |  0.015776961 |  0.013515899 | -0.036893834 |\n",
       "| genre_mystery | -0.0058711260 |  0.008471006 |  0.023180768 |  0.029637918 | -0.015008715 |  0.03187456 | -0.023475435 | 0.004675444 |  0.057962865 |  0.053768925 | ... | -0.004341103 |  0.025660516 |  0.05002485 | -0.001684840 |  0.027804780 | -0.007422371 |  0.049915490 |  0.018902220 |  0.007475537 | -0.019939503 |\n",
       "| genre_music |  0.0046223379 | -0.043700682 | -0.027498586 |  0.029725594 | -0.032431372 |  0.04927325 | -0.017964909 | 0.003192088 |  0.013187553 | -0.001711621 | ... |  0.002941677 | -0.015397071 | -0.02878129 |  0.000586659 |  0.024002896 | -0.005052245 | -0.029669718 | -0.006862003 | -0.001841216 |  0.027884346 |\n",
       "| genre_romance |  0.0074431866 | -0.100608018 | -0.063047300 |  0.070620530 | -0.050004467 | -0.00672949 | -0.056360477 | 0.008095163 | -0.030590324 | -0.057099248 | ... |  0.006482975 | -0.023838119 | -0.02385309 |  0.046332304 |  0.053599604 | -0.012851974 | -0.008426604 | -0.001450345 | -0.011263266 |  0.109776441 |\n",
       "| genre_family |  0.0083288000 |  0.196235230 |  0.068731732 | -0.154062377 |  0.161393817 |  0.07446786 |  0.056155038 | 0.005227660 |  0.055700977 | -0.032782051 | ... | -0.005566009 | -0.015826027 | -0.06689319 | -0.032373793 | -0.003465734 |  0.009837811 | -0.037161595 | -0.028541320 |  0.036701885 |  0.066602159 |\n",
       "| genre_war | -0.0055805028 |  0.019815315 |  0.013445752 |  0.168733130 | -0.022914789 | -0.04970744 | -0.012793067 | 0.003040117 | -0.008594501 |  0.014776936 | ... | -0.010213587 |  0.007747371 |  0.00755880 | -0.013834994 |  0.018250960 | -0.004820193 | -0.009984343 |  0.011686858 | -0.008432817 | -0.034902242 |\n",
       "| genre_foreign |  0.0072884026 | -0.061642135 | -0.067070386 |  0.046639674 | -0.048318329 | -0.12181650 | -0.018933524 | 0.001767824 | -0.143617976 | -0.091211218 | ... | -0.015132125 | -0.020659369 | -0.05444533 | -0.035382510 | -0.029409525 | -0.002808772 | -0.075086414 | -0.018814382 | -0.009621281 | -0.024117477 |\n",
       "| depart_Art | -0.0061790614 |  0.480601001 |  0.285623249 |  0.181598355 |  0.368064990 |  0.17846947 |  0.151037542 |          NA |  0.195229082 |  0.245971285 | ... |  0.091539438 |  0.303140130 |  0.48438922 |  0.265510703 |  0.127267859 |  0.053848493 |  0.482692840 |  0.248134322 |  0.146834113 |  0.042765547 |\n",
       "| depart_Camera | -0.0062160832 |  0.350326858 |  0.261362264 |  0.163412305 |  0.304723381 |  0.14133815 |  0.131719926 |          NA |  0.174399513 |  0.231999204 | ... |  0.115095704 |  0.278338086 |  0.41297141 |  0.264373457 |  0.139692944 |  0.074613000 |  0.409758022 |  0.270114184 |  0.156736497 |  0.025037581 |\n",
       "| depart_Crew | -0.0116860264 |  0.356345024 |  0.261030264 |  0.132355633 |  0.276243086 |  0.11227154 |  0.105334662 |          NA |  0.144099691 |  0.209395739 | ... |  0.064138416 |  0.454384755 |  0.36911952 |  0.198301823 |  0.094836914 |  0.128922112 |  0.356356779 |  0.208384570 |  0.141897425 |  0.019585373 |\n",
       "| depart_Custom_Mkup | -0.0011404177 |  0.384105942 |  0.277343633 |  0.184889485 |  0.314090665 |  0.15823255 |  0.181575784 |          NA |  0.174500907 |  0.215444970 | ... |  0.091561819 |  0.271273195 |  0.55812527 |  0.271105410 |  0.131351776 |  0.046484782 |  0.440170815 |  0.267555630 |  0.134142408 |  0.031728555 |\n",
       "| depart_Directing | -0.0040124796 |  0.217174074 |  0.156929142 |  0.066224226 |  0.198346886 |  0.07125769 |  0.089496250 |          NA |  0.114640736 |  0.167040697 | ... |  0.079733782 |  0.166762096 |  0.24289645 |  0.299808599 |  0.121386545 |  0.036964618 |  0.239835382 |  0.165852127 |  0.152800769 |  0.060119868 |\n",
       "| depart_Editing | -0.0023947659 |  0.363595921 |  0.239014882 |  0.166501488 |  0.319266481 |  0.15890455 |  0.155089453 |          NA |  0.186904602 |  0.258154719 | ... |  0.118488791 |  0.258375585 |  0.41160867 |  0.239759400 |  0.220142077 |  0.112448304 |  0.418672002 |  0.260171908 |  0.146099882 |  0.034180153 |\n",
       "| depart_Lighting | -0.0108179240 |  0.330377900 |  0.220805040 |  0.108919687 |  0.259418397 |  0.10841255 |  0.111738206 |          NA |  0.125198496 |  0.179719787 | ... |  0.074432774 |  0.315607322 |  0.34882754 |  0.190287205 |  0.099319251 |  0.117789993 |  0.330045282 |  0.215485126 |  0.161794716 |  0.018226868 |\n",
       "| depart_Production | -0.0023995834 |  0.348010694 |  0.238987925 |  0.121516626 |  0.297280025 |  0.18998313 |  0.205089739 |          NA |  0.213476879 |  0.276752435 | ... |  0.084511265 |  0.261719513 |  0.42250507 |  0.236964922 |  0.144934489 |  0.052022645 |  0.653117227 |  0.217031293 |  0.116167895 |  0.049214891 |\n",
       "| depart_Sound | -0.0107695943 |  0.365429311 |  0.237759584 |  0.155061628 |  0.305644278 |  0.13588439 |  0.151351096 |          NA |  0.175359041 |  0.242387815 | ... |  0.105562916 |  0.285236238 |  0.42667511 |  0.250766375 |  0.139715464 |  0.078258660 |  0.419214181 |  0.324880846 |  0.151094962 |  0.030204216 |\n",
       "| depart_Visual_Effects |  0.0005636036 |  0.406098716 |  0.256860713 |  0.037777155 |  0.350648731 |  0.08287162 |  0.191853844 |          NA |  0.109816487 |  0.127841182 | ... |  0.054815887 |  0.157628812 |  0.19909314 |  0.110282406 |  0.029374746 |  0.092977699 |  0.219983802 |  0.156901979 |  0.259122157 |  0.041615029 |\n",
       "| depart_Writing |  0.0012589926 |  0.288956946 |  0.159101074 |  0.055795952 |  0.258885445 |  0.03530461 |  0.066107925 |          NA |  0.126144738 |  0.130901626 | ... |  0.017105350 |  0.081799807 |  0.10993536 |  0.053843519 |  0.012560522 |  0.034931892 |  0.120770941 |  0.065324757 |  0.069324981 |  0.166895165 |\n",
       "| depart_Art_female | -0.0125033162 |  0.240198068 |  0.137686896 |  0.083856153 |  0.179350737 |  0.15034602 |  0.088292150 |          NA |  0.122342427 |  0.127408078 | ... |  0.113806049 |  0.182442300 |  0.33004942 |  0.228384765 |  0.126882132 |  0.054495308 |  0.405293363 |  0.147648671 |  0.045031581 |  0.067732993 |\n",
       "| depart_Camera_female | -0.0071895538 |  0.040635270 |  0.064341187 | -0.007659585 |  0.030762556 |  0.04620382 |  0.044412124 |          NA |  0.019762259 |  0.040477946 | ... |  1.000000000 |  0.059620059 |  0.09351920 |  0.097404885 |  0.046510557 | -0.003671928 |  0.099493843 |  0.053719761 |  0.066849895 |  0.017488340 |\n",
       "| depart_Crew_female | -0.0039412638 |  0.167460180 |  0.177099560 |  0.051709976 |  0.129546911 |  0.06146286 |  0.066090713 |          NA |  0.056877805 |  0.114306199 | ... |  0.059620059 |  1.000000000 |  0.24228083 |  0.122882643 |  0.108280907 |  0.306205323 |  0.231046021 |  0.130306552 |  0.043008560 |  0.026974175 |\n",
       "| depart_Custom_Mkup_female |  0.0012533881 |  0.289641502 |  0.174299071 |  0.131967473 |  0.255828534 |  0.18557713 |  0.110793543 |          NA |  0.171782285 |  0.187882111 | ... |  0.093519205 |  0.242280830 |  1.00000000 |  0.246311357 |  0.156762711 |  0.073995794 |  0.424161874 |  0.180809991 |  0.059963055 |  0.050099158 |\n",
       "| depart_Directing_female | -0.0040499927 |  0.130363358 |  0.050704171 |  0.049250783 |  0.095571848 |  0.10707806 |  0.049623990 |          NA |  0.080612992 |  0.097419713 | ... |  0.097404885 |  0.122882643 |  0.24631136 |  1.000000000 |  0.118602038 |  0.029553175 |  0.285797975 |  0.152595498 |  0.049302864 |  0.204653640 |\n",
       "| depart_Editing_female | -0.0122359439 |  0.048701873 |  0.059520360 |  0.056225454 |  0.005453434 |  0.07863735 |  0.008767938 |          NA |  0.061203878 |  0.085538841 | ... |  0.046510557 |  0.108280907 |  0.15676271 |  0.118602038 |  1.000000000 |  0.078658377 |  0.191512269 |  0.086992906 |  0.021995803 |  0.086802700 |\n",
       "| depart_Lighting_female | -0.0142471361 |  0.012807638 |  0.006528033 | -0.009393959 |  0.038038950 |  0.01057666 |  0.004510805 |          NA | -0.013439134 |  0.019930871 | ... | -0.003671928 |  0.306205323 |  0.07399579 |  0.029553175 |  0.078658377 |  1.000000000 |  0.056175066 |  0.108978180 | -0.002334679 |  0.005009139 |\n",
       "| depart_Production_female | -0.0034277694 |  0.305989668 |  0.178716590 |  0.084808637 |  0.228304355 |  0.24190911 |  0.164287622 |          NA |  0.195580796 |  0.214333205 | ... |  0.099493843 |  0.231046021 |  0.42416187 |  0.285797975 |  0.191512269 |  0.056175066 |  1.000000000 |  0.193681824 |  0.087608519 |  0.125090843 |\n",
       "| depart_Sound_female | -0.0147870232 |  0.111601108 |  0.077781853 |  0.066062518 |  0.093542540 |  0.07164234 |  0.086242512 |          NA |  0.062637455 |  0.085455798 | ... |  0.053719761 |  0.130306552 |  0.18080999 |  0.152595498 |  0.086992906 |  0.108978180 |  0.193681824 |  1.000000000 |  0.073357933 |  0.037960926 |\n",
       "| depart_Visual_Effects_female |  0.0139261364 |  0.091701832 |  0.035534199 |  0.003993970 |  0.042701922 |  0.02794041 |  0.050098899 |          NA |  0.036848645 |  0.032810396 | ... |  0.066849895 |  0.043008560 |  0.05996306 |  0.049302864 |  0.021995803 | -0.002334679 |  0.087608519 |  0.073357933 |  1.000000000 |  0.019350120 |\n",
       "| depart_Writing_female | -0.0117700389 |  0.056957463 |  0.035886995 |  0.018338430 |  0.119148278 |  0.05212204 |  0.039709632 |          NA |  0.041318312 |  0.043342645 | ... |  0.017488340 |  0.026974175 |  0.05009916 |  0.204653640 |  0.086802700 |  0.005009139 |  0.125090843 |  0.037960926 |  0.019350120 |  1.000000000 |\n",
       "\n"
      ],
      "text/plain": [
       "                             movie_id      budget        popularity  \n",
       "movie_id                      1.000000e+00  0.0041642967  0.005173858\n",
       "budget                        4.164297e-03  1.0000000000  0.339388730\n",
       "popularity                    5.173858e-03  0.3393887304  1.000000000\n",
       "runtime                       9.434593e-04  0.2164879358  0.112249437\n",
       "revenue                       1.214268e-03  0.7528133727  0.461078462\n",
       "sw_lang_en                    1.174848e-03  0.1903994638  0.119449944\n",
       "sw_web_presence               4.460027e-03  0.2520384217  0.164109499\n",
       "sw_has_poster                 4.872709e-03  0.0100938427  0.011544189\n",
       "sw_tagline                   -8.195807e-03  0.2100155506  0.155693159\n",
       "keyword_cnt                   6.778693e-03  0.1970894481  0.180578323\n",
       "release_year                 -1.200468e-03  0.2201735230  0.102231236\n",
       "release_month                 1.691977e-02  0.0373998743  0.019352595\n",
       "high_release_month            1.168862e-03 -0.0750057432 -0.023066555\n",
       "release_day                   2.953500e-02  0.0332320567  0.036665008\n",
       "seasonality                   2.531736e-02  0.1744904780  0.074854386\n",
       "sw_collection                 7.626117e-03  0.1228671116  0.083577549\n",
       "producers_cnt                 1.864794e-02  0.1874306696  0.104617180\n",
       "countries_cnt                 2.284896e-03  0.0986858515  0.071896406\n",
       "lang_US                      -1.024099e-02  0.1866443465  0.134444514\n",
       "lang_FR                      -1.084888e-03  0.0004019011 -0.001816200\n",
       "lang_RU                      -1.816392e-02  0.0115147120 -0.018476687\n",
       "lang_ES                      -1.176224e-02  0.0231029182  0.008422825\n",
       "lang_JA                      -9.936818e-03  0.0065325324  0.015145198\n",
       "keywords_cnt                  6.778693e-03  0.1970894481  0.180578323\n",
       "actor0_movies_cnt             2.199844e-02  0.3198839873  0.166876649\n",
       "actor0_movies_5y_cnt          1.243901e-02  0.2968488618  0.153435701\n",
       "actor1_movies_cnt             1.686023e-02  0.2872353016  0.141839033\n",
       "actor1_movies_5y_cnt          2.426009e-02  0.2913125346  0.153697974\n",
       "actor2_movies_cnt             9.568621e-05  0.2809264082  0.152012010\n",
       "actor2_movies_5y_cnt         -4.077075e-03  0.3038197877  0.143836659\n",
       "...                          ...           ...           ...         \n",
       "genre_documentary            -0.0009454194 -0.102240489  -0.080669674\n",
       "genre_science_fiction         0.0068597880  0.198761109   0.098665686\n",
       "genre_mystery                -0.0058711260  0.008471006   0.023180768\n",
       "genre_music                   0.0046223379 -0.043700682  -0.027498586\n",
       "genre_romance                 0.0074431866 -0.100608018  -0.063047300\n",
       "genre_family                  0.0083288000  0.196235230   0.068731732\n",
       "genre_war                    -0.0055805028  0.019815315   0.013445752\n",
       "genre_foreign                 0.0072884026 -0.061642135  -0.067070386\n",
       "depart_Art                   -0.0061790614  0.480601001   0.285623249\n",
       "depart_Camera                -0.0062160832  0.350326858   0.261362264\n",
       "depart_Crew                  -0.0116860264  0.356345024   0.261030264\n",
       "depart_Custom_Mkup           -0.0011404177  0.384105942   0.277343633\n",
       "depart_Directing             -0.0040124796  0.217174074   0.156929142\n",
       "depart_Editing               -0.0023947659  0.363595921   0.239014882\n",
       "depart_Lighting              -0.0108179240  0.330377900   0.220805040\n",
       "depart_Production            -0.0023995834  0.348010694   0.238987925\n",
       "depart_Sound                 -0.0107695943  0.365429311   0.237759584\n",
       "depart_Visual_Effects         0.0005636036  0.406098716   0.256860713\n",
       "depart_Writing                0.0012589926  0.288956946   0.159101074\n",
       "depart_Art_female            -0.0125033162  0.240198068   0.137686896\n",
       "depart_Camera_female         -0.0071895538  0.040635270   0.064341187\n",
       "depart_Crew_female           -0.0039412638  0.167460180   0.177099560\n",
       "depart_Custom_Mkup_female     0.0012533881  0.289641502   0.174299071\n",
       "depart_Directing_female      -0.0040499927  0.130363358   0.050704171\n",
       "depart_Editing_female        -0.0122359439  0.048701873   0.059520360\n",
       "depart_Lighting_female       -0.0142471361  0.012807638   0.006528033\n",
       "depart_Production_female     -0.0034277694  0.305989668   0.178716590\n",
       "depart_Sound_female          -0.0147870232  0.111601108   0.077781853\n",
       "depart_Visual_Effects_female  0.0139261364  0.091701832   0.035534199\n",
       "depart_Writing_female        -0.0117700389  0.056957463   0.035886995\n",
       "                             runtime       revenue      sw_lang_en  \n",
       "movie_id                      0.0009434593  0.001214268  0.001174848\n",
       "budget                        0.2164879358  0.752813373  0.190399464\n",
       "popularity                    0.1122494375  0.461078462  0.119449944\n",
       "runtime                       1.0000000000  0.216799905 -0.125600811\n",
       "revenue                       0.2167999049  1.000000000  0.141707249\n",
       "sw_lang_en                   -0.1256008106  0.141707249  1.000000000\n",
       "sw_web_presence               0.0317906518  0.263054252  0.035833839\n",
       "sw_has_poster                 0.0096557233  0.008874882  0.017001119\n",
       "sw_tagline                    0.0031311327  0.179302534  0.399816033\n",
       "keyword_cnt                   0.1374291436  0.186847451  0.131497340\n",
       "release_year                 -0.0359047054  0.138195138 -0.139315132\n",
       "release_month                 0.1290560782  0.020811243  0.014318009\n",
       "high_release_month            0.0579669014 -0.085988198  0.002640193\n",
       "release_day                   0.0266801635  0.045131991  0.001988782\n",
       "seasonality                   0.1076548187  0.201610546  0.011147423\n",
       "sw_collection                 0.0354513357  0.132115334 -0.025081027\n",
       "producers_cnt                 0.0725876116  0.129237116 -0.058093941\n",
       "countries_cnt                 0.1008797064  0.052137673 -0.060141672\n",
       "lang_US                      -0.0878030072  0.133601018  0.774472926\n",
       "lang_FR                       0.0652460411  0.006093645 -0.156921602\n",
       "lang_RU                       0.0354470334 -0.007004130 -0.146107663\n",
       "lang_ES                       0.0440678917  0.023694771 -0.063684712\n",
       "lang_JA                       0.0587755246 -0.003361731 -0.202622694\n",
       "keywords_cnt                  0.1374291436  0.186847451  0.131497340\n",
       "actor0_movies_cnt             0.0614065421  0.216346892  0.233567267\n",
       "actor0_movies_5y_cnt          0.0507253956  0.199516664  0.247134442\n",
       "actor1_movies_cnt             0.0435718495  0.194883514  0.213727808\n",
       "actor1_movies_5y_cnt          0.0555915124  0.213215310  0.233855262\n",
       "actor2_movies_cnt             0.0336873255  0.177357681  0.218024817\n",
       "actor2_movies_5y_cnt          0.0469708392  0.215997573  0.229505146\n",
       "...                          ...           ...          ...         \n",
       "genre_documentary            -0.081304424  -0.078246795  0.03231209 \n",
       "genre_science_fiction        -0.021265124   0.132053541  0.05152587 \n",
       "genre_mystery                 0.029637918  -0.015008715  0.03187456 \n",
       "genre_music                   0.029725594  -0.032431372  0.04927325 \n",
       "genre_romance                 0.070620530  -0.050004467 -0.00672949 \n",
       "genre_family                 -0.154062377   0.161393817  0.07446786 \n",
       "genre_war                     0.168733130  -0.022914789 -0.04970744 \n",
       "genre_foreign                 0.046639674  -0.048318329 -0.12181650 \n",
       "depart_Art                    0.181598355   0.368064990  0.17846947 \n",
       "depart_Camera                 0.163412305   0.304723381  0.14133815 \n",
       "depart_Crew                   0.132355633   0.276243086  0.11227154 \n",
       "depart_Custom_Mkup            0.184889485   0.314090665  0.15823255 \n",
       "depart_Directing              0.066224226   0.198346886  0.07125769 \n",
       "depart_Editing                0.166501488   0.319266481  0.15890455 \n",
       "depart_Lighting               0.108919687   0.259418397  0.10841255 \n",
       "depart_Production             0.121516626   0.297280025  0.18998313 \n",
       "depart_Sound                  0.155061628   0.305644278  0.13588439 \n",
       "depart_Visual_Effects         0.037777155   0.350648731  0.08287162 \n",
       "depart_Writing                0.055795952   0.258885445  0.03530461 \n",
       "depart_Art_female             0.083856153   0.179350737  0.15034602 \n",
       "depart_Camera_female         -0.007659585   0.030762556  0.04620382 \n",
       "depart_Crew_female            0.051709976   0.129546911  0.06146286 \n",
       "depart_Custom_Mkup_female     0.131967473   0.255828534  0.18557713 \n",
       "depart_Directing_female       0.049250783   0.095571848  0.10707806 \n",
       "depart_Editing_female         0.056225454   0.005453434  0.07863735 \n",
       "depart_Lighting_female       -0.009393959   0.038038950  0.01057666 \n",
       "depart_Production_female      0.084808637   0.228304355  0.24190911 \n",
       "depart_Sound_female           0.066062518   0.093542540  0.07164234 \n",
       "depart_Visual_Effects_female  0.003993970   0.042701922  0.02794041 \n",
       "depart_Writing_female         0.018338430   0.119148278  0.05212204 \n",
       "                             sw_web_presence sw_has_poster sw_tagline  \n",
       "movie_id                      0.0044600272   0.004872709   -0.008195807\n",
       "budget                        0.2520384217   0.010093843    0.210015551\n",
       "popularity                    0.1641094990   0.011544189    0.155693159\n",
       "runtime                       0.0317906518   0.009655723    0.003131133\n",
       "revenue                       0.2630542517   0.008874882    0.179302534\n",
       "sw_lang_en                    0.0358338386   0.017001119    0.399816033\n",
       "sw_web_presence               1.0000000000   0.011308870    0.058632588\n",
       "sw_has_poster                 0.0113088700   1.000000000    0.012644048\n",
       "sw_tagline                    0.0586325882   0.012644048    1.000000000\n",
       "keyword_cnt                   0.1207964088   0.013870263    0.220826022\n",
       "release_year                  0.3724414621   0.002786254   -0.095846766\n",
       "release_month                -0.0086201785   0.013222105    0.014308057\n",
       "high_release_month           -0.0163482972   0.013440080   -0.021350995\n",
       "release_day                  -0.0036326782   0.001691497    0.021558767\n",
       "seasonality                  -0.0009158983   0.001815836    0.048319386\n",
       "sw_collection                 0.0776711549   0.002728681    0.039326905\n",
       "producers_cnt                 0.1677607364   0.010654589    0.038644331\n",
       "countries_cnt                 0.0633775083   0.017412314    0.035122357\n",
       "lang_US                       0.0462757530   0.043277525    0.417120927\n",
       "lang_FR                       0.0021568554   0.005379726   -0.046312495\n",
       "lang_RU                      -0.0050103619   0.003720135   -0.093862248\n",
       "lang_ES                      -0.0132924325   0.004716654    0.014594878\n",
       "lang_JA                       0.0471960089   0.002777910   -0.029420556\n",
       "keywords_cnt                  0.1207964088   0.013870263    0.220826022\n",
       "actor0_movies_cnt             0.1715349086   0.013209329    0.156929215\n",
       "actor0_movies_5y_cnt          0.1590276341   0.015091868    0.179459862\n",
       "actor1_movies_cnt             0.1829226436   0.011724187    0.129353003\n",
       "actor1_movies_5y_cnt          0.1726348475   0.013252009    0.154152781\n",
       "actor2_movies_cnt             0.1744072873   0.011070589    0.129179485\n",
       "actor2_movies_5y_cnt          0.1653938103   0.012327019    0.159317681\n",
       "...                          ...             ...           ...         \n",
       "genre_documentary             0.092357888    0.002894773   -0.101845129\n",
       "genre_science_fiction         0.045942426    0.005516833    0.092484475\n",
       "genre_mystery                -0.023475435    0.004675444    0.057962865\n",
       "genre_music                  -0.017964909    0.003192088    0.013187553\n",
       "genre_romance                -0.056360477    0.008095163   -0.030590324\n",
       "genre_family                  0.056155038    0.005227660    0.055700977\n",
       "genre_war                    -0.012793067    0.003040117   -0.008594501\n",
       "genre_foreign                -0.018933524    0.001767824   -0.143617976\n",
       "depart_Art                    0.151037542             NA    0.195229082\n",
       "depart_Camera                 0.131719926             NA    0.174399513\n",
       "depart_Crew                   0.105334662             NA    0.144099691\n",
       "depart_Custom_Mkup            0.181575784             NA    0.174500907\n",
       "depart_Directing              0.089496250             NA    0.114640736\n",
       "depart_Editing                0.155089453             NA    0.186904602\n",
       "depart_Lighting               0.111738206             NA    0.125198496\n",
       "depart_Production             0.205089739             NA    0.213476879\n",
       "depart_Sound                  0.151351096             NA    0.175359041\n",
       "depart_Visual_Effects         0.191853844             NA    0.109816487\n",
       "depart_Writing                0.066107925             NA    0.126144738\n",
       "depart_Art_female             0.088292150             NA    0.122342427\n",
       "depart_Camera_female          0.044412124             NA    0.019762259\n",
       "depart_Crew_female            0.066090713             NA    0.056877805\n",
       "depart_Custom_Mkup_female     0.110793543             NA    0.171782285\n",
       "depart_Directing_female       0.049623990             NA    0.080612992\n",
       "depart_Editing_female         0.008767938             NA    0.061203878\n",
       "depart_Lighting_female        0.004510805             NA   -0.013439134\n",
       "depart_Production_female      0.164287622             NA    0.195580796\n",
       "depart_Sound_female           0.086242512             NA    0.062637455\n",
       "depart_Visual_Effects_female  0.050098899             NA    0.036848645\n",
       "depart_Writing_female         0.039709632             NA    0.041318312\n",
       "                             keyword_cnt  ... depart_Camera_female\n",
       "movie_id                      0.006778693 ... -0.007189554        \n",
       "budget                        0.197089448 ...  0.040635270        \n",
       "popularity                    0.180578323 ...  0.064341187        \n",
       "runtime                       0.137429144 ... -0.007659585        \n",
       "revenue                       0.186847451 ...  0.030762556        \n",
       "sw_lang_en                    0.131497340 ...  0.046203818        \n",
       "sw_web_presence               0.120796409 ...  0.044412124        \n",
       "sw_has_poster                 0.013870263 ...           NA        \n",
       "sw_tagline                    0.220826022 ...  0.019762259        \n",
       "keyword_cnt                   1.000000000 ...  0.040477946        \n",
       "release_year                 -0.091863315 ...  0.064284009        \n",
       "release_month                 0.031550158 ...  0.006414069        \n",
       "high_release_month           -0.005449187 ...  0.013334217        \n",
       "release_day                   0.012657228 ...  0.002680289        \n",
       "seasonality                   0.071171202 ... -0.013748341        \n",
       "sw_collection                 0.032424413 ...  0.019077803        \n",
       "producers_cnt                 0.117025270 ...  0.030338562        \n",
       "countries_cnt                 0.106302706 ...  0.005621682        \n",
       "lang_US                       0.162537895 ...  0.047931437        \n",
       "lang_FR                       0.024075055 ... -0.020436620        \n",
       "lang_RU                      -0.038234001 ... -0.009927178        \n",
       "lang_ES                       0.045061482 ... -0.001278843        \n",
       "lang_JA                       0.012028104 ... -0.006564238        \n",
       "keywords_cnt                  1.000000000 ...  0.040477946        \n",
       "actor0_movies_cnt             0.078637713 ...  0.047083888        \n",
       "actor0_movies_5y_cnt          0.086394439 ...  0.064722450        \n",
       "actor1_movies_cnt             0.054095895 ...  0.031768918        \n",
       "actor1_movies_5y_cnt          0.080954394 ...  0.049133093        \n",
       "actor2_movies_cnt             0.045520558 ...  0.031475836        \n",
       "actor2_movies_5y_cnt          0.069739017 ...  0.029818848        \n",
       "...                          ...              ...                 \n",
       "genre_documentary            -0.075125345 ...  0.041271884        \n",
       "genre_science_fiction         0.093322362 ...  0.003197931        \n",
       "genre_mystery                 0.053768925 ... -0.004341103        \n",
       "genre_music                  -0.001711621 ...  0.002941677        \n",
       "genre_romance                -0.057099248 ...  0.006482975        \n",
       "genre_family                 -0.032782051 ... -0.005566009        \n",
       "genre_war                     0.014776936 ... -0.010213587        \n",
       "genre_foreign                -0.091211218 ... -0.015132125        \n",
       "depart_Art                    0.245971285 ...  0.091539438        \n",
       "depart_Camera                 0.231999204 ...  0.115095704        \n",
       "depart_Crew                   0.209395739 ...  0.064138416        \n",
       "depart_Custom_Mkup            0.215444970 ...  0.091561819        \n",
       "depart_Directing              0.167040697 ...  0.079733782        \n",
       "depart_Editing                0.258154719 ...  0.118488791        \n",
       "depart_Lighting               0.179719787 ...  0.074432774        \n",
       "depart_Production             0.276752435 ...  0.084511265        \n",
       "depart_Sound                  0.242387815 ...  0.105562916        \n",
       "depart_Visual_Effects         0.127841182 ...  0.054815887        \n",
       "depart_Writing                0.130901626 ...  0.017105350        \n",
       "depart_Art_female             0.127408078 ...  0.113806049        \n",
       "depart_Camera_female          0.040477946 ...  1.000000000        \n",
       "depart_Crew_female            0.114306199 ...  0.059620059        \n",
       "depart_Custom_Mkup_female     0.187882111 ...  0.093519205        \n",
       "depart_Directing_female       0.097419713 ...  0.097404885        \n",
       "depart_Editing_female         0.085538841 ...  0.046510557        \n",
       "depart_Lighting_female        0.019930871 ... -0.003671928        \n",
       "depart_Production_female      0.214333205 ...  0.099493843        \n",
       "depart_Sound_female           0.085455798 ...  0.053719761        \n",
       "depart_Visual_Effects_female  0.032810396 ...  0.066849895        \n",
       "depart_Writing_female         0.043342645 ...  0.017488340        \n",
       "                             depart_Crew_female depart_Custom_Mkup_female\n",
       "movie_id                     -0.003941264        0.001253388             \n",
       "budget                        0.167460180        0.289641502             \n",
       "popularity                    0.177099560        0.174299071             \n",
       "runtime                       0.051709976        0.131967473             \n",
       "revenue                       0.129546911        0.255828534             \n",
       "sw_lang_en                    0.061462864        0.185577128             \n",
       "sw_web_presence               0.066090713        0.110793543             \n",
       "sw_has_poster                          NA                 NA             \n",
       "sw_tagline                    0.056877805        0.171782285             \n",
       "keyword_cnt                   0.114306199        0.187882111             \n",
       "release_year                  0.068595035        0.088600836             \n",
       "release_month                 0.004682066        0.032151823             \n",
       "high_release_month           -0.003565582        0.008294154             \n",
       "release_day                   0.006429491        0.003131574             \n",
       "seasonality                   0.025181478        0.036830717             \n",
       "sw_collection                 0.039267510        0.086101786             \n",
       "producers_cnt                 0.067684679        0.158626963             \n",
       "countries_cnt                 0.023903655        0.045121512             \n",
       "lang_US                       0.060931341        0.180888596             \n",
       "lang_FR                       0.011718856       -0.011040226             \n",
       "lang_RU                       0.022796096       -0.006661865             \n",
       "lang_ES                       0.009475596        0.020909040             \n",
       "lang_JA                       0.002278158       -0.036672707             \n",
       "keywords_cnt                  0.114306199        0.187882111             \n",
       "actor0_movies_cnt             0.086398424        0.191705170             \n",
       "actor0_movies_5y_cnt          0.086082449        0.199839509             \n",
       "actor1_movies_cnt             0.072888368        0.177229851             \n",
       "actor1_movies_5y_cnt          0.087317926        0.207290683             \n",
       "actor2_movies_cnt             0.092365118        0.179494392             \n",
       "actor2_movies_5y_cnt          0.081809831        0.195294856             \n",
       "...                          ...                ...                      \n",
       "genre_documentary            -0.026608645       -0.09537268              \n",
       "genre_science_fiction         0.049792854        0.07594468              \n",
       "genre_mystery                 0.025660516        0.05002485              \n",
       "genre_music                  -0.015397071       -0.02878129              \n",
       "genre_romance                -0.023838119       -0.02385309              \n",
       "genre_family                 -0.015826027       -0.06689319              \n",
       "genre_war                     0.007747371        0.00755880              \n",
       "genre_foreign                -0.020659369       -0.05444533              \n",
       "depart_Art                    0.303140130        0.48438922              \n",
       "depart_Camera                 0.278338086        0.41297141              \n",
       "depart_Crew                   0.454384755        0.36911952              \n",
       "depart_Custom_Mkup            0.271273195        0.55812527              \n",
       "depart_Directing              0.166762096        0.24289645              \n",
       "depart_Editing                0.258375585        0.41160867              \n",
       "depart_Lighting               0.315607322        0.34882754              \n",
       "depart_Production             0.261719513        0.42250507              \n",
       "depart_Sound                  0.285236238        0.42667511              \n",
       "depart_Visual_Effects         0.157628812        0.19909314              \n",
       "depart_Writing                0.081799807        0.10993536              \n",
       "depart_Art_female             0.182442300        0.33004942              \n",
       "depart_Camera_female          0.059620059        0.09351920              \n",
       "depart_Crew_female            1.000000000        0.24228083              \n",
       "depart_Custom_Mkup_female     0.242280830        1.00000000              \n",
       "depart_Directing_female       0.122882643        0.24631136              \n",
       "depart_Editing_female         0.108280907        0.15676271              \n",
       "depart_Lighting_female        0.306205323        0.07399579              \n",
       "depart_Production_female      0.231046021        0.42416187              \n",
       "depart_Sound_female           0.130306552        0.18080999              \n",
       "depart_Visual_Effects_female  0.043008560        0.05996306              \n",
       "depart_Writing_female         0.026974175        0.05009916              \n",
       "                             depart_Directing_female depart_Editing_female\n",
       "movie_id                     -4.049993e-03           -0.012235944         \n",
       "budget                        1.303634e-01            0.048701873         \n",
       "popularity                    5.070417e-02            0.059520360         \n",
       "runtime                       4.925078e-02            0.056225454         \n",
       "revenue                       9.557185e-02            0.005453434         \n",
       "sw_lang_en                    1.070781e-01            0.078637346         \n",
       "sw_web_presence               4.962399e-02            0.008767938         \n",
       "sw_has_poster                           NA                     NA         \n",
       "sw_tagline                    8.061299e-02            0.061203878         \n",
       "keyword_cnt                   9.741971e-02            0.085538841         \n",
       "release_year                  1.084442e-01            0.012820447         \n",
       "release_month                 1.662898e-02            0.025836625         \n",
       "high_release_month            1.547636e-02            0.023775270         \n",
       "release_day                   1.282991e-02            0.002838848         \n",
       "seasonality                  -7.696101e-05            0.010876337         \n",
       "sw_collection                 3.310637e-02            0.016845482         \n",
       "producers_cnt                 7.532884e-02            0.053920820         \n",
       "countries_cnt                 2.507776e-02            0.020605604         \n",
       "lang_US                       1.036012e-01            0.095122537         \n",
       "lang_FR                       3.062121e-03            0.035007959         \n",
       "lang_RU                      -9.090005e-03           -0.016488244         \n",
       "lang_ES                       1.911351e-02            0.003402204         \n",
       "lang_JA                      -2.140976e-02           -0.001610945         \n",
       "keywords_cnt                  9.741971e-02            0.085538841         \n",
       "actor0_movies_cnt             1.040699e-01            0.061031940         \n",
       "actor0_movies_5y_cnt          1.052812e-01            0.057986528         \n",
       "actor1_movies_cnt             1.109420e-01            0.065003792         \n",
       "actor1_movies_5y_cnt          1.446315e-01            0.077414815         \n",
       "actor2_movies_cnt             1.173303e-01            0.070639272         \n",
       "actor2_movies_5y_cnt          1.120652e-01            0.075068973         \n",
       "...                          ...                     ...                  \n",
       "genre_documentary            -0.007646233            -0.035185052         \n",
       "genre_science_fiction         0.007452290            -0.023062424         \n",
       "genre_mystery                -0.001684840             0.027804780         \n",
       "genre_music                   0.000586659             0.024002896         \n",
       "genre_romance                 0.046332304             0.053599604         \n",
       "genre_family                 -0.032373793            -0.003465734         \n",
       "genre_war                    -0.013834994             0.018250960         \n",
       "genre_foreign                -0.035382510            -0.029409525         \n",
       "depart_Art                    0.265510703             0.127267859         \n",
       "depart_Camera                 0.264373457             0.139692944         \n",
       "depart_Crew                   0.198301823             0.094836914         \n",
       "depart_Custom_Mkup            0.271105410             0.131351776         \n",
       "depart_Directing              0.299808599             0.121386545         \n",
       "depart_Editing                0.239759400             0.220142077         \n",
       "depart_Lighting               0.190287205             0.099319251         \n",
       "depart_Production             0.236964922             0.144934489         \n",
       "depart_Sound                  0.250766375             0.139715464         \n",
       "depart_Visual_Effects         0.110282406             0.029374746         \n",
       "depart_Writing                0.053843519             0.012560522         \n",
       "depart_Art_female             0.228384765             0.126882132         \n",
       "depart_Camera_female          0.097404885             0.046510557         \n",
       "depart_Crew_female            0.122882643             0.108280907         \n",
       "depart_Custom_Mkup_female     0.246311357             0.156762711         \n",
       "depart_Directing_female       1.000000000             0.118602038         \n",
       "depart_Editing_female         0.118602038             1.000000000         \n",
       "depart_Lighting_female        0.029553175             0.078658377         \n",
       "depart_Production_female      0.285797975             0.191512269         \n",
       "depart_Sound_female           0.152595498             0.086992906         \n",
       "depart_Visual_Effects_female  0.049302864             0.021995803         \n",
       "depart_Writing_female         0.204653640             0.086802700         \n",
       "                             depart_Lighting_female depart_Production_female\n",
       "movie_id                     -0.014247136           -0.0034277694           \n",
       "budget                        0.012807638            0.3059896680           \n",
       "popularity                    0.006528033            0.1787165897           \n",
       "runtime                      -0.009393959            0.0848086370           \n",
       "revenue                       0.038038950            0.2283043549           \n",
       "sw_lang_en                    0.010576660            0.2419091140           \n",
       "sw_web_presence               0.004510805            0.1642876224           \n",
       "sw_has_poster                          NA                      NA           \n",
       "sw_tagline                   -0.013439134            0.1955807958           \n",
       "keyword_cnt                   0.019930871            0.2143332055           \n",
       "release_year                  0.000592790            0.2119991097           \n",
       "release_month                -0.001892292            0.0419764340           \n",
       "high_release_month            0.010645518            0.0253698500           \n",
       "release_day                   0.004122337           -0.0004817254           \n",
       "seasonality                  -0.019103797            0.0171765242           \n",
       "sw_collection                 0.025140351            0.0693511764           \n",
       "producers_cnt                 0.016217170            0.2258531510           \n",
       "countries_cnt                 0.002145500            0.1186674451           \n",
       "lang_US                       0.009943377            0.2353365817           \n",
       "lang_FR                      -0.008516031            0.0016003256           \n",
       "lang_RU                      -0.005893824           -0.0159891112           \n",
       "lang_ES                       0.012261203            0.0315859526           \n",
       "lang_JA                      -0.004402659           -0.0267157323           \n",
       "keywords_cnt                  0.019930871            0.2143332055           \n",
       "actor0_movies_cnt             0.029612163            0.2585876050           \n",
       "actor0_movies_5y_cnt          0.020878662            0.2753303320           \n",
       "actor1_movies_cnt             0.010201539            0.2297422895           \n",
       "actor1_movies_5y_cnt          0.010481665            0.2628375161           \n",
       "actor2_movies_cnt            -0.005123267            0.2522205959           \n",
       "actor2_movies_5y_cnt         -0.001261169            0.2650974706           \n",
       "...                          ...                    ...                     \n",
       "genre_documentary            -0.004588769           -0.106214322            \n",
       "genre_science_fiction        -0.008695055            0.073226841            \n",
       "genre_mystery                -0.007422371            0.049915490            \n",
       "genre_music                  -0.005052245           -0.029669718            \n",
       "genre_romance                -0.012851974           -0.008426604            \n",
       "genre_family                  0.009837811           -0.037161595            \n",
       "genre_war                    -0.004820193           -0.009984343            \n",
       "genre_foreign                -0.002808772           -0.075086414            \n",
       "depart_Art                    0.053848493            0.482692840            \n",
       "depart_Camera                 0.074613000            0.409758022            \n",
       "depart_Crew                   0.128922112            0.356356779            \n",
       "depart_Custom_Mkup            0.046484782            0.440170815            \n",
       "depart_Directing              0.036964618            0.239835382            \n",
       "depart_Editing                0.112448304            0.418672002            \n",
       "depart_Lighting               0.117789993            0.330045282            \n",
       "depart_Production             0.052022645            0.653117227            \n",
       "depart_Sound                  0.078258660            0.419214181            \n",
       "depart_Visual_Effects         0.092977699            0.219983802            \n",
       "depart_Writing                0.034931892            0.120770941            \n",
       "depart_Art_female             0.054495308            0.405293363            \n",
       "depart_Camera_female         -0.003671928            0.099493843            \n",
       "depart_Crew_female            0.306205323            0.231046021            \n",
       "depart_Custom_Mkup_female     0.073995794            0.424161874            \n",
       "depart_Directing_female       0.029553175            0.285797975            \n",
       "depart_Editing_female         0.078658377            0.191512269            \n",
       "depart_Lighting_female        1.000000000            0.056175066            \n",
       "depart_Production_female      0.056175066            1.000000000            \n",
       "depart_Sound_female           0.108978180            0.193681824            \n",
       "depart_Visual_Effects_female -0.002334679            0.087608519            \n",
       "depart_Writing_female         0.005009139            0.125090843            \n",
       "                             depart_Sound_female depart_Visual_Effects_female\n",
       "movie_id                     -0.014787023         0.013926136                \n",
       "budget                        0.111601108         0.091701832                \n",
       "popularity                    0.077781853         0.035534199                \n",
       "runtime                       0.066062518         0.003993970                \n",
       "revenue                       0.093542540         0.042701922                \n",
       "sw_lang_en                    0.071642335         0.027940415                \n",
       "sw_web_presence               0.086242512         0.050098899                \n",
       "sw_has_poster                          NA                  NA                \n",
       "sw_tagline                    0.062637455         0.036848645                \n",
       "keyword_cnt                   0.085455798         0.032810396                \n",
       "release_year                  0.079427391         0.046247863                \n",
       "release_month                 0.022081836         0.007484671                \n",
       "high_release_month            0.022382833        -0.008282931                \n",
       "release_day                   0.007157014         0.006199588                \n",
       "seasonality                  -0.004600654         0.019239528                \n",
       "sw_collection                 0.014531509         0.042180358                \n",
       "producers_cnt                 0.055824666         0.040759303                \n",
       "countries_cnt                 0.023063032         0.022327171                \n",
       "lang_US                       0.068084262         0.025387617                \n",
       "lang_FR                       0.001641185        -0.009601984                \n",
       "lang_RU                      -0.008368051         0.006669888                \n",
       "lang_ES                       0.008128451        -0.009244901                \n",
       "lang_JA                       0.007701981         0.002511511                \n",
       "keywords_cnt                  0.085455798         0.032810396                \n",
       "actor0_movies_cnt             0.086624031         0.051148670                \n",
       "actor0_movies_5y_cnt          0.099334223         0.041272568                \n",
       "actor1_movies_cnt             0.077042347         0.039157408                \n",
       "actor1_movies_5y_cnt          0.096685319         0.041649585                \n",
       "actor2_movies_cnt             0.092684632         0.040100440                \n",
       "actor2_movies_5y_cnt          0.098391929         0.035330059                \n",
       "...                          ...                 ...                         \n",
       "genre_documentary            -0.028813838        -0.015718556                \n",
       "genre_science_fiction         0.015776961         0.013515899                \n",
       "genre_mystery                 0.018902220         0.007475537                \n",
       "genre_music                  -0.006862003        -0.001841216                \n",
       "genre_romance                -0.001450345        -0.011263266                \n",
       "genre_family                 -0.028541320         0.036701885                \n",
       "genre_war                     0.011686858        -0.008432817                \n",
       "genre_foreign                -0.018814382        -0.009621281                \n",
       "depart_Art                    0.248134322         0.146834113                \n",
       "depart_Camera                 0.270114184         0.156736497                \n",
       "depart_Crew                   0.208384570         0.141897425                \n",
       "depart_Custom_Mkup            0.267555630         0.134142408                \n",
       "depart_Directing              0.165852127         0.152800769                \n",
       "depart_Editing                0.260171908         0.146099882                \n",
       "depart_Lighting               0.215485126         0.161794716                \n",
       "depart_Production             0.217031293         0.116167895                \n",
       "depart_Sound                  0.324880846         0.151094962                \n",
       "depart_Visual_Effects         0.156901979         0.259122157                \n",
       "depart_Writing                0.065324757         0.069324981                \n",
       "depart_Art_female             0.147648671         0.045031581                \n",
       "depart_Camera_female          0.053719761         0.066849895                \n",
       "depart_Crew_female            0.130306552         0.043008560                \n",
       "depart_Custom_Mkup_female     0.180809991         0.059963055                \n",
       "depart_Directing_female       0.152595498         0.049302864                \n",
       "depart_Editing_female         0.086992906         0.021995803                \n",
       "depart_Lighting_female        0.108978180        -0.002334679                \n",
       "depart_Production_female      0.193681824         0.087608519                \n",
       "depart_Sound_female           1.000000000         0.073357933                \n",
       "depart_Visual_Effects_female  0.073357933         1.000000000                \n",
       "depart_Writing_female         0.037960926         0.019350120                \n",
       "                             depart_Writing_female\n",
       "movie_id                     -0.011770039         \n",
       "budget                        0.056957463         \n",
       "popularity                    0.035886995         \n",
       "runtime                       0.018338430         \n",
       "revenue                       0.119148278         \n",
       "sw_lang_en                    0.052122042         \n",
       "sw_web_presence               0.039709632         \n",
       "sw_has_poster                          NA         \n",
       "sw_tagline                    0.041318312         \n",
       "keyword_cnt                   0.043342645         \n",
       "release_year                  0.035478866         \n",
       "release_month                 0.010171779         \n",
       "high_release_month            0.016195067         \n",
       "release_day                   0.018362431         \n",
       "seasonality                  -0.003500293         \n",
       "sw_collection                 0.008347546         \n",
       "producers_cnt                 0.019760954         \n",
       "countries_cnt                 0.026379234         \n",
       "lang_US                       0.058635875         \n",
       "lang_FR                       0.033102211         \n",
       "lang_RU                      -0.029271445         \n",
       "lang_ES                      -0.011830877         \n",
       "lang_JA                      -0.029914282         \n",
       "keywords_cnt                  0.043342645         \n",
       "actor0_movies_cnt             0.007055463         \n",
       "actor0_movies_5y_cnt          0.032948387         \n",
       "actor1_movies_cnt             0.037851787         \n",
       "actor1_movies_5y_cnt          0.040948896         \n",
       "actor2_movies_cnt             0.028701102         \n",
       "actor2_movies_5y_cnt          0.033213170         \n",
       "...                          ...                  \n",
       "genre_documentary            -0.041135616         \n",
       "genre_science_fiction        -0.036893834         \n",
       "genre_mystery                -0.019939503         \n",
       "genre_music                   0.027884346         \n",
       "genre_romance                 0.109776441         \n",
       "genre_family                  0.066602159         \n",
       "genre_war                    -0.034902242         \n",
       "genre_foreign                -0.024117477         \n",
       "depart_Art                    0.042765547         \n",
       "depart_Camera                 0.025037581         \n",
       "depart_Crew                   0.019585373         \n",
       "depart_Custom_Mkup            0.031728555         \n",
       "depart_Directing              0.060119868         \n",
       "depart_Editing                0.034180153         \n",
       "depart_Lighting               0.018226868         \n",
       "depart_Production             0.049214891         \n",
       "depart_Sound                  0.030204216         \n",
       "depart_Visual_Effects         0.041615029         \n",
       "depart_Writing                0.166895165         \n",
       "depart_Art_female             0.067732993         \n",
       "depart_Camera_female          0.017488340         \n",
       "depart_Crew_female            0.026974175         \n",
       "depart_Custom_Mkup_female     0.050099158         \n",
       "depart_Directing_female       0.204653640         \n",
       "depart_Editing_female         0.086802700         \n",
       "depart_Lighting_female        0.005009139         \n",
       "depart_Production_female      0.125090843         \n",
       "depart_Sound_female           0.037960926         \n",
       "depart_Visual_Effects_female  0.019350120         \n",
       "depart_Writing_female         1.000000000         "
      ]
     },
     "metadata": {},
     "output_type": "display_data"
    }
   ],
   "source": [
    "res <- cor(num_ff,use=\"pairwise.complete.obs\")\n",
    "res"
   ]
  },
  {
   "cell_type": "code",
   "execution_count": 88,
   "metadata": {},
   "outputs": [
    {
     "data": {
      "image/png": "[encoded data removed]",
      "text/plain": [
       "plot without title"
      ]
     },
     "metadata": {},
     "output_type": "display_data"
    }
   ],
   "source": [
    "heatmap(res,symm = T,cexCol = 0.8, cexRow = 0.8, col=brewer.pal(n=8, name=\"RdYlBu\"))"
   ]
  },
  {
   "cell_type": "code",
   "execution_count": 96,
   "metadata": {},
   "outputs": [
    {
     "ename": "ERROR",
     "evalue": "Error in corrplot(res, type = \"upper\", order = \"hclust\", col = brewer.pal(n = 8, : could not find function \"corrplot\"\n",
     "output_type": "error",
     "traceback": [
      "Error in corrplot(res, type = \"upper\", order = \"hclust\", col = brewer.pal(n = 8, : could not find function \"corrplot\"\nTraceback:\n"
     ]
    }
   ],
   "source": [
    "corrplot(res, type=\"upper\", order=\"hclust\", col=brewer.pal(n=8, name=\"RdYlBu\"))"
   ]
  },
  {
   "cell_type": "code",
   "execution_count": 97,
   "metadata": {},
   "outputs": [
    {
     "ename": "ERROR",
     "evalue": "Error in corrplot(res, type = \"upper\"): could not find function \"corrplot\"\n",
     "output_type": "error",
     "traceback": [
      "Error in corrplot(res, type = \"upper\"): could not find function \"corrplot\"\nTraceback:\n"
     ]
    }
   ],
   "source": [
    "corrplot(res, type = \"upper\")"
   ]
  },
  {
   "cell_type": "markdown",
   "metadata": {},
   "source": [
    "## part 2.4"
   ]
  },
  {
   "cell_type": "code",
   "execution_count": 109,
   "metadata": {},
   "outputs": [
    {
     "ename": "ERROR",
     "evalue": "Error in density.default(ff$revenue): 'x' contains missing values\n",
     "output_type": "error",
     "traceback": [
      "Error in density.default(ff$revenue): 'x' contains missing values\nTraceback:\n",
      "1. density(ff$revenue)",
      "2. density.default(ff$revenue)",
      "3. stop(\"'x' contains missing values\")"
     ]
    }
   ],
   "source": [
    "d <- density(ff$revenue) # returns the density data\n",
    "d"
   ]
  },
  {
   "cell_type": "code",
   "execution_count": null,
   "metadata": {},
   "outputs": [],
   "source": []
  }
 ],
 "metadata": {
  "kernelspec": {
   "display_name": "R",
   "language": "R",
   "name": "ir"
  },
  "language_info": {
   "codemirror_mode": "r",
   "file_extension": ".r",
   "mimetype": "text/x-r-source",
   "name": "R",
   "pygments_lexer": "r",
   "version": "3.6.1"
  }
 },
 "nbformat": 4,
 "nbformat_minor": 2
}
