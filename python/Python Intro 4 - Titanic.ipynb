{
 "cells": [
  {
   "cell_type": "markdown",
   "metadata": {},
   "source": [
    "# Understanding the Titanic Survival\n",
    "\n",
    "<img src=\"https://upload.wikimedia.org/wikipedia/commons/6/6e/St%C3%B6wer_Titanic.jpg\" />\n",
    " \n",
    "Wellcome to the Titanic, the largest British ship at the time,  that sank in the North \n",
    "Atlantic Ocean in the early hours of 15 April 1912. \n",
    " \n",
    "In this notebook we will try to undestand the characteristics of the individuals that were at the Titanic, how many survived and who survived.\n",
    "\n",
    "Please download the titanic.csv file from the Google Drive into your computer and load it\n",
    "using Pandas.\n",
    "\n",
    "This dataset is a partial dataset used as the training set on Kaggle's Titanic challenge.\n",
    "\n",
    "###  NOTE: Open this notebook in Jupiter and make a copy of it (File ->  Make a copy). Work on the copied notebook so you can use the original notebook as a reference for the expected results.\n",
    " \n",
    "I recommend you to try to repeat the same analysis we make here using R :-)\n",
    " "
   ]
  },
  {
   "cell_type": "code",
<<<<<<< HEAD
   "execution_count": 2,
=======
   "execution_count": 4,
>>>>>>> f25ac5d1296468687519ceed1204ddb0fbee8d92
   "metadata": {},
   "outputs": [],
   "source": [
    "import numpy as np\n",
    "import pandas as pd\n",
    "import matplotlib.pyplot as plt\n",
    "import seaborn as sns"
   ]
  },
  {
   "cell_type": "code",
<<<<<<< HEAD
   "execution_count": 3,
=======
   "execution_count": 5,
>>>>>>> f25ac5d1296468687519ceed1204ddb0fbee8d92
   "metadata": {},
   "outputs": [],
   "source": [
    "### change this to the path you downloded the file\n",
    "path = \"../data/titanic.csv\""
   ]
  },
  {
   "cell_type": "code",
<<<<<<< HEAD
   "execution_count": 7,
=======
   "execution_count": 6,
>>>>>>> f25ac5d1296468687519ceed1204ddb0fbee8d92
   "metadata": {},
   "outputs": [
    {
     "data": {
      "text/html": [
       "<div>\n",
       "<style scoped>\n",
       "    .dataframe tbody tr th:only-of-type {\n",
       "        vertical-align: middle;\n",
       "    }\n",
       "\n",
       "    .dataframe tbody tr th {\n",
       "        vertical-align: top;\n",
       "    }\n",
       "\n",
       "    .dataframe thead th {\n",
       "        text-align: right;\n",
       "    }\n",
       "</style>\n",
       "<table border=\"1\" class=\"dataframe\">\n",
       "  <thead>\n",
       "    <tr style=\"text-align: right;\">\n",
       "      <th></th>\n",
       "      <th>PassengerId</th>\n",
       "      <th>Survived</th>\n",
       "      <th>Pclass</th>\n",
       "      <th>Name</th>\n",
       "      <th>Sex</th>\n",
       "      <th>Age</th>\n",
       "      <th>SibSp</th>\n",
       "      <th>Parch</th>\n",
       "      <th>Ticket</th>\n",
       "      <th>Fare</th>\n",
       "      <th>Cabin</th>\n",
       "      <th>Embarked</th>\n",
       "    </tr>\n",
       "  </thead>\n",
       "  <tbody>\n",
       "    <tr>\n",
       "      <td>0</td>\n",
       "      <td>1</td>\n",
       "      <td>0</td>\n",
       "      <td>3</td>\n",
       "      <td>Braund, Mr. Owen Harris</td>\n",
       "      <td>male</td>\n",
       "      <td>22.0</td>\n",
       "      <td>1</td>\n",
       "      <td>0</td>\n",
       "      <td>A/5 21171</td>\n",
       "      <td>7.2500</td>\n",
       "      <td>NaN</td>\n",
       "      <td>S</td>\n",
       "    </tr>\n",
       "    <tr>\n",
       "      <td>1</td>\n",
       "      <td>2</td>\n",
       "      <td>1</td>\n",
       "      <td>1</td>\n",
       "      <td>Cumings, Mrs. John Bradley (Florence Briggs Th...</td>\n",
       "      <td>female</td>\n",
       "      <td>38.0</td>\n",
       "      <td>1</td>\n",
       "      <td>0</td>\n",
       "      <td>PC 17599</td>\n",
       "      <td>71.2833</td>\n",
       "      <td>C85</td>\n",
       "      <td>C</td>\n",
       "    </tr>\n",
       "    <tr>\n",
       "      <td>2</td>\n",
       "      <td>3</td>\n",
       "      <td>1</td>\n",
       "      <td>3</td>\n",
       "      <td>Heikkinen, Miss. Laina</td>\n",
       "      <td>female</td>\n",
       "      <td>26.0</td>\n",
       "      <td>0</td>\n",
       "      <td>0</td>\n",
       "      <td>STON/O2. 3101282</td>\n",
       "      <td>7.9250</td>\n",
       "      <td>NaN</td>\n",
       "      <td>S</td>\n",
       "    </tr>\n",
       "    <tr>\n",
       "      <td>3</td>\n",
       "      <td>4</td>\n",
       "      <td>1</td>\n",
       "      <td>1</td>\n",
       "      <td>Futrelle, Mrs. Jacques Heath (Lily May Peel)</td>\n",
       "      <td>female</td>\n",
       "      <td>35.0</td>\n",
       "      <td>1</td>\n",
       "      <td>0</td>\n",
       "      <td>113803</td>\n",
       "      <td>53.1000</td>\n",
       "      <td>C123</td>\n",
       "      <td>S</td>\n",
       "    </tr>\n",
       "    <tr>\n",
       "      <td>4</td>\n",
       "      <td>5</td>\n",
       "      <td>0</td>\n",
       "      <td>3</td>\n",
       "      <td>Allen, Mr. William Henry</td>\n",
       "      <td>male</td>\n",
       "      <td>35.0</td>\n",
       "      <td>0</td>\n",
       "      <td>0</td>\n",
       "      <td>373450</td>\n",
       "      <td>8.0500</td>\n",
       "      <td>NaN</td>\n",
       "      <td>S</td>\n",
       "    </tr>\n",
       "  </tbody>\n",
       "</table>\n",
       "</div>"
      ],
      "text/plain": [
       "   PassengerId  Survived  Pclass  \\\n",
       "0            1         0       3   \n",
       "1            2         1       1   \n",
       "2            3         1       3   \n",
       "3            4         1       1   \n",
       "4            5         0       3   \n",
       "\n",
       "                                                Name     Sex   Age  SibSp  \\\n",
       "0                            Braund, Mr. Owen Harris    male  22.0      1   \n",
       "1  Cumings, Mrs. John Bradley (Florence Briggs Th...  female  38.0      1   \n",
       "2                             Heikkinen, Miss. Laina  female  26.0      0   \n",
       "3       Futrelle, Mrs. Jacques Heath (Lily May Peel)  female  35.0      1   \n",
       "4                           Allen, Mr. William Henry    male  35.0      0   \n",
       "\n",
       "   Parch            Ticket     Fare Cabin Embarked  \n",
       "0      0         A/5 21171   7.2500   NaN        S  \n",
       "1      0          PC 17599  71.2833   C85        C  \n",
       "2      0  STON/O2. 3101282   7.9250   NaN        S  \n",
       "3      0            113803  53.1000  C123        S  \n",
       "4      0            373450   8.0500   NaN        S  "
      ]
     },
<<<<<<< HEAD
     "execution_count": 7,
=======
     "execution_count": 6,
>>>>>>> f25ac5d1296468687519ceed1204ddb0fbee8d92
     "metadata": {},
     "output_type": "execute_result"
    }
   ],
   "source": [
    "### user pandas to read the csv (read_csv())\n",
    "### show the top rows\n",
    "\n",
    "titanic = pd.read_csv(path)\n",
    "titanic.head()"
   ]
  },
  {
   "cell_type": "markdown",
   "metadata": {},
   "source": [
    "#### Columns\n",
    " \n",
    "Those the descriptions of the variables in this dataset:\n",
    "\n",
    "<table>\n",
    "    <tr><th> PassengerId </th><td> type should be integers </td></tr>\n",
    "    <tr><th> Survived </th><td> Survived or Not </td></tr>\n",
    "    <tr><th> Pclass </th><td> Class of Travel </td></tr>\n",
    "    <tr><th> Name </th><td> Name of Passenger </td></tr>\n",
    "    <tr><th> Sex </th><td> Gender </td></tr>\n",
    "    <tr><th> Age </th><td> </td></tr>\n",
    "    <tr><th> SibSp </th><td> Number of Sibling/Spouse abord </td></tr>\n",
    "    <tr><th> Parch </th><td> Number of Parent/Child abord </td></tr>\n",
    "    <tr><th> Ticket </th><td> </td></tr>\n",
    "    <tr><th> Fare </th><td> </td></tr>\n",
    "    <tr><th> Cabin </th><td> </td></tr>\n",
    "    <tr><th> Embarked </th><td> The port in which a passenger has embarked. <br> C - Cherbourg, S - Southampton, Q = Queenstown </td></tr>\n",
    "</table>\n"
   ]
  },
  {
   "cell_type": "markdown",
   "metadata": {},
   "source": [
    "#### Passangers and Survival\n",
    " \n",
    "First, lets check how many passangers are on the Titanic's dataset and how many of them survived?"
   ]
  },
  {
   "cell_type": "code",
   "execution_count": 12,
   "metadata": {},
   "outputs": [
    {
     "name": "stdout",
     "output_type": "stream",
     "text": [
      "We have 891 passangers but only 342 of them survived (38.383838%)\n"
     ]
    }
   ],
   "source": [
    "passangers = len(titanic)\n",
    "survived = sum(titanic['Survived'])\n",
    "\n",
    "print(\"We have %d passangers but only %d of them survived (%f%%)\" % (passangers, survived, (survived/passangers*100)))\n",
    "\n"
   ]
  },
  {
   "cell_type": "markdown",
   "metadata": {},
   "source": [
    "Answer: We have 891 passangers but only 342 of them survived (38.383838%)"
   ]
  },
  {
   "cell_type": "markdown",
   "metadata": {},
   "source": [
    "#### Missing values\n",
    " \n",
    "How many missing values are in the dataset?"
   ]
  },
  {
   "cell_type": "code",
   "execution_count": 16,
   "metadata": {},
   "outputs": [
    {
     "data": {
      "text/plain": [
       "PassengerId      0\n",
       "Survived         0\n",
       "Pclass           0\n",
       "Name             0\n",
       "Sex              0\n",
       "Age            177\n",
       "SibSp            0\n",
       "Parch            0\n",
       "Ticket           0\n",
       "Fare             0\n",
       "Cabin          687\n",
       "Embarked         2\n",
       "dtype: int64"
      ]
     },
     "execution_count": 16,
     "metadata": {},
     "output_type": "execute_result"
    }
   ],
   "source": [
    "### use the function isnull() and the function sum()\n",
    "titanic.isnull().sum()\n"
   ]
  },
  {
   "cell_type": "markdown",
   "metadata": {},
   "source": [
    "Answer: The only variables having missing values are: Age (177), Cabin (687) and Emberked (2)"
   ]
  },
  {
   "cell_type": "markdown",
   "metadata": {},
   "source": [
    "#### Gender distribution and survival\n",
    "\n",
    "How distributed the survivors by gender?"
   ]
  },
  {
   "cell_type": "code",
   "execution_count": 215,
   "metadata": {},
   "outputs": [
    {
     "data": {
      "text/html": [
       "<div>\n",
       "<style>\n",
       "    .dataframe thead tr:only-child th {\n",
       "        text-align: right;\n",
       "    }\n",
       "\n",
       "    .dataframe thead th {\n",
       "        text-align: left;\n",
       "    }\n",
       "\n",
       "    .dataframe tbody tr th {\n",
       "        vertical-align: top;\n",
       "    }\n",
       "</style>\n",
       "<table border=\"1\" class=\"dataframe\">\n",
       "  <thead>\n",
       "    <tr>\n",
       "      <th></th>\n",
       "      <th colspan=\"3\" halign=\"left\">Survived</th>\n",
       "    </tr>\n",
       "    <tr>\n",
       "      <th></th>\n",
       "      <th>count</th>\n",
       "      <th>sum</th>\n",
       "      <th>mean</th>\n",
       "    </tr>\n",
       "    <tr>\n",
       "      <th>Sex</th>\n",
       "      <th></th>\n",
       "      <th></th>\n",
       "      <th></th>\n",
       "    </tr>\n",
       "  </thead>\n",
       "  <tbody>\n",
       "    <tr>\n",
       "      <th>female</th>\n",
       "      <td>314</td>\n",
       "      <td>233</td>\n",
       "      <td>0.742038</td>\n",
       "    </tr>\n",
       "    <tr>\n",
       "      <th>male</th>\n",
       "      <td>577</td>\n",
       "      <td>109</td>\n",
       "      <td>0.188908</td>\n",
       "    </tr>\n",
       "  </tbody>\n",
       "</table>\n",
       "</div>"
      ],
      "text/plain": [
       "       Survived               \n",
       "          count  sum      mean\n",
       "Sex                           \n",
       "female      314  233  0.742038\n",
       "male        577  109  0.188908"
      ]
     },
     "execution_count": 215,
     "metadata": {},
     "output_type": "execute_result"
    }
   ],
   "source": [
    "## use groupby() and agg() to get the table bellow\n",
    "titanic.groupby('Sex').agg({'Survived':['count',sum,'mean']})"
   ]
  },
  {
   "cell_type": "markdown",
   "metadata": {},
   "source": [
    "Survived\n",
    "\n",
    "Sex\t\tcount\tsum\tmean\n",
    "female\t  314\t233\t0.742038\n",
    "male\t  577\t109\t0.188908\n",
    "\n"
   ]
  },
  {
   "cell_type": "markdown",
   "metadata": {},
   "source": [
    "#### Age distribution and survival\n",
    "\n",
    "Plot the Age frequencies of the passangers. (use an histogram)\n"
   ]
  },
  {
   "cell_type": "code",
   "execution_count": 216,
   "metadata": {},
   "outputs": [
    {
     "data": {
      "text/plain": [
       "count    714.000000\n",
       "mean      29.699118\n",
       "std       14.526497\n",
       "min        0.420000\n",
       "25%       20.125000\n",
       "50%       28.000000\n",
       "75%       38.000000\n",
       "max       80.000000\n",
       "Name: Age, dtype: float64"
      ]
     },
     "execution_count": 216,
     "metadata": {},
     "output_type": "execute_result"
    }
   ],
   "source": [
    "titanic['Age'].describe()"
   ]
  },
  {
   "cell_type": "code",
   "execution_count": 17,
   "metadata": {},
   "outputs": [
    {
     "data": {
      "image/png": "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\n",
      "text/plain": [
       "<Figure size 432x288 with 1 Axes>"
      ]
     },
     "metadata": {
      "needs_background": "light"
     },
     "output_type": "display_data"
    }
   ],
   "source": [
    "### As there are null values in Age, we have to drop those nulls adding the .dropna() function !\n",
    "male = titanic[titanic[ ['sex'=='Male']]\n",
    "female = titanic[titanic['sex'=='Female']]\n",
    "fig, ax = plt.subplots()\n",
    "ax.hist(x=titanic['Age'].dropna())\n",
    "plt.show()"
   ]
  },
  {
   "cell_type": "code",
   "execution_count": 218,
   "metadata": {},
   "outputs": [
    {
     "data": {
      "text/plain": [
       "(0.0, 100.0)"
      ]
     },
     "execution_count": 218,
     "metadata": {},
     "output_type": "execute_result"
    },
    {
     "data": {
      "image/png": "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\n",
      "text/plain": [
       "<Figure size 432x288 with 1 Axes>"
      ]
     },
     "metadata": {},
     "output_type": "display_data"
    }
   ],
   "source": [
    "### A more sophisticated example...\n",
    "n, bins, patches = plt.hist(x=titanic['Age'].dropna(), bins='auto', color='#0504aa',alpha=0.7, rwidth=0.85)\n",
    "plt.grid(axis='y', alpha=0.75)\n",
    "plt.xlabel('Age')\n",
    "plt.ylabel('Frequency')\n",
    "plt.title('Age Distribution of the Titanic Passengers')\n",
    "maxfreq = n.max()\n",
    "# Set a clean upper y-axis limit.\n",
    "plt.ylim(ymax=np.ceil(maxfreq / 10) * 10 if maxfreq % 10 else maxfreq + 10)\n"
   ]
  },
  {
   "cell_type": "code",
<<<<<<< HEAD
   "execution_count": 23,
   "metadata": {},
   "outputs": [
    {
     "data": {
      "text/plain": [
       "<matplotlib.axes._subplots.AxesSubplot at 0x137ca778b00>"
      ]
     },
     "execution_count": 23,
     "metadata": {},
     "output_type": "execute_result"
    },
    {
     "data": {
      "image/png": "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\n",
      "text/plain": [
       "<Figure size 432x288 with 1 Axes>"
      ]
     },
     "metadata": {
      "needs_background": "light"
     },
     "output_type": "display_data"
=======
   "execution_count": 3,
   "metadata": {},
   "outputs": [
    {
     "ename": "NameError",
     "evalue": "name 'titanic' is not defined",
     "output_type": "error",
     "traceback": [
      "\u001b[0;31m---------------------------------------------------------------------------\u001b[0m",
      "\u001b[0;31mNameError\u001b[0m                                 Traceback (most recent call last)",
      "\u001b[0;32m<ipython-input-3-0a082e613779>\u001b[0m in \u001b[0;36m<module>\u001b[0;34m\u001b[0m\n\u001b[1;32m      1\u001b[0m \u001b[0;31m### using seaborn... easier to create...\u001b[0m\u001b[0;34m\u001b[0m\u001b[0;34m\u001b[0m\u001b[0;34m\u001b[0m\u001b[0m\n\u001b[0;32m----> 2\u001b[0;31m \u001b[0msns\u001b[0m\u001b[0;34m.\u001b[0m\u001b[0mdistplot\u001b[0m\u001b[0;34m(\u001b[0m\u001b[0mtitanic\u001b[0m\u001b[0;34m[\u001b[0m\u001b[0;34m'age'\u001b[0m\u001b[0;34m]\u001b[0m\u001b[0;34m.\u001b[0m\u001b[0mdropna\u001b[0m\u001b[0;34m)\u001b[0m\u001b[0;34m\u001b[0m\u001b[0;34m\u001b[0m\u001b[0m\n\u001b[0m",
      "\u001b[0;31mNameError\u001b[0m: name 'titanic' is not defined"
     ]
>>>>>>> f25ac5d1296468687519ceed1204ddb0fbee8d92
    }
   ],
   "source": [
    "### using seaborn... easier to create...\n",
<<<<<<< HEAD
    "sns.distplot(titanic['Age'].dropna())"
=======
    "sns.distplot( ['age'].dropna)"
>>>>>>> f25ac5d1296468687519ceed1204ddb0fbee8d92
   ]
  },
  {
   "cell_type": "markdown",
   "metadata": {},
   "source": [
    "\n",
    "Create a new variable that will divide the passangers in four age categories:\n",
    "\n",
    "- Babies: 0-5\n",
    "- Children: 6-12 years old\n",
    "- Young: 13-17 years old\n",
    "- Adult: 18-59 years old\n",
    "- Older: 60+ years old\n",
    "\n",
    "How many (number and percent) survived on each age group? (We will use the mean function as the percentage)\n"
   ]
  },
  {
   "cell_type": "code",
   "execution_count": 28,
   "metadata": {},
   "outputs": [
    {
     "data": {
      "text/plain": [
       "0      18-59\n",
       "1      18-59\n",
       "2      18-59\n",
       "3      18-59\n",
       "4      18-59\n",
       "5      NoAge\n",
       "6      18-59\n",
       "7        0-5\n",
       "8      18-59\n",
       "9      13-17\n",
       "10       0-5\n",
       "11     18-59\n",
       "12     18-59\n",
       "13     18-59\n",
       "14     13-17\n",
       "15     18-59\n",
       "16       0-5\n",
       "17     NoAge\n",
       "18     18-59\n",
       "19     NoAge\n",
       "20     18-59\n",
       "21     18-59\n",
       "22     13-17\n",
       "23     18-59\n",
       "24      6-12\n",
       "25     18-59\n",
       "26     NoAge\n",
       "27     18-59\n",
       "28     NoAge\n",
       "29     NoAge\n",
       "       ...  \n",
       "861    18-59\n",
       "862    18-59\n",
       "863    NoAge\n",
       "864    18-59\n",
       "865    18-59\n",
       "866    18-59\n",
       "867    18-59\n",
       "868    NoAge\n",
       "869      0-5\n",
       "870    18-59\n",
       "871    18-59\n",
       "872    18-59\n",
       "873    18-59\n",
       "874    18-59\n",
       "875    13-17\n",
       "876    18-59\n",
       "877    18-59\n",
       "878    NoAge\n",
       "879    18-59\n",
       "880    18-59\n",
       "881    18-59\n",
       "882    18-59\n",
       "883    18-59\n",
       "884    18-59\n",
       "885    18-59\n",
       "886    18-59\n",
       "887    18-59\n",
       "888    NoAge\n",
       "889    18-59\n",
       "890    18-59\n",
       "Name: AgeGroup, Length: 891, dtype: object"
      ]
     },
     "execution_count": 28,
     "metadata": {},
     "output_type": "execute_result"
    }
   ],
   "source": [
    "### create the categorical variables\n",
    "\n",
    "titanic['AgeGroup'] = '18-59' \n",
    "titanic.loc[(titanic['Age'] < 6),'AgeGroup'] = '0-5'\n",
    "titanic.loc[(titanic['Age'] >= 6) & (titanic['Age'] < 13) ,'AgeGroup'] = '6-12'\n",
    "titanic.loc[(titanic['Age'] >= 13) & (titanic['Age'] < 18),'AgeGroup'] = '13-17'\n",
    "titanic.loc[(titanic['Age'] > 60),'AgeGroup'] = '60+'\n",
    "titanic.loc[(titanic['Age'].isnull()),'AgeGroup'] = 'NoAge'                        \n",
    " \n",
    "titanic.AgeGroup"
   ]
  },
  {
   "cell_type": "code",
   "execution_count": 30,
   "metadata": {},
   "outputs": [
    {
     "data": {
      "text/html": [
       "<div>\n",
       "<style scoped>\n",
       "    .dataframe tbody tr th:only-of-type {\n",
       "        vertical-align: middle;\n",
       "    }\n",
       "\n",
       "    .dataframe tbody tr th {\n",
       "        vertical-align: top;\n",
       "    }\n",
       "\n",
       "    .dataframe thead tr th {\n",
       "        text-align: left;\n",
       "    }\n",
       "\n",
       "    .dataframe thead tr:last-of-type th {\n",
       "        text-align: right;\n",
       "    }\n",
       "</style>\n",
       "<table border=\"1\" class=\"dataframe\">\n",
       "  <thead>\n",
       "    <tr>\n",
       "      <th></th>\n",
       "      <th></th>\n",
       "      <th colspan=\"3\" halign=\"left\">Survived</th>\n",
       "    </tr>\n",
       "    <tr>\n",
       "      <th></th>\n",
       "      <th></th>\n",
       "      <th>count</th>\n",
       "      <th>sum</th>\n",
       "      <th>mean</th>\n",
       "    </tr>\n",
       "    <tr>\n",
       "      <th>Sex</th>\n",
       "      <th>AgeGroup</th>\n",
       "      <th></th>\n",
       "      <th></th>\n",
       "      <th></th>\n",
       "    </tr>\n",
       "  </thead>\n",
       "  <tbody>\n",
       "    <tr>\n",
       "      <th rowspan=\"6\" valign=\"top\">female</th>\n",
       "      <th>0-5</th>\n",
       "      <td>21</td>\n",
       "      <td>16</td>\n",
       "      <td>0.761905</td>\n",
       "    </tr>\n",
       "    <tr>\n",
       "      <th>13-17</th>\n",
       "      <td>23</td>\n",
       "      <td>19</td>\n",
       "      <td>0.826087</td>\n",
       "    </tr>\n",
       "    <tr>\n",
       "      <th>18-59</th>\n",
       "      <td>203</td>\n",
       "      <td>156</td>\n",
       "      <td>0.768473</td>\n",
       "    </tr>\n",
       "    <tr>\n",
       "      <th>6-12</th>\n",
       "      <td>11</td>\n",
       "      <td>3</td>\n",
       "      <td>0.272727</td>\n",
       "    </tr>\n",
       "    <tr>\n",
       "      <th>60+</th>\n",
       "      <td>3</td>\n",
       "      <td>3</td>\n",
       "      <td>1.000000</td>\n",
       "    </tr>\n",
       "    <tr>\n",
       "      <th>NoAge</th>\n",
       "      <td>53</td>\n",
       "      <td>36</td>\n",
       "      <td>0.679245</td>\n",
       "    </tr>\n",
       "    <tr>\n",
       "      <th rowspan=\"6\" valign=\"top\">male</th>\n",
       "      <th>0-5</th>\n",
       "      <td>23</td>\n",
       "      <td>15</td>\n",
       "      <td>0.652174</td>\n",
       "    </tr>\n",
       "    <tr>\n",
       "      <th>13-17</th>\n",
       "      <td>21</td>\n",
       "      <td>2</td>\n",
       "      <td>0.095238</td>\n",
       "    </tr>\n",
       "    <tr>\n",
       "      <th>18-59</th>\n",
       "      <td>376</td>\n",
       "      <td>68</td>\n",
       "      <td>0.180851</td>\n",
       "    </tr>\n",
       "    <tr>\n",
       "      <th>6-12</th>\n",
       "      <td>14</td>\n",
       "      <td>6</td>\n",
       "      <td>0.428571</td>\n",
       "    </tr>\n",
       "    <tr>\n",
       "      <th>60+</th>\n",
       "      <td>19</td>\n",
       "      <td>2</td>\n",
       "      <td>0.105263</td>\n",
       "    </tr>\n",
       "    <tr>\n",
       "      <th>NoAge</th>\n",
       "      <td>124</td>\n",
       "      <td>16</td>\n",
       "      <td>0.129032</td>\n",
       "    </tr>\n",
       "  </tbody>\n",
       "</table>\n",
       "</div>"
      ],
      "text/plain": [
       "                Survived               \n",
       "                   count  sum      mean\n",
       "Sex    AgeGroup                        \n",
       "female 0-5            21   16  0.761905\n",
       "       13-17          23   19  0.826087\n",
       "       18-59         203  156  0.768473\n",
       "       6-12           11    3  0.272727\n",
       "       60+             3    3  1.000000\n",
       "       NoAge          53   36  0.679245\n",
       "male   0-5            23   15  0.652174\n",
       "       13-17          21    2  0.095238\n",
       "       18-59         376   68  0.180851\n",
       "       6-12           14    6  0.428571\n",
       "       60+            19    2  0.105263\n",
       "       NoAge         124   16  0.129032"
      ]
     },
     "execution_count": 30,
     "metadata": {},
     "output_type": "execute_result"
    }
   ],
   "source": [
    "## use groupby() and agg() to get the table bellow\n",
    "titanic.groupby(['Sex','AgeGroup']).agg({'Survived':['count',sum,'mean']})"
   ]
  },
  {
   "cell_type": "markdown",
   "metadata": {},
   "source": [
    "\tSurvived\n",
    "\n",
    "AgeGroup count\tsum\tmean\t\t\t\n",
    "0-5\t      44\t31\t0.704545\n",
    "6-12\t  25\t9\t0.360000\n",
    "13-17\t  44\t21\t0.477273\n",
    "18-59\t  752\t274\t0.364362\n",
    "60+\t      26\t7\t0.269231"
   ]
  },
  {
   "cell_type": "markdown",
   "metadata": {},
   "source": [
    "#### Age-Gender Survival\n",
    "\n",
    "Where there differences on survival by age group and gender?"
   ]
  },
  {
   "cell_type": "code",
   "execution_count": 223,
   "metadata": {},
   "outputs": [
    {
     "data": {
      "text/html": [
       "<div>\n",
       "<style>\n",
       "    .dataframe thead tr:only-child th {\n",
       "        text-align: right;\n",
       "    }\n",
       "\n",
       "    .dataframe thead th {\n",
       "        text-align: left;\n",
       "    }\n",
       "\n",
       "    .dataframe tbody tr th {\n",
       "        vertical-align: top;\n",
       "    }\n",
       "</style>\n",
       "<table border=\"1\" class=\"dataframe\">\n",
       "  <thead>\n",
       "    <tr>\n",
       "      <th></th>\n",
       "      <th></th>\n",
       "      <th colspan=\"3\" halign=\"left\">Survived</th>\n",
       "    </tr>\n",
       "    <tr>\n",
       "      <th></th>\n",
       "      <th></th>\n",
       "      <th>count</th>\n",
       "      <th>sum</th>\n",
       "      <th>mean</th>\n",
       "    </tr>\n",
       "    <tr>\n",
       "      <th>Sex</th>\n",
       "      <th>AgeGroup</th>\n",
       "      <th></th>\n",
       "      <th></th>\n",
       "      <th></th>\n",
       "    </tr>\n",
       "  </thead>\n",
       "  <tbody>\n",
       "    <tr>\n",
       "      <th rowspan=\"5\" valign=\"top\">female</th>\n",
       "      <th>0-5</th>\n",
       "      <td>21</td>\n",
       "      <td>16</td>\n",
       "      <td>0.761905</td>\n",
       "    </tr>\n",
       "    <tr>\n",
       "      <th>6-12</th>\n",
       "      <td>11</td>\n",
       "      <td>3</td>\n",
       "      <td>0.272727</td>\n",
       "    </tr>\n",
       "    <tr>\n",
       "      <th>13-17</th>\n",
       "      <td>23</td>\n",
       "      <td>19</td>\n",
       "      <td>0.826087</td>\n",
       "    </tr>\n",
       "    <tr>\n",
       "      <th>18-59</th>\n",
       "      <td>255</td>\n",
       "      <td>191</td>\n",
       "      <td>0.749020</td>\n",
       "    </tr>\n",
       "    <tr>\n",
       "      <th>60+</th>\n",
       "      <td>4</td>\n",
       "      <td>4</td>\n",
       "      <td>1.000000</td>\n",
       "    </tr>\n",
       "    <tr>\n",
       "      <th rowspan=\"5\" valign=\"top\">male</th>\n",
       "      <th>0-5</th>\n",
       "      <td>23</td>\n",
       "      <td>15</td>\n",
       "      <td>0.652174</td>\n",
       "    </tr>\n",
       "    <tr>\n",
       "      <th>6-12</th>\n",
       "      <td>14</td>\n",
       "      <td>6</td>\n",
       "      <td>0.428571</td>\n",
       "    </tr>\n",
       "    <tr>\n",
       "      <th>13-17</th>\n",
       "      <td>21</td>\n",
       "      <td>2</td>\n",
       "      <td>0.095238</td>\n",
       "    </tr>\n",
       "    <tr>\n",
       "      <th>18-59</th>\n",
       "      <td>497</td>\n",
       "      <td>83</td>\n",
       "      <td>0.167002</td>\n",
       "    </tr>\n",
       "    <tr>\n",
       "      <th>60+</th>\n",
       "      <td>22</td>\n",
       "      <td>3</td>\n",
       "      <td>0.136364</td>\n",
       "    </tr>\n",
       "  </tbody>\n",
       "</table>\n",
       "</div>"
      ],
      "text/plain": [
       "                Survived               \n",
       "                   count  sum      mean\n",
       "Sex    AgeGroup                        \n",
       "female  0-5           21   16  0.761905\n",
       "        6-12          11    3  0.272727\n",
       "       13-17          23   19  0.826087\n",
       "       18-59         255  191  0.749020\n",
       "       60+             4    4  1.000000\n",
       "male    0-5           23   15  0.652174\n",
       "        6-12          14    6  0.428571\n",
       "       13-17          21    2  0.095238\n",
       "       18-59         497   83  0.167002\n",
       "       60+            22    3  0.136364"
      ]
     },
     "execution_count": 223,
     "metadata": {},
     "output_type": "execute_result"
    }
   ],
   "source": [
    "## use groupby() and agg() to get the table bellow\n",
    "titanic.groupby(...).agg(...)"
   ]
  },
  {
   "cell_type": "markdown",
   "metadata": {},
   "source": [
    "Survived\n",
    "\n",
    "Sex\t  AgeGroup count\tsum\tmean\t\t\n",
    "female\t0-5\t    21\t    16\t0.761905\n",
    "        6-12\t11\t    3\t0.272727\n",
    "        13-17\t23\t    19\t0.826087\n",
    "        18-59\t255\t    191\t0.749020\n",
    "        60+\t    4\t    4\t1.000000\n",
    "male\t0-5\t    23\t    15\t0.652174\n",
    "        6-12\t14\t    6\t0.428571\n",
    "        13-17\t21\t    2\t0.095238\n",
    "        18-59\t497\t    83\t0.167002\n",
    "        60+\t    22\t    3\t0.136364"
   ]
  },
  {
   "cell_type": "markdown",
   "metadata": {},
   "source": [
    "#### Passenger Class and Survival\n",
    "\n",
    "Was there any difference in the survival among passangers by their ticket class (Pclass) ?"
   ]
  },
  {
   "cell_type": "code",
   "execution_count": 224,
   "metadata": {},
   "outputs": [
    {
     "data": {
      "text/html": [
       "<div>\n",
       "<style>\n",
       "    .dataframe thead tr:only-child th {\n",
       "        text-align: right;\n",
       "    }\n",
       "\n",
       "    .dataframe thead th {\n",
       "        text-align: left;\n",
       "    }\n",
       "\n",
       "    .dataframe tbody tr th {\n",
       "        vertical-align: top;\n",
       "    }\n",
       "</style>\n",
       "<table border=\"1\" class=\"dataframe\">\n",
       "  <thead>\n",
       "    <tr>\n",
       "      <th></th>\n",
       "      <th colspan=\"3\" halign=\"left\">Survived</th>\n",
       "    </tr>\n",
       "    <tr>\n",
       "      <th></th>\n",
       "      <th>count</th>\n",
       "      <th>sum</th>\n",
       "      <th>mean</th>\n",
       "    </tr>\n",
       "    <tr>\n",
       "      <th>Pclass</th>\n",
       "      <th></th>\n",
       "      <th></th>\n",
       "      <th></th>\n",
       "    </tr>\n",
       "  </thead>\n",
       "  <tbody>\n",
       "    <tr>\n",
       "      <th>1</th>\n",
       "      <td>216</td>\n",
       "      <td>136</td>\n",
       "      <td>0.629630</td>\n",
       "    </tr>\n",
       "    <tr>\n",
       "      <th>2</th>\n",
       "      <td>184</td>\n",
       "      <td>87</td>\n",
       "      <td>0.472826</td>\n",
       "    </tr>\n",
       "    <tr>\n",
       "      <th>3</th>\n",
       "      <td>491</td>\n",
       "      <td>119</td>\n",
       "      <td>0.242363</td>\n",
       "    </tr>\n",
       "  </tbody>\n",
       "</table>\n",
       "</div>"
      ],
      "text/plain": [
       "       Survived               \n",
       "          count  sum      mean\n",
       "Pclass                        \n",
       "1           216  136  0.629630\n",
       "2           184   87  0.472826\n",
       "3           491  119  0.242363"
      ]
     },
     "execution_count": 224,
     "metadata": {},
     "output_type": "execute_result"
    }
   ],
   "source": [
    "## use groupby() and agg() to get the table bellow\n",
    "titanic.groupby(...).agg(...)"
   ]
  },
  {
   "cell_type": "markdown",
   "metadata": {},
   "source": [
    "Survived\n",
    "\n",
    "Pclass\tcount\tsum\tmean\t\t\n",
    "    1\t216\t    136\t0.629630\n",
    "    2\t184\t    87\t0.472826\n",
    "    3\t491\t    119\t0.242363\n"
   ]
  },
  {
   "cell_type": "markdown",
   "metadata": {},
   "source": [
    "#### Traveling alone vs with family\n",
    "\n",
    "Who survived more, individuals that traveled alone or those who traveled with their families?"
   ]
  },
  {
   "cell_type": "code",
   "execution_count": 225,
   "metadata": {},
   "outputs": [
    {
     "data": {
      "text/html": [
       "<div>\n",
       "<style>\n",
       "    .dataframe thead tr:only-child th {\n",
       "        text-align: right;\n",
       "    }\n",
       "\n",
       "    .dataframe thead th {\n",
       "        text-align: left;\n",
       "    }\n",
       "\n",
       "    .dataframe tbody tr th {\n",
       "        vertical-align: top;\n",
       "    }\n",
       "</style>\n",
       "<table border=\"1\" class=\"dataframe\">\n",
       "  <thead>\n",
       "    <tr>\n",
       "      <th></th>\n",
       "      <th colspan=\"3\" halign=\"left\">Survived</th>\n",
       "    </tr>\n",
       "    <tr>\n",
       "      <th></th>\n",
       "      <th>count</th>\n",
       "      <th>sum</th>\n",
       "      <th>mean</th>\n",
       "    </tr>\n",
       "    <tr>\n",
       "      <th>TravelAlone</th>\n",
       "      <th></th>\n",
       "      <th></th>\n",
       "      <th></th>\n",
       "    </tr>\n",
       "  </thead>\n",
       "  <tbody>\n",
       "    <tr>\n",
       "      <th>0</th>\n",
       "      <td>354</td>\n",
       "      <td>179</td>\n",
       "      <td>0.505650</td>\n",
       "    </tr>\n",
       "    <tr>\n",
       "      <th>1</th>\n",
       "      <td>537</td>\n",
       "      <td>163</td>\n",
       "      <td>0.303538</td>\n",
       "    </tr>\n",
       "  </tbody>\n",
       "</table>\n",
       "</div>"
      ],
      "text/plain": [
       "            Survived               \n",
       "               count  sum      mean\n",
       "TravelAlone                        \n",
       "0                354  179  0.505650\n",
       "1                537  163  0.303538"
      ]
     },
     "execution_count": 225,
     "metadata": {},
     "output_type": "execute_result"
    }
   ],
   "source": [
    "# first we have to determine who was alone and who was in family. Use the variables SibSp and Parch\n",
    "titanic['TravelAlone'] = 0\n",
    "...\n",
    "\n",
    "\n",
    "## then use groupby() and agg() to get the table bellow\n",
    "titanic.groupby(...).agg(...)"
   ]
  },
  {
   "cell_type": "markdown",
   "metadata": {},
   "source": [
    "Survived\n",
    "\n",
    "TravelAlone\tcount\tsum\tmean\t\t\n",
    "    0\t     354\t179\t0.505650\n",
    "    1\t     537\t163\t0.303538"
   ]
  },
  {
   "cell_type": "markdown",
   "metadata": {},
   "source": [
    "#### Embarking port and survival\n",
    "\n",
    "Was there any difference in survival related to the embarking port?"
   ]
  },
  {
   "cell_type": "code",
   "execution_count": 226,
   "metadata": {},
   "outputs": [
    {
     "data": {
      "text/html": [
       "<div>\n",
       "<style>\n",
       "    .dataframe thead tr:only-child th {\n",
       "        text-align: right;\n",
       "    }\n",
       "\n",
       "    .dataframe thead th {\n",
       "        text-align: left;\n",
       "    }\n",
       "\n",
       "    .dataframe tbody tr th {\n",
       "        vertical-align: top;\n",
       "    }\n",
       "</style>\n",
       "<table border=\"1\" class=\"dataframe\">\n",
       "  <thead>\n",
       "    <tr>\n",
       "      <th></th>\n",
       "      <th colspan=\"3\" halign=\"left\">Survived</th>\n",
       "    </tr>\n",
       "    <tr>\n",
       "      <th></th>\n",
       "      <th>count</th>\n",
       "      <th>sum</th>\n",
       "      <th>mean</th>\n",
       "    </tr>\n",
       "    <tr>\n",
       "      <th>Embarked</th>\n",
       "      <th></th>\n",
       "      <th></th>\n",
       "      <th></th>\n",
       "    </tr>\n",
       "  </thead>\n",
       "  <tbody>\n",
       "    <tr>\n",
       "      <th>C</th>\n",
       "      <td>168</td>\n",
       "      <td>93</td>\n",
       "      <td>0.553571</td>\n",
       "    </tr>\n",
       "    <tr>\n",
       "      <th>Q</th>\n",
       "      <td>77</td>\n",
       "      <td>30</td>\n",
       "      <td>0.389610</td>\n",
       "    </tr>\n",
       "    <tr>\n",
       "      <th>S</th>\n",
       "      <td>644</td>\n",
       "      <td>217</td>\n",
       "      <td>0.336957</td>\n",
       "    </tr>\n",
       "  </tbody>\n",
       "</table>\n",
       "</div>"
      ],
      "text/plain": [
       "         Survived               \n",
       "            count  sum      mean\n",
       "Embarked                        \n",
       "C             168   93  0.553571\n",
       "Q              77   30  0.389610\n",
       "S             644  217  0.336957"
      ]
     },
     "execution_count": 226,
     "metadata": {},
     "output_type": "execute_result"
    }
   ],
   "source": [
    "## use groupby() and agg() to get the table bellow\n",
    "titanic.groupby(...).agg(...)"
   ]
  },
  {
   "cell_type": "markdown",
   "metadata": {},
   "source": [
    "Survived\n",
    "\n",
    "Embarked  count\tsum\tmean\t\t\t\n",
    "    C\t   168\t93\t0.553571\n",
    "    Q\t    77\t30\t0.389610\n",
    "    S\t   644\t217\t0.336957"
   ]
  },
  {
   "cell_type": "markdown",
   "metadata": {},
   "source": [
    "#### Paid fair and survival\n",
    "\n",
    "What was the fare range paid by the passangers?\n"
   ]
  },
  {
   "cell_type": "code",
   "execution_count": 227,
   "metadata": {},
   "outputs": [
    {
     "data": {
      "image/png": "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\n",
      "text/plain": [
       "<Figure size 432x288 with 1 Axes>"
      ]
     },
     "metadata": {},
     "output_type": "display_data"
    }
   ],
   "source": [
    "#### use describe() to get the summary of the Fare variable\n",
    "...\n",
    "\n",
    "### draw an histogram for the Fare variable. \n",
    "\n"
   ]
  },
  {
   "cell_type": "markdown",
   "metadata": {},
   "source": [
    "How many individuals didn't paid for their ticket?\n",
    " \n",
    "Does this affected their survival?"
   ]
  },
  {
   "cell_type": "code",
   "execution_count": 228,
   "metadata": {},
   "outputs": [
    {
     "name": "stdout",
     "output_type": "stream",
     "text": [
      "15\n"
     ]
    }
   ],
   "source": [
    "### get the number of those with a Fare == 0\n",
    "..."
   ]
  },
  {
   "cell_type": "code",
   "execution_count": 229,
   "metadata": {},
   "outputs": [
    {
     "data": {
      "text/html": [
       "<div>\n",
       "<style>\n",
       "    .dataframe thead tr:only-child th {\n",
       "        text-align: right;\n",
       "    }\n",
       "\n",
       "    .dataframe thead th {\n",
       "        text-align: left;\n",
       "    }\n",
       "\n",
       "    .dataframe tbody tr th {\n",
       "        vertical-align: top;\n",
       "    }\n",
       "</style>\n",
       "<table border=\"1\" class=\"dataframe\">\n",
       "  <thead>\n",
       "    <tr>\n",
       "      <th></th>\n",
       "      <th colspan=\"3\" halign=\"left\">Survived</th>\n",
       "    </tr>\n",
       "    <tr>\n",
       "      <th></th>\n",
       "      <th>count</th>\n",
       "      <th>sum</th>\n",
       "      <th>mean</th>\n",
       "    </tr>\n",
       "    <tr>\n",
       "      <th>Gratis</th>\n",
       "      <th></th>\n",
       "      <th></th>\n",
       "      <th></th>\n",
       "    </tr>\n",
       "  </thead>\n",
       "  <tbody>\n",
       "    <tr>\n",
       "      <th>0</th>\n",
       "      <td>876</td>\n",
       "      <td>341</td>\n",
       "      <td>0.389269</td>\n",
       "    </tr>\n",
       "    <tr>\n",
       "      <th>1</th>\n",
       "      <td>15</td>\n",
       "      <td>1</td>\n",
       "      <td>0.066667</td>\n",
       "    </tr>\n",
       "  </tbody>\n",
       "</table>\n",
       "</div>"
      ],
      "text/plain": [
       "       Survived               \n",
       "          count  sum      mean\n",
       "Gratis                        \n",
       "0           876  341  0.389269\n",
       "1            15    1  0.066667"
      ]
     },
     "execution_count": 229,
     "metadata": {},
     "output_type": "execute_result"
    }
   ],
   "source": [
    "### Create a new variable called Gratis and give 1 to passangers who didn't pay\n",
    "titanic['Gratis'] = 0\n",
    "....\n",
    "\n",
    "## then use groupby() and agg() to get the table bellow\n",
    "..."
   ]
  },
  {
   "cell_type": "markdown",
   "metadata": {},
   "source": [
    "Where there differences in fare rates among the same ticket classes? \n",
    " \n",
    "If the answer was yes, does those differences affected the survival of individuals?"
   ]
  },
  {
   "cell_type": "code",
   "execution_count": 230,
   "metadata": {},
   "outputs": [
    {
     "data": {
      "text/html": [
       "<div>\n",
       "<style>\n",
       "    .dataframe thead tr:only-child th {\n",
       "        text-align: right;\n",
       "    }\n",
       "\n",
       "    .dataframe thead th {\n",
       "        text-align: left;\n",
       "    }\n",
       "\n",
       "    .dataframe tbody tr th {\n",
       "        vertical-align: top;\n",
       "    }\n",
       "</style>\n",
       "<table border=\"1\" class=\"dataframe\">\n",
       "  <thead>\n",
       "    <tr style=\"text-align: right;\">\n",
       "      <th></th>\n",
       "      <th>count</th>\n",
       "      <th>mean</th>\n",
       "      <th>std</th>\n",
       "      <th>min</th>\n",
       "      <th>25%</th>\n",
       "      <th>50%</th>\n",
       "      <th>75%</th>\n",
       "      <th>max</th>\n",
       "    </tr>\n",
       "    <tr>\n",
       "      <th>Pclass</th>\n",
       "      <th></th>\n",
       "      <th></th>\n",
       "      <th></th>\n",
       "      <th></th>\n",
       "      <th></th>\n",
       "      <th></th>\n",
       "      <th></th>\n",
       "      <th></th>\n",
       "    </tr>\n",
       "  </thead>\n",
       "  <tbody>\n",
       "    <tr>\n",
       "      <th>1</th>\n",
       "      <td>216.0</td>\n",
       "      <td>84.154687</td>\n",
       "      <td>78.380373</td>\n",
       "      <td>0.0</td>\n",
       "      <td>30.92395</td>\n",
       "      <td>60.2875</td>\n",
       "      <td>93.5</td>\n",
       "      <td>512.3292</td>\n",
       "    </tr>\n",
       "    <tr>\n",
       "      <th>2</th>\n",
       "      <td>184.0</td>\n",
       "      <td>20.662183</td>\n",
       "      <td>13.417399</td>\n",
       "      <td>0.0</td>\n",
       "      <td>13.00000</td>\n",
       "      <td>14.2500</td>\n",
       "      <td>26.0</td>\n",
       "      <td>73.5000</td>\n",
       "    </tr>\n",
       "    <tr>\n",
       "      <th>3</th>\n",
       "      <td>491.0</td>\n",
       "      <td>13.675550</td>\n",
       "      <td>11.778142</td>\n",
       "      <td>0.0</td>\n",
       "      <td>7.75000</td>\n",
       "      <td>8.0500</td>\n",
       "      <td>15.5</td>\n",
       "      <td>69.5500</td>\n",
       "    </tr>\n",
       "  </tbody>\n",
       "</table>\n",
       "</div>"
      ],
      "text/plain": [
       "        count       mean        std  min       25%      50%   75%       max\n",
       "Pclass                                                                     \n",
       "1       216.0  84.154687  78.380373  0.0  30.92395  60.2875  93.5  512.3292\n",
       "2       184.0  20.662183  13.417399  0.0  13.00000  14.2500  26.0   73.5000\n",
       "3       491.0  13.675550  11.778142  0.0   7.75000   8.0500  15.5   69.5500"
      ]
     },
     "execution_count": 230,
     "metadata": {},
     "output_type": "execute_result"
    }
   ],
   "source": [
    "byPclass = titanic.groupby('Pclass')\n",
    "byPclass['Fare'].describe()\n"
   ]
  },
  {
   "cell_type": "code",
   "execution_count": 231,
   "metadata": {},
   "outputs": [],
   "source": [
    "### We will use the data on the desctiptive table to divide the paid fare:\n",
    "### Those who paid more than the 75% where considered 'Overpaid', \n",
    "### If paid less than the 25% where categorized as 'Underpaid', else 'Normal' fare\n",
    "titanic['FareGroup'] = 'Normal'\n",
    "\n",
    "....\n",
    "\n"
   ]
  },
  {
   "cell_type": "markdown",
   "metadata": {},
   "source": [
    "Now we will check how many survived by Pclass and Fategroup:"
   ]
  },
  {
   "cell_type": "code",
   "execution_count": 232,
   "metadata": {},
   "outputs": [
    {
     "data": {
      "text/html": [
       "<div>\n",
       "<style>\n",
       "    .dataframe thead tr:only-child th {\n",
       "        text-align: right;\n",
       "    }\n",
       "\n",
       "    .dataframe thead th {\n",
       "        text-align: left;\n",
       "    }\n",
       "\n",
       "    .dataframe tbody tr th {\n",
       "        vertical-align: top;\n",
       "    }\n",
       "</style>\n",
       "<table border=\"1\" class=\"dataframe\">\n",
       "  <thead>\n",
       "    <tr>\n",
       "      <th></th>\n",
       "      <th></th>\n",
       "      <th colspan=\"3\" halign=\"left\">Survived</th>\n",
       "    </tr>\n",
       "    <tr>\n",
       "      <th></th>\n",
       "      <th></th>\n",
       "      <th>count</th>\n",
       "      <th>sum</th>\n",
       "      <th>mean</th>\n",
       "    </tr>\n",
       "    <tr>\n",
       "      <th>Pclass</th>\n",
       "      <th>FareGroup</th>\n",
       "      <th></th>\n",
       "      <th></th>\n",
       "      <th></th>\n",
       "    </tr>\n",
       "  </thead>\n",
       "  <tbody>\n",
       "    <tr>\n",
       "      <th rowspan=\"3\" valign=\"top\">1</th>\n",
       "      <th>Normal</th>\n",
       "      <td>109</td>\n",
       "      <td>72</td>\n",
       "      <td>0.660550</td>\n",
       "    </tr>\n",
       "    <tr>\n",
       "      <th>Overpaid</th>\n",
       "      <td>53</td>\n",
       "      <td>39</td>\n",
       "      <td>0.735849</td>\n",
       "    </tr>\n",
       "    <tr>\n",
       "      <th>Underpaid</th>\n",
       "      <td>54</td>\n",
       "      <td>25</td>\n",
       "      <td>0.462963</td>\n",
       "    </tr>\n",
       "    <tr>\n",
       "      <th rowspan=\"3\" valign=\"top\">2</th>\n",
       "      <th>Normal</th>\n",
       "      <td>103</td>\n",
       "      <td>51</td>\n",
       "      <td>0.495146</td>\n",
       "    </tr>\n",
       "    <tr>\n",
       "      <th>Overpaid</th>\n",
       "      <td>39</td>\n",
       "      <td>23</td>\n",
       "      <td>0.589744</td>\n",
       "    </tr>\n",
       "    <tr>\n",
       "      <th>Underpaid</th>\n",
       "      <td>42</td>\n",
       "      <td>13</td>\n",
       "      <td>0.309524</td>\n",
       "    </tr>\n",
       "    <tr>\n",
       "      <th rowspan=\"3\" valign=\"top\">3</th>\n",
       "      <th>Normal</th>\n",
       "      <td>277</td>\n",
       "      <td>68</td>\n",
       "      <td>0.245487</td>\n",
       "    </tr>\n",
       "    <tr>\n",
       "      <th>Overpaid</th>\n",
       "      <td>120</td>\n",
       "      <td>34</td>\n",
       "      <td>0.283333</td>\n",
       "    </tr>\n",
       "    <tr>\n",
       "      <th>Underpaid</th>\n",
       "      <td>94</td>\n",
       "      <td>17</td>\n",
       "      <td>0.180851</td>\n",
       "    </tr>\n",
       "  </tbody>\n",
       "</table>\n",
       "</div>"
      ],
      "text/plain": [
       "                 Survived              \n",
       "                    count sum      mean\n",
       "Pclass FareGroup                       \n",
       "1      Normal         109  72  0.660550\n",
       "       Overpaid        53  39  0.735849\n",
       "       Underpaid       54  25  0.462963\n",
       "2      Normal         103  51  0.495146\n",
       "       Overpaid        39  23  0.589744\n",
       "       Underpaid       42  13  0.309524\n",
       "3      Normal         277  68  0.245487\n",
       "       Overpaid       120  34  0.283333\n",
       "       Underpaid       94  17  0.180851"
      ]
     },
     "execution_count": 232,
     "metadata": {},
     "output_type": "execute_result"
    }
   ],
   "source": [
    "## use groupby() and agg() to get the table bellow\n",
    "...\n"
   ]
  },
  {
   "cell_type": "markdown",
   "metadata": {},
   "source": [
    "Survived\n",
    "\n",
    "Pclass\tFareGroup count\tsum\tmean\n",
    "    1\tNormal\t   109\t72\t0.660550\n",
    "        Overpaid\t53\t39\t0.735849\n",
    "        Underpaid\t54\t25\t0.462963\n",
    "    2\tNormal\t   103\t51\t0.495146\n",
    "        Overpaid\t39\t23\t0.589744\n",
    "        Underpaid\t42\t13\t0.309524\n",
    "    3\tNormal\t   277\t68\t0.245487\n",
    "        Overpaid   120\t34\t0.283333\n",
    "        Underpaid\t94\t17\t0.180851"
   ]
  },
  {
   "cell_type": "markdown",
   "metadata": {},
   "source": [
    "#### The title passanger had and survival \n",
    "\n",
    "Which were the five most common titles passanger had? (Sir, Mr, Mrs, etc)?\n",
    " \n",
    "For this part we will take the 'Name' column and will split all the words in the name by the white space.\n",
    " \n",
    "Then we will join all the words and calculate the frequency of appearance of each world in descending order.\n",
    " \n",
    "We will take the five most common words (must be titles), and with them we will create a new column. Then we will procede as we did in the other analyses.\n"
   ]
  },
  {
   "cell_type": "code",
   "execution_count": 233,
   "metadata": {},
   "outputs": [
    {
     "name": "stdout",
     "output_type": "stream",
     "text": [
      "Braund, Mr. Owen Harris Cumings, Mrs. John Bradley (Florence Briggs Thayer) Heikkinen, Miss. Laina F\n"
     ]
    }
   ],
   "source": [
    "## Join all the words in the 'Name' column\n",
    "words = ' '.join(titanic['Name'])\n",
    "len(words)\n",
    "print(words[0:100])"
   ]
  },
  {
   "cell_type": "code",
   "execution_count": 234,
   "metadata": {},
   "outputs": [
    {
     "name": "stdout",
     "output_type": "stream",
     "text": [
      "Braund Mr Owen Harris Cumings Mrs John Bradley Florence Briggs Thayer Heikkinen Miss Laina Futrelle \n"
     ]
    }
   ],
   "source": [
    "## the following code will delete the punctuation\n",
    "import string\n",
    "\n",
    "table = str.maketrans({key: None for key in string.punctuation})\n",
    "words = words.translate(table)\n",
    "print(words[0:100])"
   ]
  },
  {
   "cell_type": "code",
   "execution_count": 235,
   "metadata": {},
   "outputs": [
    {
     "name": "stdout",
     "output_type": "stream",
     "text": [
      "<class 'list'>\n",
      "['Mr', 'Owen', 'Harris', 'Cumings', 'Mrs', 'John', 'Bradley', 'Florence', 'Briggs']\n"
     ]
    }
   ],
   "source": [
    "## now we will split by the white spaces the words string into a list\n",
    "wordlist = words.split()\n",
    "print(type(wordlist))\n",
    "print(wordlist[1:10])"
   ]
  },
  {
   "cell_type": "code",
   "execution_count": 236,
   "metadata": {},
   "outputs": [
    {
     "name": "stdout",
     "output_type": "stream",
     "text": [
      "1526\n",
      "1526\n",
      "1526\n",
      "<class 'dict_keys'>\n",
      "<class 'dict_values'>\n"
     ]
    }
   ],
   "source": [
    "## We will count each unique word and show the top 20 in descending order\n",
    "## There are lots of ways to this. We will generate a dictionary to make the counts\n",
    "\n",
    "worddict = {x:wordlist.count(x) for x in wordlist}\n",
    "\n",
    "wordunq, wordcnt = worddict.keys(), worddict.values()\n",
    "\n",
    "print(len(worddict))\n",
    "print(len(wordunq))\n",
    "print(len(wordcnt))\n",
    "\n",
    "#wordunq.tolist()\n",
    "\n",
    "print(type(wordunq))\n",
    "print(type(wordcnt))\n"
   ]
  },
  {
   "cell_type": "code",
   "execution_count": 243,
   "metadata": {},
   "outputs": [
    {
     "data": {
      "text/html": [
       "<div>\n",
       "<style>\n",
       "    .dataframe thead tr:only-child th {\n",
       "        text-align: right;\n",
       "    }\n",
       "\n",
       "    .dataframe thead th {\n",
       "        text-align: left;\n",
       "    }\n",
       "\n",
       "    .dataframe tbody tr th {\n",
       "        vertical-align: top;\n",
       "    }\n",
       "</style>\n",
       "<table border=\"1\" class=\"dataframe\">\n",
       "  <thead>\n",
       "    <tr style=\"text-align: right;\">\n",
       "      <th></th>\n",
       "      <th>quantity</th>\n",
       "      <th>word</th>\n",
       "    </tr>\n",
       "  </thead>\n",
       "  <tbody>\n",
       "    <tr>\n",
       "      <th>1225</th>\n",
       "      <td>521</td>\n",
       "      <td>Mr</td>\n",
       "    </tr>\n",
       "    <tr>\n",
       "      <th>389</th>\n",
       "      <td>182</td>\n",
       "      <td>Miss</td>\n",
       "    </tr>\n",
       "    <tr>\n",
       "      <th>893</th>\n",
       "      <td>129</td>\n",
       "      <td>Mrs</td>\n",
       "    </tr>\n",
       "    <tr>\n",
       "      <th>453</th>\n",
       "      <td>64</td>\n",
       "      <td>William</td>\n",
       "    </tr>\n",
       "    <tr>\n",
       "      <th>124</th>\n",
       "      <td>44</td>\n",
       "      <td>John</td>\n",
       "    </tr>\n",
       "    <tr>\n",
       "      <th>509</th>\n",
       "      <td>40</td>\n",
       "      <td>Master</td>\n",
       "    </tr>\n",
       "    <tr>\n",
       "      <th>998</th>\n",
       "      <td>35</td>\n",
       "      <td>Henry</td>\n",
       "    </tr>\n",
       "    <tr>\n",
       "      <th>423</th>\n",
       "      <td>24</td>\n",
       "      <td>George</td>\n",
       "    </tr>\n",
       "    <tr>\n",
       "      <th>1356</th>\n",
       "      <td>24</td>\n",
       "      <td>James</td>\n",
       "    </tr>\n",
       "    <tr>\n",
       "      <th>821</th>\n",
       "      <td>23</td>\n",
       "      <td>Charles</td>\n",
       "    </tr>\n",
       "    <tr>\n",
       "      <th>1498</th>\n",
       "      <td>22</td>\n",
       "      <td>Thomas</td>\n",
       "    </tr>\n",
       "    <tr>\n",
       "      <th>1006</th>\n",
       "      <td>20</td>\n",
       "      <td>Mary</td>\n",
       "    </tr>\n",
       "    <tr>\n",
       "      <th>167</th>\n",
       "      <td>18</td>\n",
       "      <td>Edward</td>\n",
       "    </tr>\n",
       "    <tr>\n",
       "      <th>875</th>\n",
       "      <td>17</td>\n",
       "      <td>Anna</td>\n",
       "    </tr>\n",
       "    <tr>\n",
       "      <th>1394</th>\n",
       "      <td>16</td>\n",
       "      <td>Joseph</td>\n",
       "    </tr>\n",
       "    <tr>\n",
       "      <th>1405</th>\n",
       "      <td>15</td>\n",
       "      <td>Johan</td>\n",
       "    </tr>\n",
       "    <tr>\n",
       "      <th>433</th>\n",
       "      <td>15</td>\n",
       "      <td>Frederick</td>\n",
       "    </tr>\n",
       "    <tr>\n",
       "      <th>1028</th>\n",
       "      <td>15</td>\n",
       "      <td>Elizabeth</td>\n",
       "    </tr>\n",
       "    <tr>\n",
       "      <th>770</th>\n",
       "      <td>14</td>\n",
       "      <td>Richard</td>\n",
       "    </tr>\n",
       "    <tr>\n",
       "      <th>529</th>\n",
       "      <td>13</td>\n",
       "      <td>Arthur</td>\n",
       "    </tr>\n",
       "  </tbody>\n",
       "</table>\n",
       "</div>"
      ],
      "text/plain": [
       "      quantity       word\n",
       "1225       521         Mr\n",
       "389        182       Miss\n",
       "893        129        Mrs\n",
       "453         64    William\n",
       "124         44       John\n",
       "509         40     Master\n",
       "998         35      Henry\n",
       "423         24     George\n",
       "1356        24      James\n",
       "821         23    Charles\n",
       "1498        22     Thomas\n",
       "1006        20       Mary\n",
       "167         18     Edward\n",
       "875         17       Anna\n",
       "1394        16     Joseph\n",
       "1405        15      Johan\n",
       "433         15  Frederick\n",
       "1028        15  Elizabeth\n",
       "770         14    Richard\n",
       "529         13     Arthur"
      ]
     },
     "execution_count": 243,
     "metadata": {},
     "output_type": "execute_result"
    }
   ],
   "source": [
    "## now we tranform the keys and values into lists and create with them a DataFrame\n",
    "\n",
    "...\n",
    "\n",
    "...\n"
   ]
  },
  {
   "cell_type": "markdown",
   "metadata": {},
   "source": [
    "Answer:\n",
    "    quantity\tword\n",
    " \t521\t        Mr\n",
    "\t182\t        Miss\n",
    "\t129\t        Mrs\n",
    "\t64\t        William\n",
    "\t44\t        John\n",
    "\t40\t        Master"
   ]
  },
  {
   "cell_type": "markdown",
   "metadata": {},
   "source": [
    "We have shown here that the most common titles were Mr (521), Miss (182), Mrs (129) and Master (40). \n",
    " \n",
    "This totals 872 out of 891 passengers (97.9%).\n",
    " \n",
    "Now we will create a new variable with those titles and check for differences on survival among them.\n",
    " \n",
    "We can use the following function to decide if a title is present on a name:\n",
    "\n",
    "<code> \n",
    " titanic['Name'].str.contains('Mr')\n",
    "</code>"
   ]
  },
  {
   "cell_type": "code",
   "execution_count": 242,
   "metadata": {},
   "outputs": [
    {
     "data": {
      "text/html": [
       "<div>\n",
       "<style>\n",
       "    .dataframe thead tr:only-child th {\n",
       "        text-align: right;\n",
       "    }\n",
       "\n",
       "    .dataframe thead th {\n",
       "        text-align: left;\n",
       "    }\n",
       "\n",
       "    .dataframe tbody tr th {\n",
       "        vertical-align: top;\n",
       "    }\n",
       "</style>\n",
       "<table border=\"1\" class=\"dataframe\">\n",
       "  <thead>\n",
       "    <tr>\n",
       "      <th></th>\n",
       "      <th colspan=\"3\" halign=\"left\">Survived</th>\n",
       "    </tr>\n",
       "    <tr>\n",
       "      <th></th>\n",
       "      <th>count</th>\n",
       "      <th>sum</th>\n",
       "      <th>mean</th>\n",
       "    </tr>\n",
       "    <tr>\n",
       "      <th>Title</th>\n",
       "      <th></th>\n",
       "      <th></th>\n",
       "      <th></th>\n",
       "    </tr>\n",
       "  </thead>\n",
       "  <tbody>\n",
       "    <tr>\n",
       "      <th>Master</th>\n",
       "      <td>40</td>\n",
       "      <td>23</td>\n",
       "      <td>0.575000</td>\n",
       "    </tr>\n",
       "    <tr>\n",
       "      <th>Miss</th>\n",
       "      <td>180</td>\n",
       "      <td>126</td>\n",
       "      <td>0.700000</td>\n",
       "    </tr>\n",
       "    <tr>\n",
       "      <th>Mr</th>\n",
       "      <td>518</td>\n",
       "      <td>82</td>\n",
       "      <td>0.158301</td>\n",
       "    </tr>\n",
       "    <tr>\n",
       "      <th>Mrs</th>\n",
       "      <td>130</td>\n",
       "      <td>103</td>\n",
       "      <td>0.792308</td>\n",
       "    </tr>\n",
       "    <tr>\n",
       "      <th>Other</th>\n",
       "      <td>24</td>\n",
       "      <td>9</td>\n",
       "      <td>0.375000</td>\n",
       "    </tr>\n",
       "  </tbody>\n",
       "</table>\n",
       "</div>"
      ],
      "text/plain": [
       "       Survived               \n",
       "          count  sum      mean\n",
       "Title                         \n",
       "Master       40   23  0.575000\n",
       "Miss        180  126  0.700000\n",
       "Mr          518   82  0.158301\n",
       "Mrs         130  103  0.792308\n",
       "Other        24    9  0.375000"
      ]
     },
     "execution_count": 242,
     "metadata": {},
     "output_type": "execute_result"
    }
   ],
   "source": [
    "titanic['Title'] = 'Other'\n",
    "\n",
    "...\n",
    "\n",
    "## then use groupby() and agg() to get the table bellow\n",
    "...\n"
   ]
  },
  {
   "cell_type": "markdown",
   "metadata": {},
   "source": [
    "Survived\n",
    "\n",
    "Title\tcount\tsum\tmean\t\t\n",
    "Master\t  40\t23\t0.575000\n",
    "Miss\t 180\t126\t0.700000\n",
    "Mr\t     518\t82\t0.158301\n",
    "Mrs\t     130\t103\t0.792308\n",
    "Other\t  24\t9\t0.375000"
   ]
  }
 ],
 "metadata": {
  "kernelspec": {
   "display_name": "Python 3",
   "language": "python",
   "name": "python3"
  },
  "language_info": {
   "codemirror_mode": {
    "name": "ipython",
    "version": 3
   },
   "file_extension": ".py",
   "mimetype": "text/x-python",
   "name": "python",
   "nbconvert_exporter": "python",
   "pygments_lexer": "ipython3",
<<<<<<< HEAD
   "version": "3.7.3"
=======
   "version": "3.6.8"
>>>>>>> f25ac5d1296468687519ceed1204ddb0fbee8d92
  }
 },
 "nbformat": 4,
 "nbformat_minor": 2
}
